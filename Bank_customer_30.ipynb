{
  "nbformat": 4,
  "nbformat_minor": 0,
  "metadata": {
    "colab": {
      "name": "Bank_customer_30.ipynb",
      "provenance": [],
      "collapsed_sections": [
        "zl7EzuiSkTjo",
        "N7mP-C1rr68q",
        "-4n25uN3qsCO",
        "V_pOBJHapgY9",
        "rQknwYAM6swW"
      ],
      "authorship_tag": "ABX9TyN6nDUsrN/mZ4y/jBcTQvSl",
      "include_colab_link": true
    },
    "kernelspec": {
      "name": "python3",
      "display_name": "Python 3"
    }
  },
  "cells": [
    {
      "cell_type": "markdown",
      "metadata": {
        "id": "view-in-github",
        "colab_type": "text"
      },
      "source": [
        "<a href=\"https://colab.research.google.com/github/yanglinjing/vmor/blob/master/Bank_customer_30.ipynb\" target=\"_parent\"><img src=\"https://colab.research.google.com/assets/colab-badge.svg\" alt=\"Open In Colab\"/></a>"
      ]
    },
    {
      "cell_type": "markdown",
      "metadata": {
        "id": "smZETebAcqL6",
        "colab_type": "text"
      },
      "source": [
        "# Bank Loan Data"
      ]
    },
    {
      "cell_type": "code",
      "metadata": {
        "id": "j7s5CunhcwR7",
        "colab_type": "code",
        "outputId": "b2343df9-19d7-4779-923a-a33729fb3a26",
        "colab": {
          "base_uri": "https://localhost:8080/",
          "height": 34
        }
      },
      "source": [
        "pip install mysql-connector"
      ],
      "execution_count": 3,
      "outputs": [
        {
          "output_type": "stream",
          "text": [
            "Requirement already satisfied: mysql-connector in /usr/local/lib/python3.6/dist-packages (2.2.9)\n"
          ],
          "name": "stdout"
        }
      ]
    },
    {
      "cell_type": "code",
      "metadata": {
        "id": "FzWEfUKSjvdu",
        "colab_type": "code",
        "colab": {
          "base_uri": "https://localhost:8080/",
          "height": 51
        },
        "outputId": "27bbf513-180c-42a2-a14d-1ace811cbe76"
      },
      "source": [
        "# mySQL\n",
        "import mysql.connector\n",
        "\n",
        "import numpy as np\n",
        "import pandas as pd\n",
        "\n",
        "# PCA and Clustering\n",
        "from sklearn.preprocessing import StandardScaler\n",
        "from sklearn.impute import SimpleImputer\n",
        "from sklearn.decomposition import PCA\n",
        "from sklearn.cluster import KMeans\n",
        "from sklearn.metrics import silhouette_score\n",
        "\n",
        "# Plot\n",
        "import matplotlib.pyplot as plt\n",
        "import matplotlib.ticker as ticker\n",
        "import seaborn as sns\n",
        "\n",
        "# magic word for producing visualizations in notebook\n",
        "%matplotlib inline"
      ],
      "execution_count": 4,
      "outputs": [
        {
          "output_type": "stream",
          "text": [
            "/usr/local/lib/python3.6/dist-packages/statsmodels/tools/_testing.py:19: FutureWarning: pandas.util.testing is deprecated. Use the functions in the public API at pandas.testing instead.\n",
            "  import pandas.util.testing as tm\n"
          ],
          "name": "stderr"
        }
      ]
    },
    {
      "cell_type": "code",
      "metadata": {
        "id": "sMr_rl9FFmXH",
        "colab_type": "code",
        "colab": {}
      },
      "source": [
        "import datetime as dt\n",
        "from dateutil.relativedelta import *"
      ],
      "execution_count": 0,
      "outputs": []
    },
    {
      "cell_type": "code",
      "metadata": {
        "id": "yzzn-ry9kOCN",
        "colab_type": "code",
        "colab": {}
      },
      "source": [
        "my_color = ['#42bff4', '#f9ace9']"
      ],
      "execution_count": 0,
      "outputs": []
    },
    {
      "cell_type": "markdown",
      "metadata": {
        "id": "zl7EzuiSkTjo",
        "colab_type": "text"
      },
      "source": [
        "# Step 1： Import Data"
      ]
    },
    {
      "cell_type": "code",
      "metadata": {
        "id": "R_6E5xQkkRqq",
        "colab_type": "code",
        "colab": {}
      },
      "source": [
        "# Import data from mySQL\n",
        "db = mysql.connector.connect(user='Linjing', \n",
        "                             password='Linjing',\n",
        "                             host='119.9.52.51',\n",
        "                             database='bankloan')"
      ],
      "execution_count": 0,
      "outputs": []
    },
    {
      "cell_type": "code",
      "metadata": {
        "id": "5LnnkQ_RknLa",
        "colab_type": "code",
        "colab": {}
      },
      "source": [
        "# Create a Cursor object. It will let\n",
        "#  you execute all the queries you need\n",
        "cur = db.cursor()"
      ],
      "execution_count": 0,
      "outputs": []
    },
    {
      "cell_type": "code",
      "metadata": {
        "id": "Ky8beMNhkqXo",
        "colab_type": "code",
        "colab": {}
      },
      "source": [
        "cur.execute('SELECT * \\\n",
        "             FROM defaultloan')"
      ],
      "execution_count": 0,
      "outputs": []
    },
    {
      "cell_type": "code",
      "metadata": {
        "id": "3uJGPhKgk83-",
        "colab_type": "code",
        "colab": {}
      },
      "source": [
        "# Put data into df\n",
        "table = cur.fetchall()\n",
        "df_raw = pd.DataFrame(table)"
      ],
      "execution_count": 0,
      "outputs": []
    },
    {
      "cell_type": "code",
      "metadata": {
        "id": "RIkUJCWNk_51",
        "colab_type": "code",
        "colab": {}
      },
      "source": [
        "# Get column names \n",
        "num_cols = len(cur.description)\n",
        "cols = [i[0] for i in cur.description]\n",
        "\n",
        "# Change column names of df\n",
        "df_raw.columns = cols"
      ],
      "execution_count": 0,
      "outputs": []
    },
    {
      "cell_type": "code",
      "metadata": {
        "id": "sLpQ4XlClHQ6",
        "colab_type": "code",
        "colab": {}
      },
      "source": [
        "db.close()"
      ],
      "execution_count": 0,
      "outputs": []
    },
    {
      "cell_type": "markdown",
      "metadata": {
        "id": "jANbQQVrlKvH",
        "colab_type": "text"
      },
      "source": [
        "# Step 2: Proprecessing Data\n"
      ]
    },
    {
      "cell_type": "markdown",
      "metadata": {
        "id": "f1hB-H_CJdhl",
        "colab_type": "text"
      },
      "source": [
        "## Step 2.1 Observing Data"
      ]
    },
    {
      "cell_type": "code",
      "metadata": {
        "id": "8xZCYOnLTQ6H",
        "colab_type": "code",
        "colab": {}
      },
      "source": [
        "df = df_raw.copy()"
      ],
      "execution_count": 0,
      "outputs": []
    },
    {
      "cell_type": "code",
      "metadata": {
        "id": "iNeW7jpjlH-g",
        "colab_type": "code",
        "outputId": "36d26c7d-6388-472a-c5bd-3bf417b9943e",
        "colab": {
          "base_uri": "https://localhost:8080/",
          "height": 34
        }
      },
      "source": [
        "df.shape"
      ],
      "execution_count": 14,
      "outputs": [
        {
          "output_type": "execute_result",
          "data": {
            "text/plain": [
              "(276546, 50)"
            ]
          },
          "metadata": {
            "tags": []
          },
          "execution_count": 14
        }
      ]
    },
    {
      "cell_type": "code",
      "metadata": {
        "id": "Ckqt8wVIlVnE",
        "colab_type": "code",
        "outputId": "f4ee27dc-cb51-4810-cc31-d249f339f4f2",
        "colab": {
          "base_uri": "https://localhost:8080/",
          "height": 315
        }
      },
      "source": [
        "df.sample(3)"
      ],
      "execution_count": 15,
      "outputs": [
        {
          "output_type": "execute_result",
          "data": {
            "text/html": [
              "<div>\n",
              "<style scoped>\n",
              "    .dataframe tbody tr th:only-of-type {\n",
              "        vertical-align: middle;\n",
              "    }\n",
              "\n",
              "    .dataframe tbody tr th {\n",
              "        vertical-align: top;\n",
              "    }\n",
              "\n",
              "    .dataframe thead th {\n",
              "        text-align: right;\n",
              "    }\n",
              "</style>\n",
              "<table border=\"1\" class=\"dataframe\">\n",
              "  <thead>\n",
              "    <tr style=\"text-align: right;\">\n",
              "      <th></th>\n",
              "      <th>Id</th>\n",
              "      <th>Contract_Number</th>\n",
              "      <th>Consumer_ID</th>\n",
              "      <th>Product</th>\n",
              "      <th>Contract_Status</th>\n",
              "      <th>Application_Date</th>\n",
              "      <th>Entry_Date</th>\n",
              "      <th>StartHalf</th>\n",
              "      <th>Fist Installment Date</th>\n",
              "      <th>Purchase Amt</th>\n",
              "      <th>Deposit Amt</th>\n",
              "      <th>Financed Amt</th>\n",
              "      <th>Total Term</th>\n",
              "      <th>Deposit_Percent</th>\n",
              "      <th>Term_Run</th>\n",
              "      <th>Term_Remaining</th>\n",
              "      <th>Payment Type</th>\n",
              "      <th>Total No Of Payments</th>\n",
              "      <th>Freq</th>\n",
              "      <th>Instalment Amt</th>\n",
              "      <th>Total Payments Received</th>\n",
              "      <th>Total Balance Outstanding</th>\n",
              "      <th>Amt Paid To Merchant_nettofmerchfeesandGST</th>\n",
              "      <th>Gtee Rate</th>\n",
              "      <th>Gtee Charges</th>\n",
              "      <th>Est Fees</th>\n",
              "      <th>Proc Fees</th>\n",
              "      <th>Other Fees</th>\n",
              "      <th>Total Merchant Charges</th>\n",
              "      <th>Total Consumer Charges</th>\n",
              "      <th>Total Charges</th>\n",
              "      <th>Effective Billing Rate</th>\n",
              "      <th>Expected Contract End Date</th>\n",
              "      <th>No Of Days In Default</th>\n",
              "      <th>Arrears Amount</th>\n",
              "      <th>No of Days in Arrears</th>\n",
              "      <th>DefaultAmount</th>\n",
              "      <th>DefaultDate</th>\n",
              "      <th>MonthsToDefault</th>\n",
              "      <th>Recent Default_Default Date</th>\n",
              "      <th>Recent Default_Default Amt</th>\n",
              "      <th>Recent Default_Recov Amt</th>\n",
              "      <th>Recent Default_Cure Date</th>\n",
              "      <th>Consumer Post Code</th>\n",
              "      <th>Consumer Year of Birth</th>\n",
              "      <th>Merchant Number</th>\n",
              "      <th>Merchant Name</th>\n",
              "      <th>INdustry Name</th>\n",
              "      <th>Homowner Ind</th>\n",
              "      <th>Homowner Consumer</th>\n",
              "    </tr>\n",
              "  </thead>\n",
              "  <tbody>\n",
              "    <tr>\n",
              "      <th>18982</th>\n",
              "      <td>18983</td>\n",
              "      <td>60633020</td>\n",
              "      <td>L60633020</td>\n",
              "      <td>EARRING</td>\n",
              "      <td>PaidInFull</td>\n",
              "      <td>26/12/2005</td>\n",
              "      <td>8/01/2006</td>\n",
              "      <td>2006H1</td>\n",
              "      <td>23/01/2006</td>\n",
              "      <td>947.5</td>\n",
              "      <td>240</td>\n",
              "      <td>707.5</td>\n",
              "      <td>12</td>\n",
              "      <td>0.253298153</td>\n",
              "      <td>12</td>\n",
              "      <td>0</td>\n",
              "      <td>Bank</td>\n",
              "      <td>26</td>\n",
              "      <td>FN</td>\n",
              "      <td>27.20735271</td>\n",
              "      <td>707.50</td>\n",
              "      <td>0.00</td>\n",
              "      <td>609.2</td>\n",
              "      <td>0.089500003</td>\n",
              "      <td>63.32</td>\n",
              "      <td>26</td>\n",
              "      <td>0</td>\n",
              "      <td>0</td>\n",
              "      <td>89.32</td>\n",
              "      <td>0.00</td>\n",
              "      <td>89.32</td>\n",
              "      <td>0.12624735</td>\n",
              "      <td>23/01/2007</td>\n",
              "      <td>0</td>\n",
              "      <td>0</td>\n",
              "      <td>0</td>\n",
              "      <td>0</td>\n",
              "      <td></td>\n",
              "      <td></td>\n",
              "      <td></td>\n",
              "      <td>0.00</td>\n",
              "      <td>0.00</td>\n",
              "      <td></td>\n",
              "      <td>4506</td>\n",
              "      <td>7/11/1978</td>\n",
              "      <td>30102481</td>\n",
              "      <td>WALLACE BISHOP - MAROOCHYDORE</td>\n",
              "      <td>Jewellery</td>\n",
              "      <td>No</td>\n",
              "      <td>No</td>\n",
              "    </tr>\n",
              "    <tr>\n",
              "      <th>16078</th>\n",
              "      <td>16079</td>\n",
              "      <td>60582187</td>\n",
              "      <td>L50020262</td>\n",
              "      <td>SOFA SE</td>\n",
              "      <td>PaidInFull</td>\n",
              "      <td>23/03/2006</td>\n",
              "      <td>29/03/2006</td>\n",
              "      <td>2006H1</td>\n",
              "      <td>30/04/2006</td>\n",
              "      <td>4395</td>\n",
              "      <td>1323</td>\n",
              "      <td>3072</td>\n",
              "      <td>12</td>\n",
              "      <td>0.301023891</td>\n",
              "      <td>12</td>\n",
              "      <td>0</td>\n",
              "      <td>CC</td>\n",
              "      <td>12</td>\n",
              "      <td>Mth</td>\n",
              "      <td>256</td>\n",
              "      <td>3,072.00</td>\n",
              "      <td>0.00</td>\n",
              "      <td>2750</td>\n",
              "      <td>0.086800002</td>\n",
              "      <td>266.64</td>\n",
              "      <td>26</td>\n",
              "      <td>0</td>\n",
              "      <td>0</td>\n",
              "      <td>292.64</td>\n",
              "      <td>10.00</td>\n",
              "      <td>302.64</td>\n",
              "      <td>0.098515625</td>\n",
              "      <td>30/04/2007</td>\n",
              "      <td>0</td>\n",
              "      <td>0</td>\n",
              "      <td>0</td>\n",
              "      <td>0</td>\n",
              "      <td></td>\n",
              "      <td></td>\n",
              "      <td></td>\n",
              "      <td>0.00</td>\n",
              "      <td>0.00</td>\n",
              "      <td></td>\n",
              "      <td>3074</td>\n",
              "      <td>10/03/1982</td>\n",
              "      <td>30112362</td>\n",
              "      <td>FRANK MAZZOTTA FURNISHING FITZROY</td>\n",
              "      <td>Furniture / Bedding New</td>\n",
              "      <td>No</td>\n",
              "      <td>No</td>\n",
              "    </tr>\n",
              "    <tr>\n",
              "      <th>167433</th>\n",
              "      <td>198505</td>\n",
              "      <td>60995661</td>\n",
              "      <td>L60995661</td>\n",
              "      <td>WATCH</td>\n",
              "      <td>PaidInFull</td>\n",
              "      <td>19/12/2006</td>\n",
              "      <td>1/01/2007</td>\n",
              "      <td>2007H1</td>\n",
              "      <td>19/01/2007</td>\n",
              "      <td>2300</td>\n",
              "      <td>575</td>\n",
              "      <td>1725</td>\n",
              "      <td>12</td>\n",
              "      <td>0.25</td>\n",
              "      <td>12</td>\n",
              "      <td>0</td>\n",
              "      <td>CC</td>\n",
              "      <td>26</td>\n",
              "      <td>FN</td>\n",
              "      <td>66.33594832</td>\n",
              "      <td>1,725.00</td>\n",
              "      <td>0.00</td>\n",
              "      <td>1523.9</td>\n",
              "      <td>0.090899996</td>\n",
              "      <td>156.8</td>\n",
              "      <td>26</td>\n",
              "      <td>0</td>\n",
              "      <td>0</td>\n",
              "      <td>182.80</td>\n",
              "      <td>0.00</td>\n",
              "      <td>182.80</td>\n",
              "      <td>0.105971014</td>\n",
              "      <td>19/01/2008</td>\n",
              "      <td>0</td>\n",
              "      <td>0</td>\n",
              "      <td>0</td>\n",
              "      <td>0</td>\n",
              "      <td></td>\n",
              "      <td></td>\n",
              "      <td></td>\n",
              "      <td>0.00</td>\n",
              "      <td>0.00</td>\n",
              "      <td></td>\n",
              "      <td>4305</td>\n",
              "      <td>5/12/1968</td>\n",
              "      <td>30102487</td>\n",
              "      <td>WALLACE BISHOP - REDBANK</td>\n",
              "      <td>Jewellery</td>\n",
              "      <td>No</td>\n",
              "      <td>No</td>\n",
              "    </tr>\n",
              "  </tbody>\n",
              "</table>\n",
              "</div>"
            ],
            "text/plain": [
              "            Id Contract_Number  ... Homowner Ind Homowner Consumer\n",
              "18982    18983        60633020  ...           No                No\n",
              "16078    16079        60582187  ...           No                No\n",
              "167433  198505        60995661  ...           No                No\n",
              "\n",
              "[3 rows x 50 columns]"
            ]
          },
          "metadata": {
            "tags": []
          },
          "execution_count": 15
        }
      ]
    },
    {
      "cell_type": "markdown",
      "metadata": {
        "id": "N7mP-C1rr68q",
        "colab_type": "text"
      },
      "source": [
        "## Step 2.2 Convert Data Type"
      ]
    },
    {
      "cell_type": "code",
      "metadata": {
        "id": "sMztL6_bsCgG",
        "colab_type": "code",
        "colab": {}
      },
      "source": [
        "# convert object to datetime\n",
        "\n",
        "column_date = ['Application_Date', \n",
        "               'Entry_Date', \n",
        "               'Fist Installment Date', \n",
        "               'Expected Contract End Date', \n",
        "               'DefaultDate', \n",
        "               'Recent Default_Default Date',\n",
        "               #'Recent Default_Cure Date',\n",
        "               'Consumer Year of Birth']\n",
        "\n",
        "for column in column_date:\n",
        "  df[column] = pd.to_datetime(df[column])"
      ],
      "execution_count": 0,
      "outputs": []
    },
    {
      "cell_type": "code",
      "metadata": {
        "id": "9g57iled5i3i",
        "colab_type": "code",
        "outputId": "e0b5f775-e59d-499f-9a44-89dacfe43a8f",
        "colab": {
          "base_uri": "https://localhost:8080/",
          "height": 0
        }
      },
      "source": [
        "df.head(1)"
      ],
      "execution_count": 17,
      "outputs": [
        {
          "output_type": "execute_result",
          "data": {
            "text/html": [
              "<div>\n",
              "<style scoped>\n",
              "    .dataframe tbody tr th:only-of-type {\n",
              "        vertical-align: middle;\n",
              "    }\n",
              "\n",
              "    .dataframe tbody tr th {\n",
              "        vertical-align: top;\n",
              "    }\n",
              "\n",
              "    .dataframe thead th {\n",
              "        text-align: right;\n",
              "    }\n",
              "</style>\n",
              "<table border=\"1\" class=\"dataframe\">\n",
              "  <thead>\n",
              "    <tr style=\"text-align: right;\">\n",
              "      <th></th>\n",
              "      <th>Id</th>\n",
              "      <th>Contract_Number</th>\n",
              "      <th>Consumer_ID</th>\n",
              "      <th>Product</th>\n",
              "      <th>Contract_Status</th>\n",
              "      <th>Application_Date</th>\n",
              "      <th>Entry_Date</th>\n",
              "      <th>StartHalf</th>\n",
              "      <th>Fist Installment Date</th>\n",
              "      <th>Purchase Amt</th>\n",
              "      <th>Deposit Amt</th>\n",
              "      <th>Financed Amt</th>\n",
              "      <th>Total Term</th>\n",
              "      <th>Deposit_Percent</th>\n",
              "      <th>Term_Run</th>\n",
              "      <th>Term_Remaining</th>\n",
              "      <th>Payment Type</th>\n",
              "      <th>Total No Of Payments</th>\n",
              "      <th>Freq</th>\n",
              "      <th>Instalment Amt</th>\n",
              "      <th>Total Payments Received</th>\n",
              "      <th>Total Balance Outstanding</th>\n",
              "      <th>Amt Paid To Merchant_nettofmerchfeesandGST</th>\n",
              "      <th>Gtee Rate</th>\n",
              "      <th>Gtee Charges</th>\n",
              "      <th>Est Fees</th>\n",
              "      <th>Proc Fees</th>\n",
              "      <th>Other Fees</th>\n",
              "      <th>Total Merchant Charges</th>\n",
              "      <th>Total Consumer Charges</th>\n",
              "      <th>Total Charges</th>\n",
              "      <th>Effective Billing Rate</th>\n",
              "      <th>Expected Contract End Date</th>\n",
              "      <th>No Of Days In Default</th>\n",
              "      <th>Arrears Amount</th>\n",
              "      <th>No of Days in Arrears</th>\n",
              "      <th>DefaultAmount</th>\n",
              "      <th>DefaultDate</th>\n",
              "      <th>MonthsToDefault</th>\n",
              "      <th>Recent Default_Default Date</th>\n",
              "      <th>Recent Default_Default Amt</th>\n",
              "      <th>Recent Default_Recov Amt</th>\n",
              "      <th>Recent Default_Cure Date</th>\n",
              "      <th>Consumer Post Code</th>\n",
              "      <th>Consumer Year of Birth</th>\n",
              "      <th>Merchant Number</th>\n",
              "      <th>Merchant Name</th>\n",
              "      <th>INdustry Name</th>\n",
              "      <th>Homowner Ind</th>\n",
              "      <th>Homowner Consumer</th>\n",
              "    </tr>\n",
              "  </thead>\n",
              "  <tbody>\n",
              "    <tr>\n",
              "      <th>0</th>\n",
              "      <td>1</td>\n",
              "      <td>30000022</td>\n",
              "      <td>L30000022</td>\n",
              "      <td>ALARM</td>\n",
              "      <td>PaidInFull</td>\n",
              "      <td>2006-10-18</td>\n",
              "      <td>2006-01-11</td>\n",
              "      <td>2006H2</td>\n",
              "      <td>2006-11-26</td>\n",
              "      <td>3602.38</td>\n",
              "      <td>1002.38</td>\n",
              "      <td>2600</td>\n",
              "      <td>48</td>\n",
              "      <td>0.278254931</td>\n",
              "      <td>48</td>\n",
              "      <td>0</td>\n",
              "      <td>Bank</td>\n",
              "      <td>48</td>\n",
              "      <td>Mth</td>\n",
              "      <td>54.16666667</td>\n",
              "      <td>2,600.00</td>\n",
              "      <td>0.00</td>\n",
              "      <td>1965.3</td>\n",
              "      <td>0.221900001</td>\n",
              "      <td>576.93</td>\n",
              "      <td>0</td>\n",
              "      <td>0</td>\n",
              "      <td>0</td>\n",
              "      <td>576.93</td>\n",
              "      <td>0.00</td>\n",
              "      <td>576.93</td>\n",
              "      <td>0.221896154</td>\n",
              "      <td>2010-11-26</td>\n",
              "      <td>0</td>\n",
              "      <td>0</td>\n",
              "      <td>0</td>\n",
              "      <td>0</td>\n",
              "      <td>NaT</td>\n",
              "      <td></td>\n",
              "      <td>NaT</td>\n",
              "      <td>0.00</td>\n",
              "      <td>0.00</td>\n",
              "      <td></td>\n",
              "      <td>6530</td>\n",
              "      <td>1960-11-24</td>\n",
              "      <td>30112641</td>\n",
              "      <td>MODERN SECURITY WA</td>\n",
              "      <td>Home Security</td>\n",
              "      <td>Yes</td>\n",
              "      <td>Yes</td>\n",
              "    </tr>\n",
              "  </tbody>\n",
              "</table>\n",
              "</div>"
            ],
            "text/plain": [
              "   Id Contract_Number Consumer_ID  ...  INdustry Name Homowner Ind Homowner Consumer\n",
              "0   1        30000022   L30000022  ...  Home Security          Yes               Yes\n",
              "\n",
              "[1 rows x 50 columns]"
            ]
          },
          "metadata": {
            "tags": []
          },
          "execution_count": 17
        }
      ]
    },
    {
      "cell_type": "code",
      "metadata": {
        "id": "a337QP7XUjO3",
        "colab_type": "code",
        "colab": {}
      },
      "source": [
        "# convert object to float\n",
        "\n",
        "column_num = ['Purchase Amt', 'Deposit Amt', 'Financed Amt', \n",
        "              'Total Term', 'Deposit_Percent', 'Term_Run',\n",
        "              'Term_Remaining', 'Total No Of Payments',\n",
        "              'Instalment Amt', 'Total Payments Received',\n",
        "              'Total Balance Outstanding', 'Amt Paid To Merchant_nettofmerchfeesandGST',\n",
        "              'Gtee Rate', 'Gtee Charges', 'Est Fees',\n",
        "              'Proc Fees', 'Other Fees', 'Total Merchant Charges',\n",
        "              'Total Consumer Charges', 'Total Charges',\n",
        "              'Effective Billing Rate', 'No Of Days In Default',\n",
        "              'Arrears Amount', 'No of Days in Arrears',\n",
        "              'DefaultAmount', 'MonthsToDefault',\n",
        "              'Recent Default_Default Amt',\n",
        "              'Recent Default_Recov Amt']\n",
        "\n",
        "for column in column_num:\n",
        "\n",
        "  # Remove thousand separator \n",
        "  df[column] = df[column].str.replace(',', '')\n",
        "\n",
        "  # Nan / NaT\n",
        "  df[column] = df[column].str.replace('NaT', '')\n",
        "  df[column] = df[column].str.replace('NaN', '')\n",
        "\n",
        "  # convert string to numeric\n",
        "  df[column] = pd.to_numeric(df[column])\n"
      ],
      "execution_count": 0,
      "outputs": []
    },
    {
      "cell_type": "code",
      "metadata": {
        "id": "Wc-0ZXqfe5zF",
        "colab_type": "code",
        "outputId": "a805bdc8-1d36-4eef-ef34-cb03108a3ead",
        "colab": {
          "base_uri": "https://localhost:8080/",
          "height": 0
        }
      },
      "source": [
        "df.info()"
      ],
      "execution_count": 19,
      "outputs": [
        {
          "output_type": "stream",
          "text": [
            "<class 'pandas.core.frame.DataFrame'>\n",
            "RangeIndex: 276546 entries, 0 to 276545\n",
            "Data columns (total 50 columns):\n",
            " #   Column                                      Non-Null Count   Dtype         \n",
            "---  ------                                      --------------   -----         \n",
            " 0   Id                                          276546 non-null  int64         \n",
            " 1   Contract_Number                             276546 non-null  object        \n",
            " 2   Consumer_ID                                 276546 non-null  object        \n",
            " 3   Product                                     276546 non-null  object        \n",
            " 4   Contract_Status                             276546 non-null  object        \n",
            " 5   Application_Date                            276546 non-null  datetime64[ns]\n",
            " 6   Entry_Date                                  276546 non-null  datetime64[ns]\n",
            " 7   StartHalf                                   276546 non-null  object        \n",
            " 8   Fist Installment Date                       276546 non-null  datetime64[ns]\n",
            " 9   Purchase Amt                                276546 non-null  float64       \n",
            " 10  Deposit Amt                                 276546 non-null  float64       \n",
            " 11  Financed Amt                                276546 non-null  float64       \n",
            " 12  Total Term                                  276546 non-null  int64         \n",
            " 13  Deposit_Percent                             276546 non-null  float64       \n",
            " 14  Term_Run                                    276546 non-null  int64         \n",
            " 15  Term_Remaining                              276546 non-null  int64         \n",
            " 16  Payment Type                                276546 non-null  object        \n",
            " 17  Total No Of Payments                        276546 non-null  int64         \n",
            " 18  Freq                                        276546 non-null  object        \n",
            " 19  Instalment Amt                              276546 non-null  float64       \n",
            " 20  Total Payments Received                     276546 non-null  float64       \n",
            " 21  Total Balance Outstanding                   276546 non-null  float64       \n",
            " 22  Amt Paid To Merchant_nettofmerchfeesandGST  276546 non-null  float64       \n",
            " 23  Gtee Rate                                   276546 non-null  float64       \n",
            " 24  Gtee Charges                                276546 non-null  float64       \n",
            " 25  Est Fees                                    276546 non-null  float64       \n",
            " 26  Proc Fees                                   276546 non-null  int64         \n",
            " 27  Other Fees                                  276546 non-null  float64       \n",
            " 28  Total Merchant Charges                      276546 non-null  float64       \n",
            " 29  Total Consumer Charges                      276546 non-null  float64       \n",
            " 30  Total Charges                               276546 non-null  float64       \n",
            " 31  Effective Billing Rate                      276546 non-null  float64       \n",
            " 32  Expected Contract End Date                  276546 non-null  datetime64[ns]\n",
            " 33  No Of Days In Default                       276546 non-null  int64         \n",
            " 34  Arrears Amount                              276536 non-null  float64       \n",
            " 35  No of Days in Arrears                       276536 non-null  float64       \n",
            " 36  DefaultAmount                               276546 non-null  float64       \n",
            " 37  DefaultDate                                 11134 non-null   datetime64[ns]\n",
            " 38  MonthsToDefault                             11134 non-null   float64       \n",
            " 39  Recent Default_Default Date                 39524 non-null   datetime64[ns]\n",
            " 40  Recent Default_Default Amt                  276545 non-null  float64       \n",
            " 41  Recent Default_Recov Amt                    276546 non-null  float64       \n",
            " 42  Recent Default_Cure Date                    276546 non-null  object        \n",
            " 43  Consumer Post Code                          276546 non-null  object        \n",
            " 44  Consumer Year of Birth                      276499 non-null  datetime64[ns]\n",
            " 45  Merchant Number                             276546 non-null  object        \n",
            " 46  Merchant Name                               276546 non-null  object        \n",
            " 47  INdustry Name                               276546 non-null  object        \n",
            " 48  Homowner Ind                                276546 non-null  object        \n",
            " 49  Homowner Consumer                           276546 non-null  object        \n",
            "dtypes: datetime64[ns](7), float64(22), int64(7), object(14)\n",
            "memory usage: 105.5+ MB\n"
          ],
          "name": "stdout"
        }
      ]
    },
    {
      "cell_type": "markdown",
      "metadata": {
        "id": "-4n25uN3qsCO",
        "colab_type": "text"
      },
      "source": [
        "## Step 2.3 Missing Values\n",
        "\n",
        "### Step 2.3.1 Columns\n"
      ]
    },
    {
      "cell_type": "code",
      "metadata": {
        "id": "cYDQlAP6qrba",
        "colab_type": "code",
        "outputId": "96077665-23b8-421e-f1c0-1c5c028c7d7e",
        "colab": {
          "base_uri": "https://localhost:8080/",
          "height": 0
        }
      },
      "source": [
        "# Calculate the percentage of missing values of each column\n",
        "missing = df.isnull().sum()\n",
        "missing = missing[missing > 0] / df.shape[0] *100\n",
        "missing.sort_values(inplace = True)\n",
        "\n",
        "print(f\"{len(missing)} out of {df.shape[1]} columns contain missing values, from {round(missing[0], 2)}% to {round(missing[-1], 2)}%.\")"
      ],
      "execution_count": 20,
      "outputs": [
        {
          "output_type": "stream",
          "text": [
            "7 out of 50 columns contain missing values, from 0.0% to 95.97%.\n"
          ],
          "name": "stdout"
        }
      ]
    },
    {
      "cell_type": "code",
      "metadata": {
        "id": "aRFGIn0NfhmE",
        "colab_type": "code",
        "outputId": "fb02656c-2e58-42b9-a993-2b1a25d2036c",
        "colab": {
          "base_uri": "https://localhost:8080/",
          "height": 0
        }
      },
      "source": [
        "#Visualizing the naturally missing data\n",
        "missing.plot.barh(figsize = (10, 3), fontsize = 12, color= my_color[0])\n",
        "plt.title('Percentage of Missing Values in Columns', size = 14)\n",
        "plt.show()"
      ],
      "execution_count": 21,
      "outputs": [
        {
          "output_type": "display_data",
          "data": {
            "image/png": "[encoded data removed]",
            "text/plain": [
              "<Figure size 720x216 with 1 Axes>"
            ]
          },
          "metadata": {
            "tags": [],
            "needs_background": "light"
          }
        }
      ]
    },
    {
      "cell_type": "code",
      "metadata": {
        "id": "g5cm1xxMnv2x",
        "colab_type": "code",
        "colab": {}
      },
      "source": [
        "# Remove the outlier columns from the dataset / feature summary. \n",
        "\n",
        "# columns have more than 80% missing values\n",
        "missing_80 = missing[missing >80]\n",
        "\n",
        "# Drop columns that contain 20% missing values\n",
        "for col in missing_80.index:\n",
        "  \n",
        "  # Dataset\n",
        "  df.drop(col, axis = 1, inplace = True)\n"
      ],
      "execution_count": 0,
      "outputs": []
    },
    {
      "cell_type": "code",
      "metadata": {
        "id": "gdVNrdc2ohuT",
        "colab_type": "code",
        "outputId": "8e3613f0-d077-4229-ad88-0624fc3c0b0f",
        "colab": {
          "base_uri": "https://localhost:8080/",
          "height": 0
        }
      },
      "source": [
        "df.shape"
      ],
      "execution_count": 23,
      "outputs": [
        {
          "output_type": "execute_result",
          "data": {
            "text/plain": [
              "(276546, 47)"
            ]
          },
          "metadata": {
            "tags": []
          },
          "execution_count": 23
        }
      ]
    },
    {
      "cell_type": "markdown",
      "metadata": {
        "id": "VUFWTEzlmmux",
        "colab_type": "text"
      },
      "source": [
        "### Step 2.3.2 Rows\n"
      ]
    },
    {
      "cell_type": "code",
      "metadata": {
        "id": "Xcnq7x_9mpTi",
        "colab_type": "code",
        "colab": {}
      },
      "source": [
        "# How much data is missing in each row of the dataset?\n",
        "missing_r = df.isnull().sum(axis=1)"
      ],
      "execution_count": 0,
      "outputs": []
    },
    {
      "cell_type": "code",
      "metadata": {
        "id": "wLvkw339m5fp",
        "colab_type": "code",
        "outputId": "8ae8bbfc-59bb-4ea6-9909-d7141a28e456",
        "colab": {
          "base_uri": "https://localhost:8080/",
          "height": 0
        }
      },
      "source": [
        "# Visualise\n",
        "missing_r[missing_r > 0].plot(kind='hist', bins=40, figsize=(10,3), color=my_color[0])\n",
        "plt.title('Missing Value in Rows')\n",
        "plt.ylabel('Counts')\n",
        "plt.xlabel('Number of Missing Values')\n",
        "plt.show()"
      ],
      "execution_count": 25,
      "outputs": [
        {
          "output_type": "display_data",
          "data": {
            "image/png": "[encoded data removed]",
            "text/plain": [
              "<Figure size 720x216 with 1 Axes>"
            ]
          },
          "metadata": {
            "tags": [],
            "needs_background": "light"
          }
        }
      ]
    },
    {
      "cell_type": "markdown",
      "metadata": {
        "id": "V_pOBJHapgY9",
        "colab_type": "text"
      },
      "source": [
        "## Step 2.4 Calculate Percentage"
      ]
    },
    {
      "cell_type": "code",
      "metadata": {
        "id": "SVKAcbzGpkvZ",
        "colab_type": "code",
        "colab": {}
      },
      "source": [
        "# arrears and all kinds of fees\n",
        "fees = ['Arrears Amount',\n",
        "        'DefaultAmount',\n",
        "        'Recent Default_Default Amt',\n",
        "        'Recent Default_Recov Amt',\n",
        "        'Amt Paid To Merchant_nettofmerchfeesandGST',\n",
        "        'Est Fees',\n",
        "        'Proc Fees',\n",
        "        'Other Fees',\n",
        "        'Total Merchant Charges',\n",
        "        'Total Consumer Charges'\n",
        "        ]"
      ],
      "execution_count": 0,
      "outputs": []
    },
    {
      "cell_type": "code",
      "metadata": {
        "id": "LG3cYx_15sYa",
        "colab_type": "code",
        "colab": {}
      },
      "source": [
        "fees = ['Arrears Amount',\n",
        "        'DefaultAmount',\n",
        "        'Recent Default_Default Amt',\n",
        "        'Recent Default_Recov Amt',\n",
        "        'Amt Paid To Merchant_nettofmerchfeesandGST',\n",
        "        'Est Fees',\n",
        "        'Proc Fees',\n",
        "        'Other Fees',\n",
        "        'Total Merchant Charges',\n",
        "        'Total Consumer Charges'\n",
        "        ]"
      ],
      "execution_count": 0,
      "outputs": []
    },
    {
      "cell_type": "code",
      "metadata": {
        "id": "YlKm0sc7487l",
        "colab_type": "code",
        "outputId": "acbc65d9-e79c-4ba6-e652-7f883c97b393",
        "colab": {
          "base_uri": "https://localhost:8080/",
          "height": 0
        }
      },
      "source": [
        "df.sample(1)"
      ],
      "execution_count": 28,
      "outputs": [
        {
          "output_type": "execute_result",
          "data": {
            "text/html": [
              "<div>\n",
              "<style scoped>\n",
              "    .dataframe tbody tr th:only-of-type {\n",
              "        vertical-align: middle;\n",
              "    }\n",
              "\n",
              "    .dataframe tbody tr th {\n",
              "        vertical-align: top;\n",
              "    }\n",
              "\n",
              "    .dataframe thead th {\n",
              "        text-align: right;\n",
              "    }\n",
              "</style>\n",
              "<table border=\"1\" class=\"dataframe\">\n",
              "  <thead>\n",
              "    <tr style=\"text-align: right;\">\n",
              "      <th></th>\n",
              "      <th>Id</th>\n",
              "      <th>Contract_Number</th>\n",
              "      <th>Consumer_ID</th>\n",
              "      <th>Product</th>\n",
              "      <th>Contract_Status</th>\n",
              "      <th>Application_Date</th>\n",
              "      <th>Entry_Date</th>\n",
              "      <th>StartHalf</th>\n",
              "      <th>Fist Installment Date</th>\n",
              "      <th>Purchase Amt</th>\n",
              "      <th>Deposit Amt</th>\n",
              "      <th>Financed Amt</th>\n",
              "      <th>Total Term</th>\n",
              "      <th>Deposit_Percent</th>\n",
              "      <th>Term_Run</th>\n",
              "      <th>Term_Remaining</th>\n",
              "      <th>Payment Type</th>\n",
              "      <th>Total No Of Payments</th>\n",
              "      <th>Freq</th>\n",
              "      <th>Instalment Amt</th>\n",
              "      <th>Total Payments Received</th>\n",
              "      <th>Total Balance Outstanding</th>\n",
              "      <th>Amt Paid To Merchant_nettofmerchfeesandGST</th>\n",
              "      <th>Gtee Rate</th>\n",
              "      <th>Gtee Charges</th>\n",
              "      <th>Est Fees</th>\n",
              "      <th>Proc Fees</th>\n",
              "      <th>Other Fees</th>\n",
              "      <th>Total Merchant Charges</th>\n",
              "      <th>Total Consumer Charges</th>\n",
              "      <th>Total Charges</th>\n",
              "      <th>Effective Billing Rate</th>\n",
              "      <th>Expected Contract End Date</th>\n",
              "      <th>No Of Days In Default</th>\n",
              "      <th>Arrears Amount</th>\n",
              "      <th>No of Days in Arrears</th>\n",
              "      <th>DefaultAmount</th>\n",
              "      <th>Recent Default_Default Amt</th>\n",
              "      <th>Recent Default_Recov Amt</th>\n",
              "      <th>Recent Default_Cure Date</th>\n",
              "      <th>Consumer Post Code</th>\n",
              "      <th>Consumer Year of Birth</th>\n",
              "      <th>Merchant Number</th>\n",
              "      <th>Merchant Name</th>\n",
              "      <th>INdustry Name</th>\n",
              "      <th>Homowner Ind</th>\n",
              "      <th>Homowner Consumer</th>\n",
              "    </tr>\n",
              "  </thead>\n",
              "  <tbody>\n",
              "    <tr>\n",
              "      <th>197175</th>\n",
              "      <td>228247</td>\n",
              "      <td>61114407</td>\n",
              "      <td>L61114407</td>\n",
              "      <td>HOTWATE</td>\n",
              "      <td>PaidInFull</td>\n",
              "      <td>2007-03-08</td>\n",
              "      <td>2007-08-13</td>\n",
              "      <td>2007H2</td>\n",
              "      <td>2007-03-09</td>\n",
              "      <td>1255.0</td>\n",
              "      <td>320.0</td>\n",
              "      <td>935.0</td>\n",
              "      <td>12</td>\n",
              "      <td>0.25498</td>\n",
              "      <td>12</td>\n",
              "      <td>0</td>\n",
              "      <td>CC</td>\n",
              "      <td>12</td>\n",
              "      <td>Mth</td>\n",
              "      <td>77.916667</td>\n",
              "      <td>935.0</td>\n",
              "      <td>0.0</td>\n",
              "      <td>845.3</td>\n",
              "      <td>0.0594</td>\n",
              "      <td>55.53</td>\n",
              "      <td>26.0</td>\n",
              "      <td>0</td>\n",
              "      <td>0.0</td>\n",
              "      <td>81.53</td>\n",
              "      <td>0.0</td>\n",
              "      <td>81.53</td>\n",
              "      <td>0.087198</td>\n",
              "      <td>2008-03-09</td>\n",
              "      <td>0</td>\n",
              "      <td>0.0</td>\n",
              "      <td>0.0</td>\n",
              "      <td>0.0</td>\n",
              "      <td>545.45</td>\n",
              "      <td>545.45</td>\n",
              "      <td>39637</td>\n",
              "      <td>3037</td>\n",
              "      <td>1945-11-11</td>\n",
              "      <td>30108836</td>\n",
              "      <td>AGL ASSIST VIC</td>\n",
              "      <td>Hot Water / Gas</td>\n",
              "      <td>Yes</td>\n",
              "      <td>Yes</td>\n",
              "    </tr>\n",
              "  </tbody>\n",
              "</table>\n",
              "</div>"
            ],
            "text/plain": [
              "            Id Contract_Number  ... Homowner Ind Homowner Consumer\n",
              "197175  228247        61114407  ...          Yes               Yes\n",
              "\n",
              "[1 rows x 47 columns]"
            ]
          },
          "metadata": {
            "tags": []
          },
          "execution_count": 28
        }
      ]
    },
    {
      "cell_type": "code",
      "metadata": {
        "id": "-AeEg8s45W4A",
        "colab_type": "code",
        "colab": {}
      },
      "source": [
        "# convert amount to percentage\n",
        "for fee in fees:\n",
        "  df[fee] = df[fee] / df['Financed Amt']"
      ],
      "execution_count": 0,
      "outputs": []
    },
    {
      "cell_type": "code",
      "metadata": {
        "id": "yWqYM2346kO7",
        "colab_type": "code",
        "colab": {}
      },
      "source": [
        "# rename columns (amount -> percentage)\n",
        "df.rename(columns={'Arrears Amount': 'arrear_p',\n",
        "                   'DefaultAmount': 'default_p',\n",
        "                    'Recent Default_Default Amt': 'recent_default_default_p',\n",
        "                    'Recent Default_Recov Amt': 'recent_default_recov_p',\n",
        "                    'Amt Paid To Merchant_nettofmerchfeesandGST': 'gst_p',\n",
        "                    'Est Fees': 'est_fee_p',\n",
        "                    'Other Fees': 'other_fee_p',\n",
        "                    'Total Merchant Charges': 'total_merchant_charge_p',\n",
        "                    'Total Consumer Charges': 'total_consumer_charges'                \n",
        "                   }, \n",
        "          inplace=True)"
      ],
      "execution_count": 0,
      "outputs": []
    },
    {
      "cell_type": "markdown",
      "metadata": {
        "id": "rQknwYAM6swW",
        "colab_type": "text"
      },
      "source": [
        "## Step 2.5 Rename Columns"
      ]
    },
    {
      "cell_type": "code",
      "metadata": {
        "id": "M0t5PM5V6w4O",
        "colab_type": "code",
        "colab": {}
      },
      "source": [
        "df.rename(columns={'Financed Amt': 'financed_amt', \n",
        "                   'Deposit_Percent': 'deposit_percent',\n",
        "                   'Payment Type': 'payment_type',\n",
        "                   'Instalment Amt': 'instalment_amt',\n",
        "                   'Gtee Rate': 'gtee_p',\n",
        "                   'Effective Billing Rate': 'effective_billing_rate',\n",
        "                   'No Of Days In Default': 'days_default',\n",
        "                   'No Of Days In Arrears': 'days_arrears',\n",
        "                   'MonthsToDefault': 'mth_to_default'              \n",
        "                   }, \n",
        "          inplace=True)"
      ],
      "execution_count": 0,
      "outputs": []
    },
    {
      "cell_type": "markdown",
      "metadata": {
        "id": "9o39lV_Q7AbG",
        "colab_type": "text"
      },
      "source": [
        "## Step 2.6 Re-Encode Non-Numeric Binary Variable\n",
        "\n",
        "Re-encode: 2-level obj\n",
        "\n",
        "`Freq`\n",
        "\n",
        "* FN: Fortnightly: 0\n",
        "* Mth: Monthly: 1\n",
        "\n",
        "`payment_type`\n",
        "\n",
        "* Bank: 0\n",
        "* CC: 1\n",
        "\n",
        "`Homowner Ind`, `Homowner Consumer`\n",
        "* Yes: 1\n",
        "* No: 0"
      ]
    },
    {
      "cell_type": "code",
      "metadata": {
        "id": "kQK_hmyK7LoE",
        "colab_type": "code",
        "colab": {}
      },
      "source": [
        "# Re-encode: 2-level obj\n",
        "df['Freq'] = df['Freq'].map({'FN': 0, 'Mth': 1})\n",
        "df['payment_type'] = df['payment_type'].map({'Bank': 0, 'CC': 1})\n",
        "df['Homowner Ind'] = df['Homowner Ind'].map({'Yes':1, 'No':0})\n",
        "df['Homowner Consumer'] = df['Homowner Consumer'].map({'Yes':1, 'No':0})"
      ],
      "execution_count": 0,
      "outputs": []
    },
    {
      "cell_type": "code",
      "metadata": {
        "id": "J5UYUxbG7Txc",
        "colab_type": "code",
        "outputId": "c4832aa8-c3d0-4a70-cb50-5320cdb74782",
        "colab": {
          "base_uri": "https://localhost:8080/",
          "height": 298
        }
      },
      "source": [
        "df.sample(3)"
      ],
      "execution_count": 33,
      "outputs": [
        {
          "output_type": "execute_result",
          "data": {
            "text/html": [
              "<div>\n",
              "<style scoped>\n",
              "    .dataframe tbody tr th:only-of-type {\n",
              "        vertical-align: middle;\n",
              "    }\n",
              "\n",
              "    .dataframe tbody tr th {\n",
              "        vertical-align: top;\n",
              "    }\n",
              "\n",
              "    .dataframe thead th {\n",
              "        text-align: right;\n",
              "    }\n",
              "</style>\n",
              "<table border=\"1\" class=\"dataframe\">\n",
              "  <thead>\n",
              "    <tr style=\"text-align: right;\">\n",
              "      <th></th>\n",
              "      <th>Id</th>\n",
              "      <th>Contract_Number</th>\n",
              "      <th>Consumer_ID</th>\n",
              "      <th>Product</th>\n",
              "      <th>Contract_Status</th>\n",
              "      <th>Application_Date</th>\n",
              "      <th>Entry_Date</th>\n",
              "      <th>StartHalf</th>\n",
              "      <th>Fist Installment Date</th>\n",
              "      <th>Purchase Amt</th>\n",
              "      <th>Deposit Amt</th>\n",
              "      <th>financed_amt</th>\n",
              "      <th>Total Term</th>\n",
              "      <th>deposit_percent</th>\n",
              "      <th>Term_Run</th>\n",
              "      <th>Term_Remaining</th>\n",
              "      <th>payment_type</th>\n",
              "      <th>Total No Of Payments</th>\n",
              "      <th>Freq</th>\n",
              "      <th>instalment_amt</th>\n",
              "      <th>Total Payments Received</th>\n",
              "      <th>Total Balance Outstanding</th>\n",
              "      <th>gst_p</th>\n",
              "      <th>gtee_p</th>\n",
              "      <th>Gtee Charges</th>\n",
              "      <th>est_fee_p</th>\n",
              "      <th>Proc Fees</th>\n",
              "      <th>other_fee_p</th>\n",
              "      <th>total_merchant_charge_p</th>\n",
              "      <th>total_consumer_charges</th>\n",
              "      <th>Total Charges</th>\n",
              "      <th>effective_billing_rate</th>\n",
              "      <th>Expected Contract End Date</th>\n",
              "      <th>days_default</th>\n",
              "      <th>arrear_p</th>\n",
              "      <th>No of Days in Arrears</th>\n",
              "      <th>default_p</th>\n",
              "      <th>recent_default_default_p</th>\n",
              "      <th>recent_default_recov_p</th>\n",
              "      <th>Recent Default_Cure Date</th>\n",
              "      <th>Consumer Post Code</th>\n",
              "      <th>Consumer Year of Birth</th>\n",
              "      <th>Merchant Number</th>\n",
              "      <th>Merchant Name</th>\n",
              "      <th>INdustry Name</th>\n",
              "      <th>Homowner Ind</th>\n",
              "      <th>Homowner Consumer</th>\n",
              "    </tr>\n",
              "  </thead>\n",
              "  <tbody>\n",
              "    <tr>\n",
              "      <th>227114</th>\n",
              "      <td>289256</td>\n",
              "      <td>61187110</td>\n",
              "      <td>L61187110</td>\n",
              "      <td>VACUUM</td>\n",
              "      <td>PaidInFull</td>\n",
              "      <td>2007-11-11</td>\n",
              "      <td>2007-11-27</td>\n",
              "      <td>2007H2</td>\n",
              "      <td>2007-05-12</td>\n",
              "      <td>549.0</td>\n",
              "      <td>0.0</td>\n",
              "      <td>549.0</td>\n",
              "      <td>12</td>\n",
              "      <td>0.00000</td>\n",
              "      <td>12</td>\n",
              "      <td>0</td>\n",
              "      <td>0</td>\n",
              "      <td>26</td>\n",
              "      <td>0</td>\n",
              "      <td>21.112137</td>\n",
              "      <td>549.0</td>\n",
              "      <td>0.0</td>\n",
              "      <td>0.891075</td>\n",
              "      <td>0.0989</td>\n",
              "      <td>54.29</td>\n",
              "      <td>0.000000</td>\n",
              "      <td>0.0</td>\n",
              "      <td>0.0</td>\n",
              "      <td>0.098889</td>\n",
              "      <td>0.018215</td>\n",
              "      <td>64.29</td>\n",
              "      <td>0.117104</td>\n",
              "      <td>2008-05-12</td>\n",
              "      <td>0</td>\n",
              "      <td>0.0</td>\n",
              "      <td>0.0</td>\n",
              "      <td>0.0</td>\n",
              "      <td>0.0</td>\n",
              "      <td>0.0</td>\n",
              "      <td></td>\n",
              "      <td>2286</td>\n",
              "      <td>1985-02-07</td>\n",
              "      <td>30114016</td>\n",
              "      <td>GODFREYS VACUUM CLEANER SPECIALISTS</td>\n",
              "      <td>Vacuums</td>\n",
              "      <td>0</td>\n",
              "      <td>0</td>\n",
              "    </tr>\n",
              "    <tr>\n",
              "      <th>15785</th>\n",
              "      <td>15786</td>\n",
              "      <td>60573629</td>\n",
              "      <td>L60573629</td>\n",
              "      <td>RING</td>\n",
              "      <td>PaidInFull</td>\n",
              "      <td>2006-07-27</td>\n",
              "      <td>2006-01-08</td>\n",
              "      <td>2006H2</td>\n",
              "      <td>2006-08-15</td>\n",
              "      <td>3500.0</td>\n",
              "      <td>875.0</td>\n",
              "      <td>2625.0</td>\n",
              "      <td>12</td>\n",
              "      <td>0.25000</td>\n",
              "      <td>12</td>\n",
              "      <td>0</td>\n",
              "      <td>0</td>\n",
              "      <td>12</td>\n",
              "      <td>1</td>\n",
              "      <td>218.750000</td>\n",
              "      <td>2625.0</td>\n",
              "      <td>0.0</td>\n",
              "      <td>0.879657</td>\n",
              "      <td>0.0995</td>\n",
              "      <td>261.18</td>\n",
              "      <td>0.009905</td>\n",
              "      <td>0.0</td>\n",
              "      <td>0.0</td>\n",
              "      <td>0.109402</td>\n",
              "      <td>0.007619</td>\n",
              "      <td>307.18</td>\n",
              "      <td>0.117021</td>\n",
              "      <td>2007-08-15</td>\n",
              "      <td>0</td>\n",
              "      <td>0.0</td>\n",
              "      <td>0.0</td>\n",
              "      <td>0.0</td>\n",
              "      <td>0.0</td>\n",
              "      <td>0.0</td>\n",
              "      <td></td>\n",
              "      <td>2031</td>\n",
              "      <td>1977-09-08</td>\n",
              "      <td>30111065</td>\n",
              "      <td>ST MICHEL INTERNATIONAL</td>\n",
              "      <td>Jewellery</td>\n",
              "      <td>0</td>\n",
              "      <td>0</td>\n",
              "    </tr>\n",
              "    <tr>\n",
              "      <th>172226</th>\n",
              "      <td>203298</td>\n",
              "      <td>61031118</td>\n",
              "      <td>L61031118</td>\n",
              "      <td>SHUTTER</td>\n",
              "      <td>PaidInFull</td>\n",
              "      <td>2007-01-15</td>\n",
              "      <td>2007-02-13</td>\n",
              "      <td>2007H1</td>\n",
              "      <td>2007-01-03</td>\n",
              "      <td>4200.0</td>\n",
              "      <td>2000.0</td>\n",
              "      <td>2200.0</td>\n",
              "      <td>24</td>\n",
              "      <td>0.47619</td>\n",
              "      <td>24</td>\n",
              "      <td>0</td>\n",
              "      <td>0</td>\n",
              "      <td>24</td>\n",
              "      <td>1</td>\n",
              "      <td>91.666667</td>\n",
              "      <td>2200.0</td>\n",
              "      <td>0.0</td>\n",
              "      <td>0.860727</td>\n",
              "      <td>0.1066</td>\n",
              "      <td>234.52</td>\n",
              "      <td>0.020000</td>\n",
              "      <td>0.0</td>\n",
              "      <td>0.0</td>\n",
              "      <td>0.126600</td>\n",
              "      <td>0.000000</td>\n",
              "      <td>278.52</td>\n",
              "      <td>0.126600</td>\n",
              "      <td>2009-01-03</td>\n",
              "      <td>0</td>\n",
              "      <td>0.0</td>\n",
              "      <td>0.0</td>\n",
              "      <td>0.0</td>\n",
              "      <td>0.0</td>\n",
              "      <td>0.0</td>\n",
              "      <td></td>\n",
              "      <td>3844</td>\n",
              "      <td>1932-05-10</td>\n",
              "      <td>30107416</td>\n",
              "      <td>MODERN ROOF RESTORATION (VIC) PTY LTD</td>\n",
              "      <td>Roofing / Shutters / Gutters</td>\n",
              "      <td>1</td>\n",
              "      <td>1</td>\n",
              "    </tr>\n",
              "  </tbody>\n",
              "</table>\n",
              "</div>"
            ],
            "text/plain": [
              "            Id Contract_Number  ... Homowner Ind Homowner Consumer\n",
              "227114  289256        61187110  ...            0                 0\n",
              "15785    15786        60573629  ...            0                 0\n",
              "172226  203298        61031118  ...            1                 1\n",
              "\n",
              "[3 rows x 47 columns]"
            ]
          },
          "metadata": {
            "tags": []
          },
          "execution_count": 33
        }
      ]
    },
    {
      "cell_type": "markdown",
      "metadata": {
        "id": "9zmkpbrBJjmX",
        "colab_type": "text"
      },
      "source": [
        "## Step 2.7 Categorical Variable with more than 2 types"
      ]
    },
    {
      "cell_type": "code",
      "metadata": {
        "id": "OKrc03r37c0M",
        "colab_type": "code",
        "outputId": "04e9afb6-a0dd-4f5c-ac85-3d44e5e993c8",
        "colab": {
          "base_uri": "https://localhost:8080/",
          "height": 85
        }
      },
      "source": [
        "df['Contract_Status'].value_counts()"
      ],
      "execution_count": 34,
      "outputs": [
        {
          "output_type": "execute_result",
          "data": {
            "text/plain": [
              "PaidInFull    264847\n",
              "Default        11178\n",
              "Active           521\n",
              "Name: Contract_Status, dtype: int64"
            ]
          },
          "metadata": {
            "tags": []
          },
          "execution_count": 34
        }
      ]
    },
    {
      "cell_type": "markdown",
      "metadata": {
        "id": "nMRCJjF3Jr8u",
        "colab_type": "text"
      },
      "source": [
        "## Step 2.8 Mark people who have had arrears"
      ]
    },
    {
      "cell_type": "markdown",
      "metadata": {
        "id": "LY94lgIGC379",
        "colab_type": "text"
      },
      "source": [
        "Is there anyone who does not have arrears?"
      ]
    },
    {
      "cell_type": "code",
      "metadata": {
        "id": "tpqr78bq9cIi",
        "colab_type": "code",
        "outputId": "86b486ef-8fb7-4b9b-cdef-b7686fe70f2a",
        "colab": {
          "base_uri": "https://localhost:8080/",
          "height": 34
        }
      },
      "source": [
        "# Is there anyone who does not have arrears?\n",
        "\n",
        "df_no_arrears = df[df['recent_default_default_p'] == 0]\n",
        "\n",
        "no_arrear_p = df_no_arrears.shape[0] / df.shape[0] * 100\n",
        "\n",
        "print(f\"{df_no_arrears.shape[0]} people do not have arrears, occupying {round(no_arrear_p, 2)}%.\")"
      ],
      "execution_count": 35,
      "outputs": [
        {
          "output_type": "stream",
          "text": [
            "237019 people do not have arrears, occupying 85.71%.\n"
          ],
          "name": "stdout"
        }
      ]
    },
    {
      "cell_type": "code",
      "metadata": {
        "id": "YvWI7ct_DAaC",
        "colab_type": "code",
        "colab": {}
      },
      "source": [
        "df['has_arrears'] = df['recent_default_default_p'].apply(lambda x: 1 if x > 0 else 0)"
      ],
      "execution_count": 0,
      "outputs": []
    },
    {
      "cell_type": "markdown",
      "metadata": {
        "id": "QXwnYP9pC81W",
        "colab_type": "text"
      },
      "source": [
        "How many people have recovered arrears?"
      ]
    },
    {
      "cell_type": "code",
      "metadata": {
        "id": "HRKpLbw2DAHf",
        "colab_type": "code",
        "outputId": "43a19283-bb3b-46d0-8c9b-936b30c7b1b7",
        "colab": {
          "base_uri": "https://localhost:8080/",
          "height": 34
        }
      },
      "source": [
        "# How many people have recovered arrears?\n",
        "\n",
        "df_recov = df[df['recent_default_recov_p'] > 0]\n",
        "\n",
        "recov_p = df_recov.shape[0] / df.shape[0] * 100\n",
        "\n",
        "print(f'{df_recov.shape[0]} people have recovered arrears, occupying {round(recov_p, 2)}%.')"
      ],
      "execution_count": 37,
      "outputs": [
        {
          "output_type": "stream",
          "text": [
            "32146 people have recovered arrears, occupying 11.62%.\n"
          ],
          "name": "stdout"
        }
      ]
    },
    {
      "cell_type": "markdown",
      "metadata": {
        "id": "HNXsyyVoEF0m",
        "colab_type": "text"
      },
      "source": [
        "How many people have recovered arrears in full?"
      ]
    },
    {
      "cell_type": "code",
      "metadata": {
        "id": "x98XdIE1EFNF",
        "colab_type": "code",
        "outputId": "6ce549ea-1721-479b-bae2-cecae889c440",
        "colab": {
          "base_uri": "https://localhost:8080/",
          "height": 34
        }
      },
      "source": [
        "# How many people have recovered arrears in full?\n",
        "\n",
        "df_recov_infull = df[df['recent_default_recov_p']==1]\n",
        "\n",
        "recov_infull_p = df_recov_infull.shape[0] / df.shape[0] * 100\n",
        "\n",
        "print(f'{df_recov_infull.shape[0]} people have recovered arrears in full, occupying {round(recov_infull_p, 2)}%.')"
      ],
      "execution_count": 38,
      "outputs": [
        {
          "output_type": "stream",
          "text": [
            "700 people have recovered arrears in full, occupying 0.25%.\n"
          ],
          "name": "stdout"
        }
      ]
    },
    {
      "cell_type": "markdown",
      "metadata": {
        "id": "1KIHQDPwNWMJ",
        "colab_type": "text"
      },
      "source": [
        "## 3.1 How many contracts in total? For each year? For month? - (bar chart)"
      ]
    },
    {
      "cell_type": "code",
      "metadata": {
        "id": "uTGfbpWZNY2M",
        "colab_type": "code",
        "colab": {
          "base_uri": "https://localhost:8080/",
          "height": 34
        },
        "outputId": "3527340a-3891-4184-bcd8-09d6df69fc58"
      },
      "source": [
        "print(f\"The earlist entry date is {df['Entry_Date'].min()}, whereas the latest is {df['Entry_Date'].max()}.\")"
      ],
      "execution_count": 39,
      "outputs": [
        {
          "output_type": "stream",
          "text": [
            "The earlist entry date is 2006-01-01 00:00:00, whereas the latest is 2007-12-31 00:00:00.\n"
          ],
          "name": "stdout"
        }
      ]
    },
    {
      "cell_type": "code",
      "metadata": {
        "id": "M9ptcMIRZWG1",
        "colab_type": "code",
        "colab": {}
      },
      "source": [
        "# put Year into new columns\n",
        "df['entry_y'] = df['Entry_Date'].dt.year\n",
        "#df['entry_m'] = df['Entry_Date'].dt.month\n",
        "\n",
        "# put Year and Month into new columns\n",
        "df['entry_y_m'] = df['Entry_Date'].dt.to_period('M')"
      ],
      "execution_count": 0,
      "outputs": []
    },
    {
      "cell_type": "code",
      "metadata": {
        "id": "aPYSWDtTZ8wI",
        "colab_type": "code",
        "colab": {}
      },
      "source": [
        "# put result into df\n",
        "result_contract_y = df.groupby('entry_y').agg({\"Contract_Number\": \"count\"})\n",
        "result_contract_m = df.groupby('entry_y_m').agg({\"Contract_Number\": \"count\"})"
      ],
      "execution_count": 0,
      "outputs": []
    },
    {
      "cell_type": "code",
      "metadata": {
        "id": "aJ2tTM1pcpqh",
        "colab_type": "code",
        "colab": {}
      },
      "source": [
        "# separate into 2 groups: has arrears or not\n",
        "df.groupby(['entry_y_m', 'has_arrears']).agg({\"Contract_Number\": \"count\"})"
      ],
      "execution_count": 0,
      "outputs": []
    }
  ]
}