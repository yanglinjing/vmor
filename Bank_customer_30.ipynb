{
  "nbformat": 4,
  "nbformat_minor": 0,
  "metadata": {
    "colab": {
      "name": "Bank_customer_30.ipynb",
      "provenance": [],
      "collapsed_sections": [
        "zl7EzuiSkTjo",
        "o-bGukNx35gB"
      ],
      "authorship_tag": "ABX9TyOzLOQo6XpOLpeLu77thcLa",
      "include_colab_link": true
    },
    "kernelspec": {
      "name": "python3",
      "display_name": "Python 3"
    }
  },
  "cells": [
    {
      "cell_type": "markdown",
      "metadata": {
        "id": "view-in-github",
        "colab_type": "text"
      },
      "source": [
        "<a href=\"https://colab.research.google.com/github/yanglinjing/vmor/blob/master/Bank_customer_30.ipynb\" target=\"_parent\"><img src=\"https://colab.research.google.com/assets/colab-badge.svg\" alt=\"Open In Colab\"/></a>"
      ]
    },
    {
      "cell_type": "markdown",
      "metadata": {
        "id": "smZETebAcqL6",
        "colab_type": "text"
      },
      "source": [
        "# Bank Loan Data"
      ]
    },
    {
      "cell_type": "code",
      "metadata": {
        "id": "j7s5CunhcwR7",
        "colab_type": "code",
        "outputId": "82a3ceb6-9e7d-47b6-99c8-00705bf75599",
        "colab": {
          "base_uri": "https://localhost:8080/",
          "height": 34
        }
      },
      "source": [
        "pip install mysql-connector"
      ],
      "execution_count": 170,
      "outputs": [
        {
          "output_type": "stream",
          "text": [
            "Requirement already satisfied: mysql-connector in /usr/local/lib/python3.6/dist-packages (2.2.9)\n"
          ],
          "name": "stdout"
        }
      ]
    },
    {
      "cell_type": "code",
      "metadata": {
        "id": "FzWEfUKSjvdu",
        "colab_type": "code",
        "colab": {}
      },
      "source": [
        "# mySQL\n",
        "import mysql.connector\n",
        "\n",
        "import numpy as np\n",
        "import pandas as pd\n",
        "\n",
        "# PCA and Clustering\n",
        "from sklearn.preprocessing import StandardScaler\n",
        "from sklearn.impute import SimpleImputer\n",
        "from sklearn.decomposition import PCA\n",
        "from sklearn.cluster import KMeans\n",
        "from sklearn.metrics import silhouette_score\n",
        "\n",
        "# Plot\n",
        "import matplotlib.pyplot as plt\n",
        "import matplotlib.ticker as ticker\n",
        "import seaborn as sns\n",
        "\n",
        "# magic word for producing visualizations in notebook\n",
        "%matplotlib inline"
      ],
      "execution_count": 0,
      "outputs": []
    },
    {
      "cell_type": "code",
      "metadata": {
        "id": "sMr_rl9FFmXH",
        "colab_type": "code",
        "colab": {}
      },
      "source": [
        "import datetime as dt\n"
      ],
      "execution_count": 0,
      "outputs": []
    },
    {
      "cell_type": "code",
      "metadata": {
        "id": "W6JiBj78wPrv",
        "colab_type": "code",
        "colab": {}
      },
      "source": [
        "from palettable.colorbrewer.qualitative import Pastel1_7 # color\n"
      ],
      "execution_count": 0,
      "outputs": []
    },
    {
      "cell_type": "code",
      "metadata": {
        "id": "yzzn-ry9kOCN",
        "colab_type": "code",
        "colab": {}
      },
      "source": [
        "my_color = ['#42bff4', '#f9ace9']"
      ],
      "execution_count": 0,
      "outputs": []
    },
    {
      "cell_type": "markdown",
      "metadata": {
        "id": "zl7EzuiSkTjo",
        "colab_type": "text"
      },
      "source": [
        "# Step 1： Import Data"
      ]
    },
    {
      "cell_type": "code",
      "metadata": {
        "id": "R_6E5xQkkRqq",
        "colab_type": "code",
        "colab": {}
      },
      "source": [
        "# Import data from mySQL\n",
        "db = mysql.connector.connect(user='Linjing', \n",
        "                             password='Linjing',\n",
        "                             host='119.9.52.51',\n",
        "                             database='bankloan')"
      ],
      "execution_count": 0,
      "outputs": []
    },
    {
      "cell_type": "code",
      "metadata": {
        "id": "5LnnkQ_RknLa",
        "colab_type": "code",
        "colab": {}
      },
      "source": [
        "# Create a Cursor object. It will let\n",
        "#  you execute all the queries you need\n",
        "cur = db.cursor()"
      ],
      "execution_count": 0,
      "outputs": []
    },
    {
      "cell_type": "code",
      "metadata": {
        "id": "Ky8beMNhkqXo",
        "colab_type": "code",
        "colab": {}
      },
      "source": [
        "cur.execute('SELECT * \\\n",
        "             FROM defaultloan')"
      ],
      "execution_count": 0,
      "outputs": []
    },
    {
      "cell_type": "code",
      "metadata": {
        "id": "3uJGPhKgk83-",
        "colab_type": "code",
        "colab": {}
      },
      "source": [
        "# Put data into df\n",
        "table = cur.fetchall()\n",
        "df_raw = pd.DataFrame(table)"
      ],
      "execution_count": 0,
      "outputs": []
    },
    {
      "cell_type": "code",
      "metadata": {
        "id": "RIkUJCWNk_51",
        "colab_type": "code",
        "colab": {}
      },
      "source": [
        "# Get column names \n",
        "num_cols = len(cur.description)\n",
        "cols = [i[0] for i in cur.description]\n",
        "\n",
        "# Change column names of df\n",
        "df_raw.columns = cols"
      ],
      "execution_count": 0,
      "outputs": []
    },
    {
      "cell_type": "code",
      "metadata": {
        "id": "sLpQ4XlClHQ6",
        "colab_type": "code",
        "colab": {}
      },
      "source": [
        "db.close()"
      ],
      "execution_count": 0,
      "outputs": []
    },
    {
      "cell_type": "markdown",
      "metadata": {
        "id": "jANbQQVrlKvH",
        "colab_type": "text"
      },
      "source": [
        "# Step 2: Proprecessing Data\n"
      ]
    },
    {
      "cell_type": "markdown",
      "metadata": {
        "id": "f1hB-H_CJdhl",
        "colab_type": "text"
      },
      "source": [
        "## Step 2.1 Observing Data"
      ]
    },
    {
      "cell_type": "code",
      "metadata": {
        "id": "8xZCYOnLTQ6H",
        "colab_type": "code",
        "colab": {}
      },
      "source": [
        "df = df_raw.copy()"
      ],
      "execution_count": 0,
      "outputs": []
    },
    {
      "cell_type": "code",
      "metadata": {
        "id": "iNeW7jpjlH-g",
        "colab_type": "code",
        "outputId": "59cb8394-365b-4645-c81b-13f0e3d13576",
        "colab": {
          "base_uri": "https://localhost:8080/",
          "height": 34
        }
      },
      "source": [
        "df.shape"
      ],
      "execution_count": 309,
      "outputs": [
        {
          "output_type": "execute_result",
          "data": {
            "text/plain": [
              "(276546, 50)"
            ]
          },
          "metadata": {
            "tags": []
          },
          "execution_count": 309
        }
      ]
    },
    {
      "cell_type": "code",
      "metadata": {
        "id": "Ckqt8wVIlVnE",
        "colab_type": "code",
        "outputId": "7aa02e16-dfb8-49c8-e921-28645af5f54e",
        "colab": {
          "base_uri": "https://localhost:8080/",
          "height": 281
        }
      },
      "source": [
        "df.sample(3)"
      ],
      "execution_count": 182,
      "outputs": [
        {
          "output_type": "execute_result",
          "data": {
            "text/html": [
              "<div>\n",
              "<style scoped>\n",
              "    .dataframe tbody tr th:only-of-type {\n",
              "        vertical-align: middle;\n",
              "    }\n",
              "\n",
              "    .dataframe tbody tr th {\n",
              "        vertical-align: top;\n",
              "    }\n",
              "\n",
              "    .dataframe thead th {\n",
              "        text-align: right;\n",
              "    }\n",
              "</style>\n",
              "<table border=\"1\" class=\"dataframe\">\n",
              "  <thead>\n",
              "    <tr style=\"text-align: right;\">\n",
              "      <th></th>\n",
              "      <th>Id</th>\n",
              "      <th>Contract_Number</th>\n",
              "      <th>Consumer_ID</th>\n",
              "      <th>Product</th>\n",
              "      <th>Contract_Status</th>\n",
              "      <th>Application_Date</th>\n",
              "      <th>Entry_Date</th>\n",
              "      <th>StartHalf</th>\n",
              "      <th>Fist Installment Date</th>\n",
              "      <th>Purchase Amt</th>\n",
              "      <th>Deposit Amt</th>\n",
              "      <th>Financed Amt</th>\n",
              "      <th>Total Term</th>\n",
              "      <th>Deposit_Percent</th>\n",
              "      <th>Term_Run</th>\n",
              "      <th>Term_Remaining</th>\n",
              "      <th>Payment Type</th>\n",
              "      <th>Total No Of Payments</th>\n",
              "      <th>Freq</th>\n",
              "      <th>Instalment Amt</th>\n",
              "      <th>Total Payments Received</th>\n",
              "      <th>Total Balance Outstanding</th>\n",
              "      <th>Amt Paid To Merchant_nettofmerchfeesandGST</th>\n",
              "      <th>Gtee Rate</th>\n",
              "      <th>Gtee Charges</th>\n",
              "      <th>Est Fees</th>\n",
              "      <th>Proc Fees</th>\n",
              "      <th>Other Fees</th>\n",
              "      <th>Total Merchant Charges</th>\n",
              "      <th>Total Consumer Charges</th>\n",
              "      <th>Total Charges</th>\n",
              "      <th>Effective Billing Rate</th>\n",
              "      <th>Expected Contract End Date</th>\n",
              "      <th>No Of Days In Default</th>\n",
              "      <th>Arrears Amount</th>\n",
              "      <th>No of Days in Arrears</th>\n",
              "      <th>DefaultAmount</th>\n",
              "      <th>DefaultDate</th>\n",
              "      <th>MonthsToDefault</th>\n",
              "      <th>Recent Default_Default Date</th>\n",
              "      <th>Recent Default_Default Amt</th>\n",
              "      <th>Recent Default_Recov Amt</th>\n",
              "      <th>Recent Default_Cure Date</th>\n",
              "      <th>Consumer Post Code</th>\n",
              "      <th>Consumer Year of Birth</th>\n",
              "      <th>Merchant Number</th>\n",
              "      <th>Merchant Name</th>\n",
              "      <th>INdustry Name</th>\n",
              "      <th>Homowner Ind</th>\n",
              "      <th>Homowner Consumer</th>\n",
              "    </tr>\n",
              "  </thead>\n",
              "  <tbody>\n",
              "    <tr>\n",
              "      <th>137138</th>\n",
              "      <td>168210</td>\n",
              "      <td>61194675</td>\n",
              "      <td>L61194675</td>\n",
              "      <td>TINT</td>\n",
              "      <td>Default</td>\n",
              "      <td>28/06/2007</td>\n",
              "      <td>3/07/2007</td>\n",
              "      <td>2007H2</td>\n",
              "      <td>28/07/2007</td>\n",
              "      <td>265</td>\n",
              "      <td>67</td>\n",
              "      <td>198</td>\n",
              "      <td>3</td>\n",
              "      <td>0.252830189</td>\n",
              "      <td>3</td>\n",
              "      <td>0</td>\n",
              "      <td>CC</td>\n",
              "      <td>3</td>\n",
              "      <td>Mth</td>\n",
              "      <td>66</td>\n",
              "      <td>0.00</td>\n",
              "      <td>198.00</td>\n",
              "      <td>173.9</td>\n",
              "      <td>0.0385</td>\n",
              "      <td>7.62</td>\n",
              "      <td>9.75</td>\n",
              "      <td>0</td>\n",
              "      <td>4.5</td>\n",
              "      <td>21.87</td>\n",
              "      <td>10.00</td>\n",
              "      <td>31.87</td>\n",
              "      <td>0.160959596</td>\n",
              "      <td>28/10/2007</td>\n",
              "      <td>1316</td>\n",
              "      <td>198</td>\n",
              "      <td>1316</td>\n",
              "      <td>198</td>\n",
              "      <td>4/12/2007</td>\n",
              "      <td>5</td>\n",
              "      <td>6/08/2007</td>\n",
              "      <td>198.00</td>\n",
              "      <td>0.00</td>\n",
              "      <td></td>\n",
              "      <td>3204</td>\n",
              "      <td>29/09/1986</td>\n",
              "      <td>30100515</td>\n",
              "      <td>THE TINT PROFESSIONAL</td>\n",
              "      <td>Auto Specialty</td>\n",
              "      <td>No</td>\n",
              "      <td>No</td>\n",
              "    </tr>\n",
              "    <tr>\n",
              "      <th>86989</th>\n",
              "      <td>86990</td>\n",
              "      <td>60937350</td>\n",
              "      <td>L60937350</td>\n",
              "      <td>ACARE</td>\n",
              "      <td>PaidInFull</td>\n",
              "      <td>21/04/2006</td>\n",
              "      <td>26/04/2006</td>\n",
              "      <td>2006H1</td>\n",
              "      <td>26/05/2006</td>\n",
              "      <td>2550</td>\n",
              "      <td>637.5</td>\n",
              "      <td>1912.5</td>\n",
              "      <td>15</td>\n",
              "      <td>0.25</td>\n",
              "      <td>15</td>\n",
              "      <td>0</td>\n",
              "      <td>CC</td>\n",
              "      <td>15</td>\n",
              "      <td>Mth</td>\n",
              "      <td>127.5</td>\n",
              "      <td>1,912.50</td>\n",
              "      <td>0.00</td>\n",
              "      <td>1688</td>\n",
              "      <td>0.090999998</td>\n",
              "      <td>174.03</td>\n",
              "      <td>30</td>\n",
              "      <td>0</td>\n",
              "      <td>0</td>\n",
              "      <td>204.03</td>\n",
              "      <td>10.00</td>\n",
              "      <td>214.03</td>\n",
              "      <td>0.111911111</td>\n",
              "      <td>26/08/2007</td>\n",
              "      <td>0</td>\n",
              "      <td>0</td>\n",
              "      <td>0</td>\n",
              "      <td>0</td>\n",
              "      <td></td>\n",
              "      <td></td>\n",
              "      <td></td>\n",
              "      <td>0.00</td>\n",
              "      <td>0.00</td>\n",
              "      <td></td>\n",
              "      <td>6056</td>\n",
              "      <td>30/09/1987</td>\n",
              "      <td>30108895</td>\n",
              "      <td>GOLDY MOTORS PTY LTD</td>\n",
              "      <td>Auto Specialty</td>\n",
              "      <td>No</td>\n",
              "      <td>No</td>\n",
              "    </tr>\n",
              "    <tr>\n",
              "      <th>239300</th>\n",
              "      <td>301442</td>\n",
              "      <td>61219856</td>\n",
              "      <td>L61219856</td>\n",
              "      <td>SHUTTER</td>\n",
              "      <td>PaidInFull</td>\n",
              "      <td>29/05/2007</td>\n",
              "      <td>19/06/2007</td>\n",
              "      <td>2007H1</td>\n",
              "      <td>6/07/2007</td>\n",
              "      <td>3000</td>\n",
              "      <td>300</td>\n",
              "      <td>2700</td>\n",
              "      <td>18</td>\n",
              "      <td>0.1</td>\n",
              "      <td>18</td>\n",
              "      <td>0</td>\n",
              "      <td>Bank</td>\n",
              "      <td>39</td>\n",
              "      <td>FN</td>\n",
              "      <td>69.22011998</td>\n",
              "      <td>2,700.00</td>\n",
              "      <td>0.00</td>\n",
              "      <td>2358</td>\n",
              "      <td>0.102899998</td>\n",
              "      <td>277.82</td>\n",
              "      <td>33</td>\n",
              "      <td>0</td>\n",
              "      <td>0</td>\n",
              "      <td>310.82</td>\n",
              "      <td>0.00</td>\n",
              "      <td>310.82</td>\n",
              "      <td>0.115118519</td>\n",
              "      <td>6/01/2009</td>\n",
              "      <td>0</td>\n",
              "      <td>0</td>\n",
              "      <td>0</td>\n",
              "      <td>0</td>\n",
              "      <td></td>\n",
              "      <td></td>\n",
              "      <td></td>\n",
              "      <td>0.00</td>\n",
              "      <td>0.00</td>\n",
              "      <td></td>\n",
              "      <td>6164</td>\n",
              "      <td>9/12/1951</td>\n",
              "      <td>30108363</td>\n",
              "      <td>OZ-SHUT ROLLER SHUTTERS</td>\n",
              "      <td>Roofing / Shutters / Gutters</td>\n",
              "      <td>Yes</td>\n",
              "      <td>Yes</td>\n",
              "    </tr>\n",
              "  </tbody>\n",
              "</table>\n",
              "</div>"
            ],
            "text/plain": [
              "            Id Contract_Number  ... Homowner Ind Homowner Consumer\n",
              "137138  168210        61194675  ...           No                No\n",
              "86989    86990        60937350  ...           No                No\n",
              "239300  301442        61219856  ...          Yes               Yes\n",
              "\n",
              "[3 rows x 50 columns]"
            ]
          },
          "metadata": {
            "tags": []
          },
          "execution_count": 182
        }
      ]
    },
    {
      "cell_type": "markdown",
      "metadata": {
        "id": "N7mP-C1rr68q",
        "colab_type": "text"
      },
      "source": [
        "## Step 2.2 Convert Data Type"
      ]
    },
    {
      "cell_type": "code",
      "metadata": {
        "id": "sMztL6_bsCgG",
        "colab_type": "code",
        "colab": {}
      },
      "source": [
        "# convert object to datetime\n",
        "\n",
        "column_date = ['Application_Date', \n",
        "               'Entry_Date', \n",
        "               'Fist Installment Date', \n",
        "               'Expected Contract End Date', \n",
        "               'DefaultDate', \n",
        "               'Recent Default_Default Date',\n",
        "               #'Recent Default_Cure Date',\n",
        "               'Consumer Year of Birth']\n",
        "\n",
        "for column in column_date:\n",
        "  df[column] = pd.to_datetime(df[column])"
      ],
      "execution_count": 0,
      "outputs": []
    },
    {
      "cell_type": "code",
      "metadata": {
        "id": "9g57iled5i3i",
        "colab_type": "code",
        "outputId": "b46559b0-c7a5-470b-c9be-189419bb63d7",
        "colab": {
          "base_uri": "https://localhost:8080/",
          "height": 168
        }
      },
      "source": [
        "df.head(1)"
      ],
      "execution_count": 184,
      "outputs": [
        {
          "output_type": "execute_result",
          "data": {
            "text/html": [
              "<div>\n",
              "<style scoped>\n",
              "    .dataframe tbody tr th:only-of-type {\n",
              "        vertical-align: middle;\n",
              "    }\n",
              "\n",
              "    .dataframe tbody tr th {\n",
              "        vertical-align: top;\n",
              "    }\n",
              "\n",
              "    .dataframe thead th {\n",
              "        text-align: right;\n",
              "    }\n",
              "</style>\n",
              "<table border=\"1\" class=\"dataframe\">\n",
              "  <thead>\n",
              "    <tr style=\"text-align: right;\">\n",
              "      <th></th>\n",
              "      <th>Id</th>\n",
              "      <th>Contract_Number</th>\n",
              "      <th>Consumer_ID</th>\n",
              "      <th>Product</th>\n",
              "      <th>Contract_Status</th>\n",
              "      <th>Application_Date</th>\n",
              "      <th>Entry_Date</th>\n",
              "      <th>StartHalf</th>\n",
              "      <th>Fist Installment Date</th>\n",
              "      <th>Purchase Amt</th>\n",
              "      <th>Deposit Amt</th>\n",
              "      <th>Financed Amt</th>\n",
              "      <th>Total Term</th>\n",
              "      <th>Deposit_Percent</th>\n",
              "      <th>Term_Run</th>\n",
              "      <th>Term_Remaining</th>\n",
              "      <th>Payment Type</th>\n",
              "      <th>Total No Of Payments</th>\n",
              "      <th>Freq</th>\n",
              "      <th>Instalment Amt</th>\n",
              "      <th>Total Payments Received</th>\n",
              "      <th>Total Balance Outstanding</th>\n",
              "      <th>Amt Paid To Merchant_nettofmerchfeesandGST</th>\n",
              "      <th>Gtee Rate</th>\n",
              "      <th>Gtee Charges</th>\n",
              "      <th>Est Fees</th>\n",
              "      <th>Proc Fees</th>\n",
              "      <th>Other Fees</th>\n",
              "      <th>Total Merchant Charges</th>\n",
              "      <th>Total Consumer Charges</th>\n",
              "      <th>Total Charges</th>\n",
              "      <th>Effective Billing Rate</th>\n",
              "      <th>Expected Contract End Date</th>\n",
              "      <th>No Of Days In Default</th>\n",
              "      <th>Arrears Amount</th>\n",
              "      <th>No of Days in Arrears</th>\n",
              "      <th>DefaultAmount</th>\n",
              "      <th>DefaultDate</th>\n",
              "      <th>MonthsToDefault</th>\n",
              "      <th>Recent Default_Default Date</th>\n",
              "      <th>Recent Default_Default Amt</th>\n",
              "      <th>Recent Default_Recov Amt</th>\n",
              "      <th>Recent Default_Cure Date</th>\n",
              "      <th>Consumer Post Code</th>\n",
              "      <th>Consumer Year of Birth</th>\n",
              "      <th>Merchant Number</th>\n",
              "      <th>Merchant Name</th>\n",
              "      <th>INdustry Name</th>\n",
              "      <th>Homowner Ind</th>\n",
              "      <th>Homowner Consumer</th>\n",
              "    </tr>\n",
              "  </thead>\n",
              "  <tbody>\n",
              "    <tr>\n",
              "      <th>0</th>\n",
              "      <td>1</td>\n",
              "      <td>30000022</td>\n",
              "      <td>L30000022</td>\n",
              "      <td>ALARM</td>\n",
              "      <td>PaidInFull</td>\n",
              "      <td>2006-10-18</td>\n",
              "      <td>2006-01-11</td>\n",
              "      <td>2006H2</td>\n",
              "      <td>2006-11-26</td>\n",
              "      <td>3602.38</td>\n",
              "      <td>1002.38</td>\n",
              "      <td>2600</td>\n",
              "      <td>48</td>\n",
              "      <td>0.278254931</td>\n",
              "      <td>48</td>\n",
              "      <td>0</td>\n",
              "      <td>Bank</td>\n",
              "      <td>48</td>\n",
              "      <td>Mth</td>\n",
              "      <td>54.16666667</td>\n",
              "      <td>2,600.00</td>\n",
              "      <td>0.00</td>\n",
              "      <td>1965.3</td>\n",
              "      <td>0.221900001</td>\n",
              "      <td>576.93</td>\n",
              "      <td>0</td>\n",
              "      <td>0</td>\n",
              "      <td>0</td>\n",
              "      <td>576.93</td>\n",
              "      <td>0.00</td>\n",
              "      <td>576.93</td>\n",
              "      <td>0.221896154</td>\n",
              "      <td>2010-11-26</td>\n",
              "      <td>0</td>\n",
              "      <td>0</td>\n",
              "      <td>0</td>\n",
              "      <td>0</td>\n",
              "      <td>NaT</td>\n",
              "      <td></td>\n",
              "      <td>NaT</td>\n",
              "      <td>0.00</td>\n",
              "      <td>0.00</td>\n",
              "      <td></td>\n",
              "      <td>6530</td>\n",
              "      <td>1960-11-24</td>\n",
              "      <td>30112641</td>\n",
              "      <td>MODERN SECURITY WA</td>\n",
              "      <td>Home Security</td>\n",
              "      <td>Yes</td>\n",
              "      <td>Yes</td>\n",
              "    </tr>\n",
              "  </tbody>\n",
              "</table>\n",
              "</div>"
            ],
            "text/plain": [
              "   Id Contract_Number Consumer_ID  ...  INdustry Name Homowner Ind Homowner Consumer\n",
              "0   1        30000022   L30000022  ...  Home Security          Yes               Yes\n",
              "\n",
              "[1 rows x 50 columns]"
            ]
          },
          "metadata": {
            "tags": []
          },
          "execution_count": 184
        }
      ]
    },
    {
      "cell_type": "code",
      "metadata": {
        "id": "a337QP7XUjO3",
        "colab_type": "code",
        "colab": {}
      },
      "source": [
        "# convert object to float\n",
        "\n",
        "column_num = ['Purchase Amt', 'Deposit Amt', 'Financed Amt', \n",
        "              'Total Term', 'Deposit_Percent', 'Term_Run',\n",
        "              'Term_Remaining', 'Total No Of Payments',\n",
        "              'Instalment Amt', 'Total Payments Received',\n",
        "              'Total Balance Outstanding', 'Amt Paid To Merchant_nettofmerchfeesandGST',\n",
        "              'Gtee Rate', 'Gtee Charges', 'Est Fees',\n",
        "              'Proc Fees', 'Other Fees', 'Total Merchant Charges',\n",
        "              'Total Consumer Charges', 'Total Charges',\n",
        "              'Effective Billing Rate', 'No Of Days In Default',\n",
        "              'Arrears Amount', 'No of Days in Arrears',\n",
        "              'DefaultAmount', 'MonthsToDefault',\n",
        "              'Recent Default_Default Amt',\n",
        "              'Recent Default_Recov Amt']\n",
        "\n",
        "for column in column_num:\n",
        "\n",
        "  # Remove thousand separator \n",
        "  df[column] = df[column].str.replace(',', '')\n",
        "\n",
        "  # Nan / NaT\n",
        "  df[column] = df[column].str.replace('NaT', '')\n",
        "  df[column] = df[column].str.replace('NaN', '')\n",
        "\n",
        "  # convert string to numeric\n",
        "  df[column] = pd.to_numeric(df[column])\n"
      ],
      "execution_count": 0,
      "outputs": []
    },
    {
      "cell_type": "code",
      "metadata": {
        "id": "Wc-0ZXqfe5zF",
        "colab_type": "code",
        "outputId": "fdcf7a45-023e-4f9d-c749-6f359e89ef74",
        "colab": {
          "base_uri": "https://localhost:8080/",
          "height": 986
        }
      },
      "source": [
        "df.info()"
      ],
      "execution_count": 186,
      "outputs": [
        {
          "output_type": "stream",
          "text": [
            "<class 'pandas.core.frame.DataFrame'>\n",
            "RangeIndex: 276546 entries, 0 to 276545\n",
            "Data columns (total 50 columns):\n",
            " #   Column                                      Non-Null Count   Dtype         \n",
            "---  ------                                      --------------   -----         \n",
            " 0   Id                                          276546 non-null  int64         \n",
            " 1   Contract_Number                             276546 non-null  object        \n",
            " 2   Consumer_ID                                 276546 non-null  object        \n",
            " 3   Product                                     276546 non-null  object        \n",
            " 4   Contract_Status                             276546 non-null  object        \n",
            " 5   Application_Date                            276546 non-null  datetime64[ns]\n",
            " 6   Entry_Date                                  276546 non-null  datetime64[ns]\n",
            " 7   StartHalf                                   276546 non-null  object        \n",
            " 8   Fist Installment Date                       276546 non-null  datetime64[ns]\n",
            " 9   Purchase Amt                                276546 non-null  float64       \n",
            " 10  Deposit Amt                                 276546 non-null  float64       \n",
            " 11  Financed Amt                                276546 non-null  float64       \n",
            " 12  Total Term                                  276546 non-null  int64         \n",
            " 13  Deposit_Percent                             276546 non-null  float64       \n",
            " 14  Term_Run                                    276546 non-null  int64         \n",
            " 15  Term_Remaining                              276546 non-null  int64         \n",
            " 16  Payment Type                                276546 non-null  object        \n",
            " 17  Total No Of Payments                        276546 non-null  int64         \n",
            " 18  Freq                                        276546 non-null  object        \n",
            " 19  Instalment Amt                              276546 non-null  float64       \n",
            " 20  Total Payments Received                     276546 non-null  float64       \n",
            " 21  Total Balance Outstanding                   276546 non-null  float64       \n",
            " 22  Amt Paid To Merchant_nettofmerchfeesandGST  276546 non-null  float64       \n",
            " 23  Gtee Rate                                   276546 non-null  float64       \n",
            " 24  Gtee Charges                                276546 non-null  float64       \n",
            " 25  Est Fees                                    276546 non-null  float64       \n",
            " 26  Proc Fees                                   276546 non-null  int64         \n",
            " 27  Other Fees                                  276546 non-null  float64       \n",
            " 28  Total Merchant Charges                      276546 non-null  float64       \n",
            " 29  Total Consumer Charges                      276546 non-null  float64       \n",
            " 30  Total Charges                               276546 non-null  float64       \n",
            " 31  Effective Billing Rate                      276546 non-null  float64       \n",
            " 32  Expected Contract End Date                  276546 non-null  datetime64[ns]\n",
            " 33  No Of Days In Default                       276546 non-null  int64         \n",
            " 34  Arrears Amount                              276536 non-null  float64       \n",
            " 35  No of Days in Arrears                       276536 non-null  float64       \n",
            " 36  DefaultAmount                               276546 non-null  float64       \n",
            " 37  DefaultDate                                 11134 non-null   datetime64[ns]\n",
            " 38  MonthsToDefault                             11134 non-null   float64       \n",
            " 39  Recent Default_Default Date                 39524 non-null   datetime64[ns]\n",
            " 40  Recent Default_Default Amt                  276545 non-null  float64       \n",
            " 41  Recent Default_Recov Amt                    276546 non-null  float64       \n",
            " 42  Recent Default_Cure Date                    276546 non-null  object        \n",
            " 43  Consumer Post Code                          276546 non-null  object        \n",
            " 44  Consumer Year of Birth                      276499 non-null  datetime64[ns]\n",
            " 45  Merchant Number                             276546 non-null  object        \n",
            " 46  Merchant Name                               276546 non-null  object        \n",
            " 47  INdustry Name                               276546 non-null  object        \n",
            " 48  Homowner Ind                                276546 non-null  object        \n",
            " 49  Homowner Consumer                           276546 non-null  object        \n",
            "dtypes: datetime64[ns](7), float64(22), int64(7), object(14)\n",
            "memory usage: 105.5+ MB\n"
          ],
          "name": "stdout"
        }
      ]
    },
    {
      "cell_type": "markdown",
      "metadata": {
        "id": "-4n25uN3qsCO",
        "colab_type": "text"
      },
      "source": [
        "## Step 2.3 Missing Values\n",
        "\n",
        "### Step 2.3.1 Columns\n"
      ]
    },
    {
      "cell_type": "code",
      "metadata": {
        "id": "cYDQlAP6qrba",
        "colab_type": "code",
        "outputId": "c354aedd-a0c7-46e0-a558-de74750260c9",
        "colab": {
          "base_uri": "https://localhost:8080/",
          "height": 34
        }
      },
      "source": [
        "# Calculate the percentage of missing values of each column\n",
        "missing = df.isnull().sum()\n",
        "missing = missing[missing > 0] / df.shape[0] *100\n",
        "missing.sort_values(inplace = True)\n",
        "\n",
        "print(f\"{len(missing)} out of {df.shape[1]} columns contain missing values, from {round(missing[0], 2)}% to {round(missing[-1], 2)}%.\")"
      ],
      "execution_count": 312,
      "outputs": [
        {
          "output_type": "stream",
          "text": [
            "7 out of 50 columns contain missing values, from 0.0% to 95.97%.\n"
          ],
          "name": "stdout"
        }
      ]
    },
    {
      "cell_type": "code",
      "metadata": {
        "id": "aRFGIn0NfhmE",
        "colab_type": "code",
        "outputId": "c1e9a23e-de0a-48ed-e66b-5bac1d7cb844",
        "colab": {
          "base_uri": "https://localhost:8080/",
          "height": 231
        }
      },
      "source": [
        "#Visualizing the naturally missing data\n",
        "missing.plot.barh(figsize = (10, 3), fontsize = 12, color= my_color[0])\n",
        "plt.title('Percentage of Missing Values in Columns', size = 14)\n",
        "plt.show()"
      ],
      "execution_count": 313,
      "outputs": [
        {
          "output_type": "display_data",
          "data": {
            "image/png": "[encoded data removed]",
            "text/plain": [
              "<Figure size 720x216 with 1 Axes>"
            ]
          },
          "metadata": {
            "tags": [],
            "needs_background": "light"
          }
        }
      ]
    },
    {
      "cell_type": "code",
      "metadata": {
        "id": "g5cm1xxMnv2x",
        "colab_type": "code",
        "colab": {}
      },
      "source": [
        "# Remove the outlier columns from the dataset / feature summary. \n",
        "\n",
        "# columns have more than 80% missing values\n",
        "missing_80 = missing[missing >80]\n",
        "\n",
        "# Drop columns that contain 20% missing values\n",
        "for col in missing_80.index:\n",
        "  \n",
        "  # Dataset\n",
        "  df.drop(col, axis = 1, inplace = True)\n"
      ],
      "execution_count": 0,
      "outputs": []
    },
    {
      "cell_type": "code",
      "metadata": {
        "id": "gdVNrdc2ohuT",
        "colab_type": "code",
        "outputId": "cf82bc46-b9fd-422c-9929-a202c650b6c1",
        "colab": {
          "base_uri": "https://localhost:8080/",
          "height": 34
        }
      },
      "source": [
        "df.shape"
      ],
      "execution_count": 190,
      "outputs": [
        {
          "output_type": "execute_result",
          "data": {
            "text/plain": [
              "(276546, 47)"
            ]
          },
          "metadata": {
            "tags": []
          },
          "execution_count": 190
        }
      ]
    },
    {
      "cell_type": "markdown",
      "metadata": {
        "id": "VUFWTEzlmmux",
        "colab_type": "text"
      },
      "source": [
        "### Step 2.3.2 Rows\n"
      ]
    },
    {
      "cell_type": "code",
      "metadata": {
        "id": "Xcnq7x_9mpTi",
        "colab_type": "code",
        "colab": {}
      },
      "source": [
        "# How much data is missing in each row of the dataset?\n",
        "missing_r = df.isnull().sum(axis=1)"
      ],
      "execution_count": 0,
      "outputs": []
    },
    {
      "cell_type": "code",
      "metadata": {
        "id": "wLvkw339m5fp",
        "colab_type": "code",
        "outputId": "6716b740-21c1-4ecf-fcaa-ddbb8797bd63",
        "colab": {
          "base_uri": "https://localhost:8080/",
          "height": 241
        }
      },
      "source": [
        "# Visualise\n",
        "missing_r[missing_r > 0].plot(kind='hist', bins=40, figsize=(10,3), color=my_color[0])\n",
        "plt.title('Missing Value in Rows')\n",
        "plt.ylabel('Counts')\n",
        "plt.xlabel('Number of Missing Values')\n",
        "plt.show()"
      ],
      "execution_count": 316,
      "outputs": [
        {
          "output_type": "display_data",
          "data": {
            "image/png": "[encoded data removed]",
            "text/plain": [
              "<Figure size 720x216 with 1 Axes>"
            ]
          },
          "metadata": {
            "tags": [],
            "needs_background": "light"
          }
        }
      ]
    },
    {
      "cell_type": "markdown",
      "metadata": {
        "id": "V_pOBJHapgY9",
        "colab_type": "text"
      },
      "source": [
        "## Step 2.4 Calculate Percentage"
      ]
    },
    {
      "cell_type": "code",
      "metadata": {
        "id": "SVKAcbzGpkvZ",
        "colab_type": "code",
        "colab": {}
      },
      "source": [
        "# arrears and all kinds of fees\n",
        "fees = ['Arrears Amount',\n",
        "        'DefaultAmount',\n",
        "        'Recent Default_Default Amt',\n",
        "        'Recent Default_Recov Amt',\n",
        "        'Amt Paid To Merchant_nettofmerchfeesandGST',\n",
        "        'Est Fees',\n",
        "        'Proc Fees',\n",
        "        'Other Fees',\n",
        "        'Total Merchant Charges',\n",
        "        'Total Consumer Charges'\n",
        "        ]"
      ],
      "execution_count": 0,
      "outputs": []
    },
    {
      "cell_type": "code",
      "metadata": {
        "id": "LG3cYx_15sYa",
        "colab_type": "code",
        "colab": {}
      },
      "source": [
        "fees = ['Arrears Amount',\n",
        "        'DefaultAmount',\n",
        "        'Recent Default_Default Amt',\n",
        "        'Recent Default_Recov Amt',\n",
        "        'Amt Paid To Merchant_nettofmerchfeesandGST',\n",
        "        'Est Fees',\n",
        "        'Proc Fees',\n",
        "        'Other Fees',\n",
        "        'Total Merchant Charges',\n",
        "        'Total Consumer Charges'\n",
        "        ]"
      ],
      "execution_count": 0,
      "outputs": []
    },
    {
      "cell_type": "code",
      "metadata": {
        "id": "YlKm0sc7487l",
        "colab_type": "code",
        "outputId": "506653b3-f8f6-4284-d19b-786e980a7013",
        "colab": {
          "base_uri": "https://localhost:8080/",
          "height": 185
        }
      },
      "source": [
        "df.sample(1)"
      ],
      "execution_count": 195,
      "outputs": [
        {
          "output_type": "execute_result",
          "data": {
            "text/html": [
              "<div>\n",
              "<style scoped>\n",
              "    .dataframe tbody tr th:only-of-type {\n",
              "        vertical-align: middle;\n",
              "    }\n",
              "\n",
              "    .dataframe tbody tr th {\n",
              "        vertical-align: top;\n",
              "    }\n",
              "\n",
              "    .dataframe thead th {\n",
              "        text-align: right;\n",
              "    }\n",
              "</style>\n",
              "<table border=\"1\" class=\"dataframe\">\n",
              "  <thead>\n",
              "    <tr style=\"text-align: right;\">\n",
              "      <th></th>\n",
              "      <th>Id</th>\n",
              "      <th>Contract_Number</th>\n",
              "      <th>Consumer_ID</th>\n",
              "      <th>Product</th>\n",
              "      <th>Contract_Status</th>\n",
              "      <th>Application_Date</th>\n",
              "      <th>Entry_Date</th>\n",
              "      <th>StartHalf</th>\n",
              "      <th>Fist Installment Date</th>\n",
              "      <th>Purchase Amt</th>\n",
              "      <th>Deposit Amt</th>\n",
              "      <th>Financed Amt</th>\n",
              "      <th>Total Term</th>\n",
              "      <th>Deposit_Percent</th>\n",
              "      <th>Term_Run</th>\n",
              "      <th>Term_Remaining</th>\n",
              "      <th>Payment Type</th>\n",
              "      <th>Total No Of Payments</th>\n",
              "      <th>Freq</th>\n",
              "      <th>Instalment Amt</th>\n",
              "      <th>Total Payments Received</th>\n",
              "      <th>Total Balance Outstanding</th>\n",
              "      <th>Amt Paid To Merchant_nettofmerchfeesandGST</th>\n",
              "      <th>Gtee Rate</th>\n",
              "      <th>Gtee Charges</th>\n",
              "      <th>Est Fees</th>\n",
              "      <th>Proc Fees</th>\n",
              "      <th>Other Fees</th>\n",
              "      <th>Total Merchant Charges</th>\n",
              "      <th>Total Consumer Charges</th>\n",
              "      <th>Total Charges</th>\n",
              "      <th>Effective Billing Rate</th>\n",
              "      <th>Expected Contract End Date</th>\n",
              "      <th>No Of Days In Default</th>\n",
              "      <th>Arrears Amount</th>\n",
              "      <th>No of Days in Arrears</th>\n",
              "      <th>DefaultAmount</th>\n",
              "      <th>Recent Default_Default Amt</th>\n",
              "      <th>Recent Default_Recov Amt</th>\n",
              "      <th>Recent Default_Cure Date</th>\n",
              "      <th>Consumer Post Code</th>\n",
              "      <th>Consumer Year of Birth</th>\n",
              "      <th>Merchant Number</th>\n",
              "      <th>Merchant Name</th>\n",
              "      <th>INdustry Name</th>\n",
              "      <th>Homowner Ind</th>\n",
              "      <th>Homowner Consumer</th>\n",
              "    </tr>\n",
              "  </thead>\n",
              "  <tbody>\n",
              "    <tr>\n",
              "      <th>233509</th>\n",
              "      <td>295651</td>\n",
              "      <td>61204397</td>\n",
              "      <td>L61204397</td>\n",
              "      <td>VACUUM</td>\n",
              "      <td>PaidInFull</td>\n",
              "      <td>2007-05-20</td>\n",
              "      <td>2007-05-29</td>\n",
              "      <td>2007H1</td>\n",
              "      <td>2007-06-20</td>\n",
              "      <td>499.0</td>\n",
              "      <td>0.0</td>\n",
              "      <td>499.0</td>\n",
              "      <td>6</td>\n",
              "      <td>0.0</td>\n",
              "      <td>6</td>\n",
              "      <td>0</td>\n",
              "      <td>Bank</td>\n",
              "      <td>6</td>\n",
              "      <td>Mth</td>\n",
              "      <td>83.166667</td>\n",
              "      <td>499.0</td>\n",
              "      <td>0.0</td>\n",
              "      <td>445.4</td>\n",
              "      <td>0.0975</td>\n",
              "      <td>48.65</td>\n",
              "      <td>0.0</td>\n",
              "      <td>0</td>\n",
              "      <td>0.0</td>\n",
              "      <td>48.65</td>\n",
              "      <td>0.0</td>\n",
              "      <td>48.65</td>\n",
              "      <td>0.097495</td>\n",
              "      <td>2007-12-20</td>\n",
              "      <td>0</td>\n",
              "      <td>0.0</td>\n",
              "      <td>0.0</td>\n",
              "      <td>0.0</td>\n",
              "      <td>0.0</td>\n",
              "      <td>0.0</td>\n",
              "      <td></td>\n",
              "      <td>4220</td>\n",
              "      <td>1946-06-29</td>\n",
              "      <td>30107231</td>\n",
              "      <td>GODFREYS - BURLEIGH HEADS</td>\n",
              "      <td>Vacuums</td>\n",
              "      <td>No</td>\n",
              "      <td>No</td>\n",
              "    </tr>\n",
              "  </tbody>\n",
              "</table>\n",
              "</div>"
            ],
            "text/plain": [
              "            Id Contract_Number  ... Homowner Ind Homowner Consumer\n",
              "233509  295651        61204397  ...           No                No\n",
              "\n",
              "[1 rows x 47 columns]"
            ]
          },
          "metadata": {
            "tags": []
          },
          "execution_count": 195
        }
      ]
    },
    {
      "cell_type": "code",
      "metadata": {
        "id": "-AeEg8s45W4A",
        "colab_type": "code",
        "colab": {}
      },
      "source": [
        "# convert amount to percentage\n",
        "for fee in fees:\n",
        "  df[fee] = df[fee] / df['Financed Amt']"
      ],
      "execution_count": 0,
      "outputs": []
    },
    {
      "cell_type": "code",
      "metadata": {
        "id": "yWqYM2346kO7",
        "colab_type": "code",
        "colab": {}
      },
      "source": [
        "# rename columns (amount -> percentage)\n",
        "df.rename(columns={'Arrears Amount': 'arrear_p',\n",
        "                   'DefaultAmount': 'default_p',\n",
        "                    'Recent Default_Default Amt': 'recent_default_default_p',\n",
        "                    'Recent Default_Recov Amt': 'recent_default_recov_p',\n",
        "                    'Amt Paid To Merchant_nettofmerchfeesandGST': 'gst_p',\n",
        "                    'Est Fees': 'est_fee_p',\n",
        "                    'Other Fees': 'other_fee_p',\n",
        "                    'Total Merchant Charges': 'total_merchant_charge_p',\n",
        "                    'Total Consumer Charges': 'total_consumer_charges'                \n",
        "                   }, \n",
        "          inplace=True)"
      ],
      "execution_count": 0,
      "outputs": []
    },
    {
      "cell_type": "markdown",
      "metadata": {
        "id": "rQknwYAM6swW",
        "colab_type": "text"
      },
      "source": [
        "## Step 2.5 Rename Columns"
      ]
    },
    {
      "cell_type": "code",
      "metadata": {
        "id": "M0t5PM5V6w4O",
        "colab_type": "code",
        "colab": {}
      },
      "source": [
        "df.rename(columns={'Financed Amt': 'financed_amt', \n",
        "                   'Deposit_Percent': 'deposit_percent',\n",
        "                   'Payment Type': 'payment_type',\n",
        "                   'Instalment Amt': 'instalment_amt',\n",
        "                   'Gtee Rate': 'gtee_p',\n",
        "                   'Effective Billing Rate': 'effective_billing_rate',\n",
        "                   'No Of Days In Default': 'days_default',\n",
        "                   'No Of Days In Arrears': 'days_arrears',\n",
        "                   'MonthsToDefault': 'mth_to_default'              \n",
        "                   }, \n",
        "          inplace=True)"
      ],
      "execution_count": 0,
      "outputs": []
    },
    {
      "cell_type": "markdown",
      "metadata": {
        "id": "9o39lV_Q7AbG",
        "colab_type": "text"
      },
      "source": [
        "## Step 2.6 Re-Encode Non-Numeric Binary Variable\n",
        "\n",
        "Re-encode: 2-level obj\n",
        "\n",
        "`Freq`\n",
        "\n",
        "* FN: Fortnightly: 0\n",
        "* Mth: Monthly: 1\n",
        "\n",
        "`payment_type`\n",
        "\n",
        "* Bank: 0\n",
        "* CC: 1\n",
        "\n",
        "`Homowner Ind`, `Homowner Consumer`\n",
        "* Yes: 1\n",
        "* No: 0"
      ]
    },
    {
      "cell_type": "code",
      "metadata": {
        "id": "kQK_hmyK7LoE",
        "colab_type": "code",
        "colab": {}
      },
      "source": [
        "# Re-encode: 2-level obj\n",
        "df['Freq'] = df['Freq'].map({'FN': 0, 'Mth': 1})\n",
        "df['payment_type'] = df['payment_type'].map({'Bank': 0, 'CC': 1})\n",
        "df['Homowner Ind'] = df['Homowner Ind'].map({'Yes':1, 'No':0})\n",
        "df['Homowner Consumer'] = df['Homowner Consumer'].map({'Yes':1, 'No':0})"
      ],
      "execution_count": 0,
      "outputs": []
    },
    {
      "cell_type": "code",
      "metadata": {
        "id": "J5UYUxbG7Txc",
        "colab_type": "code",
        "outputId": "139e598b-2a10-4564-efb2-fbaecd0eb310",
        "colab": {
          "base_uri": "https://localhost:8080/",
          "height": 281
        }
      },
      "source": [
        "df.sample(3)"
      ],
      "execution_count": 323,
      "outputs": [
        {
          "output_type": "execute_result",
          "data": {
            "text/html": [
              "<div>\n",
              "<style scoped>\n",
              "    .dataframe tbody tr th:only-of-type {\n",
              "        vertical-align: middle;\n",
              "    }\n",
              "\n",
              "    .dataframe tbody tr th {\n",
              "        vertical-align: top;\n",
              "    }\n",
              "\n",
              "    .dataframe thead th {\n",
              "        text-align: right;\n",
              "    }\n",
              "</style>\n",
              "<table border=\"1\" class=\"dataframe\">\n",
              "  <thead>\n",
              "    <tr style=\"text-align: right;\">\n",
              "      <th></th>\n",
              "      <th>Id</th>\n",
              "      <th>Contract_Number</th>\n",
              "      <th>Consumer_ID</th>\n",
              "      <th>Product</th>\n",
              "      <th>Contract_Status</th>\n",
              "      <th>Application_Date</th>\n",
              "      <th>Entry_Date</th>\n",
              "      <th>StartHalf</th>\n",
              "      <th>Fist Installment Date</th>\n",
              "      <th>Purchase Amt</th>\n",
              "      <th>Deposit Amt</th>\n",
              "      <th>financed_amt</th>\n",
              "      <th>Total Term</th>\n",
              "      <th>deposit_percent</th>\n",
              "      <th>Term_Run</th>\n",
              "      <th>Term_Remaining</th>\n",
              "      <th>payment_type</th>\n",
              "      <th>Total No Of Payments</th>\n",
              "      <th>Freq</th>\n",
              "      <th>instalment_amt</th>\n",
              "      <th>Total Payments Received</th>\n",
              "      <th>Total Balance Outstanding</th>\n",
              "      <th>gst_p</th>\n",
              "      <th>gtee_p</th>\n",
              "      <th>Gtee Charges</th>\n",
              "      <th>est_fee_p</th>\n",
              "      <th>Proc Fees</th>\n",
              "      <th>other_fee_p</th>\n",
              "      <th>total_merchant_charge_p</th>\n",
              "      <th>total_consumer_charges</th>\n",
              "      <th>Total Charges</th>\n",
              "      <th>effective_billing_rate</th>\n",
              "      <th>Expected Contract End Date</th>\n",
              "      <th>days_default</th>\n",
              "      <th>arrear_p</th>\n",
              "      <th>No of Days in Arrears</th>\n",
              "      <th>default_p</th>\n",
              "      <th>recent_default_default_p</th>\n",
              "      <th>recent_default_recov_p</th>\n",
              "      <th>Recent Default_Cure Date</th>\n",
              "      <th>Consumer Post Code</th>\n",
              "      <th>Consumer Year of Birth</th>\n",
              "      <th>Merchant Number</th>\n",
              "      <th>Merchant Name</th>\n",
              "      <th>INdustry Name</th>\n",
              "      <th>Homowner Ind</th>\n",
              "      <th>Homowner Consumer</th>\n",
              "    </tr>\n",
              "  </thead>\n",
              "  <tbody>\n",
              "    <tr>\n",
              "      <th>30483</th>\n",
              "      <td>30484</td>\n",
              "      <td>60746792</td>\n",
              "      <td>L60746792</td>\n",
              "      <td>TYRE</td>\n",
              "      <td>PaidInFull</td>\n",
              "      <td>2006-01-02</td>\n",
              "      <td>2006-08-02</td>\n",
              "      <td>2006H1</td>\n",
              "      <td>2006-02-23</td>\n",
              "      <td>1700.0</td>\n",
              "      <td>680.0</td>\n",
              "      <td>1020.0</td>\n",
              "      <td>10</td>\n",
              "      <td>0.400000</td>\n",
              "      <td>10</td>\n",
              "      <td>0</td>\n",
              "      <td>0</td>\n",
              "      <td>21</td>\n",
              "      <td>0</td>\n",
              "      <td>47.069682</td>\n",
              "      <td>1020.0</td>\n",
              "      <td>0.0</td>\n",
              "      <td>0.888824</td>\n",
              "      <td>0.0785</td>\n",
              "      <td>80.07</td>\n",
              "      <td>0.022549</td>\n",
              "      <td>0.0</td>\n",
              "      <td>0.0</td>\n",
              "      <td>0.101049</td>\n",
              "      <td>0.0</td>\n",
              "      <td>103.07</td>\n",
              "      <td>0.101049</td>\n",
              "      <td>2006-12-23</td>\n",
              "      <td>0</td>\n",
              "      <td>0.0</td>\n",
              "      <td>0.0</td>\n",
              "      <td>0.0</td>\n",
              "      <td>0.0</td>\n",
              "      <td>0.0</td>\n",
              "      <td></td>\n",
              "      <td>4350</td>\n",
              "      <td>1981-02-02</td>\n",
              "      <td>30107329</td>\n",
              "      <td>BOB JANE T-MART - TOOWOOMBA</td>\n",
              "      <td>Tyres</td>\n",
              "      <td>0</td>\n",
              "      <td>0</td>\n",
              "    </tr>\n",
              "    <tr>\n",
              "      <th>89188</th>\n",
              "      <td>89189</td>\n",
              "      <td>60942885</td>\n",
              "      <td>L60942885</td>\n",
              "      <td>302 J.</td>\n",
              "      <td>PaidInFull</td>\n",
              "      <td>2006-05-23</td>\n",
              "      <td>2006-05-06</td>\n",
              "      <td>2006H1</td>\n",
              "      <td>2006-01-07</td>\n",
              "      <td>3750.0</td>\n",
              "      <td>937.5</td>\n",
              "      <td>2812.5</td>\n",
              "      <td>24</td>\n",
              "      <td>0.250000</td>\n",
              "      <td>24</td>\n",
              "      <td>0</td>\n",
              "      <td>0</td>\n",
              "      <td>24</td>\n",
              "      <td>1</td>\n",
              "      <td>117.187500</td>\n",
              "      <td>2812.5</td>\n",
              "      <td>0.0</td>\n",
              "      <td>0.862258</td>\n",
              "      <td>0.1110</td>\n",
              "      <td>312.18</td>\n",
              "      <td>0.014222</td>\n",
              "      <td>0.0</td>\n",
              "      <td>0.0</td>\n",
              "      <td>0.125220</td>\n",
              "      <td>0.0</td>\n",
              "      <td>352.18</td>\n",
              "      <td>0.125220</td>\n",
              "      <td>2008-01-07</td>\n",
              "      <td>0</td>\n",
              "      <td>0.0</td>\n",
              "      <td>0.0</td>\n",
              "      <td>0.0</td>\n",
              "      <td>0.0</td>\n",
              "      <td>0.0</td>\n",
              "      <td></td>\n",
              "      <td>4127</td>\n",
              "      <td>1956-10-12</td>\n",
              "      <td>30111890</td>\n",
              "      <td>SOLAHART - CABOOLTURE</td>\n",
              "      <td>Solar Energy</td>\n",
              "      <td>1</td>\n",
              "      <td>1</td>\n",
              "    </tr>\n",
              "    <tr>\n",
              "      <th>164553</th>\n",
              "      <td>195625</td>\n",
              "      <td>60968655</td>\n",
              "      <td>L60968655</td>\n",
              "      <td>BEDS</td>\n",
              "      <td>PaidInFull</td>\n",
              "      <td>2007-02-24</td>\n",
              "      <td>2007-01-03</td>\n",
              "      <td>2007H1</td>\n",
              "      <td>2007-03-23</td>\n",
              "      <td>1046.0</td>\n",
              "      <td>262.0</td>\n",
              "      <td>784.0</td>\n",
              "      <td>12</td>\n",
              "      <td>0.250478</td>\n",
              "      <td>12</td>\n",
              "      <td>0</td>\n",
              "      <td>1</td>\n",
              "      <td>12</td>\n",
              "      <td>1</td>\n",
              "      <td>65.333333</td>\n",
              "      <td>784.0</td>\n",
              "      <td>0.0</td>\n",
              "      <td>0.876403</td>\n",
              "      <td>0.0792</td>\n",
              "      <td>62.09</td>\n",
              "      <td>0.033163</td>\n",
              "      <td>0.0</td>\n",
              "      <td>0.0</td>\n",
              "      <td>0.112360</td>\n",
              "      <td>0.0</td>\n",
              "      <td>88.09</td>\n",
              "      <td>0.112360</td>\n",
              "      <td>2008-03-23</td>\n",
              "      <td>0</td>\n",
              "      <td>0.0</td>\n",
              "      <td>0.0</td>\n",
              "      <td>0.0</td>\n",
              "      <td>0.0</td>\n",
              "      <td>0.0</td>\n",
              "      <td></td>\n",
              "      <td>6066</td>\n",
              "      <td>1966-04-21</td>\n",
              "      <td>30107712</td>\n",
              "      <td>BEDROOM COMFORT</td>\n",
              "      <td>Furniture / Bedding New</td>\n",
              "      <td>0</td>\n",
              "      <td>0</td>\n",
              "    </tr>\n",
              "  </tbody>\n",
              "</table>\n",
              "</div>"
            ],
            "text/plain": [
              "            Id Contract_Number  ... Homowner Ind Homowner Consumer\n",
              "30483    30484        60746792  ...            0                 0\n",
              "89188    89189        60942885  ...            1                 1\n",
              "164553  195625        60968655  ...            0                 0\n",
              "\n",
              "[3 rows x 47 columns]"
            ]
          },
          "metadata": {
            "tags": []
          },
          "execution_count": 323
        }
      ]
    },
    {
      "cell_type": "markdown",
      "metadata": {
        "id": "9zmkpbrBJjmX",
        "colab_type": "text"
      },
      "source": [
        "## Step 2.7 Categorical Variable with more than 2 types"
      ]
    },
    {
      "cell_type": "code",
      "metadata": {
        "id": "OKrc03r37c0M",
        "colab_type": "code",
        "outputId": "cd419713-725b-4a1c-a23e-ae7002a321fa",
        "colab": {
          "base_uri": "https://localhost:8080/",
          "height": 85
        }
      },
      "source": [
        "df['Contract_Status'].value_counts()"
      ],
      "execution_count": 324,
      "outputs": [
        {
          "output_type": "execute_result",
          "data": {
            "text/plain": [
              "PaidInFull    264847\n",
              "Default        11178\n",
              "Active           521\n",
              "Name: Contract_Status, dtype: int64"
            ]
          },
          "metadata": {
            "tags": []
          },
          "execution_count": 324
        }
      ]
    },
    {
      "cell_type": "markdown",
      "metadata": {
        "id": "nMRCJjF3Jr8u",
        "colab_type": "text"
      },
      "source": [
        "## Step 2.8 Mark people who have had arrears"
      ]
    },
    {
      "cell_type": "markdown",
      "metadata": {
        "id": "LY94lgIGC379",
        "colab_type": "text"
      },
      "source": [
        "Is there anyone who does not have arrears?"
      ]
    },
    {
      "cell_type": "code",
      "metadata": {
        "id": "tpqr78bq9cIi",
        "colab_type": "code",
        "outputId": "f99e9ec2-4d5a-4a3f-e1cd-782d11eb5fb8",
        "colab": {
          "base_uri": "https://localhost:8080/",
          "height": 34
        }
      },
      "source": [
        "# Is there anyone who does not have arrears?\n",
        "\n",
        "df_no_arrears = df[df['recent_default_default_p'] == 0]\n",
        "\n",
        "no_arrear_p = df_no_arrears.shape[0] / df.shape[0] * 100\n",
        "\n",
        "print(f\"{df_no_arrears.shape[0]} people do not have arrears, occupying {round(no_arrear_p, 2)}%.\")"
      ],
      "execution_count": 325,
      "outputs": [
        {
          "output_type": "stream",
          "text": [
            "237019 people do not have arrears, occupying 85.71%.\n"
          ],
          "name": "stdout"
        }
      ]
    },
    {
      "cell_type": "code",
      "metadata": {
        "id": "YvWI7ct_DAaC",
        "colab_type": "code",
        "colab": {}
      },
      "source": [
        "df['has_arrears'] = df['recent_default_default_p'].apply(lambda x: 1 if x > 0 else 0)"
      ],
      "execution_count": 0,
      "outputs": []
    },
    {
      "cell_type": "markdown",
      "metadata": {
        "id": "QXwnYP9pC81W",
        "colab_type": "text"
      },
      "source": [
        "How many people have recovered arrears?"
      ]
    },
    {
      "cell_type": "code",
      "metadata": {
        "id": "HRKpLbw2DAHf",
        "colab_type": "code",
        "outputId": "07b405e4-a254-4de5-8285-fa90b635253a",
        "colab": {
          "base_uri": "https://localhost:8080/",
          "height": 34
        }
      },
      "source": [
        "# How many people have recovered arrears?\n",
        "\n",
        "df_recov = df[df['recent_default_recov_p'] > 0]\n",
        "\n",
        "recov_p = df_recov.shape[0] / df.shape[0] * 100\n",
        "\n",
        "print(f'{df_recov.shape[0]} people have recovered arrears, occupying {round(recov_p, 2)}%.')"
      ],
      "execution_count": 327,
      "outputs": [
        {
          "output_type": "stream",
          "text": [
            "32146 people have recovered arrears, occupying 11.62%.\n"
          ],
          "name": "stdout"
        }
      ]
    },
    {
      "cell_type": "markdown",
      "metadata": {
        "id": "HNXsyyVoEF0m",
        "colab_type": "text"
      },
      "source": [
        "How many people have recovered arrears in full?"
      ]
    },
    {
      "cell_type": "code",
      "metadata": {
        "id": "x98XdIE1EFNF",
        "colab_type": "code",
        "outputId": "2bf85db1-117d-4fd8-da93-7ff74685d554",
        "colab": {
          "base_uri": "https://localhost:8080/",
          "height": 34
        }
      },
      "source": [
        "# How many people have recovered arrears in full?\n",
        "\n",
        "df_recov_infull = df[df['recent_default_recov_p']==1]\n",
        "\n",
        "recov_infull_p = df_recov_infull.shape[0] / df.shape[0] * 100\n",
        "\n",
        "print(f'{df_recov_infull.shape[0]} people have recovered arrears in full, occupying {round(recov_infull_p, 2)}%.')"
      ],
      "execution_count": 328,
      "outputs": [
        {
          "output_type": "stream",
          "text": [
            "700 people have recovered arrears in full, occupying 0.25%.\n"
          ],
          "name": "stdout"
        }
      ]
    },
    {
      "cell_type": "markdown",
      "metadata": {
        "id": "_dpGjcpc126s",
        "colab_type": "text"
      },
      "source": [
        "## 2.9 Product column contains empty values\n"
      ]
    },
    {
      "cell_type": "code",
      "metadata": {
        "id": "oq5G5p_M2HH8",
        "colab_type": "code",
        "colab": {}
      },
      "source": [
        "# replace empty string with NAN\n",
        "df['Product'] = df['Product'].replace(r'^\\s*$', np.NaN, regex=True)"
      ],
      "execution_count": 0,
      "outputs": []
    },
    {
      "cell_type": "code",
      "metadata": {
        "id": "5u4ibYo32owk",
        "colab_type": "code",
        "colab": {
          "base_uri": "https://localhost:8080/",
          "height": 34
        },
        "outputId": "025206a8-19d6-49ca-8e65-08d246463b03"
      },
      "source": [
        "df['Product'].isnull().sum()"
      ],
      "execution_count": 334,
      "outputs": [
        {
          "output_type": "execute_result",
          "data": {
            "text/plain": [
              "13747"
            ]
          },
          "metadata": {
            "tags": []
          },
          "execution_count": 334
        }
      ]
    },
    {
      "cell_type": "markdown",
      "metadata": {
        "id": "91V9L_Az4vDV",
        "colab_type": "text"
      },
      "source": [
        "# Step 3 Exploring Data"
      ]
    },
    {
      "cell_type": "markdown",
      "metadata": {
        "id": "1KIHQDPwNWMJ",
        "colab_type": "text"
      },
      "source": [
        "## 3.1 Contracts\n",
        "\n",
        "* How many contracts in total? For each year? For month? - (bar chart)"
      ]
    },
    {
      "cell_type": "code",
      "metadata": {
        "id": "iPF59JZx2f1F",
        "colab_type": "code",
        "outputId": "0d168913-0c8f-4a8c-b0bb-54f920f193ec",
        "colab": {
          "base_uri": "https://localhost:8080/",
          "height": 34
        }
      },
      "source": [
        "print(f\"The totla number of contracts is {df.shape[0]:,}.\")"
      ],
      "execution_count": 206,
      "outputs": [
        {
          "output_type": "stream",
          "text": [
            "The totla number of contracts is 276,546.\n"
          ],
          "name": "stdout"
        }
      ]
    },
    {
      "cell_type": "code",
      "metadata": {
        "id": "uTGfbpWZNY2M",
        "colab_type": "code",
        "outputId": "250b3113-f04e-4b75-fec5-2a0ce8fb4d78",
        "colab": {
          "base_uri": "https://localhost:8080/",
          "height": 34
        }
      },
      "source": [
        "print(f\"The earlist entry date is {df['Entry_Date'].min()}, whereas the latest is {df['Entry_Date'].max()}.\")"
      ],
      "execution_count": 207,
      "outputs": [
        {
          "output_type": "stream",
          "text": [
            "The earlist entry date is 2006-01-01 00:00:00, whereas the latest is 2007-12-31 00:00:00.\n"
          ],
          "name": "stdout"
        }
      ]
    },
    {
      "cell_type": "code",
      "metadata": {
        "id": "M9ptcMIRZWG1",
        "colab_type": "code",
        "colab": {}
      },
      "source": [
        "# put Year into new columns\n",
        "df['entry_y'] = df['Entry_Date'].dt.year\n",
        "#df['entry_m'] = df['Entry_Date'].dt.month\n",
        "\n",
        "# put Year and Month into new columns\n",
        "df['entry_y_m'] = df['Entry_Date'].dt.to_period('M')"
      ],
      "execution_count": 0,
      "outputs": []
    },
    {
      "cell_type": "code",
      "metadata": {
        "id": "lxBNhaXEq4oH",
        "colab_type": "code",
        "colab": {}
      },
      "source": [
        "def get_agg_df(col, agg_col, method):\n",
        "  \"\"\"\n",
        "  get aggregating result from df\n",
        "\n",
        "  INPUT:\n",
        "    col - the column name in df which data will be grouped by\n",
        "    agg_col - target column that will be aggregrated\n",
        "    method - method of aggregration, like \"count\"\n",
        "\n",
        "  OUTPUT:\n",
        "     x - the column that was grouped by\n",
        "     y - the aggregating result\n",
        "     result - df with agg results\n",
        "  \"\"\"\n",
        "\n",
        "  # get agg number, return a df\n",
        "  result = df.groupby(col).agg({agg_col: method})\n",
        "\n",
        "  # put total number into y\n",
        "  y = result[agg_col]\n",
        "\n",
        "  # put index into a new column (index was col)\n",
        "  result[col] = result.index\n",
        "  result = result.reset_index(drop = True) # change index to 0,1,2...\n",
        "  x = result[col]\n",
        "\n",
        "  return x, y, result"
      ],
      "execution_count": 0,
      "outputs": []
    },
    {
      "cell_type": "code",
      "metadata": {
        "id": "g7cqLt-fwWWZ",
        "colab_type": "code",
        "colab": {}
      },
      "source": [
        "def draw_basic_bar_plot(x, y, fig_h, fig_w, title, x_lab, y_lab):\n",
        "  \"\"\"\n",
        "  Draw a basic bar plot\n",
        "\n",
        "  INPUTS:\n",
        "     x - the column that was grouped by\n",
        "     y - the aggregating result\n",
        "     fig_h, fig_w - size of the figure\n",
        "     title - plot title\n",
        "     x_lab, y_lab - x and y lable\n",
        "  \"\"\"\n",
        "\n",
        "  # Import data:\n",
        "  height = y\n",
        "  bars = x\n",
        "  y_pos = np.arange(len(bars))\n",
        "\n",
        "  # Change the shape of figure\n",
        "  fig = plt.figure(num=None, figsize=(fig_h, fig_w), dpi=80, facecolor='w', edgecolor='k')\n",
        "\n",
        "  # Create bars\n",
        "  plt.bar(y_pos, height, color = my_color[0])\n",
        "  \n",
        "  # Create names on the x-axis\n",
        "  plt.xticks(y_pos, bars, rotation=45)\n",
        "\n",
        "  # Add title and labels\n",
        "  fig.suptitle(title, fontsize = 20)\n",
        "  plt.xlabel(x_lab, fontsize = 18)\n",
        "  plt.ylabel(y_lab, fontsize = 16)\n",
        "\n",
        "  # Show graphic\n",
        "  plt.show()"
      ],
      "execution_count": 0,
      "outputs": []
    },
    {
      "cell_type": "code",
      "metadata": {
        "id": "RZ5qsTrOwm7L",
        "colab_type": "code",
        "outputId": "9384a2a1-734f-415f-9bad-7db22a9778ce",
        "colab": {
          "base_uri": "https://localhost:8080/",
          "height": 514
        }
      },
      "source": [
        "x, y, r = get_agg_df('entry_y_m', 'Contract_Number', \"count\")\n",
        "draw_basic_bar_plot(x, y, 10, 6, 'Contracts in Each Month in 2006 - 2007', 'Month', 'Number of Contracts')"
      ],
      "execution_count": 211,
      "outputs": [
        {
          "output_type": "display_data",
          "data": {
            "image/png": "[encoded data removed]",
            "text/plain": [
              "<Figure size 800x480 with 1 Axes>"
            ]
          },
          "metadata": {
            "tags": []
          }
        }
      ]
    },
    {
      "cell_type": "code",
      "metadata": {
        "id": "JsZOc7iBzs-3",
        "colab_type": "code",
        "outputId": "9b2e7fee-6ae0-4a13-bec2-ad8804fac4c2",
        "colab": {
          "base_uri": "https://localhost:8080/",
          "height": 111
        }
      },
      "source": [
        "x, y, r = get_agg_df('entry_y', 'Contract_Number', \"count\")\n",
        "r"
      ],
      "execution_count": 212,
      "outputs": [
        {
          "output_type": "execute_result",
          "data": {
            "text/html": [
              "<div>\n",
              "<style scoped>\n",
              "    .dataframe tbody tr th:only-of-type {\n",
              "        vertical-align: middle;\n",
              "    }\n",
              "\n",
              "    .dataframe tbody tr th {\n",
              "        vertical-align: top;\n",
              "    }\n",
              "\n",
              "    .dataframe thead th {\n",
              "        text-align: right;\n",
              "    }\n",
              "</style>\n",
              "<table border=\"1\" class=\"dataframe\">\n",
              "  <thead>\n",
              "    <tr style=\"text-align: right;\">\n",
              "      <th></th>\n",
              "      <th>Contract_Number</th>\n",
              "      <th>entry_y</th>\n",
              "    </tr>\n",
              "  </thead>\n",
              "  <tbody>\n",
              "    <tr>\n",
              "      <th>0</th>\n",
              "      <td>132791</td>\n",
              "      <td>2006</td>\n",
              "    </tr>\n",
              "    <tr>\n",
              "      <th>1</th>\n",
              "      <td>143755</td>\n",
              "      <td>2007</td>\n",
              "    </tr>\n",
              "  </tbody>\n",
              "</table>\n",
              "</div>"
            ],
            "text/plain": [
              "   Contract_Number  entry_y\n",
              "0           132791     2006\n",
              "1           143755     2007"
            ]
          },
          "metadata": {
            "tags": []
          },
          "execution_count": 212
        }
      ]
    },
    {
      "cell_type": "code",
      "metadata": {
        "id": "IzGEBL0A3whN",
        "colab_type": "code",
        "outputId": "46d6f7ec-75cb-4fca-bb26-f8583b41a9fa",
        "colab": {
          "base_uri": "https://localhost:8080/",
          "height": 501
        }
      },
      "source": [
        "draw_basic_bar_plot(x, y, 6, 6, 'Contracts in Each Year', 'Year', 'Number of Contracts')"
      ],
      "execution_count": 213,
      "outputs": [
        {
          "output_type": "display_data",
          "data": {
            "image/png": "[encoded data removed]",
            "text/plain": [
              "<Figure size 480x480 with 1 Axes>"
            ]
          },
          "metadata": {
            "tags": []
          }
        }
      ]
    },
    {
      "cell_type": "markdown",
      "metadata": {
        "id": "eziryT9e2FvP",
        "colab_type": "text"
      },
      "source": [
        "## 3.2 Consumers\n",
        "\n",
        " "
      ]
    },
    {
      "cell_type": "markdown",
      "metadata": {
        "id": "o-bGukNx35gB",
        "colab_type": "text"
      },
      "source": [
        "### 3.2.1 How many consumers in total?"
      ]
    },
    {
      "cell_type": "code",
      "metadata": {
        "id": "-OjWjsQs4JRL",
        "colab_type": "code",
        "outputId": "ee949721-a600-482e-8fa3-b3f1bf8230ae",
        "colab": {
          "base_uri": "https://localhost:8080/",
          "height": 0
        }
      },
      "source": [
        "df['Consumer_ID'].value_counts()"
      ],
      "execution_count": 214,
      "outputs": [
        {
          "output_type": "execute_result",
          "data": {
            "text/plain": [
              "L61112156    10\n",
              "L60028728     7\n",
              "L60832218     7\n",
              "L50016784     7\n",
              "L50019007     7\n",
              "             ..\n",
              "L61128220     1\n",
              "L60966184     1\n",
              "L61274323     1\n",
              "L61245033     1\n",
              "L60737804     1\n",
              "Name: Consumer_ID, Length: 255718, dtype: int64"
            ]
          },
          "metadata": {
            "tags": []
          },
          "execution_count": 214
        }
      ]
    },
    {
      "cell_type": "markdown",
      "metadata": {
        "id": "OvC3NXzo4oJn",
        "colab_type": "text"
      },
      "source": [
        "## 3.2.2 How about the increased rate/number of consumers for each year? For month?"
      ]
    },
    {
      "cell_type": "code",
      "metadata": {
        "id": "Gdc66dv36vxi",
        "colab_type": "code",
        "outputId": "68996d6c-4ac4-4c28-d657-63da490920d0",
        "colab": {
          "base_uri": "https://localhost:8080/",
          "height": 168
        }
      },
      "source": [
        "df.head(1)"
      ],
      "execution_count": 215,
      "outputs": [
        {
          "output_type": "execute_result",
          "data": {
            "text/html": [
              "<div>\n",
              "<style scoped>\n",
              "    .dataframe tbody tr th:only-of-type {\n",
              "        vertical-align: middle;\n",
              "    }\n",
              "\n",
              "    .dataframe tbody tr th {\n",
              "        vertical-align: top;\n",
              "    }\n",
              "\n",
              "    .dataframe thead th {\n",
              "        text-align: right;\n",
              "    }\n",
              "</style>\n",
              "<table border=\"1\" class=\"dataframe\">\n",
              "  <thead>\n",
              "    <tr style=\"text-align: right;\">\n",
              "      <th></th>\n",
              "      <th>Id</th>\n",
              "      <th>Contract_Number</th>\n",
              "      <th>Consumer_ID</th>\n",
              "      <th>Product</th>\n",
              "      <th>Contract_Status</th>\n",
              "      <th>Application_Date</th>\n",
              "      <th>Entry_Date</th>\n",
              "      <th>StartHalf</th>\n",
              "      <th>Fist Installment Date</th>\n",
              "      <th>Purchase Amt</th>\n",
              "      <th>Deposit Amt</th>\n",
              "      <th>financed_amt</th>\n",
              "      <th>Total Term</th>\n",
              "      <th>deposit_percent</th>\n",
              "      <th>Term_Run</th>\n",
              "      <th>Term_Remaining</th>\n",
              "      <th>payment_type</th>\n",
              "      <th>Total No Of Payments</th>\n",
              "      <th>Freq</th>\n",
              "      <th>instalment_amt</th>\n",
              "      <th>Total Payments Received</th>\n",
              "      <th>Total Balance Outstanding</th>\n",
              "      <th>gst_p</th>\n",
              "      <th>gtee_p</th>\n",
              "      <th>Gtee Charges</th>\n",
              "      <th>est_fee_p</th>\n",
              "      <th>Proc Fees</th>\n",
              "      <th>other_fee_p</th>\n",
              "      <th>total_merchant_charge_p</th>\n",
              "      <th>total_consumer_charges</th>\n",
              "      <th>Total Charges</th>\n",
              "      <th>effective_billing_rate</th>\n",
              "      <th>Expected Contract End Date</th>\n",
              "      <th>days_default</th>\n",
              "      <th>arrear_p</th>\n",
              "      <th>No of Days in Arrears</th>\n",
              "      <th>default_p</th>\n",
              "      <th>recent_default_default_p</th>\n",
              "      <th>recent_default_recov_p</th>\n",
              "      <th>Recent Default_Cure Date</th>\n",
              "      <th>Consumer Post Code</th>\n",
              "      <th>Consumer Year of Birth</th>\n",
              "      <th>Merchant Number</th>\n",
              "      <th>Merchant Name</th>\n",
              "      <th>INdustry Name</th>\n",
              "      <th>Homowner Ind</th>\n",
              "      <th>Homowner Consumer</th>\n",
              "      <th>has_arrears</th>\n",
              "      <th>entry_y</th>\n",
              "      <th>entry_y_m</th>\n",
              "    </tr>\n",
              "  </thead>\n",
              "  <tbody>\n",
              "    <tr>\n",
              "      <th>0</th>\n",
              "      <td>1</td>\n",
              "      <td>30000022</td>\n",
              "      <td>L30000022</td>\n",
              "      <td>ALARM</td>\n",
              "      <td>PaidInFull</td>\n",
              "      <td>2006-10-18</td>\n",
              "      <td>2006-01-11</td>\n",
              "      <td>2006H2</td>\n",
              "      <td>2006-11-26</td>\n",
              "      <td>3602.38</td>\n",
              "      <td>1002.38</td>\n",
              "      <td>2600.0</td>\n",
              "      <td>48</td>\n",
              "      <td>0.278255</td>\n",
              "      <td>48</td>\n",
              "      <td>0</td>\n",
              "      <td>0</td>\n",
              "      <td>48</td>\n",
              "      <td>1</td>\n",
              "      <td>54.166667</td>\n",
              "      <td>2600.0</td>\n",
              "      <td>0.0</td>\n",
              "      <td>0.755885</td>\n",
              "      <td>0.2219</td>\n",
              "      <td>576.93</td>\n",
              "      <td>0.0</td>\n",
              "      <td>0.0</td>\n",
              "      <td>0.0</td>\n",
              "      <td>0.221896</td>\n",
              "      <td>0.0</td>\n",
              "      <td>576.93</td>\n",
              "      <td>0.221896</td>\n",
              "      <td>2010-11-26</td>\n",
              "      <td>0</td>\n",
              "      <td>0.0</td>\n",
              "      <td>0.0</td>\n",
              "      <td>0.0</td>\n",
              "      <td>0.0</td>\n",
              "      <td>0.0</td>\n",
              "      <td></td>\n",
              "      <td>6530</td>\n",
              "      <td>1960-11-24</td>\n",
              "      <td>30112641</td>\n",
              "      <td>MODERN SECURITY WA</td>\n",
              "      <td>Home Security</td>\n",
              "      <td>1</td>\n",
              "      <td>1</td>\n",
              "      <td>0</td>\n",
              "      <td>2006</td>\n",
              "      <td>2006-01</td>\n",
              "    </tr>\n",
              "  </tbody>\n",
              "</table>\n",
              "</div>"
            ],
            "text/plain": [
              "   Id Contract_Number Consumer_ID  ... has_arrears entry_y entry_y_m\n",
              "0   1        30000022   L30000022  ...           0    2006   2006-01\n",
              "\n",
              "[1 rows x 50 columns]"
            ]
          },
          "metadata": {
            "tags": []
          },
          "execution_count": 215
        }
      ]
    },
    {
      "cell_type": "code",
      "metadata": {
        "id": "qId93bNb4j6J",
        "colab_type": "code",
        "colab": {}
      },
      "source": [
        "# put Year into new columns\n",
        "df['app_y'] = df['Application_Date'].dt.year\n",
        "\n",
        "# put Year and Month into new columns\n",
        "df['app_y_m'] = df['Application_Date'].dt.to_period('M')"
      ],
      "execution_count": 0,
      "outputs": []
    },
    {
      "cell_type": "code",
      "metadata": {
        "id": "qoqLwe_R7ut1",
        "colab_type": "code",
        "outputId": "0d89b4a1-521d-4a64-e3de-46515153e974",
        "colab": {
          "base_uri": "https://localhost:8080/",
          "height": 173
        }
      },
      "source": [
        "x, y, r = get_agg_df('app_y', 'Consumer_ID', 'count')\n",
        "r"
      ],
      "execution_count": 217,
      "outputs": [
        {
          "output_type": "execute_result",
          "data": {
            "text/html": [
              "<div>\n",
              "<style scoped>\n",
              "    .dataframe tbody tr th:only-of-type {\n",
              "        vertical-align: middle;\n",
              "    }\n",
              "\n",
              "    .dataframe tbody tr th {\n",
              "        vertical-align: top;\n",
              "    }\n",
              "\n",
              "    .dataframe thead th {\n",
              "        text-align: right;\n",
              "    }\n",
              "</style>\n",
              "<table border=\"1\" class=\"dataframe\">\n",
              "  <thead>\n",
              "    <tr style=\"text-align: right;\">\n",
              "      <th></th>\n",
              "      <th>Consumer_ID</th>\n",
              "      <th>app_y</th>\n",
              "    </tr>\n",
              "  </thead>\n",
              "  <tbody>\n",
              "    <tr>\n",
              "      <th>0</th>\n",
              "      <td>1</td>\n",
              "      <td>2004</td>\n",
              "    </tr>\n",
              "    <tr>\n",
              "      <th>1</th>\n",
              "      <td>8738</td>\n",
              "      <td>2005</td>\n",
              "    </tr>\n",
              "    <tr>\n",
              "      <th>2</th>\n",
              "      <td>133882</td>\n",
              "      <td>2006</td>\n",
              "    </tr>\n",
              "    <tr>\n",
              "      <th>3</th>\n",
              "      <td>133925</td>\n",
              "      <td>2007</td>\n",
              "    </tr>\n",
              "  </tbody>\n",
              "</table>\n",
              "</div>"
            ],
            "text/plain": [
              "   Consumer_ID  app_y\n",
              "0            1   2004\n",
              "1         8738   2005\n",
              "2       133882   2006\n",
              "3       133925   2007"
            ]
          },
          "metadata": {
            "tags": []
          },
          "execution_count": 217
        }
      ]
    },
    {
      "cell_type": "code",
      "metadata": {
        "id": "eRX6OMY474F6",
        "colab_type": "code",
        "outputId": "b452287a-080b-4285-eb72-75a95e47eca0",
        "colab": {
          "base_uri": "https://localhost:8080/",
          "height": 501
        }
      },
      "source": [
        "draw_basic_bar_plot(x, y, 6, 6, 'Consumers in Each Year', 'Year', 'Number of Consumers')"
      ],
      "execution_count": 218,
      "outputs": [
        {
          "output_type": "display_data",
          "data": {
            "image/png": "[encoded data removed]",
            "text/plain": [
              "<Figure size 480x480 with 1 Axes>"
            ]
          },
          "metadata": {
            "tags": []
          }
        }
      ]
    },
    {
      "cell_type": "code",
      "metadata": {
        "id": "eTGEomwi74Ow",
        "colab_type": "code",
        "colab": {}
      },
      "source": [
        "x, y, r = get_agg_df('app_y_m', 'Consumer_ID', 'count')"
      ],
      "execution_count": 0,
      "outputs": []
    },
    {
      "cell_type": "code",
      "metadata": {
        "id": "3s0_wBHU7xIk",
        "colab_type": "code",
        "outputId": "0feebedc-b0ba-4ca6-9113-aeb60244a71e",
        "colab": {
          "base_uri": "https://localhost:8080/",
          "height": 514
        }
      },
      "source": [
        "draw_basic_bar_plot(x, y, 16, 6, 'Consumers in Each Month in 2004 - 2007', 'Month', 'Number of Consumers')"
      ],
      "execution_count": 220,
      "outputs": [
        {
          "output_type": "display_data",
          "data": {
            "image/png": "[encoded data removed]",
            "text/plain": [
              "<Figure size 1280x480 with 1 Axes>"
            ]
          },
          "metadata": {
            "tags": []
          }
        }
      ]
    },
    {
      "cell_type": "code",
      "metadata": {
        "id": "cHrOVIDT-4qi",
        "colab_type": "code",
        "colab": {}
      },
      "source": [
        "# calculate the increased rate of each month\n",
        "r['consumer_increased_rate'] = r['Consumer_ID'].pct_change()"
      ],
      "execution_count": 0,
      "outputs": []
    },
    {
      "cell_type": "code",
      "metadata": {
        "id": "aejNbe4XEqgh",
        "colab_type": "code",
        "colab": {}
      },
      "source": [
        "r.drop(r.index[[0,1]], inplace=True)"
      ],
      "execution_count": 0,
      "outputs": []
    },
    {
      "cell_type": "markdown",
      "metadata": {
        "id": "bah0rwFEFnEc",
        "colab_type": "text"
      },
      "source": [
        "# 3.3 Products\n",
        "\n",
        "How many products in total? What are the percentages for each product?\n"
      ]
    },
    {
      "cell_type": "code",
      "metadata": {
        "id": "KuoWBr9RpeZo",
        "colab_type": "code",
        "colab": {}
      },
      "source": [
        "def count_types(col):\n",
        "  # calculate the number of product types\n",
        "  new_df = df[col].value_counts()\n",
        "\n",
        "  # put the value_counts() output into df\n",
        "  new_df = new_df.rename_axis('type').reset_index(name='counts')\n",
        "\n",
        "  # use column as index\n",
        "  new_df.set_index('type', inplace=True)\n",
        "\n",
        "  return new_df\n"
      ],
      "execution_count": 0,
      "outputs": []
    },
    {
      "cell_type": "code",
      "metadata": {
        "id": "lK5jGhSwqLWk",
        "colab_type": "code",
        "colab": {}
      },
      "source": [
        "product_df = count_types('Product')"
      ],
      "execution_count": 0,
      "outputs": []
    },
    {
      "cell_type": "code",
      "metadata": {
        "id": "n8J11qv3Fw5V",
        "colab_type": "code",
        "colab": {}
      },
      "source": [
        "# calculate the number of product types\n",
        "product_df = df['Product'].value_counts()\n",
        "\n",
        "# put the value_counts() output into df\n",
        "product_df = product_df.rename_axis('product_type').reset_index(name='counts')"
      ],
      "execution_count": 0,
      "outputs": []
    },
    {
      "cell_type": "code",
      "metadata": {
        "id": "jDzrrBC-GlTA",
        "colab_type": "code",
        "outputId": "54c71732-a327-49d2-9917-67b3ae786910",
        "colab": {
          "base_uri": "https://localhost:8080/",
          "height": 34
        }
      },
      "source": [
        "print(f\"There are {product_df.shape[0]:,} kinds of products, \\\n",
        "and {product_df[product_df['counts'] >1000].shape[0]} types \\\n",
        "of them were bought more than 1000 times.\")"
      ],
      "execution_count": 287,
      "outputs": [
        {
          "output_type": "stream",
          "text": [
            "There are 22,733 kinds of products, and 37 types of them were bought more than 1000 times.\n"
          ],
          "name": "stdout"
        }
      ]
    },
    {
      "cell_type": "code",
      "metadata": {
        "id": "UH3ZDSIWHZgs",
        "colab_type": "code",
        "colab": {}
      },
      "source": [
        "# use column as index\n",
        "product_df.set_index('product_type', inplace=True)"
      ],
      "execution_count": 0,
      "outputs": []
    },
    {
      "cell_type": "code",
      "metadata": {
        "id": "72R4aWXLjpOs",
        "colab_type": "code",
        "colab": {}
      },
      "source": [
        "# build a new df, with types more than 1000\n",
        "product_df_new = product_df[product_df['counts'] > 1000]\n",
        "\n",
        "# count the total number of types less than 1000\n",
        "n = product_df[product_df['counts'] <= 1000].sum()['counts']\n"
      ],
      "execution_count": 0,
      "outputs": []
    },
    {
      "cell_type": "code",
      "metadata": {
        "id": "PGei_hXm1H9_",
        "colab_type": "code",
        "colab": {
          "base_uri": "https://localhost:8080/",
          "height": 102
        },
        "outputId": "59d730e0-5d34-4bfa-dced-52f3a69055f0"
      },
      "source": [
        "product_df_new.sort_values('counts', ascending = False, inplace = True)"
      ],
      "execution_count": 294,
      "outputs": [
        {
          "output_type": "stream",
          "text": [
            "/usr/local/lib/python3.6/dist-packages/ipykernel_launcher.py:1: SettingWithCopyWarning: \n",
            "A value is trying to be set on a copy of a slice from a DataFrame\n",
            "\n",
            "See the caveats in the documentation: https://pandas.pydata.org/pandas-docs/stable/user_guide/indexing.html#returning-a-view-versus-a-copy\n",
            "  \"\"\"Entry point for launching an IPython kernel.\n"
          ],
          "name": "stderr"
        }
      ]
    },
    {
      "cell_type": "code",
      "metadata": {
        "id": "Q2eRQet31f4b",
        "colab_type": "code",
        "colab": {}
      },
      "source": [
        "my_list = product_df_new.index.to_list()"
      ],
      "execution_count": 0,
      "outputs": []
    },
    {
      "cell_type": "code",
      "metadata": {
        "id": "QWePQ9q33vQp",
        "colab_type": "code",
        "colab": {
          "base_uri": "https://localhost:8080/",
          "height": 646
        },
        "outputId": "2677c21d-25c4-4d2e-9dbb-eb23d74e1bae"
      },
      "source": [
        "my_list"
      ],
      "execution_count": 332,
      "outputs": [
        {
          "output_type": "execute_result",
          "data": {
            "text/plain": [
              "['RING',\n",
              " 'VACUUM',\n",
              " '',\n",
              " 'BEDDING',\n",
              " 'PHOTOS',\n",
              " 'JEWELLE',\n",
              " 'SHUTTER',\n",
              " 'REPAIRS',\n",
              " 'JEWELRY',\n",
              " 'PROGRAM',\n",
              " 'FURN',\n",
              " 'RINGS',\n",
              " 'FURNITU',\n",
              " 'GOODS',\n",
              " 'BED',\n",
              " 'JEWELLY',\n",
              " 'LOUNGE',\n",
              " 'WATCH',\n",
              " 'HWS',\n",
              " 'SOFA',\n",
              " 'CHAIN',\n",
              " 'SHIELS',\n",
              " 'BIKE',\n",
              " 'SERVICE',\n",
              " 'ALARM',\n",
              " 'INSULAT',\n",
              " 'VAC',\n",
              " 'PUPPY',\n",
              " 'SCUBA',\n",
              " 'TINT',\n",
              " 'BRACELE',\n",
              " 'FURNITR',\n",
              " 'BLINDS',\n",
              " 'TYRES',\n",
              " 'SPECS',\n",
              " 'BANGLE',\n",
              " 'PORTRAI']"
            ]
          },
          "metadata": {
            "tags": []
          },
          "execution_count": 332
        }
      ]
    },
    {
      "cell_type": "code",
      "metadata": {
        "id": "kzfh9JJO0zzr",
        "colab_type": "code",
        "colab": {
          "base_uri": "https://localhost:8080/",
          "height": 795
        },
        "outputId": "3ee61758-2d44-4dfe-b04f-259fb8d39415"
      },
      "source": [
        "draw_basic_bar_plot(\n",
        "    product_df_new.index.to_list(),\n",
        "    product_df_new['counts'].to_list(),\n",
        "    20, 10,\n",
        "    \"Products\", \"Product Type\", \"Counts\"\n",
        ")"
      ],
      "execution_count": 291,
      "outputs": [
        {
          "output_type": "display_data",
          "data": {
            "image/png": "[encoded data removed]",
            "text/plain": [
              "<Figure size 1600x800 with 1 Axes>"
            ]
          },
          "metadata": {
            "tags": []
          }
        }
      ]
    },
    {
      "cell_type": "code",
      "metadata": {
        "id": "nquZHK_G02US",
        "colab_type": "code",
        "colab": {}
      },
      "source": [
        "# Add a new row in the new df\n",
        "product_df_new.loc['Other Types'] = [n]"
      ],
      "execution_count": 0,
      "outputs": []
    },
    {
      "cell_type": "code",
      "metadata": {
        "id": "zIWgw8XlsilH",
        "colab_type": "code",
        "colab": {}
      },
      "source": [
        "def plot_pct(df):\n",
        "  df.plot(kind='pie', subplots=True, figsize=(16,8))"
      ],
      "execution_count": 0,
      "outputs": []
    },
    {
      "cell_type": "code",
      "metadata": {
        "id": "fMkwerd7F-U6",
        "colab_type": "code",
        "outputId": "e019f567-c09b-4d70-c97b-b262cb14ba7d",
        "colab": {
          "base_uri": "https://localhost:8080/",
          "height": 594
        }
      },
      "source": [
        "plot_pct(product_df_new)"
      ],
      "execution_count": 230,
      "outputs": [
        {
          "output_type": "display_data",
          "data": {
            "image/png": "[encoded data removed]",
            "text/plain": [
              "<Figure size 1152x576 with 1 Axes>"
            ]
          },
          "metadata": {
            "tags": []
          }
        }
      ]
    },
    {
      "cell_type": "code",
      "metadata": {
        "id": "Y0R3U3q0zjXP",
        "colab_type": "code",
        "colab": {
          "base_uri": "https://localhost:8080/",
          "height": 1000
        },
        "outputId": "679c56f0-7ff1-40a3-8861-cffd21a01cc6"
      },
      "source": [
        "draw_basic_bar_plot(\n",
        "    product_df_new.index.to_list(),\n",
        "    product_df_new['counts'].to_list(),\n",
        "    10, 20,\n",
        "    \"Products\", \"Product Type\", \"Counts\"\n",
        ")"
      ],
      "execution_count": 282,
      "outputs": [
        {
          "output_type": "display_data",
          "data": {
            "image/png": "[encoded data removed]",
            "text/plain": [
              "<Figure size 800x1600 with 1 Axes>"
            ]
          },
          "metadata": {
            "tags": []
          }
        }
      ]
    },
    {
      "cell_type": "markdown",
      "metadata": {
        "id": "UJogmg_uoz5O",
        "colab_type": "text"
      },
      "source": [
        "## 3.4 Contracts\n",
        "\n",
        "How many types of Contract_status? What are the percentages for every status? (pie chart)"
      ]
    },
    {
      "cell_type": "code",
      "metadata": {
        "id": "cO5karh-o8KH",
        "colab_type": "code",
        "outputId": "57bd4bb3-d250-4111-c02e-6f0b0316a74b",
        "colab": {
          "base_uri": "https://localhost:8080/",
          "height": 173
        }
      },
      "source": [
        "count_types('Contract_Status')"
      ],
      "execution_count": 231,
      "outputs": [
        {
          "output_type": "execute_result",
          "data": {
            "text/html": [
              "<div>\n",
              "<style scoped>\n",
              "    .dataframe tbody tr th:only-of-type {\n",
              "        vertical-align: middle;\n",
              "    }\n",
              "\n",
              "    .dataframe tbody tr th {\n",
              "        vertical-align: top;\n",
              "    }\n",
              "\n",
              "    .dataframe thead th {\n",
              "        text-align: right;\n",
              "    }\n",
              "</style>\n",
              "<table border=\"1\" class=\"dataframe\">\n",
              "  <thead>\n",
              "    <tr style=\"text-align: right;\">\n",
              "      <th></th>\n",
              "      <th>counts</th>\n",
              "    </tr>\n",
              "    <tr>\n",
              "      <th>type</th>\n",
              "      <th></th>\n",
              "    </tr>\n",
              "  </thead>\n",
              "  <tbody>\n",
              "    <tr>\n",
              "      <th>PaidInFull</th>\n",
              "      <td>264847</td>\n",
              "    </tr>\n",
              "    <tr>\n",
              "      <th>Default</th>\n",
              "      <td>11178</td>\n",
              "    </tr>\n",
              "    <tr>\n",
              "      <th>Active</th>\n",
              "      <td>521</td>\n",
              "    </tr>\n",
              "  </tbody>\n",
              "</table>\n",
              "</div>"
            ],
            "text/plain": [
              "            counts\n",
              "type              \n",
              "PaidInFull  264847\n",
              "Default      11178\n",
              "Active         521"
            ]
          },
          "metadata": {
            "tags": []
          },
          "execution_count": 231
        }
      ]
    },
    {
      "cell_type": "code",
      "metadata": {
        "id": "HBHnwhESq3hS",
        "colab_type": "code",
        "outputId": "6efd293e-ed87-46ad-a94c-400d6d6ab8ee",
        "colab": {
          "base_uri": "https://localhost:8080/",
          "height": 466
        }
      },
      "source": [
        "plot_pct(count_types('Contract_Status'))"
      ],
      "execution_count": 232,
      "outputs": [
        {
          "output_type": "display_data",
          "data": {
            "image/png": "[encoded data removed]",
            "text/plain": [
              "<Figure size 1152x576 with 1 Axes>"
            ]
          },
          "metadata": {
            "tags": []
          }
        }
      ]
    },
    {
      "cell_type": "markdown",
      "metadata": {
        "id": "IJ2OVRDSsGi0",
        "colab_type": "text"
      },
      "source": [
        "## 3.7 StartHalf\n",
        "\n",
        "What are the percentages for each “StartHalf”"
      ]
    },
    {
      "cell_type": "code",
      "metadata": {
        "id": "r01CXE6Gqpd7",
        "colab_type": "code",
        "outputId": "9912f3b0-5fb1-440f-e050-7f001cb3292f",
        "colab": {
          "base_uri": "https://localhost:8080/",
          "height": 204
        }
      },
      "source": [
        "count_types('StartHalf')"
      ],
      "execution_count": 233,
      "outputs": [
        {
          "output_type": "execute_result",
          "data": {
            "text/html": [
              "<div>\n",
              "<style scoped>\n",
              "    .dataframe tbody tr th:only-of-type {\n",
              "        vertical-align: middle;\n",
              "    }\n",
              "\n",
              "    .dataframe tbody tr th {\n",
              "        vertical-align: top;\n",
              "    }\n",
              "\n",
              "    .dataframe thead th {\n",
              "        text-align: right;\n",
              "    }\n",
              "</style>\n",
              "<table border=\"1\" class=\"dataframe\">\n",
              "  <thead>\n",
              "    <tr style=\"text-align: right;\">\n",
              "      <th></th>\n",
              "      <th>counts</th>\n",
              "    </tr>\n",
              "    <tr>\n",
              "      <th>type</th>\n",
              "      <th></th>\n",
              "    </tr>\n",
              "  </thead>\n",
              "  <tbody>\n",
              "    <tr>\n",
              "      <th>2007H2</th>\n",
              "      <td>74589</td>\n",
              "    </tr>\n",
              "    <tr>\n",
              "      <th>2007H1</th>\n",
              "      <td>69166</td>\n",
              "    </tr>\n",
              "    <tr>\n",
              "      <th>2006H2</th>\n",
              "      <td>68471</td>\n",
              "    </tr>\n",
              "    <tr>\n",
              "      <th>2006H1</th>\n",
              "      <td>64320</td>\n",
              "    </tr>\n",
              "  </tbody>\n",
              "</table>\n",
              "</div>"
            ],
            "text/plain": [
              "        counts\n",
              "type          \n",
              "2007H2   74589\n",
              "2007H1   69166\n",
              "2006H2   68471\n",
              "2006H1   64320"
            ]
          },
          "metadata": {
            "tags": []
          },
          "execution_count": 233
        }
      ]
    },
    {
      "cell_type": "code",
      "metadata": {
        "id": "0gD8KPlCsW1J",
        "colab_type": "code",
        "outputId": "a326f57f-d818-4741-88e7-3283168e2ea2",
        "colab": {
          "base_uri": "https://localhost:8080/",
          "height": 466
        }
      },
      "source": [
        "plot_pct(count_types('StartHalf'))"
      ],
      "execution_count": 234,
      "outputs": [
        {
          "output_type": "display_data",
          "data": {
            "image/png": "[encoded data removed]",
            "text/plain": [
              "<Figure size 1152x576 with 1 Axes>"
            ]
          },
          "metadata": {
            "tags": []
          }
        }
      ]
    },
    {
      "cell_type": "markdown",
      "metadata": {
        "id": "CnB4wNyCszbX",
        "colab_type": "text"
      },
      "source": [
        "## 3.8 First Installment Date\n",
        "\n",
        "What are the number and percentages of “First Installment Date\" for each month?"
      ]
    },
    {
      "cell_type": "code",
      "metadata": {
        "id": "G_7VLs9Wt0Yl",
        "colab_type": "code",
        "outputId": "f0b49f08-07a4-4703-f0c5-526a03e4d3c5",
        "colab": {
          "base_uri": "https://localhost:8080/",
          "height": 168
        }
      },
      "source": [
        "df.head(1)"
      ],
      "execution_count": 235,
      "outputs": [
        {
          "output_type": "execute_result",
          "data": {
            "text/html": [
              "<div>\n",
              "<style scoped>\n",
              "    .dataframe tbody tr th:only-of-type {\n",
              "        vertical-align: middle;\n",
              "    }\n",
              "\n",
              "    .dataframe tbody tr th {\n",
              "        vertical-align: top;\n",
              "    }\n",
              "\n",
              "    .dataframe thead th {\n",
              "        text-align: right;\n",
              "    }\n",
              "</style>\n",
              "<table border=\"1\" class=\"dataframe\">\n",
              "  <thead>\n",
              "    <tr style=\"text-align: right;\">\n",
              "      <th></th>\n",
              "      <th>Id</th>\n",
              "      <th>Contract_Number</th>\n",
              "      <th>Consumer_ID</th>\n",
              "      <th>Product</th>\n",
              "      <th>Contract_Status</th>\n",
              "      <th>Application_Date</th>\n",
              "      <th>Entry_Date</th>\n",
              "      <th>StartHalf</th>\n",
              "      <th>Fist Installment Date</th>\n",
              "      <th>Purchase Amt</th>\n",
              "      <th>Deposit Amt</th>\n",
              "      <th>financed_amt</th>\n",
              "      <th>Total Term</th>\n",
              "      <th>deposit_percent</th>\n",
              "      <th>Term_Run</th>\n",
              "      <th>Term_Remaining</th>\n",
              "      <th>payment_type</th>\n",
              "      <th>Total No Of Payments</th>\n",
              "      <th>Freq</th>\n",
              "      <th>instalment_amt</th>\n",
              "      <th>Total Payments Received</th>\n",
              "      <th>Total Balance Outstanding</th>\n",
              "      <th>gst_p</th>\n",
              "      <th>gtee_p</th>\n",
              "      <th>Gtee Charges</th>\n",
              "      <th>est_fee_p</th>\n",
              "      <th>Proc Fees</th>\n",
              "      <th>other_fee_p</th>\n",
              "      <th>total_merchant_charge_p</th>\n",
              "      <th>total_consumer_charges</th>\n",
              "      <th>Total Charges</th>\n",
              "      <th>effective_billing_rate</th>\n",
              "      <th>Expected Contract End Date</th>\n",
              "      <th>days_default</th>\n",
              "      <th>arrear_p</th>\n",
              "      <th>No of Days in Arrears</th>\n",
              "      <th>default_p</th>\n",
              "      <th>recent_default_default_p</th>\n",
              "      <th>recent_default_recov_p</th>\n",
              "      <th>Recent Default_Cure Date</th>\n",
              "      <th>Consumer Post Code</th>\n",
              "      <th>Consumer Year of Birth</th>\n",
              "      <th>Merchant Number</th>\n",
              "      <th>Merchant Name</th>\n",
              "      <th>INdustry Name</th>\n",
              "      <th>Homowner Ind</th>\n",
              "      <th>Homowner Consumer</th>\n",
              "      <th>has_arrears</th>\n",
              "      <th>entry_y</th>\n",
              "      <th>entry_y_m</th>\n",
              "      <th>app_y</th>\n",
              "      <th>app_y_m</th>\n",
              "    </tr>\n",
              "  </thead>\n",
              "  <tbody>\n",
              "    <tr>\n",
              "      <th>0</th>\n",
              "      <td>1</td>\n",
              "      <td>30000022</td>\n",
              "      <td>L30000022</td>\n",
              "      <td>ALARM</td>\n",
              "      <td>PaidInFull</td>\n",
              "      <td>2006-10-18</td>\n",
              "      <td>2006-01-11</td>\n",
              "      <td>2006H2</td>\n",
              "      <td>2006-11-26</td>\n",
              "      <td>3602.38</td>\n",
              "      <td>1002.38</td>\n",
              "      <td>2600.0</td>\n",
              "      <td>48</td>\n",
              "      <td>0.278255</td>\n",
              "      <td>48</td>\n",
              "      <td>0</td>\n",
              "      <td>0</td>\n",
              "      <td>48</td>\n",
              "      <td>1</td>\n",
              "      <td>54.166667</td>\n",
              "      <td>2600.0</td>\n",
              "      <td>0.0</td>\n",
              "      <td>0.755885</td>\n",
              "      <td>0.2219</td>\n",
              "      <td>576.93</td>\n",
              "      <td>0.0</td>\n",
              "      <td>0.0</td>\n",
              "      <td>0.0</td>\n",
              "      <td>0.221896</td>\n",
              "      <td>0.0</td>\n",
              "      <td>576.93</td>\n",
              "      <td>0.221896</td>\n",
              "      <td>2010-11-26</td>\n",
              "      <td>0</td>\n",
              "      <td>0.0</td>\n",
              "      <td>0.0</td>\n",
              "      <td>0.0</td>\n",
              "      <td>0.0</td>\n",
              "      <td>0.0</td>\n",
              "      <td></td>\n",
              "      <td>6530</td>\n",
              "      <td>1960-11-24</td>\n",
              "      <td>30112641</td>\n",
              "      <td>MODERN SECURITY WA</td>\n",
              "      <td>Home Security</td>\n",
              "      <td>1</td>\n",
              "      <td>1</td>\n",
              "      <td>0</td>\n",
              "      <td>2006</td>\n",
              "      <td>2006-01</td>\n",
              "      <td>2006</td>\n",
              "      <td>2006-10</td>\n",
              "    </tr>\n",
              "  </tbody>\n",
              "</table>\n",
              "</div>"
            ],
            "text/plain": [
              "   Id Contract_Number Consumer_ID Product  ... entry_y entry_y_m app_y  app_y_m\n",
              "0   1        30000022   L30000022   ALARM  ...    2006   2006-01  2006  2006-10\n",
              "\n",
              "[1 rows x 52 columns]"
            ]
          },
          "metadata": {
            "tags": []
          },
          "execution_count": 235
        }
      ]
    },
    {
      "cell_type": "code",
      "metadata": {
        "id": "7N7ZAQxatvpK",
        "colab_type": "code",
        "colab": {}
      },
      "source": [
        "# put Year and Month into new columns\n",
        "df['install_y_m'] = df['Fist Installment Date'].dt.to_period('M')"
      ],
      "execution_count": 0,
      "outputs": []
    },
    {
      "cell_type": "code",
      "metadata": {
        "id": "mIjQZIJ1s8-L",
        "colab_type": "code",
        "outputId": "e602c9e0-cf3e-4585-b151-d7323ea73c86",
        "colab": {
          "base_uri": "https://localhost:8080/",
          "height": 514
        }
      },
      "source": [
        "x, y, r = get_agg_df('install_y_m', 'Contract_Number', \"count\")\n",
        "draw_basic_bar_plot(x, y, 14, 6, 'Contracts in Each Month in 2005 - 2008', 'Month', 'Number of Contracts')"
      ],
      "execution_count": 237,
      "outputs": [
        {
          "output_type": "display_data",
          "data": {
            "image/png": "[encoded data removed]",
            "text/plain": [
              "<Figure size 1120x480 with 1 Axes>"
            ]
          },
          "metadata": {
            "tags": []
          }
        }
      ]
    },
    {
      "cell_type": "markdown",
      "metadata": {
        "id": "Bv3U3sjhuh-d",
        "colab_type": "text"
      },
      "source": [
        "## 3.15 Payment Type\n",
        "\n",
        "What are the types in “payment Types”, and what are the percentages for each “payment type”?"
      ]
    },
    {
      "cell_type": "code",
      "metadata": {
        "id": "Ba4YpzM0IW4v",
        "colab_type": "code",
        "colab": {}
      },
      "source": [
        "pay_df = count_types('payment_type')"
      ],
      "execution_count": 0,
      "outputs": []
    },
    {
      "cell_type": "code",
      "metadata": {
        "id": "X00J1CTbuhIQ",
        "colab_type": "code",
        "colab": {}
      },
      "source": [
        "pay_df['type'] = ['Bank', 'CC']\n",
        "pay_df.set_index('type', inplace = True)"
      ],
      "execution_count": 0,
      "outputs": []
    },
    {
      "cell_type": "code",
      "metadata": {
        "id": "CROQH87KutV2",
        "colab_type": "code",
        "outputId": "137e78ca-58e6-4398-d8cf-a5de0949a337",
        "colab": {
          "base_uri": "https://localhost:8080/",
          "height": 466
        }
      },
      "source": [
        "plot_pct(pay_df)"
      ],
      "execution_count": 240,
      "outputs": [
        {
          "output_type": "display_data",
          "data": {
            "image/png": "[encoded data removed]",
            "text/plain": [
              "<Figure size 1152x576 with 1 Axes>"
            ]
          },
          "metadata": {
            "tags": []
          }
        }
      ]
    },
    {
      "cell_type": "code",
      "metadata": {
        "id": "_sduIDh4yjEF",
        "colab_type": "code",
        "colab": {
          "base_uri": "https://localhost:8080/",
          "height": 248
        },
        "outputId": "0adc982d-a992-429a-e911-cb19f41e13d2"
      },
      "source": [
        "plot_donut(pay_df)"
      ],
      "execution_count": 279,
      "outputs": [
        {
          "output_type": "display_data",
          "data": {
            "image/png": "[encoded data removed]",
            "text/plain": [
              "<Figure size 432x288 with 1 Axes>"
            ]
          },
          "metadata": {
            "tags": []
          }
        }
      ]
    },
    {
      "cell_type": "markdown",
      "metadata": {
        "id": "ZjJnYEcTKHZd",
        "colab_type": "text"
      },
      "source": [
        "## 3.9 Purchased Amount\n",
        "\n",
        "Purchase amt segments? $100-500, $500-1000, $ 1500-2000,….And percentages of each segments?"
      ]
    },
    {
      "cell_type": "code",
      "metadata": {
        "id": "ko9TPjvStHZg",
        "colab_type": "code",
        "colab": {}
      },
      "source": [
        "def explore_amt(col):\n",
        "  print(f\"The largest purchased amt was {df[col].max():,} and the least was {df[col].min()}.\")\n",
        "\n",
        "  sns.kdeplot(df[col], shade=True)"
      ],
      "execution_count": 0,
      "outputs": []
    },
    {
      "cell_type": "code",
      "metadata": {
        "id": "hQEvpkpDtRby",
        "colab_type": "code",
        "colab": {
          "base_uri": "https://localhost:8080/",
          "height": 282
        },
        "outputId": "c8c7ff63-cf4b-4ba1-9310-a6e7233b8e05"
      },
      "source": [
        "explore_amt('Purchase Amt')"
      ],
      "execution_count": 248,
      "outputs": [
        {
          "output_type": "stream",
          "text": [
            "The largest purchased amt was 54,052.0 and the least was 70.0.\n"
          ],
          "name": "stdout"
        },
        {
          "output_type": "display_data",
          "data": {
            "image/png": "[encoded data removed]",
            "text/plain": [
              "<Figure size 432x288 with 1 Axes>"
            ]
          },
          "metadata": {
            "tags": [],
            "needs_background": "light"
          }
        }
      ]
    },
    {
      "cell_type": "code",
      "metadata": {
        "id": "NqYE9IbttlQA",
        "colab_type": "code",
        "colab": {}
      },
      "source": [
        "def explore_amt_range(col, amt):\n",
        "  sns.kdeplot(df[df[col]<amt][col], shade=True)"
      ],
      "execution_count": 0,
      "outputs": []
    },
    {
      "cell_type": "code",
      "metadata": {
        "id": "jY-2izGstzHE",
        "colab_type": "code",
        "colab": {
          "base_uri": "https://localhost:8080/",
          "height": 265
        },
        "outputId": "9a1329b5-8436-4b19-fa73-297f2e130160"
      },
      "source": [
        "explore_amt_range('Purchase Amt',10000)"
      ],
      "execution_count": 251,
      "outputs": [
        {
          "output_type": "display_data",
          "data": {
            "image/png": "[encoded data removed]",
            "text/plain": [
              "<Figure size 432x288 with 1 Axes>"
            ]
          },
          "metadata": {
            "tags": [],
            "needs_background": "light"
          }
        }
      ]
    },
    {
      "cell_type": "code",
      "metadata": {
        "id": "CawremJIdzfw",
        "colab_type": "code",
        "colab": {}
      },
      "source": [
        "def get_segments_df(col, end, step):\n",
        "\n",
        "  # get value counts of target column\n",
        "  amt_df = df[col].value_counts()\n",
        "\n",
        "  # put the counts into df\n",
        "  amt_df = amt_df.rename_axis(col).reset_index(name='counts')\n",
        "\n",
        "  # build a new df to store segements and counts\n",
        "  amt_df_new = pd.DataFrame(columns = ['counts'])\n",
        "\n",
        "  # set segments\n",
        "  segments = range(0, end + 1, step)\n",
        "\n",
        "  for i in segments:\n",
        "    if i != 0:\n",
        "      amt_df_temporary = amt_df[(amt_df[col] < i) & (amt_df[col] >= i - step )]\n",
        "      k = amt_df_temporary['counts'].sum()\n",
        "      word = f'{i - step} (included) to {i}'\n",
        "      amt_df_new.loc[word] = k # segments as index\n",
        "\n",
        "  # add the last row to df\n",
        "  amt_df_new.loc[f'Equals to or more than {i}'] = amt_df[amt_df[col] >= end].sum()\n",
        "\n",
        "  return amt_df_new\n"
      ],
      "execution_count": 0,
      "outputs": []
    },
    {
      "cell_type": "code",
      "metadata": {
        "id": "2AxpqQc5fD7x",
        "colab_type": "code",
        "outputId": "d2755965-36c2-4c9f-febb-938b7e5f8a18",
        "colab": {
          "base_uri": "https://localhost:8080/",
          "height": 235
        }
      },
      "source": [
        "get_segments_df('Purchase Amt', 10000, 2000)"
      ],
      "execution_count": 245,
      "outputs": [
        {
          "output_type": "execute_result",
          "data": {
            "text/html": [
              "<div>\n",
              "<style scoped>\n",
              "    .dataframe tbody tr th:only-of-type {\n",
              "        vertical-align: middle;\n",
              "    }\n",
              "\n",
              "    .dataframe tbody tr th {\n",
              "        vertical-align: top;\n",
              "    }\n",
              "\n",
              "    .dataframe thead th {\n",
              "        text-align: right;\n",
              "    }\n",
              "</style>\n",
              "<table border=\"1\" class=\"dataframe\">\n",
              "  <thead>\n",
              "    <tr style=\"text-align: right;\">\n",
              "      <th></th>\n",
              "      <th>counts</th>\n",
              "    </tr>\n",
              "  </thead>\n",
              "  <tbody>\n",
              "    <tr>\n",
              "      <th>0 (included) to 2000</th>\n",
              "      <td>184691</td>\n",
              "    </tr>\n",
              "    <tr>\n",
              "      <th>2000 (included) to 4000</th>\n",
              "      <td>57660</td>\n",
              "    </tr>\n",
              "    <tr>\n",
              "      <th>4000 (included) to 6000</th>\n",
              "      <td>22725</td>\n",
              "    </tr>\n",
              "    <tr>\n",
              "      <th>6000 (included) to 8000</th>\n",
              "      <td>6116</td>\n",
              "    </tr>\n",
              "    <tr>\n",
              "      <th>8000 (included) to 10000</th>\n",
              "      <td>2539</td>\n",
              "    </tr>\n",
              "    <tr>\n",
              "      <th>equals to or more than 10000</th>\n",
              "      <td>2815</td>\n",
              "    </tr>\n",
              "  </tbody>\n",
              "</table>\n",
              "</div>"
            ],
            "text/plain": [
              "                              counts\n",
              "0 (included) to 2000          184691\n",
              "2000 (included) to 4000        57660\n",
              "4000 (included) to 6000        22725\n",
              "6000 (included) to 8000         6116\n",
              "8000 (included) to 10000        2539\n",
              "equals to or more than 10000    2815"
            ]
          },
          "metadata": {
            "tags": []
          },
          "execution_count": 245
        }
      ]
    },
    {
      "cell_type": "code",
      "metadata": {
        "id": "ktd11gHGgNeC",
        "colab_type": "code",
        "colab": {}
      },
      "source": [
        "#get_segments_df('Purchase Amt', 10000, 2000) == df.shape[0]"
      ],
      "execution_count": 0,
      "outputs": []
    },
    {
      "cell_type": "markdown",
      "metadata": {
        "id": "uMx_Da_2s4wd",
        "colab_type": "text"
      },
      "source": [
        "## 3.10 Financed amt \n",
        "\n",
        "Financed amt segments? And percentages of each segments?"
      ]
    },
    {
      "cell_type": "code",
      "metadata": {
        "id": "UihNS6r0tBo3",
        "colab_type": "code",
        "colab": {
          "base_uri": "https://localhost:8080/",
          "height": 282
        },
        "outputId": "7e25df97-4a00-4951-872f-ecff73ef05b6"
      },
      "source": [
        "explore_amt('financed_amt')"
      ],
      "execution_count": 249,
      "outputs": [
        {
          "output_type": "stream",
          "text": [
            "The largest purchased amt was 15,000.0 and the least was 50.0.\n"
          ],
          "name": "stdout"
        },
        {
          "output_type": "display_data",
          "data": {
            "image/png": "[encoded data removed]",
            "text/plain": [
              "<Figure size 432x288 with 1 Axes>"
            ]
          },
          "metadata": {
            "tags": [],
            "needs_background": "light"
          }
        }
      ]
    },
    {
      "cell_type": "code",
      "metadata": {
        "id": "MWH304YGth8_",
        "colab_type": "code",
        "colab": {
          "base_uri": "https://localhost:8080/",
          "height": 265
        },
        "outputId": "c0a0e006-86b1-4c77-d2b3-5dc5542165c5"
      },
      "source": [
        "explore_amt_range('financed_amt', 6000)"
      ],
      "execution_count": 254,
      "outputs": [
        {
          "output_type": "display_data",
          "data": {
            "image/png": "[encoded data removed]",
            "text/plain": [
              "<Figure size 432x288 with 1 Axes>"
            ]
          },
          "metadata": {
            "tags": [],
            "needs_background": "light"
          }
        }
      ]
    },
    {
      "cell_type": "code",
      "metadata": {
        "id": "ik-Zh03EuRT1",
        "colab_type": "code",
        "colab": {}
      },
      "source": [
        "financed_amt_df = get_segments_df('financed_amt', 6000, 1000)"
      ],
      "execution_count": 0,
      "outputs": []
    },
    {
      "cell_type": "code",
      "metadata": {
        "id": "YAU1qKc5xXuT",
        "colab_type": "code",
        "colab": {}
      },
      "source": [
        "def plot_donut(amt_df):\n",
        "  names = amt_df.index.to_list()\n",
        "  size = amt_df['counts'].to_list()\n",
        "\n",
        "  # Create a circle for the center of the plot\n",
        "  my_circle=plt.Circle( (0,0), 0.7, color='white')\n",
        "\n",
        "  # draw the plot\n",
        "  plt.pie(size, labels=names, colors=Pastel1_7.hex_colors)\n",
        "  p=plt.gcf()\n",
        "  p.gca().add_artist(my_circle)\n",
        "  plt.show()\n",
        "\n",
        "\n"
      ],
      "execution_count": 0,
      "outputs": []
    },
    {
      "cell_type": "code",
      "metadata": {
        "id": "eFfe5_1JyAL9",
        "colab_type": "code",
        "colab": {
          "base_uri": "https://localhost:8080/",
          "height": 248
        },
        "outputId": "4846cc4b-d090-4ea3-9a59-746ea5c54f97"
      },
      "source": [
        "plot_donut(financed_amt_df)"
      ],
      "execution_count": 277,
      "outputs": [
        {
          "output_type": "display_data",
          "data": {
            "image/png": "[encoded data removed]",
            "text/plain": [
              "<Figure size 432x288 with 1 Axes>"
            ]
          },
          "metadata": {
            "tags": []
          }
        }
      ]
    },
    {
      "cell_type": "code",
      "metadata": {
        "id": "Q3RuH4IBwjGg",
        "colab_type": "code",
        "colab": {}
      },
      "source": [
        "# Create a circle for the center of the plot\n",
        "my_circle=plt.Circle( (0,0), 0.7, color='white')\n"
      ],
      "execution_count": 0,
      "outputs": []
    },
    {
      "cell_type": "code",
      "metadata": {
        "id": "PxLnniZYw0G0",
        "colab_type": "code",
        "colab": {}
      },
      "source": [
        "names = financed_amt_df.index.to_list()\n",
        "size = financed_amt_df['counts'].to_list()"
      ],
      "execution_count": 0,
      "outputs": []
    },
    {
      "cell_type": "code",
      "metadata": {
        "id": "ZDQ-n8RKwjR2",
        "colab_type": "code",
        "colab": {
          "base_uri": "https://localhost:8080/",
          "height": 248
        },
        "outputId": "0f1a489e-37f5-4b99-e5ba-9314ef5c1799"
      },
      "source": [
        "plt.pie(size, labels=names, colors=Pastel1_7.hex_colors)\n",
        "p=plt.gcf()\n",
        "p.gca().add_artist(my_circle)\n",
        "plt.show()\n"
      ],
      "execution_count": 267,
      "outputs": [
        {
          "output_type": "display_data",
          "data": {
            "image/png": "[encoded data removed]",
            "text/plain": [
              "<Figure size 432x288 with 1 Axes>"
            ]
          },
          "metadata": {
            "tags": []
          }
        }
      ]
    }
  ]
}