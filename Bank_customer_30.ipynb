{
  "nbformat": 4,
  "nbformat_minor": 0,
  "metadata": {
    "colab": {
      "name": "Bank_customer_30.ipynb",
      "provenance": [],
      "collapsed_sections": [
        "smZETebAcqL6",
        "zl7EzuiSkTjo",
        "f1hB-H_CJdhl",
        "N7mP-C1rr68q",
        "-4n25uN3qsCO",
        "V_pOBJHapgY9",
        "rQknwYAM6swW",
        "9o39lV_Q7AbG",
        "9zmkpbrBJjmX",
        "nMRCJjF3Jr8u",
        "o-bGukNx35gB"
      ],
      "authorship_tag": "ABX9TyNMLitbYdo8BfZHR/gd3oB9",
      "include_colab_link": true
    },
    "kernelspec": {
      "name": "python3",
      "display_name": "Python 3"
    }
  },
  "cells": [
    {
      "cell_type": "markdown",
      "metadata": {
        "id": "view-in-github",
        "colab_type": "text"
      },
      "source": [
        "<a href=\"https://colab.research.google.com/github/yanglinjing/vmor/blob/master/Bank_customer_30.ipynb\" target=\"_parent\"><img src=\"https://colab.research.google.com/assets/colab-badge.svg\" alt=\"Open In Colab\"/></a>"
      ]
    },
    {
      "cell_type": "markdown",
      "metadata": {
        "id": "smZETebAcqL6",
        "colab_type": "text"
      },
      "source": [
        "# Bank Loan Data"
      ]
    },
    {
      "cell_type": "code",
      "metadata": {
        "id": "j7s5CunhcwR7",
        "colab_type": "code",
        "outputId": "1a7dce9c-8188-4e1a-c730-e5bdbb893f0a",
        "colab": {
          "base_uri": "https://localhost:8080/",
          "height": 0
        }
      },
      "source": [
        "pip install mysql-connector"
      ],
      "execution_count": 1,
      "outputs": [
        {
          "output_type": "stream",
          "text": [
            "Collecting mysql-connector\n",
            "\u001b[?25l  Downloading https://files.pythonhosted.org/packages/28/04/e40098f3730e75bbe36a338926f566ea803550a34fb50535499f4fc4787a/mysql-connector-2.2.9.tar.gz (11.9MB)\n",
            "\u001b[K     |████████████████████████████████| 11.9MB 100kB/s \n",
            "\u001b[?25hBuilding wheels for collected packages: mysql-connector\n",
            "  Building wheel for mysql-connector (setup.py) ... \u001b[?25l\u001b[?25hdone\n",
            "  Created wheel for mysql-connector: filename=mysql_connector-2.2.9-cp36-cp36m-linux_x86_64.whl size=247949 sha256=f609962b1b3f4b5ae2bc766ff48af02c1c5fdfd6dbedc1a8be6fdd1e92699d86\n",
            "  Stored in directory: /root/.cache/pip/wheels/8c/83/a1/f8b6d4bb1bd6208bbde1608bbfa7557504bed9eaf2ecf8c175\n",
            "Successfully built mysql-connector\n",
            "Installing collected packages: mysql-connector\n",
            "Successfully installed mysql-connector-2.2.9\n"
          ],
          "name": "stdout"
        }
      ]
    },
    {
      "cell_type": "code",
      "metadata": {
        "id": "FzWEfUKSjvdu",
        "colab_type": "code",
        "outputId": "51cfe20d-289f-4e30-91bb-6efeb4774673",
        "colab": {
          "base_uri": "https://localhost:8080/",
          "height": 0
        }
      },
      "source": [
        "# mySQL\n",
        "import mysql.connector\n",
        "\n",
        "import numpy as np\n",
        "import pandas as pd\n",
        "\n",
        "# PCA and Clustering\n",
        "from sklearn.preprocessing import StandardScaler\n",
        "from sklearn.impute import SimpleImputer\n",
        "from sklearn.decomposition import PCA\n",
        "from sklearn.cluster import KMeans\n",
        "from sklearn.metrics import silhouette_score\n",
        "\n",
        "# Plot\n",
        "import matplotlib.pyplot as plt\n",
        "import matplotlib.ticker as ticker\n",
        "import seaborn as sns\n",
        "\n",
        "# magic word for producing visualizations in notebook\n",
        "%matplotlib inline"
      ],
      "execution_count": 2,
      "outputs": [
        {
          "output_type": "stream",
          "text": [
            "/usr/local/lib/python3.6/dist-packages/statsmodels/tools/_testing.py:19: FutureWarning: pandas.util.testing is deprecated. Use the functions in the public API at pandas.testing instead.\n",
            "  import pandas.util.testing as tm\n"
          ],
          "name": "stderr"
        }
      ]
    },
    {
      "cell_type": "code",
      "metadata": {
        "id": "sMr_rl9FFmXH",
        "colab_type": "code",
        "colab": {}
      },
      "source": [
        "import datetime as dt\n",
        "#from dateutil.relativedelta import *"
      ],
      "execution_count": 0,
      "outputs": []
    },
    {
      "cell_type": "code",
      "metadata": {
        "id": "yzzn-ry9kOCN",
        "colab_type": "code",
        "colab": {}
      },
      "source": [
        "my_color = ['#42bff4', '#f9ace9']"
      ],
      "execution_count": 0,
      "outputs": []
    },
    {
      "cell_type": "markdown",
      "metadata": {
        "id": "zl7EzuiSkTjo",
        "colab_type": "text"
      },
      "source": [
        "# Step 1： Import Data"
      ]
    },
    {
      "cell_type": "code",
      "metadata": {
        "id": "R_6E5xQkkRqq",
        "colab_type": "code",
        "colab": {}
      },
      "source": [
        "# Import data from mySQL\n",
        "db = mysql.connector.connect(user='Linjing', \n",
        "                             password='Linjing',\n",
        "                             host='119.9.52.51',\n",
        "                             database='bankloan')"
      ],
      "execution_count": 0,
      "outputs": []
    },
    {
      "cell_type": "code",
      "metadata": {
        "id": "5LnnkQ_RknLa",
        "colab_type": "code",
        "colab": {}
      },
      "source": [
        "# Create a Cursor object. It will let\n",
        "#  you execute all the queries you need\n",
        "cur = db.cursor()"
      ],
      "execution_count": 0,
      "outputs": []
    },
    {
      "cell_type": "code",
      "metadata": {
        "id": "Ky8beMNhkqXo",
        "colab_type": "code",
        "colab": {}
      },
      "source": [
        "cur.execute('SELECT * \\\n",
        "             FROM defaultloan')"
      ],
      "execution_count": 0,
      "outputs": []
    },
    {
      "cell_type": "code",
      "metadata": {
        "id": "3uJGPhKgk83-",
        "colab_type": "code",
        "colab": {}
      },
      "source": [
        "# Put data into df\n",
        "table = cur.fetchall()\n",
        "df_raw = pd.DataFrame(table)"
      ],
      "execution_count": 0,
      "outputs": []
    },
    {
      "cell_type": "code",
      "metadata": {
        "id": "RIkUJCWNk_51",
        "colab_type": "code",
        "colab": {}
      },
      "source": [
        "# Get column names \n",
        "num_cols = len(cur.description)\n",
        "cols = [i[0] for i in cur.description]\n",
        "\n",
        "# Change column names of df\n",
        "df_raw.columns = cols"
      ],
      "execution_count": 0,
      "outputs": []
    },
    {
      "cell_type": "code",
      "metadata": {
        "id": "sLpQ4XlClHQ6",
        "colab_type": "code",
        "colab": {}
      },
      "source": [
        "db.close()"
      ],
      "execution_count": 0,
      "outputs": []
    },
    {
      "cell_type": "markdown",
      "metadata": {
        "id": "jANbQQVrlKvH",
        "colab_type": "text"
      },
      "source": [
        "# Step 2: Proprecessing Data\n"
      ]
    },
    {
      "cell_type": "markdown",
      "metadata": {
        "id": "f1hB-H_CJdhl",
        "colab_type": "text"
      },
      "source": [
        "## Step 2.1 Observing Data"
      ]
    },
    {
      "cell_type": "code",
      "metadata": {
        "id": "8xZCYOnLTQ6H",
        "colab_type": "code",
        "colab": {}
      },
      "source": [
        "df = df_raw.copy()"
      ],
      "execution_count": 0,
      "outputs": []
    },
    {
      "cell_type": "code",
      "metadata": {
        "id": "iNeW7jpjlH-g",
        "colab_type": "code",
        "outputId": "c4b38001-63a6-4580-ad3b-9eff85d45140",
        "colab": {
          "base_uri": "https://localhost:8080/",
          "height": 0
        }
      },
      "source": [
        "df.shape"
      ],
      "execution_count": 12,
      "outputs": [
        {
          "output_type": "execute_result",
          "data": {
            "text/plain": [
              "(276546, 50)"
            ]
          },
          "metadata": {
            "tags": []
          },
          "execution_count": 12
        }
      ]
    },
    {
      "cell_type": "code",
      "metadata": {
        "id": "Ckqt8wVIlVnE",
        "colab_type": "code",
        "outputId": "67a37cfc-dcd1-4e48-fe76-5b9aaf44c82a",
        "colab": {
          "base_uri": "https://localhost:8080/",
          "height": 0
        }
      },
      "source": [
        "df.sample(3)"
      ],
      "execution_count": 13,
      "outputs": [
        {
          "output_type": "execute_result",
          "data": {
            "text/html": [
              "<div>\n",
              "<style scoped>\n",
              "    .dataframe tbody tr th:only-of-type {\n",
              "        vertical-align: middle;\n",
              "    }\n",
              "\n",
              "    .dataframe tbody tr th {\n",
              "        vertical-align: top;\n",
              "    }\n",
              "\n",
              "    .dataframe thead th {\n",
              "        text-align: right;\n",
              "    }\n",
              "</style>\n",
              "<table border=\"1\" class=\"dataframe\">\n",
              "  <thead>\n",
              "    <tr style=\"text-align: right;\">\n",
              "      <th></th>\n",
              "      <th>Id</th>\n",
              "      <th>Contract_Number</th>\n",
              "      <th>Consumer_ID</th>\n",
              "      <th>Product</th>\n",
              "      <th>Contract_Status</th>\n",
              "      <th>Application_Date</th>\n",
              "      <th>Entry_Date</th>\n",
              "      <th>StartHalf</th>\n",
              "      <th>Fist Installment Date</th>\n",
              "      <th>Purchase Amt</th>\n",
              "      <th>Deposit Amt</th>\n",
              "      <th>Financed Amt</th>\n",
              "      <th>Total Term</th>\n",
              "      <th>Deposit_Percent</th>\n",
              "      <th>Term_Run</th>\n",
              "      <th>Term_Remaining</th>\n",
              "      <th>Payment Type</th>\n",
              "      <th>Total No Of Payments</th>\n",
              "      <th>Freq</th>\n",
              "      <th>Instalment Amt</th>\n",
              "      <th>Total Payments Received</th>\n",
              "      <th>Total Balance Outstanding</th>\n",
              "      <th>Amt Paid To Merchant_nettofmerchfeesandGST</th>\n",
              "      <th>Gtee Rate</th>\n",
              "      <th>Gtee Charges</th>\n",
              "      <th>Est Fees</th>\n",
              "      <th>Proc Fees</th>\n",
              "      <th>Other Fees</th>\n",
              "      <th>Total Merchant Charges</th>\n",
              "      <th>Total Consumer Charges</th>\n",
              "      <th>Total Charges</th>\n",
              "      <th>Effective Billing Rate</th>\n",
              "      <th>Expected Contract End Date</th>\n",
              "      <th>No Of Days In Default</th>\n",
              "      <th>Arrears Amount</th>\n",
              "      <th>No of Days in Arrears</th>\n",
              "      <th>DefaultAmount</th>\n",
              "      <th>DefaultDate</th>\n",
              "      <th>MonthsToDefault</th>\n",
              "      <th>Recent Default_Default Date</th>\n",
              "      <th>Recent Default_Default Amt</th>\n",
              "      <th>Recent Default_Recov Amt</th>\n",
              "      <th>Recent Default_Cure Date</th>\n",
              "      <th>Consumer Post Code</th>\n",
              "      <th>Consumer Year of Birth</th>\n",
              "      <th>Merchant Number</th>\n",
              "      <th>Merchant Name</th>\n",
              "      <th>INdustry Name</th>\n",
              "      <th>Homowner Ind</th>\n",
              "      <th>Homowner Consumer</th>\n",
              "    </tr>\n",
              "  </thead>\n",
              "  <tbody>\n",
              "    <tr>\n",
              "      <th>226722</th>\n",
              "      <td>288864</td>\n",
              "      <td>61186399</td>\n",
              "      <td>L881806703</td>\n",
              "      <td>1005855</td>\n",
              "      <td>PaidInFull</td>\n",
              "      <td>24/06/2007</td>\n",
              "      <td>2/07/2007</td>\n",
              "      <td>2007H2</td>\n",
              "      <td>16/07/2007</td>\n",
              "      <td>1230</td>\n",
              "      <td>123</td>\n",
              "      <td>1107</td>\n",
              "      <td>12</td>\n",
              "      <td>0.1</td>\n",
              "      <td>12</td>\n",
              "      <td>0</td>\n",
              "      <td>CC</td>\n",
              "      <td>12</td>\n",
              "      <td>Mth</td>\n",
              "      <td>92.25</td>\n",
              "      <td>1,107.00</td>\n",
              "      <td>0.00</td>\n",
              "      <td>917.2</td>\n",
              "      <td>0.134399995</td>\n",
              "      <td>148.78</td>\n",
              "      <td>23.75</td>\n",
              "      <td>0</td>\n",
              "      <td>0</td>\n",
              "      <td>172.53</td>\n",
              "      <td>0.00</td>\n",
              "      <td>172.53</td>\n",
              "      <td>0.155853659</td>\n",
              "      <td>16/07/2008</td>\n",
              "      <td>0</td>\n",
              "      <td>0</td>\n",
              "      <td>0</td>\n",
              "      <td>0</td>\n",
              "      <td></td>\n",
              "      <td></td>\n",
              "      <td></td>\n",
              "      <td>0.00</td>\n",
              "      <td>0.00</td>\n",
              "      <td></td>\n",
              "      <td>5114</td>\n",
              "      <td>3/05/1982</td>\n",
              "      <td>30112867</td>\n",
              "      <td>MICHAEL HILL JEWELLER HOLLYWOOD PLAZA (461)</td>\n",
              "      <td>Jewellery</td>\n",
              "      <td>No</td>\n",
              "      <td>No</td>\n",
              "    </tr>\n",
              "    <tr>\n",
              "      <th>24649</th>\n",
              "      <td>24650</td>\n",
              "      <td>60695805</td>\n",
              "      <td>L60695805</td>\n",
              "      <td>FURN</td>\n",
              "      <td>PaidInFull</td>\n",
              "      <td>19/08/2006</td>\n",
              "      <td>24/08/2006</td>\n",
              "      <td>2006H2</td>\n",
              "      <td>13/09/2006</td>\n",
              "      <td>2220</td>\n",
              "      <td>555</td>\n",
              "      <td>1665</td>\n",
              "      <td>12</td>\n",
              "      <td>0.25</td>\n",
              "      <td>12</td>\n",
              "      <td>0</td>\n",
              "      <td>CC</td>\n",
              "      <td>12</td>\n",
              "      <td>Mth</td>\n",
              "      <td>138.75</td>\n",
              "      <td>1,665.00</td>\n",
              "      <td>0.00</td>\n",
              "      <td>1479.4</td>\n",
              "      <td>0.085699998</td>\n",
              "      <td>142.69</td>\n",
              "      <td>26</td>\n",
              "      <td>0</td>\n",
              "      <td>0</td>\n",
              "      <td>168.69</td>\n",
              "      <td>0.00</td>\n",
              "      <td>168.69</td>\n",
              "      <td>0.101315315</td>\n",
              "      <td>13/09/2007</td>\n",
              "      <td>0</td>\n",
              "      <td>0</td>\n",
              "      <td>0</td>\n",
              "      <td>0</td>\n",
              "      <td></td>\n",
              "      <td></td>\n",
              "      <td></td>\n",
              "      <td>0.00</td>\n",
              "      <td>0.00</td>\n",
              "      <td></td>\n",
              "      <td>6029</td>\n",
              "      <td>8/09/1975</td>\n",
              "      <td>90100029</td>\n",
              "      <td>ARCHIPELAGO LIVING</td>\n",
              "      <td>Furniture / Bedding New</td>\n",
              "      <td>No</td>\n",
              "      <td>No</td>\n",
              "    </tr>\n",
              "    <tr>\n",
              "      <th>41308</th>\n",
              "      <td>41309</td>\n",
              "      <td>60800390</td>\n",
              "      <td>L60800390</td>\n",
              "      <td>SHUTTER</td>\n",
              "      <td>PaidInFull</td>\n",
              "      <td>22/11/2005</td>\n",
              "      <td>1/01/2006</td>\n",
              "      <td>2006H1</td>\n",
              "      <td>10/01/2006</td>\n",
              "      <td>3000</td>\n",
              "      <td>600</td>\n",
              "      <td>2400</td>\n",
              "      <td>12</td>\n",
              "      <td>0.2</td>\n",
              "      <td>12</td>\n",
              "      <td>0</td>\n",
              "      <td>CC</td>\n",
              "      <td>26</td>\n",
              "      <td>FN</td>\n",
              "      <td>92.29349331</td>\n",
              "      <td>2,400.00</td>\n",
              "      <td>0.00</td>\n",
              "      <td>2152.2</td>\n",
              "      <td>0.082999997</td>\n",
              "      <td>199.19</td>\n",
              "      <td>26</td>\n",
              "      <td>0</td>\n",
              "      <td>0</td>\n",
              "      <td>225.19</td>\n",
              "      <td>0.00</td>\n",
              "      <td>225.19</td>\n",
              "      <td>0.093829167</td>\n",
              "      <td>10/01/2007</td>\n",
              "      <td>0</td>\n",
              "      <td>0</td>\n",
              "      <td>0</td>\n",
              "      <td>0</td>\n",
              "      <td></td>\n",
              "      <td></td>\n",
              "      <td></td>\n",
              "      <td>0.00</td>\n",
              "      <td>0.00</td>\n",
              "      <td></td>\n",
              "      <td>5095</td>\n",
              "      <td>10/02/1986</td>\n",
              "      <td>30107778</td>\n",
              "      <td>GOTTA GETTA GROUP</td>\n",
              "      <td>Roofing / Shutters / Gutters</td>\n",
              "      <td>Yes</td>\n",
              "      <td>Yes</td>\n",
              "    </tr>\n",
              "  </tbody>\n",
              "</table>\n",
              "</div>"
            ],
            "text/plain": [
              "            Id Contract_Number  ... Homowner Ind Homowner Consumer\n",
              "226722  288864        61186399  ...           No                No\n",
              "24649    24650        60695805  ...           No                No\n",
              "41308    41309        60800390  ...          Yes               Yes\n",
              "\n",
              "[3 rows x 50 columns]"
            ]
          },
          "metadata": {
            "tags": []
          },
          "execution_count": 13
        }
      ]
    },
    {
      "cell_type": "markdown",
      "metadata": {
        "id": "N7mP-C1rr68q",
        "colab_type": "text"
      },
      "source": [
        "## Step 2.2 Convert Data Type"
      ]
    },
    {
      "cell_type": "code",
      "metadata": {
        "id": "sMztL6_bsCgG",
        "colab_type": "code",
        "colab": {}
      },
      "source": [
        "# convert object to datetime\n",
        "\n",
        "column_date = ['Application_Date', \n",
        "               'Entry_Date', \n",
        "               'Fist Installment Date', \n",
        "               'Expected Contract End Date', \n",
        "               'DefaultDate', \n",
        "               'Recent Default_Default Date',\n",
        "               #'Recent Default_Cure Date',\n",
        "               'Consumer Year of Birth']\n",
        "\n",
        "for column in column_date:\n",
        "  df[column] = pd.to_datetime(df[column])"
      ],
      "execution_count": 0,
      "outputs": []
    },
    {
      "cell_type": "code",
      "metadata": {
        "id": "9g57iled5i3i",
        "colab_type": "code",
        "outputId": "20165116-6ac1-49aa-b0b9-40cdc30ccd92",
        "colab": {
          "base_uri": "https://localhost:8080/",
          "height": 0
        }
      },
      "source": [
        "df.head(1)"
      ],
      "execution_count": 15,
      "outputs": [
        {
          "output_type": "execute_result",
          "data": {
            "text/html": [
              "<div>\n",
              "<style scoped>\n",
              "    .dataframe tbody tr th:only-of-type {\n",
              "        vertical-align: middle;\n",
              "    }\n",
              "\n",
              "    .dataframe tbody tr th {\n",
              "        vertical-align: top;\n",
              "    }\n",
              "\n",
              "    .dataframe thead th {\n",
              "        text-align: right;\n",
              "    }\n",
              "</style>\n",
              "<table border=\"1\" class=\"dataframe\">\n",
              "  <thead>\n",
              "    <tr style=\"text-align: right;\">\n",
              "      <th></th>\n",
              "      <th>Id</th>\n",
              "      <th>Contract_Number</th>\n",
              "      <th>Consumer_ID</th>\n",
              "      <th>Product</th>\n",
              "      <th>Contract_Status</th>\n",
              "      <th>Application_Date</th>\n",
              "      <th>Entry_Date</th>\n",
              "      <th>StartHalf</th>\n",
              "      <th>Fist Installment Date</th>\n",
              "      <th>Purchase Amt</th>\n",
              "      <th>Deposit Amt</th>\n",
              "      <th>Financed Amt</th>\n",
              "      <th>Total Term</th>\n",
              "      <th>Deposit_Percent</th>\n",
              "      <th>Term_Run</th>\n",
              "      <th>Term_Remaining</th>\n",
              "      <th>Payment Type</th>\n",
              "      <th>Total No Of Payments</th>\n",
              "      <th>Freq</th>\n",
              "      <th>Instalment Amt</th>\n",
              "      <th>Total Payments Received</th>\n",
              "      <th>Total Balance Outstanding</th>\n",
              "      <th>Amt Paid To Merchant_nettofmerchfeesandGST</th>\n",
              "      <th>Gtee Rate</th>\n",
              "      <th>Gtee Charges</th>\n",
              "      <th>Est Fees</th>\n",
              "      <th>Proc Fees</th>\n",
              "      <th>Other Fees</th>\n",
              "      <th>Total Merchant Charges</th>\n",
              "      <th>Total Consumer Charges</th>\n",
              "      <th>Total Charges</th>\n",
              "      <th>Effective Billing Rate</th>\n",
              "      <th>Expected Contract End Date</th>\n",
              "      <th>No Of Days In Default</th>\n",
              "      <th>Arrears Amount</th>\n",
              "      <th>No of Days in Arrears</th>\n",
              "      <th>DefaultAmount</th>\n",
              "      <th>DefaultDate</th>\n",
              "      <th>MonthsToDefault</th>\n",
              "      <th>Recent Default_Default Date</th>\n",
              "      <th>Recent Default_Default Amt</th>\n",
              "      <th>Recent Default_Recov Amt</th>\n",
              "      <th>Recent Default_Cure Date</th>\n",
              "      <th>Consumer Post Code</th>\n",
              "      <th>Consumer Year of Birth</th>\n",
              "      <th>Merchant Number</th>\n",
              "      <th>Merchant Name</th>\n",
              "      <th>INdustry Name</th>\n",
              "      <th>Homowner Ind</th>\n",
              "      <th>Homowner Consumer</th>\n",
              "    </tr>\n",
              "  </thead>\n",
              "  <tbody>\n",
              "    <tr>\n",
              "      <th>0</th>\n",
              "      <td>1</td>\n",
              "      <td>30000022</td>\n",
              "      <td>L30000022</td>\n",
              "      <td>ALARM</td>\n",
              "      <td>PaidInFull</td>\n",
              "      <td>2006-10-18</td>\n",
              "      <td>2006-01-11</td>\n",
              "      <td>2006H2</td>\n",
              "      <td>2006-11-26</td>\n",
              "      <td>3602.38</td>\n",
              "      <td>1002.38</td>\n",
              "      <td>2600</td>\n",
              "      <td>48</td>\n",
              "      <td>0.278254931</td>\n",
              "      <td>48</td>\n",
              "      <td>0</td>\n",
              "      <td>Bank</td>\n",
              "      <td>48</td>\n",
              "      <td>Mth</td>\n",
              "      <td>54.16666667</td>\n",
              "      <td>2,600.00</td>\n",
              "      <td>0.00</td>\n",
              "      <td>1965.3</td>\n",
              "      <td>0.221900001</td>\n",
              "      <td>576.93</td>\n",
              "      <td>0</td>\n",
              "      <td>0</td>\n",
              "      <td>0</td>\n",
              "      <td>576.93</td>\n",
              "      <td>0.00</td>\n",
              "      <td>576.93</td>\n",
              "      <td>0.221896154</td>\n",
              "      <td>2010-11-26</td>\n",
              "      <td>0</td>\n",
              "      <td>0</td>\n",
              "      <td>0</td>\n",
              "      <td>0</td>\n",
              "      <td>NaT</td>\n",
              "      <td></td>\n",
              "      <td>NaT</td>\n",
              "      <td>0.00</td>\n",
              "      <td>0.00</td>\n",
              "      <td></td>\n",
              "      <td>6530</td>\n",
              "      <td>1960-11-24</td>\n",
              "      <td>30112641</td>\n",
              "      <td>MODERN SECURITY WA</td>\n",
              "      <td>Home Security</td>\n",
              "      <td>Yes</td>\n",
              "      <td>Yes</td>\n",
              "    </tr>\n",
              "  </tbody>\n",
              "</table>\n",
              "</div>"
            ],
            "text/plain": [
              "   Id Contract_Number Consumer_ID  ...  INdustry Name Homowner Ind Homowner Consumer\n",
              "0   1        30000022   L30000022  ...  Home Security          Yes               Yes\n",
              "\n",
              "[1 rows x 50 columns]"
            ]
          },
          "metadata": {
            "tags": []
          },
          "execution_count": 15
        }
      ]
    },
    {
      "cell_type": "code",
      "metadata": {
        "id": "a337QP7XUjO3",
        "colab_type": "code",
        "colab": {}
      },
      "source": [
        "# convert object to float\n",
        "\n",
        "column_num = ['Purchase Amt', 'Deposit Amt', 'Financed Amt', \n",
        "              'Total Term', 'Deposit_Percent', 'Term_Run',\n",
        "              'Term_Remaining', 'Total No Of Payments',\n",
        "              'Instalment Amt', 'Total Payments Received',\n",
        "              'Total Balance Outstanding', 'Amt Paid To Merchant_nettofmerchfeesandGST',\n",
        "              'Gtee Rate', 'Gtee Charges', 'Est Fees',\n",
        "              'Proc Fees', 'Other Fees', 'Total Merchant Charges',\n",
        "              'Total Consumer Charges', 'Total Charges',\n",
        "              'Effective Billing Rate', 'No Of Days In Default',\n",
        "              'Arrears Amount', 'No of Days in Arrears',\n",
        "              'DefaultAmount', 'MonthsToDefault',\n",
        "              'Recent Default_Default Amt',\n",
        "              'Recent Default_Recov Amt']\n",
        "\n",
        "for column in column_num:\n",
        "\n",
        "  # Remove thousand separator \n",
        "  df[column] = df[column].str.replace(',', '')\n",
        "\n",
        "  # Nan / NaT\n",
        "  df[column] = df[column].str.replace('NaT', '')\n",
        "  df[column] = df[column].str.replace('NaN', '')\n",
        "\n",
        "  # convert string to numeric\n",
        "  df[column] = pd.to_numeric(df[column])\n"
      ],
      "execution_count": 0,
      "outputs": []
    },
    {
      "cell_type": "code",
      "metadata": {
        "id": "Wc-0ZXqfe5zF",
        "colab_type": "code",
        "outputId": "19e42fa6-3d3c-4a29-a1db-90f4d788254e",
        "colab": {
          "base_uri": "https://localhost:8080/",
          "height": 0
        }
      },
      "source": [
        "df.info()"
      ],
      "execution_count": 17,
      "outputs": [
        {
          "output_type": "stream",
          "text": [
            "<class 'pandas.core.frame.DataFrame'>\n",
            "RangeIndex: 276546 entries, 0 to 276545\n",
            "Data columns (total 50 columns):\n",
            " #   Column                                      Non-Null Count   Dtype         \n",
            "---  ------                                      --------------   -----         \n",
            " 0   Id                                          276546 non-null  int64         \n",
            " 1   Contract_Number                             276546 non-null  object        \n",
            " 2   Consumer_ID                                 276546 non-null  object        \n",
            " 3   Product                                     276546 non-null  object        \n",
            " 4   Contract_Status                             276546 non-null  object        \n",
            " 5   Application_Date                            276546 non-null  datetime64[ns]\n",
            " 6   Entry_Date                                  276546 non-null  datetime64[ns]\n",
            " 7   StartHalf                                   276546 non-null  object        \n",
            " 8   Fist Installment Date                       276546 non-null  datetime64[ns]\n",
            " 9   Purchase Amt                                276546 non-null  float64       \n",
            " 10  Deposit Amt                                 276546 non-null  float64       \n",
            " 11  Financed Amt                                276546 non-null  float64       \n",
            " 12  Total Term                                  276546 non-null  int64         \n",
            " 13  Deposit_Percent                             276546 non-null  float64       \n",
            " 14  Term_Run                                    276546 non-null  int64         \n",
            " 15  Term_Remaining                              276546 non-null  int64         \n",
            " 16  Payment Type                                276546 non-null  object        \n",
            " 17  Total No Of Payments                        276546 non-null  int64         \n",
            " 18  Freq                                        276546 non-null  object        \n",
            " 19  Instalment Amt                              276546 non-null  float64       \n",
            " 20  Total Payments Received                     276546 non-null  float64       \n",
            " 21  Total Balance Outstanding                   276546 non-null  float64       \n",
            " 22  Amt Paid To Merchant_nettofmerchfeesandGST  276546 non-null  float64       \n",
            " 23  Gtee Rate                                   276546 non-null  float64       \n",
            " 24  Gtee Charges                                276546 non-null  float64       \n",
            " 25  Est Fees                                    276546 non-null  float64       \n",
            " 26  Proc Fees                                   276546 non-null  int64         \n",
            " 27  Other Fees                                  276546 non-null  float64       \n",
            " 28  Total Merchant Charges                      276546 non-null  float64       \n",
            " 29  Total Consumer Charges                      276546 non-null  float64       \n",
            " 30  Total Charges                               276546 non-null  float64       \n",
            " 31  Effective Billing Rate                      276546 non-null  float64       \n",
            " 32  Expected Contract End Date                  276546 non-null  datetime64[ns]\n",
            " 33  No Of Days In Default                       276546 non-null  int64         \n",
            " 34  Arrears Amount                              276536 non-null  float64       \n",
            " 35  No of Days in Arrears                       276536 non-null  float64       \n",
            " 36  DefaultAmount                               276546 non-null  float64       \n",
            " 37  DefaultDate                                 11134 non-null   datetime64[ns]\n",
            " 38  MonthsToDefault                             11134 non-null   float64       \n",
            " 39  Recent Default_Default Date                 39524 non-null   datetime64[ns]\n",
            " 40  Recent Default_Default Amt                  276545 non-null  float64       \n",
            " 41  Recent Default_Recov Amt                    276546 non-null  float64       \n",
            " 42  Recent Default_Cure Date                    276546 non-null  object        \n",
            " 43  Consumer Post Code                          276546 non-null  object        \n",
            " 44  Consumer Year of Birth                      276499 non-null  datetime64[ns]\n",
            " 45  Merchant Number                             276546 non-null  object        \n",
            " 46  Merchant Name                               276546 non-null  object        \n",
            " 47  INdustry Name                               276546 non-null  object        \n",
            " 48  Homowner Ind                                276546 non-null  object        \n",
            " 49  Homowner Consumer                           276546 non-null  object        \n",
            "dtypes: datetime64[ns](7), float64(22), int64(7), object(14)\n",
            "memory usage: 105.5+ MB\n"
          ],
          "name": "stdout"
        }
      ]
    },
    {
      "cell_type": "markdown",
      "metadata": {
        "id": "-4n25uN3qsCO",
        "colab_type": "text"
      },
      "source": [
        "## Step 2.3 Missing Values\n",
        "\n",
        "### Step 2.3.1 Columns\n"
      ]
    },
    {
      "cell_type": "code",
      "metadata": {
        "id": "cYDQlAP6qrba",
        "colab_type": "code",
        "outputId": "7a00b7e0-06aa-4e7e-93c4-8ecd4c45de4a",
        "colab": {
          "base_uri": "https://localhost:8080/",
          "height": 0
        }
      },
      "source": [
        "# Calculate the percentage of missing values of each column\n",
        "missing = df.isnull().sum()\n",
        "missing = missing[missing > 0] / df.shape[0] *100\n",
        "missing.sort_values(inplace = True)\n",
        "\n",
        "print(f\"{len(missing)} out of {df.shape[1]} columns contain missing values, from {round(missing[0], 2)}% to {round(missing[-1], 2)}%.\")"
      ],
      "execution_count": 18,
      "outputs": [
        {
          "output_type": "stream",
          "text": [
            "7 out of 50 columns contain missing values, from 0.0% to 95.97%.\n"
          ],
          "name": "stdout"
        }
      ]
    },
    {
      "cell_type": "code",
      "metadata": {
        "id": "aRFGIn0NfhmE",
        "colab_type": "code",
        "outputId": "6c8cec88-761f-453f-e89f-517fb9427115",
        "colab": {
          "base_uri": "https://localhost:8080/",
          "height": 0
        }
      },
      "source": [
        "#Visualizing the naturally missing data\n",
        "missing.plot.barh(figsize = (10, 3), fontsize = 12, color= my_color[0])\n",
        "plt.title('Percentage of Missing Values in Columns', size = 14)\n",
        "plt.show()"
      ],
      "execution_count": 19,
      "outputs": [
        {
          "output_type": "display_data",
          "data": {
            "image/png": "[encoded data removed]",
            "text/plain": [
              "<Figure size 720x216 with 1 Axes>"
            ]
          },
          "metadata": {
            "tags": [],
            "needs_background": "light"
          }
        }
      ]
    },
    {
      "cell_type": "code",
      "metadata": {
        "id": "g5cm1xxMnv2x",
        "colab_type": "code",
        "colab": {}
      },
      "source": [
        "# Remove the outlier columns from the dataset / feature summary. \n",
        "\n",
        "# columns have more than 80% missing values\n",
        "missing_80 = missing[missing >80]\n",
        "\n",
        "# Drop columns that contain 20% missing values\n",
        "for col in missing_80.index:\n",
        "  \n",
        "  # Dataset\n",
        "  df.drop(col, axis = 1, inplace = True)\n"
      ],
      "execution_count": 0,
      "outputs": []
    },
    {
      "cell_type": "code",
      "metadata": {
        "id": "gdVNrdc2ohuT",
        "colab_type": "code",
        "outputId": "67350395-a98a-465f-c2ee-66510ab6fbbe",
        "colab": {
          "base_uri": "https://localhost:8080/",
          "height": 0
        }
      },
      "source": [
        "df.shape"
      ],
      "execution_count": 21,
      "outputs": [
        {
          "output_type": "execute_result",
          "data": {
            "text/plain": [
              "(276546, 47)"
            ]
          },
          "metadata": {
            "tags": []
          },
          "execution_count": 21
        }
      ]
    },
    {
      "cell_type": "markdown",
      "metadata": {
        "id": "VUFWTEzlmmux",
        "colab_type": "text"
      },
      "source": [
        "### Step 2.3.2 Rows\n"
      ]
    },
    {
      "cell_type": "code",
      "metadata": {
        "id": "Xcnq7x_9mpTi",
        "colab_type": "code",
        "colab": {}
      },
      "source": [
        "# How much data is missing in each row of the dataset?\n",
        "missing_r = df.isnull().sum(axis=1)"
      ],
      "execution_count": 0,
      "outputs": []
    },
    {
      "cell_type": "code",
      "metadata": {
        "id": "wLvkw339m5fp",
        "colab_type": "code",
        "outputId": "317fb7ca-8af5-4088-eda2-13abcafc92c8",
        "colab": {
          "base_uri": "https://localhost:8080/",
          "height": 0
        }
      },
      "source": [
        "# Visualise\n",
        "missing_r[missing_r > 0].plot(kind='hist', bins=40, figsize=(10,3), color=my_color[0])\n",
        "plt.title('Missing Value in Rows')\n",
        "plt.ylabel('Counts')\n",
        "plt.xlabel('Number of Missing Values')\n",
        "plt.show()"
      ],
      "execution_count": 23,
      "outputs": [
        {
          "output_type": "display_data",
          "data": {
            "image/png": "[encoded data removed]",
            "text/plain": [
              "<Figure size 720x216 with 1 Axes>"
            ]
          },
          "metadata": {
            "tags": [],
            "needs_background": "light"
          }
        }
      ]
    },
    {
      "cell_type": "markdown",
      "metadata": {
        "id": "V_pOBJHapgY9",
        "colab_type": "text"
      },
      "source": [
        "## Step 2.4 Calculate Percentage"
      ]
    },
    {
      "cell_type": "code",
      "metadata": {
        "id": "SVKAcbzGpkvZ",
        "colab_type": "code",
        "colab": {}
      },
      "source": [
        "# arrears and all kinds of fees\n",
        "fees = ['Arrears Amount',\n",
        "        'DefaultAmount',\n",
        "        'Recent Default_Default Amt',\n",
        "        'Recent Default_Recov Amt',\n",
        "        'Amt Paid To Merchant_nettofmerchfeesandGST',\n",
        "        'Est Fees',\n",
        "        'Proc Fees',\n",
        "        'Other Fees',\n",
        "        'Total Merchant Charges',\n",
        "        'Total Consumer Charges'\n",
        "        ]"
      ],
      "execution_count": 0,
      "outputs": []
    },
    {
      "cell_type": "code",
      "metadata": {
        "id": "LG3cYx_15sYa",
        "colab_type": "code",
        "colab": {}
      },
      "source": [
        "fees = ['Arrears Amount',\n",
        "        'DefaultAmount',\n",
        "        'Recent Default_Default Amt',\n",
        "        'Recent Default_Recov Amt',\n",
        "        'Amt Paid To Merchant_nettofmerchfeesandGST',\n",
        "        'Est Fees',\n",
        "        'Proc Fees',\n",
        "        'Other Fees',\n",
        "        'Total Merchant Charges',\n",
        "        'Total Consumer Charges'\n",
        "        ]"
      ],
      "execution_count": 0,
      "outputs": []
    },
    {
      "cell_type": "code",
      "metadata": {
        "id": "YlKm0sc7487l",
        "colab_type": "code",
        "outputId": "0255c2fd-458c-413b-c144-02ef6a472fe0",
        "colab": {
          "base_uri": "https://localhost:8080/",
          "height": 0
        }
      },
      "source": [
        "df.sample(1)"
      ],
      "execution_count": 26,
      "outputs": [
        {
          "output_type": "execute_result",
          "data": {
            "text/html": [
              "<div>\n",
              "<style scoped>\n",
              "    .dataframe tbody tr th:only-of-type {\n",
              "        vertical-align: middle;\n",
              "    }\n",
              "\n",
              "    .dataframe tbody tr th {\n",
              "        vertical-align: top;\n",
              "    }\n",
              "\n",
              "    .dataframe thead th {\n",
              "        text-align: right;\n",
              "    }\n",
              "</style>\n",
              "<table border=\"1\" class=\"dataframe\">\n",
              "  <thead>\n",
              "    <tr style=\"text-align: right;\">\n",
              "      <th></th>\n",
              "      <th>Id</th>\n",
              "      <th>Contract_Number</th>\n",
              "      <th>Consumer_ID</th>\n",
              "      <th>Product</th>\n",
              "      <th>Contract_Status</th>\n",
              "      <th>Application_Date</th>\n",
              "      <th>Entry_Date</th>\n",
              "      <th>StartHalf</th>\n",
              "      <th>Fist Installment Date</th>\n",
              "      <th>Purchase Amt</th>\n",
              "      <th>Deposit Amt</th>\n",
              "      <th>Financed Amt</th>\n",
              "      <th>Total Term</th>\n",
              "      <th>Deposit_Percent</th>\n",
              "      <th>Term_Run</th>\n",
              "      <th>Term_Remaining</th>\n",
              "      <th>Payment Type</th>\n",
              "      <th>Total No Of Payments</th>\n",
              "      <th>Freq</th>\n",
              "      <th>Instalment Amt</th>\n",
              "      <th>Total Payments Received</th>\n",
              "      <th>Total Balance Outstanding</th>\n",
              "      <th>Amt Paid To Merchant_nettofmerchfeesandGST</th>\n",
              "      <th>Gtee Rate</th>\n",
              "      <th>Gtee Charges</th>\n",
              "      <th>Est Fees</th>\n",
              "      <th>Proc Fees</th>\n",
              "      <th>Other Fees</th>\n",
              "      <th>Total Merchant Charges</th>\n",
              "      <th>Total Consumer Charges</th>\n",
              "      <th>Total Charges</th>\n",
              "      <th>Effective Billing Rate</th>\n",
              "      <th>Expected Contract End Date</th>\n",
              "      <th>No Of Days In Default</th>\n",
              "      <th>Arrears Amount</th>\n",
              "      <th>No of Days in Arrears</th>\n",
              "      <th>DefaultAmount</th>\n",
              "      <th>Recent Default_Default Amt</th>\n",
              "      <th>Recent Default_Recov Amt</th>\n",
              "      <th>Recent Default_Cure Date</th>\n",
              "      <th>Consumer Post Code</th>\n",
              "      <th>Consumer Year of Birth</th>\n",
              "      <th>Merchant Number</th>\n",
              "      <th>Merchant Name</th>\n",
              "      <th>INdustry Name</th>\n",
              "      <th>Homowner Ind</th>\n",
              "      <th>Homowner Consumer</th>\n",
              "    </tr>\n",
              "  </thead>\n",
              "  <tbody>\n",
              "    <tr>\n",
              "      <th>254224</th>\n",
              "      <td>316366</td>\n",
              "      <td>61261452</td>\n",
              "      <td>L61261452</td>\n",
              "      <td>PIANO</td>\n",
              "      <td>PaidInFull</td>\n",
              "      <td>2007-09-24</td>\n",
              "      <td>2007-01-10</td>\n",
              "      <td>2007H2</td>\n",
              "      <td>2007-11-10</td>\n",
              "      <td>1649.0</td>\n",
              "      <td>412.25</td>\n",
              "      <td>1236.75</td>\n",
              "      <td>12</td>\n",
              "      <td>0.25</td>\n",
              "      <td>12</td>\n",
              "      <td>0</td>\n",
              "      <td>CC</td>\n",
              "      <td>12</td>\n",
              "      <td>Mth</td>\n",
              "      <td>103.0625</td>\n",
              "      <td>1236.75</td>\n",
              "      <td>0.0</td>\n",
              "      <td>1086.8</td>\n",
              "      <td>0.0859</td>\n",
              "      <td>106.23</td>\n",
              "      <td>30.0</td>\n",
              "      <td>0</td>\n",
              "      <td>0.0</td>\n",
              "      <td>136.23</td>\n",
              "      <td>0.0</td>\n",
              "      <td>136.23</td>\n",
              "      <td>0.110152</td>\n",
              "      <td>2008-11-10</td>\n",
              "      <td>0</td>\n",
              "      <td>0.0</td>\n",
              "      <td>0.0</td>\n",
              "      <td>0.0</td>\n",
              "      <td>0.0</td>\n",
              "      <td>0.0</td>\n",
              "      <td></td>\n",
              "      <td>2232</td>\n",
              "      <td>1965-08-23</td>\n",
              "      <td>30100493</td>\n",
              "      <td>SHIRE MUSIC CENTRE</td>\n",
              "      <td>Musical Instruments</td>\n",
              "      <td>No</td>\n",
              "      <td>No</td>\n",
              "    </tr>\n",
              "  </tbody>\n",
              "</table>\n",
              "</div>"
            ],
            "text/plain": [
              "            Id Contract_Number  ... Homowner Ind Homowner Consumer\n",
              "254224  316366        61261452  ...           No                No\n",
              "\n",
              "[1 rows x 47 columns]"
            ]
          },
          "metadata": {
            "tags": []
          },
          "execution_count": 26
        }
      ]
    },
    {
      "cell_type": "code",
      "metadata": {
        "id": "-AeEg8s45W4A",
        "colab_type": "code",
        "colab": {}
      },
      "source": [
        "# convert amount to percentage\n",
        "for fee in fees:\n",
        "  df[fee] = df[fee] / df['Financed Amt']"
      ],
      "execution_count": 0,
      "outputs": []
    },
    {
      "cell_type": "code",
      "metadata": {
        "id": "yWqYM2346kO7",
        "colab_type": "code",
        "colab": {}
      },
      "source": [
        "# rename columns (amount -> percentage)\n",
        "df.rename(columns={'Arrears Amount': 'arrear_p',\n",
        "                   'DefaultAmount': 'default_p',\n",
        "                    'Recent Default_Default Amt': 'recent_default_default_p',\n",
        "                    'Recent Default_Recov Amt': 'recent_default_recov_p',\n",
        "                    'Amt Paid To Merchant_nettofmerchfeesandGST': 'gst_p',\n",
        "                    'Est Fees': 'est_fee_p',\n",
        "                    'Other Fees': 'other_fee_p',\n",
        "                    'Total Merchant Charges': 'total_merchant_charge_p',\n",
        "                    'Total Consumer Charges': 'total_consumer_charges'                \n",
        "                   }, \n",
        "          inplace=True)"
      ],
      "execution_count": 0,
      "outputs": []
    },
    {
      "cell_type": "markdown",
      "metadata": {
        "id": "rQknwYAM6swW",
        "colab_type": "text"
      },
      "source": [
        "## Step 2.5 Rename Columns"
      ]
    },
    {
      "cell_type": "code",
      "metadata": {
        "id": "M0t5PM5V6w4O",
        "colab_type": "code",
        "colab": {}
      },
      "source": [
        "df.rename(columns={'Financed Amt': 'financed_amt', \n",
        "                   'Deposit_Percent': 'deposit_percent',\n",
        "                   'Payment Type': 'payment_type',\n",
        "                   'Instalment Amt': 'instalment_amt',\n",
        "                   'Gtee Rate': 'gtee_p',\n",
        "                   'Effective Billing Rate': 'effective_billing_rate',\n",
        "                   'No Of Days In Default': 'days_default',\n",
        "                   'No Of Days In Arrears': 'days_arrears',\n",
        "                   'MonthsToDefault': 'mth_to_default'              \n",
        "                   }, \n",
        "          inplace=True)"
      ],
      "execution_count": 0,
      "outputs": []
    },
    {
      "cell_type": "markdown",
      "metadata": {
        "id": "9o39lV_Q7AbG",
        "colab_type": "text"
      },
      "source": [
        "## Step 2.6 Re-Encode Non-Numeric Binary Variable\n",
        "\n",
        "Re-encode: 2-level obj\n",
        "\n",
        "`Freq`\n",
        "\n",
        "* FN: Fortnightly: 0\n",
        "* Mth: Monthly: 1\n",
        "\n",
        "`payment_type`\n",
        "\n",
        "* Bank: 0\n",
        "* CC: 1\n",
        "\n",
        "`Homowner Ind`, `Homowner Consumer`\n",
        "* Yes: 1\n",
        "* No: 0"
      ]
    },
    {
      "cell_type": "code",
      "metadata": {
        "id": "kQK_hmyK7LoE",
        "colab_type": "code",
        "colab": {}
      },
      "source": [
        "# Re-encode: 2-level obj\n",
        "df['Freq'] = df['Freq'].map({'FN': 0, 'Mth': 1})\n",
        "df['payment_type'] = df['payment_type'].map({'Bank': 0, 'CC': 1})\n",
        "df['Homowner Ind'] = df['Homowner Ind'].map({'Yes':1, 'No':0})\n",
        "df['Homowner Consumer'] = df['Homowner Consumer'].map({'Yes':1, 'No':0})"
      ],
      "execution_count": 0,
      "outputs": []
    },
    {
      "cell_type": "code",
      "metadata": {
        "id": "J5UYUxbG7Txc",
        "colab_type": "code",
        "outputId": "de4fd274-18fc-4775-f0e1-b03536fef683",
        "colab": {
          "base_uri": "https://localhost:8080/",
          "height": 0
        }
      },
      "source": [
        "df.sample(3)"
      ],
      "execution_count": 31,
      "outputs": [
        {
          "output_type": "execute_result",
          "data": {
            "text/html": [
              "<div>\n",
              "<style scoped>\n",
              "    .dataframe tbody tr th:only-of-type {\n",
              "        vertical-align: middle;\n",
              "    }\n",
              "\n",
              "    .dataframe tbody tr th {\n",
              "        vertical-align: top;\n",
              "    }\n",
              "\n",
              "    .dataframe thead th {\n",
              "        text-align: right;\n",
              "    }\n",
              "</style>\n",
              "<table border=\"1\" class=\"dataframe\">\n",
              "  <thead>\n",
              "    <tr style=\"text-align: right;\">\n",
              "      <th></th>\n",
              "      <th>Id</th>\n",
              "      <th>Contract_Number</th>\n",
              "      <th>Consumer_ID</th>\n",
              "      <th>Product</th>\n",
              "      <th>Contract_Status</th>\n",
              "      <th>Application_Date</th>\n",
              "      <th>Entry_Date</th>\n",
              "      <th>StartHalf</th>\n",
              "      <th>Fist Installment Date</th>\n",
              "      <th>Purchase Amt</th>\n",
              "      <th>Deposit Amt</th>\n",
              "      <th>financed_amt</th>\n",
              "      <th>Total Term</th>\n",
              "      <th>deposit_percent</th>\n",
              "      <th>Term_Run</th>\n",
              "      <th>Term_Remaining</th>\n",
              "      <th>payment_type</th>\n",
              "      <th>Total No Of Payments</th>\n",
              "      <th>Freq</th>\n",
              "      <th>instalment_amt</th>\n",
              "      <th>Total Payments Received</th>\n",
              "      <th>Total Balance Outstanding</th>\n",
              "      <th>gst_p</th>\n",
              "      <th>gtee_p</th>\n",
              "      <th>Gtee Charges</th>\n",
              "      <th>est_fee_p</th>\n",
              "      <th>Proc Fees</th>\n",
              "      <th>other_fee_p</th>\n",
              "      <th>total_merchant_charge_p</th>\n",
              "      <th>total_consumer_charges</th>\n",
              "      <th>Total Charges</th>\n",
              "      <th>effective_billing_rate</th>\n",
              "      <th>Expected Contract End Date</th>\n",
              "      <th>days_default</th>\n",
              "      <th>arrear_p</th>\n",
              "      <th>No of Days in Arrears</th>\n",
              "      <th>default_p</th>\n",
              "      <th>recent_default_default_p</th>\n",
              "      <th>recent_default_recov_p</th>\n",
              "      <th>Recent Default_Cure Date</th>\n",
              "      <th>Consumer Post Code</th>\n",
              "      <th>Consumer Year of Birth</th>\n",
              "      <th>Merchant Number</th>\n",
              "      <th>Merchant Name</th>\n",
              "      <th>INdustry Name</th>\n",
              "      <th>Homowner Ind</th>\n",
              "      <th>Homowner Consumer</th>\n",
              "    </tr>\n",
              "  </thead>\n",
              "  <tbody>\n",
              "    <tr>\n",
              "      <th>212146</th>\n",
              "      <td>274288</td>\n",
              "      <td>61149596</td>\n",
              "      <td>L61149596</td>\n",
              "      <td>RING</td>\n",
              "      <td>PaidInFull</td>\n",
              "      <td>2007-08-22</td>\n",
              "      <td>2007-08-28</td>\n",
              "      <td>2007H2</td>\n",
              "      <td>2007-09-22</td>\n",
              "      <td>1449.0</td>\n",
              "      <td>144.9</td>\n",
              "      <td>1304.1</td>\n",
              "      <td>12</td>\n",
              "      <td>0.100000</td>\n",
              "      <td>12</td>\n",
              "      <td>0</td>\n",
              "      <td>0</td>\n",
              "      <td>26</td>\n",
              "      <td>0</td>\n",
              "      <td>50.149977</td>\n",
              "      <td>1304.1</td>\n",
              "      <td>0.0</td>\n",
              "      <td>0.849705</td>\n",
              "      <td>0.1190</td>\n",
              "      <td>155.18</td>\n",
              "      <td>0.017637</td>\n",
              "      <td>0.0</td>\n",
              "      <td>0.0</td>\n",
              "      <td>0.136631</td>\n",
              "      <td>0.061345</td>\n",
              "      <td>258.18</td>\n",
              "      <td>0.197976</td>\n",
              "      <td>2008-09-22</td>\n",
              "      <td>0</td>\n",
              "      <td>0.0</td>\n",
              "      <td>0.0</td>\n",
              "      <td>0.0</td>\n",
              "      <td>0.615444</td>\n",
              "      <td>0.615444</td>\n",
              "      <td>39514</td>\n",
              "      <td>4680</td>\n",
              "      <td>1971-10-31</td>\n",
              "      <td>30113885</td>\n",
              "      <td>PROUDS JEWELLERS GLADSTONE (427)</td>\n",
              "      <td>Jewellery</td>\n",
              "      <td>0</td>\n",
              "      <td>0</td>\n",
              "    </tr>\n",
              "    <tr>\n",
              "      <th>44943</th>\n",
              "      <td>44944</td>\n",
              "      <td>60814252</td>\n",
              "      <td>L60814252</td>\n",
              "      <td>VACUUM</td>\n",
              "      <td>PaidInFull</td>\n",
              "      <td>2006-07-28</td>\n",
              "      <td>2006-08-08</td>\n",
              "      <td>2006H2</td>\n",
              "      <td>2006-11-09</td>\n",
              "      <td>1100.0</td>\n",
              "      <td>300.0</td>\n",
              "      <td>800.0</td>\n",
              "      <td>6</td>\n",
              "      <td>0.272727</td>\n",
              "      <td>6</td>\n",
              "      <td>0</td>\n",
              "      <td>0</td>\n",
              "      <td>6</td>\n",
              "      <td>1</td>\n",
              "      <td>133.333333</td>\n",
              "      <td>800.0</td>\n",
              "      <td>0.0</td>\n",
              "      <td>0.910500</td>\n",
              "      <td>0.0563</td>\n",
              "      <td>45.04</td>\n",
              "      <td>0.025000</td>\n",
              "      <td>0.0</td>\n",
              "      <td>0.0</td>\n",
              "      <td>0.081300</td>\n",
              "      <td>0.000000</td>\n",
              "      <td>65.04</td>\n",
              "      <td>0.081300</td>\n",
              "      <td>2007-11-03</td>\n",
              "      <td>0</td>\n",
              "      <td>0.0</td>\n",
              "      <td>0.0</td>\n",
              "      <td>0.0</td>\n",
              "      <td>0.000000</td>\n",
              "      <td>0.000000</td>\n",
              "      <td></td>\n",
              "      <td>6026</td>\n",
              "      <td>1967-08-22</td>\n",
              "      <td>30104047</td>\n",
              "      <td>GODFREYS - JOONDALUP</td>\n",
              "      <td>Vacuums</td>\n",
              "      <td>0</td>\n",
              "      <td>0</td>\n",
              "    </tr>\n",
              "    <tr>\n",
              "      <th>43578</th>\n",
              "      <td>43579</td>\n",
              "      <td>60809317</td>\n",
              "      <td>L60809317</td>\n",
              "      <td>BBQ</td>\n",
              "      <td>PaidInFull</td>\n",
              "      <td>2006-06-22</td>\n",
              "      <td>2006-06-27</td>\n",
              "      <td>2006H1</td>\n",
              "      <td>2006-07-21</td>\n",
              "      <td>3168.0</td>\n",
              "      <td>790.0</td>\n",
              "      <td>2378.0</td>\n",
              "      <td>12</td>\n",
              "      <td>0.249369</td>\n",
              "      <td>12</td>\n",
              "      <td>0</td>\n",
              "      <td>0</td>\n",
              "      <td>12</td>\n",
              "      <td>1</td>\n",
              "      <td>198.166667</td>\n",
              "      <td>2378.0</td>\n",
              "      <td>0.0</td>\n",
              "      <td>0.924138</td>\n",
              "      <td>0.0580</td>\n",
              "      <td>137.92</td>\n",
              "      <td>0.010934</td>\n",
              "      <td>0.0</td>\n",
              "      <td>0.0</td>\n",
              "      <td>0.068932</td>\n",
              "      <td>0.000000</td>\n",
              "      <td>163.92</td>\n",
              "      <td>0.068932</td>\n",
              "      <td>2007-07-21</td>\n",
              "      <td>0</td>\n",
              "      <td>0.0</td>\n",
              "      <td>0.0</td>\n",
              "      <td>0.0</td>\n",
              "      <td>0.000000</td>\n",
              "      <td>0.000000</td>\n",
              "      <td></td>\n",
              "      <td>2525</td>\n",
              "      <td>1950-03-18</td>\n",
              "      <td>30112881</td>\n",
              "      <td>AGL ENERGY SHOP WARRAWONG</td>\n",
              "      <td>Hot Water / Gas</td>\n",
              "      <td>1</td>\n",
              "      <td>1</td>\n",
              "    </tr>\n",
              "  </tbody>\n",
              "</table>\n",
              "</div>"
            ],
            "text/plain": [
              "            Id Contract_Number  ... Homowner Ind Homowner Consumer\n",
              "212146  274288        61149596  ...            0                 0\n",
              "44943    44944        60814252  ...            0                 0\n",
              "43578    43579        60809317  ...            1                 1\n",
              "\n",
              "[3 rows x 47 columns]"
            ]
          },
          "metadata": {
            "tags": []
          },
          "execution_count": 31
        }
      ]
    },
    {
      "cell_type": "markdown",
      "metadata": {
        "id": "9zmkpbrBJjmX",
        "colab_type": "text"
      },
      "source": [
        "## Step 2.7 Categorical Variable with more than 2 types"
      ]
    },
    {
      "cell_type": "code",
      "metadata": {
        "id": "OKrc03r37c0M",
        "colab_type": "code",
        "outputId": "af052266-808f-4904-9b3f-ec17da08e5cf",
        "colab": {
          "base_uri": "https://localhost:8080/",
          "height": 0
        }
      },
      "source": [
        "df['Contract_Status'].value_counts()"
      ],
      "execution_count": 32,
      "outputs": [
        {
          "output_type": "execute_result",
          "data": {
            "text/plain": [
              "PaidInFull    264847\n",
              "Default        11178\n",
              "Active           521\n",
              "Name: Contract_Status, dtype: int64"
            ]
          },
          "metadata": {
            "tags": []
          },
          "execution_count": 32
        }
      ]
    },
    {
      "cell_type": "markdown",
      "metadata": {
        "id": "nMRCJjF3Jr8u",
        "colab_type": "text"
      },
      "source": [
        "## Step 2.8 Mark people who have had arrears"
      ]
    },
    {
      "cell_type": "markdown",
      "metadata": {
        "id": "LY94lgIGC379",
        "colab_type": "text"
      },
      "source": [
        "Is there anyone who does not have arrears?"
      ]
    },
    {
      "cell_type": "code",
      "metadata": {
        "id": "tpqr78bq9cIi",
        "colab_type": "code",
        "outputId": "88265de3-b0db-429c-e4db-63eaf716af3e",
        "colab": {
          "base_uri": "https://localhost:8080/",
          "height": 0
        }
      },
      "source": [
        "# Is there anyone who does not have arrears?\n",
        "\n",
        "df_no_arrears = df[df['recent_default_default_p'] == 0]\n",
        "\n",
        "no_arrear_p = df_no_arrears.shape[0] / df.shape[0] * 100\n",
        "\n",
        "print(f\"{df_no_arrears.shape[0]} people do not have arrears, occupying {round(no_arrear_p, 2)}%.\")"
      ],
      "execution_count": 33,
      "outputs": [
        {
          "output_type": "stream",
          "text": [
            "237019 people do not have arrears, occupying 85.71%.\n"
          ],
          "name": "stdout"
        }
      ]
    },
    {
      "cell_type": "code",
      "metadata": {
        "id": "YvWI7ct_DAaC",
        "colab_type": "code",
        "colab": {}
      },
      "source": [
        "df['has_arrears'] = df['recent_default_default_p'].apply(lambda x: 1 if x > 0 else 0)"
      ],
      "execution_count": 0,
      "outputs": []
    },
    {
      "cell_type": "markdown",
      "metadata": {
        "id": "QXwnYP9pC81W",
        "colab_type": "text"
      },
      "source": [
        "How many people have recovered arrears?"
      ]
    },
    {
      "cell_type": "code",
      "metadata": {
        "id": "HRKpLbw2DAHf",
        "colab_type": "code",
        "outputId": "59578015-2a34-4cf1-e02c-3a541482012c",
        "colab": {
          "base_uri": "https://localhost:8080/",
          "height": 0
        }
      },
      "source": [
        "# How many people have recovered arrears?\n",
        "\n",
        "df_recov = df[df['recent_default_recov_p'] > 0]\n",
        "\n",
        "recov_p = df_recov.shape[0] / df.shape[0] * 100\n",
        "\n",
        "print(f'{df_recov.shape[0]} people have recovered arrears, occupying {round(recov_p, 2)}%.')"
      ],
      "execution_count": 35,
      "outputs": [
        {
          "output_type": "stream",
          "text": [
            "32146 people have recovered arrears, occupying 11.62%.\n"
          ],
          "name": "stdout"
        }
      ]
    },
    {
      "cell_type": "markdown",
      "metadata": {
        "id": "HNXsyyVoEF0m",
        "colab_type": "text"
      },
      "source": [
        "How many people have recovered arrears in full?"
      ]
    },
    {
      "cell_type": "code",
      "metadata": {
        "id": "x98XdIE1EFNF",
        "colab_type": "code",
        "outputId": "8c03873d-8611-4f19-9720-80b81251c1b2",
        "colab": {
          "base_uri": "https://localhost:8080/",
          "height": 0
        }
      },
      "source": [
        "# How many people have recovered arrears in full?\n",
        "\n",
        "df_recov_infull = df[df['recent_default_recov_p']==1]\n",
        "\n",
        "recov_infull_p = df_recov_infull.shape[0] / df.shape[0] * 100\n",
        "\n",
        "print(f'{df_recov_infull.shape[0]} people have recovered arrears in full, occupying {round(recov_infull_p, 2)}%.')"
      ],
      "execution_count": 36,
      "outputs": [
        {
          "output_type": "stream",
          "text": [
            "700 people have recovered arrears in full, occupying 0.25%.\n"
          ],
          "name": "stdout"
        }
      ]
    },
    {
      "cell_type": "markdown",
      "metadata": {
        "id": "91V9L_Az4vDV",
        "colab_type": "text"
      },
      "source": [
        "# Step 3 Exploring Data"
      ]
    },
    {
      "cell_type": "markdown",
      "metadata": {
        "id": "1KIHQDPwNWMJ",
        "colab_type": "text"
      },
      "source": [
        "## 3.1 Contracts\n",
        "\n",
        "* How many contracts in total? For each year? For month? - (bar chart)"
      ]
    },
    {
      "cell_type": "code",
      "metadata": {
        "id": "iPF59JZx2f1F",
        "colab_type": "code",
        "colab": {
          "base_uri": "https://localhost:8080/",
          "height": 34
        },
        "outputId": "f077b3f1-d324-4719-b08c-8c6b774da969"
      },
      "source": [
        "print(f\"The totla number of contracts is {df.shape[0]:,}.\")"
      ],
      "execution_count": 37,
      "outputs": [
        {
          "output_type": "stream",
          "text": [
            "The totla number of contracts is 276,546.\n"
          ],
          "name": "stdout"
        }
      ]
    },
    {
      "cell_type": "code",
      "metadata": {
        "id": "uTGfbpWZNY2M",
        "colab_type": "code",
        "outputId": "4e227a49-4164-4447-99f5-a268bf81ad15",
        "colab": {
          "base_uri": "https://localhost:8080/",
          "height": 34
        }
      },
      "source": [
        "print(f\"The earlist entry date is {df['Entry_Date'].min()}, whereas the latest is {df['Entry_Date'].max()}.\")"
      ],
      "execution_count": 38,
      "outputs": [
        {
          "output_type": "stream",
          "text": [
            "The earlist entry date is 2006-01-01 00:00:00, whereas the latest is 2007-12-31 00:00:00.\n"
          ],
          "name": "stdout"
        }
      ]
    },
    {
      "cell_type": "code",
      "metadata": {
        "id": "M9ptcMIRZWG1",
        "colab_type": "code",
        "colab": {}
      },
      "source": [
        "# put Year into new columns\n",
        "df['entry_y'] = df['Entry_Date'].dt.year\n",
        "#df['entry_m'] = df['Entry_Date'].dt.month\n",
        "\n",
        "# put Year and Month into new columns\n",
        "df['entry_y_m'] = df['Entry_Date'].dt.to_period('M')"
      ],
      "execution_count": 0,
      "outputs": []
    },
    {
      "cell_type": "code",
      "metadata": {
        "id": "lxBNhaXEq4oH",
        "colab_type": "code",
        "colab": {}
      },
      "source": [
        "def get_agg_df(col, agg_col, method):\n",
        "  \"\"\"\n",
        "  get aggregating result from df\n",
        "\n",
        "  INPUT:\n",
        "    col - the column name in df which data will be grouped by\n",
        "    agg_col - target column that will be aggregrated\n",
        "    method - method of aggregration, like \"count\"\n",
        "\n",
        "  OUTPUT:\n",
        "     x - the column that was grouped by\n",
        "     y - the aggregating result\n",
        "     result - df with agg results\n",
        "  \"\"\"\n",
        "\n",
        "  # get agg number, return a df\n",
        "  result = df.groupby(col).agg({agg_col: method})\n",
        "\n",
        "  # put total number into y\n",
        "  y = result[agg_col]\n",
        "\n",
        "  # put index into a new column (index was col)\n",
        "  result[col] = result.index\n",
        "  result = result.reset_index(drop = True) # change index to 0,1,2...\n",
        "  x = result[col]\n",
        "\n",
        "  return x, y, result"
      ],
      "execution_count": 0,
      "outputs": []
    },
    {
      "cell_type": "code",
      "metadata": {
        "id": "g7cqLt-fwWWZ",
        "colab_type": "code",
        "colab": {}
      },
      "source": [
        "def draw_basic_bar_plot(x, y, fig_h, fig_w, title, x_lab, y_lab):\n",
        "  \"\"\"\n",
        "  Draw a basic bar plot\n",
        "\n",
        "  INPUTS:\n",
        "     x - the column that was grouped by\n",
        "     y - the aggregating result\n",
        "     fig_h, fig_w - size of the figure\n",
        "     title - plot title\n",
        "     x_lab, y_lab - x and y lable\n",
        "  \"\"\"\n",
        "\n",
        "  # Import data:\n",
        "  height = y\n",
        "  bars = x\n",
        "  y_pos = np.arange(len(bars))\n",
        "\n",
        "  # Change the shape of figure\n",
        "  fig = plt.figure(num=None, figsize=(fig_h, fig_w), dpi=80, facecolor='w', edgecolor='k')\n",
        "\n",
        "  # Create bars\n",
        "  plt.bar(y_pos, height, color = my_color[0])\n",
        "  \n",
        "  # Create names on the x-axis\n",
        "  plt.xticks(y_pos, bars, rotation=45)\n",
        "\n",
        "  # Add title and labels\n",
        "  fig.suptitle(title, fontsize = 20)\n",
        "  plt.xlabel(x_lab, fontsize = 18)\n",
        "  plt.ylabel(y_lab, fontsize = 16)\n",
        "\n",
        "  # Show graphic\n",
        "  plt.show()"
      ],
      "execution_count": 0,
      "outputs": []
    },
    {
      "cell_type": "code",
      "metadata": {
        "id": "RZ5qsTrOwm7L",
        "colab_type": "code",
        "colab": {
          "base_uri": "https://localhost:8080/",
          "height": 793
        },
        "outputId": "6b657740-2758-479c-f59f-a603185a7204"
      },
      "source": [
        "x, y, r = get_agg_df('entry_y_m', 'Contract_Number', \"count\")\n",
        "r"
      ],
      "execution_count": 42,
      "outputs": [
        {
          "output_type": "execute_result",
          "data": {
            "text/html": [
              "<div>\n",
              "<style scoped>\n",
              "    .dataframe tbody tr th:only-of-type {\n",
              "        vertical-align: middle;\n",
              "    }\n",
              "\n",
              "    .dataframe tbody tr th {\n",
              "        vertical-align: top;\n",
              "    }\n",
              "\n",
              "    .dataframe thead th {\n",
              "        text-align: right;\n",
              "    }\n",
              "</style>\n",
              "<table border=\"1\" class=\"dataframe\">\n",
              "  <thead>\n",
              "    <tr style=\"text-align: right;\">\n",
              "      <th></th>\n",
              "      <th>Contract_Number</th>\n",
              "      <th>entry_y_m</th>\n",
              "    </tr>\n",
              "  </thead>\n",
              "  <tbody>\n",
              "    <tr>\n",
              "      <th>0</th>\n",
              "      <td>12469</td>\n",
              "      <td>2006-01</td>\n",
              "    </tr>\n",
              "    <tr>\n",
              "      <th>1</th>\n",
              "      <td>8458</td>\n",
              "      <td>2006-02</td>\n",
              "    </tr>\n",
              "    <tr>\n",
              "      <th>2</th>\n",
              "      <td>10995</td>\n",
              "      <td>2006-03</td>\n",
              "    </tr>\n",
              "    <tr>\n",
              "      <th>3</th>\n",
              "      <td>9179</td>\n",
              "      <td>2006-04</td>\n",
              "    </tr>\n",
              "    <tr>\n",
              "      <th>4</th>\n",
              "      <td>11679</td>\n",
              "      <td>2006-05</td>\n",
              "    </tr>\n",
              "    <tr>\n",
              "      <th>5</th>\n",
              "      <td>12307</td>\n",
              "      <td>2006-06</td>\n",
              "    </tr>\n",
              "    <tr>\n",
              "      <th>6</th>\n",
              "      <td>10233</td>\n",
              "      <td>2006-07</td>\n",
              "    </tr>\n",
              "    <tr>\n",
              "      <th>7</th>\n",
              "      <td>12494</td>\n",
              "      <td>2006-08</td>\n",
              "    </tr>\n",
              "    <tr>\n",
              "      <th>8</th>\n",
              "      <td>10699</td>\n",
              "      <td>2006-09</td>\n",
              "    </tr>\n",
              "    <tr>\n",
              "      <th>9</th>\n",
              "      <td>12596</td>\n",
              "      <td>2006-10</td>\n",
              "    </tr>\n",
              "    <tr>\n",
              "      <th>10</th>\n",
              "      <td>11713</td>\n",
              "      <td>2006-11</td>\n",
              "    </tr>\n",
              "    <tr>\n",
              "      <th>11</th>\n",
              "      <td>9969</td>\n",
              "      <td>2006-12</td>\n",
              "    </tr>\n",
              "    <tr>\n",
              "      <th>12</th>\n",
              "      <td>19828</td>\n",
              "      <td>2007-01</td>\n",
              "    </tr>\n",
              "    <tr>\n",
              "      <th>13</th>\n",
              "      <td>12320</td>\n",
              "      <td>2007-02</td>\n",
              "    </tr>\n",
              "    <tr>\n",
              "      <th>14</th>\n",
              "      <td>11294</td>\n",
              "      <td>2007-03</td>\n",
              "    </tr>\n",
              "    <tr>\n",
              "      <th>15</th>\n",
              "      <td>10564</td>\n",
              "      <td>2007-04</td>\n",
              "    </tr>\n",
              "    <tr>\n",
              "      <th>16</th>\n",
              "      <td>11658</td>\n",
              "      <td>2007-05</td>\n",
              "    </tr>\n",
              "    <tr>\n",
              "      <th>17</th>\n",
              "      <td>11047</td>\n",
              "      <td>2007-06</td>\n",
              "    </tr>\n",
              "    <tr>\n",
              "      <th>18</th>\n",
              "      <td>11123</td>\n",
              "      <td>2007-07</td>\n",
              "    </tr>\n",
              "    <tr>\n",
              "      <th>19</th>\n",
              "      <td>10776</td>\n",
              "      <td>2007-08</td>\n",
              "    </tr>\n",
              "    <tr>\n",
              "      <th>20</th>\n",
              "      <td>10660</td>\n",
              "      <td>2007-09</td>\n",
              "    </tr>\n",
              "    <tr>\n",
              "      <th>21</th>\n",
              "      <td>11204</td>\n",
              "      <td>2007-10</td>\n",
              "    </tr>\n",
              "    <tr>\n",
              "      <th>22</th>\n",
              "      <td>11351</td>\n",
              "      <td>2007-11</td>\n",
              "    </tr>\n",
              "    <tr>\n",
              "      <th>23</th>\n",
              "      <td>11930</td>\n",
              "      <td>2007-12</td>\n",
              "    </tr>\n",
              "  </tbody>\n",
              "</table>\n",
              "</div>"
            ],
            "text/plain": [
              "    Contract_Number entry_y_m\n",
              "0             12469   2006-01\n",
              "1              8458   2006-02\n",
              "2             10995   2006-03\n",
              "3              9179   2006-04\n",
              "4             11679   2006-05\n",
              "5             12307   2006-06\n",
              "6             10233   2006-07\n",
              "7             12494   2006-08\n",
              "8             10699   2006-09\n",
              "9             12596   2006-10\n",
              "10            11713   2006-11\n",
              "11             9969   2006-12\n",
              "12            19828   2007-01\n",
              "13            12320   2007-02\n",
              "14            11294   2007-03\n",
              "15            10564   2007-04\n",
              "16            11658   2007-05\n",
              "17            11047   2007-06\n",
              "18            11123   2007-07\n",
              "19            10776   2007-08\n",
              "20            10660   2007-09\n",
              "21            11204   2007-10\n",
              "22            11351   2007-11\n",
              "23            11930   2007-12"
            ]
          },
          "metadata": {
            "tags": []
          },
          "execution_count": 42
        }
      ]
    },
    {
      "cell_type": "code",
      "metadata": {
        "id": "_Rk705gJ3N2u",
        "colab_type": "code",
        "colab": {
          "base_uri": "https://localhost:8080/",
          "height": 514
        },
        "outputId": "6c83a6b3-23e7-4096-8dde-1c5a848afd87"
      },
      "source": [
        "draw_basic_bar_plot(x, y, 10, 6, 'Contracts in Each Month in 2006 - 2007', 'Month', 'Number of Contracts')"
      ],
      "execution_count": 43,
      "outputs": [
        {
          "output_type": "display_data",
          "data": {
            "image/png": "[encoded data removed]",
            "text/plain": [
              "<Figure size 800x480 with 1 Axes>"
            ]
          },
          "metadata": {
            "tags": []
          }
        }
      ]
    },
    {
      "cell_type": "code",
      "metadata": {
        "id": "JsZOc7iBzs-3",
        "colab_type": "code",
        "colab": {
          "base_uri": "https://localhost:8080/",
          "height": 111
        },
        "outputId": "46888375-1da8-43b0-f907-0e56d2f47ba1"
      },
      "source": [
        "x, y, r = get_agg_df('entry_y', 'Contract_Number', \"count\")\n",
        "r"
      ],
      "execution_count": 44,
      "outputs": [
        {
          "output_type": "execute_result",
          "data": {
            "text/html": [
              "<div>\n",
              "<style scoped>\n",
              "    .dataframe tbody tr th:only-of-type {\n",
              "        vertical-align: middle;\n",
              "    }\n",
              "\n",
              "    .dataframe tbody tr th {\n",
              "        vertical-align: top;\n",
              "    }\n",
              "\n",
              "    .dataframe thead th {\n",
              "        text-align: right;\n",
              "    }\n",
              "</style>\n",
              "<table border=\"1\" class=\"dataframe\">\n",
              "  <thead>\n",
              "    <tr style=\"text-align: right;\">\n",
              "      <th></th>\n",
              "      <th>Contract_Number</th>\n",
              "      <th>entry_y</th>\n",
              "    </tr>\n",
              "  </thead>\n",
              "  <tbody>\n",
              "    <tr>\n",
              "      <th>0</th>\n",
              "      <td>132791</td>\n",
              "      <td>2006</td>\n",
              "    </tr>\n",
              "    <tr>\n",
              "      <th>1</th>\n",
              "      <td>143755</td>\n",
              "      <td>2007</td>\n",
              "    </tr>\n",
              "  </tbody>\n",
              "</table>\n",
              "</div>"
            ],
            "text/plain": [
              "   Contract_Number  entry_y\n",
              "0           132791     2006\n",
              "1           143755     2007"
            ]
          },
          "metadata": {
            "tags": []
          },
          "execution_count": 44
        }
      ]
    },
    {
      "cell_type": "code",
      "metadata": {
        "id": "IzGEBL0A3whN",
        "colab_type": "code",
        "colab": {
          "base_uri": "https://localhost:8080/",
          "height": 501
        },
        "outputId": "958cd064-ecf5-4ca4-cf28-c42042f51d01"
      },
      "source": [
        "draw_basic_bar_plot(x, y, 6, 6, 'Contracts in Each Year', 'Year', 'Number of Contracts')"
      ],
      "execution_count": 45,
      "outputs": [
        {
          "output_type": "display_data",
          "data": {
            "image/png": "[encoded data removed]",
            "text/plain": [
              "<Figure size 480x480 with 1 Axes>"
            ]
          },
          "metadata": {
            "tags": []
          }
        }
      ]
    },
    {
      "cell_type": "code",
      "metadata": {
        "id": "aJ2tTM1pcpqh",
        "colab_type": "code",
        "colab": {
          "base_uri": "https://localhost:8080/",
          "height": 1000
        },
        "outputId": "488cb665-040e-4c5a-a5b0-551747206464"
      },
      "source": [
        "# separate into 2 groups: has arrears or not\n",
        "df.groupby(['entry_y_m', 'has_arrears']).agg({\"Contract_Number\": \"count\"})"
      ],
      "execution_count": 46,
      "outputs": [
        {
          "output_type": "execute_result",
          "data": {
            "text/html": [
              "<div>\n",
              "<style scoped>\n",
              "    .dataframe tbody tr th:only-of-type {\n",
              "        vertical-align: middle;\n",
              "    }\n",
              "\n",
              "    .dataframe tbody tr th {\n",
              "        vertical-align: top;\n",
              "    }\n",
              "\n",
              "    .dataframe thead th {\n",
              "        text-align: right;\n",
              "    }\n",
              "</style>\n",
              "<table border=\"1\" class=\"dataframe\">\n",
              "  <thead>\n",
              "    <tr style=\"text-align: right;\">\n",
              "      <th></th>\n",
              "      <th></th>\n",
              "      <th>Contract_Number</th>\n",
              "    </tr>\n",
              "    <tr>\n",
              "      <th>entry_y_m</th>\n",
              "      <th>has_arrears</th>\n",
              "      <th></th>\n",
              "    </tr>\n",
              "  </thead>\n",
              "  <tbody>\n",
              "    <tr>\n",
              "      <th rowspan=\"2\" valign=\"top\">2006-01</th>\n",
              "      <th>0</th>\n",
              "      <td>10557</td>\n",
              "    </tr>\n",
              "    <tr>\n",
              "      <th>1</th>\n",
              "      <td>1912</td>\n",
              "    </tr>\n",
              "    <tr>\n",
              "      <th rowspan=\"2\" valign=\"top\">2006-02</th>\n",
              "      <th>0</th>\n",
              "      <td>7171</td>\n",
              "    </tr>\n",
              "    <tr>\n",
              "      <th>1</th>\n",
              "      <td>1287</td>\n",
              "    </tr>\n",
              "    <tr>\n",
              "      <th rowspan=\"2\" valign=\"top\">2006-03</th>\n",
              "      <th>0</th>\n",
              "      <td>9377</td>\n",
              "    </tr>\n",
              "    <tr>\n",
              "      <th>1</th>\n",
              "      <td>1618</td>\n",
              "    </tr>\n",
              "    <tr>\n",
              "      <th rowspan=\"2\" valign=\"top\">2006-04</th>\n",
              "      <th>0</th>\n",
              "      <td>7836</td>\n",
              "    </tr>\n",
              "    <tr>\n",
              "      <th>1</th>\n",
              "      <td>1343</td>\n",
              "    </tr>\n",
              "    <tr>\n",
              "      <th rowspan=\"2\" valign=\"top\">2006-05</th>\n",
              "      <th>0</th>\n",
              "      <td>9997</td>\n",
              "    </tr>\n",
              "    <tr>\n",
              "      <th>1</th>\n",
              "      <td>1682</td>\n",
              "    </tr>\n",
              "    <tr>\n",
              "      <th rowspan=\"2\" valign=\"top\">2006-06</th>\n",
              "      <th>0</th>\n",
              "      <td>10587</td>\n",
              "    </tr>\n",
              "    <tr>\n",
              "      <th>1</th>\n",
              "      <td>1720</td>\n",
              "    </tr>\n",
              "    <tr>\n",
              "      <th rowspan=\"2\" valign=\"top\">2006-07</th>\n",
              "      <th>0</th>\n",
              "      <td>8749</td>\n",
              "    </tr>\n",
              "    <tr>\n",
              "      <th>1</th>\n",
              "      <td>1484</td>\n",
              "    </tr>\n",
              "    <tr>\n",
              "      <th rowspan=\"2\" valign=\"top\">2006-08</th>\n",
              "      <th>0</th>\n",
              "      <td>10594</td>\n",
              "    </tr>\n",
              "    <tr>\n",
              "      <th>1</th>\n",
              "      <td>1900</td>\n",
              "    </tr>\n",
              "    <tr>\n",
              "      <th rowspan=\"2\" valign=\"top\">2006-09</th>\n",
              "      <th>0</th>\n",
              "      <td>9062</td>\n",
              "    </tr>\n",
              "    <tr>\n",
              "      <th>1</th>\n",
              "      <td>1637</td>\n",
              "    </tr>\n",
              "    <tr>\n",
              "      <th rowspan=\"2\" valign=\"top\">2006-10</th>\n",
              "      <th>0</th>\n",
              "      <td>10791</td>\n",
              "    </tr>\n",
              "    <tr>\n",
              "      <th>1</th>\n",
              "      <td>1805</td>\n",
              "    </tr>\n",
              "    <tr>\n",
              "      <th rowspan=\"2\" valign=\"top\">2006-11</th>\n",
              "      <th>0</th>\n",
              "      <td>10065</td>\n",
              "    </tr>\n",
              "    <tr>\n",
              "      <th>1</th>\n",
              "      <td>1648</td>\n",
              "    </tr>\n",
              "    <tr>\n",
              "      <th rowspan=\"2\" valign=\"top\">2006-12</th>\n",
              "      <th>0</th>\n",
              "      <td>8443</td>\n",
              "    </tr>\n",
              "    <tr>\n",
              "      <th>1</th>\n",
              "      <td>1526</td>\n",
              "    </tr>\n",
              "    <tr>\n",
              "      <th rowspan=\"2\" valign=\"top\">2007-01</th>\n",
              "      <th>0</th>\n",
              "      <td>17061</td>\n",
              "    </tr>\n",
              "    <tr>\n",
              "      <th>1</th>\n",
              "      <td>2767</td>\n",
              "    </tr>\n",
              "    <tr>\n",
              "      <th rowspan=\"2\" valign=\"top\">2007-02</th>\n",
              "      <th>0</th>\n",
              "      <td>10612</td>\n",
              "    </tr>\n",
              "    <tr>\n",
              "      <th>1</th>\n",
              "      <td>1708</td>\n",
              "    </tr>\n",
              "    <tr>\n",
              "      <th rowspan=\"2\" valign=\"top\">2007-03</th>\n",
              "      <th>0</th>\n",
              "      <td>9768</td>\n",
              "    </tr>\n",
              "    <tr>\n",
              "      <th>1</th>\n",
              "      <td>1526</td>\n",
              "    </tr>\n",
              "    <tr>\n",
              "      <th rowspan=\"2\" valign=\"top\">2007-04</th>\n",
              "      <th>0</th>\n",
              "      <td>9174</td>\n",
              "    </tr>\n",
              "    <tr>\n",
              "      <th>1</th>\n",
              "      <td>1390</td>\n",
              "    </tr>\n",
              "    <tr>\n",
              "      <th rowspan=\"2\" valign=\"top\">2007-05</th>\n",
              "      <th>0</th>\n",
              "      <td>10099</td>\n",
              "    </tr>\n",
              "    <tr>\n",
              "      <th>1</th>\n",
              "      <td>1559</td>\n",
              "    </tr>\n",
              "    <tr>\n",
              "      <th rowspan=\"2\" valign=\"top\">2007-06</th>\n",
              "      <th>0</th>\n",
              "      <td>9490</td>\n",
              "    </tr>\n",
              "    <tr>\n",
              "      <th>1</th>\n",
              "      <td>1557</td>\n",
              "    </tr>\n",
              "    <tr>\n",
              "      <th rowspan=\"2\" valign=\"top\">2007-07</th>\n",
              "      <th>0</th>\n",
              "      <td>9598</td>\n",
              "    </tr>\n",
              "    <tr>\n",
              "      <th>1</th>\n",
              "      <td>1525</td>\n",
              "    </tr>\n",
              "    <tr>\n",
              "      <th rowspan=\"2\" valign=\"top\">2007-08</th>\n",
              "      <th>0</th>\n",
              "      <td>9262</td>\n",
              "    </tr>\n",
              "    <tr>\n",
              "      <th>1</th>\n",
              "      <td>1514</td>\n",
              "    </tr>\n",
              "    <tr>\n",
              "      <th rowspan=\"2\" valign=\"top\">2007-09</th>\n",
              "      <th>0</th>\n",
              "      <td>9159</td>\n",
              "    </tr>\n",
              "    <tr>\n",
              "      <th>1</th>\n",
              "      <td>1501</td>\n",
              "    </tr>\n",
              "    <tr>\n",
              "      <th rowspan=\"2\" valign=\"top\">2007-10</th>\n",
              "      <th>0</th>\n",
              "      <td>9676</td>\n",
              "    </tr>\n",
              "    <tr>\n",
              "      <th>1</th>\n",
              "      <td>1528</td>\n",
              "    </tr>\n",
              "    <tr>\n",
              "      <th rowspan=\"2\" valign=\"top\">2007-11</th>\n",
              "      <th>0</th>\n",
              "      <td>9737</td>\n",
              "    </tr>\n",
              "    <tr>\n",
              "      <th>1</th>\n",
              "      <td>1614</td>\n",
              "    </tr>\n",
              "    <tr>\n",
              "      <th rowspan=\"2\" valign=\"top\">2007-12</th>\n",
              "      <th>0</th>\n",
              "      <td>10155</td>\n",
              "    </tr>\n",
              "    <tr>\n",
              "      <th>1</th>\n",
              "      <td>1775</td>\n",
              "    </tr>\n",
              "  </tbody>\n",
              "</table>\n",
              "</div>"
            ],
            "text/plain": [
              "                       Contract_Number\n",
              "entry_y_m has_arrears                 \n",
              "2006-01   0                      10557\n",
              "          1                       1912\n",
              "2006-02   0                       7171\n",
              "          1                       1287\n",
              "2006-03   0                       9377\n",
              "          1                       1618\n",
              "2006-04   0                       7836\n",
              "          1                       1343\n",
              "2006-05   0                       9997\n",
              "          1                       1682\n",
              "2006-06   0                      10587\n",
              "          1                       1720\n",
              "2006-07   0                       8749\n",
              "          1                       1484\n",
              "2006-08   0                      10594\n",
              "          1                       1900\n",
              "2006-09   0                       9062\n",
              "          1                       1637\n",
              "2006-10   0                      10791\n",
              "          1                       1805\n",
              "2006-11   0                      10065\n",
              "          1                       1648\n",
              "2006-12   0                       8443\n",
              "          1                       1526\n",
              "2007-01   0                      17061\n",
              "          1                       2767\n",
              "2007-02   0                      10612\n",
              "          1                       1708\n",
              "2007-03   0                       9768\n",
              "          1                       1526\n",
              "2007-04   0                       9174\n",
              "          1                       1390\n",
              "2007-05   0                      10099\n",
              "          1                       1559\n",
              "2007-06   0                       9490\n",
              "          1                       1557\n",
              "2007-07   0                       9598\n",
              "          1                       1525\n",
              "2007-08   0                       9262\n",
              "          1                       1514\n",
              "2007-09   0                       9159\n",
              "          1                       1501\n",
              "2007-10   0                       9676\n",
              "          1                       1528\n",
              "2007-11   0                       9737\n",
              "          1                       1614\n",
              "2007-12   0                      10155\n",
              "          1                       1775"
            ]
          },
          "metadata": {
            "tags": []
          },
          "execution_count": 46
        }
      ]
    },
    {
      "cell_type": "markdown",
      "metadata": {
        "id": "eziryT9e2FvP",
        "colab_type": "text"
      },
      "source": [
        "## 3.2 Consumers\n",
        "\n",
        " "
      ]
    },
    {
      "cell_type": "markdown",
      "metadata": {
        "id": "o-bGukNx35gB",
        "colab_type": "text"
      },
      "source": [
        "### 3.2.1 How many consumers in total?"
      ]
    },
    {
      "cell_type": "code",
      "metadata": {
        "id": "-OjWjsQs4JRL",
        "colab_type": "code",
        "colab": {
          "base_uri": "https://localhost:8080/",
          "height": 0
        },
        "outputId": "4faa1f32-6241-43db-e24c-f895f4d2dcdd"
      },
      "source": [
        "df['Consumer_ID'].value_counts()"
      ],
      "execution_count": 47,
      "outputs": [
        {
          "output_type": "execute_result",
          "data": {
            "text/plain": [
              "L61112156    10\n",
              "L60028728     7\n",
              "L50019007     7\n",
              "L50016784     7\n",
              "L60832218     7\n",
              "             ..\n",
              "L60950296     1\n",
              "L60317105     1\n",
              "L61077777     1\n",
              "L60745207     1\n",
              "L60849863     1\n",
              "Name: Consumer_ID, Length: 255718, dtype: int64"
            ]
          },
          "metadata": {
            "tags": []
          },
          "execution_count": 47
        }
      ]
    },
    {
      "cell_type": "markdown",
      "metadata": {
        "id": "OvC3NXzo4oJn",
        "colab_type": "text"
      },
      "source": [
        "## 3.2.2 How about the increased rate/number of consumers for each year? For month?"
      ]
    },
    {
      "cell_type": "code",
      "metadata": {
        "id": "Gdc66dv36vxi",
        "colab_type": "code",
        "colab": {
          "base_uri": "https://localhost:8080/",
          "height": 168
        },
        "outputId": "3859855a-855e-4ae7-951c-b94b47548a31"
      },
      "source": [
        "df.head(1)"
      ],
      "execution_count": 48,
      "outputs": [
        {
          "output_type": "execute_result",
          "data": {
            "text/html": [
              "<div>\n",
              "<style scoped>\n",
              "    .dataframe tbody tr th:only-of-type {\n",
              "        vertical-align: middle;\n",
              "    }\n",
              "\n",
              "    .dataframe tbody tr th {\n",
              "        vertical-align: top;\n",
              "    }\n",
              "\n",
              "    .dataframe thead th {\n",
              "        text-align: right;\n",
              "    }\n",
              "</style>\n",
              "<table border=\"1\" class=\"dataframe\">\n",
              "  <thead>\n",
              "    <tr style=\"text-align: right;\">\n",
              "      <th></th>\n",
              "      <th>Id</th>\n",
              "      <th>Contract_Number</th>\n",
              "      <th>Consumer_ID</th>\n",
              "      <th>Product</th>\n",
              "      <th>Contract_Status</th>\n",
              "      <th>Application_Date</th>\n",
              "      <th>Entry_Date</th>\n",
              "      <th>StartHalf</th>\n",
              "      <th>Fist Installment Date</th>\n",
              "      <th>Purchase Amt</th>\n",
              "      <th>Deposit Amt</th>\n",
              "      <th>financed_amt</th>\n",
              "      <th>Total Term</th>\n",
              "      <th>deposit_percent</th>\n",
              "      <th>Term_Run</th>\n",
              "      <th>Term_Remaining</th>\n",
              "      <th>payment_type</th>\n",
              "      <th>Total No Of Payments</th>\n",
              "      <th>Freq</th>\n",
              "      <th>instalment_amt</th>\n",
              "      <th>Total Payments Received</th>\n",
              "      <th>Total Balance Outstanding</th>\n",
              "      <th>gst_p</th>\n",
              "      <th>gtee_p</th>\n",
              "      <th>Gtee Charges</th>\n",
              "      <th>est_fee_p</th>\n",
              "      <th>Proc Fees</th>\n",
              "      <th>other_fee_p</th>\n",
              "      <th>total_merchant_charge_p</th>\n",
              "      <th>total_consumer_charges</th>\n",
              "      <th>Total Charges</th>\n",
              "      <th>effective_billing_rate</th>\n",
              "      <th>Expected Contract End Date</th>\n",
              "      <th>days_default</th>\n",
              "      <th>arrear_p</th>\n",
              "      <th>No of Days in Arrears</th>\n",
              "      <th>default_p</th>\n",
              "      <th>recent_default_default_p</th>\n",
              "      <th>recent_default_recov_p</th>\n",
              "      <th>Recent Default_Cure Date</th>\n",
              "      <th>Consumer Post Code</th>\n",
              "      <th>Consumer Year of Birth</th>\n",
              "      <th>Merchant Number</th>\n",
              "      <th>Merchant Name</th>\n",
              "      <th>INdustry Name</th>\n",
              "      <th>Homowner Ind</th>\n",
              "      <th>Homowner Consumer</th>\n",
              "      <th>has_arrears</th>\n",
              "      <th>entry_y</th>\n",
              "      <th>entry_y_m</th>\n",
              "    </tr>\n",
              "  </thead>\n",
              "  <tbody>\n",
              "    <tr>\n",
              "      <th>0</th>\n",
              "      <td>1</td>\n",
              "      <td>30000022</td>\n",
              "      <td>L30000022</td>\n",
              "      <td>ALARM</td>\n",
              "      <td>PaidInFull</td>\n",
              "      <td>2006-10-18</td>\n",
              "      <td>2006-01-11</td>\n",
              "      <td>2006H2</td>\n",
              "      <td>2006-11-26</td>\n",
              "      <td>3602.38</td>\n",
              "      <td>1002.38</td>\n",
              "      <td>2600.0</td>\n",
              "      <td>48</td>\n",
              "      <td>0.278255</td>\n",
              "      <td>48</td>\n",
              "      <td>0</td>\n",
              "      <td>0</td>\n",
              "      <td>48</td>\n",
              "      <td>1</td>\n",
              "      <td>54.166667</td>\n",
              "      <td>2600.0</td>\n",
              "      <td>0.0</td>\n",
              "      <td>0.755885</td>\n",
              "      <td>0.2219</td>\n",
              "      <td>576.93</td>\n",
              "      <td>0.0</td>\n",
              "      <td>0.0</td>\n",
              "      <td>0.0</td>\n",
              "      <td>0.221896</td>\n",
              "      <td>0.0</td>\n",
              "      <td>576.93</td>\n",
              "      <td>0.221896</td>\n",
              "      <td>2010-11-26</td>\n",
              "      <td>0</td>\n",
              "      <td>0.0</td>\n",
              "      <td>0.0</td>\n",
              "      <td>0.0</td>\n",
              "      <td>0.0</td>\n",
              "      <td>0.0</td>\n",
              "      <td></td>\n",
              "      <td>6530</td>\n",
              "      <td>1960-11-24</td>\n",
              "      <td>30112641</td>\n",
              "      <td>MODERN SECURITY WA</td>\n",
              "      <td>Home Security</td>\n",
              "      <td>1</td>\n",
              "      <td>1</td>\n",
              "      <td>0</td>\n",
              "      <td>2006</td>\n",
              "      <td>2006-01</td>\n",
              "    </tr>\n",
              "  </tbody>\n",
              "</table>\n",
              "</div>"
            ],
            "text/plain": [
              "   Id Contract_Number Consumer_ID  ... has_arrears entry_y entry_y_m\n",
              "0   1        30000022   L30000022  ...           0    2006   2006-01\n",
              "\n",
              "[1 rows x 50 columns]"
            ]
          },
          "metadata": {
            "tags": []
          },
          "execution_count": 48
        }
      ]
    },
    {
      "cell_type": "code",
      "metadata": {
        "id": "qId93bNb4j6J",
        "colab_type": "code",
        "colab": {}
      },
      "source": [
        "# put Year into new columns\n",
        "df['app_y'] = df['Application_Date'].dt.year\n",
        "\n",
        "# put Year and Month into new columns\n",
        "df['app_y_m'] = df['Application_Date'].dt.to_period('M')"
      ],
      "execution_count": 0,
      "outputs": []
    },
    {
      "cell_type": "code",
      "metadata": {
        "id": "qoqLwe_R7ut1",
        "colab_type": "code",
        "colab": {
          "base_uri": "https://localhost:8080/",
          "height": 173
        },
        "outputId": "606a8119-dfff-49d8-c0a3-a4b87b392cfc"
      },
      "source": [
        "x, y, r = get_agg_df('app_y', 'Consumer_ID', 'count')\n",
        "r"
      ],
      "execution_count": 50,
      "outputs": [
        {
          "output_type": "execute_result",
          "data": {
            "text/html": [
              "<div>\n",
              "<style scoped>\n",
              "    .dataframe tbody tr th:only-of-type {\n",
              "        vertical-align: middle;\n",
              "    }\n",
              "\n",
              "    .dataframe tbody tr th {\n",
              "        vertical-align: top;\n",
              "    }\n",
              "\n",
              "    .dataframe thead th {\n",
              "        text-align: right;\n",
              "    }\n",
              "</style>\n",
              "<table border=\"1\" class=\"dataframe\">\n",
              "  <thead>\n",
              "    <tr style=\"text-align: right;\">\n",
              "      <th></th>\n",
              "      <th>Consumer_ID</th>\n",
              "      <th>app_y</th>\n",
              "    </tr>\n",
              "  </thead>\n",
              "  <tbody>\n",
              "    <tr>\n",
              "      <th>0</th>\n",
              "      <td>1</td>\n",
              "      <td>2004</td>\n",
              "    </tr>\n",
              "    <tr>\n",
              "      <th>1</th>\n",
              "      <td>8738</td>\n",
              "      <td>2005</td>\n",
              "    </tr>\n",
              "    <tr>\n",
              "      <th>2</th>\n",
              "      <td>133882</td>\n",
              "      <td>2006</td>\n",
              "    </tr>\n",
              "    <tr>\n",
              "      <th>3</th>\n",
              "      <td>133925</td>\n",
              "      <td>2007</td>\n",
              "    </tr>\n",
              "  </tbody>\n",
              "</table>\n",
              "</div>"
            ],
            "text/plain": [
              "   Consumer_ID  app_y\n",
              "0            1   2004\n",
              "1         8738   2005\n",
              "2       133882   2006\n",
              "3       133925   2007"
            ]
          },
          "metadata": {
            "tags": []
          },
          "execution_count": 50
        }
      ]
    },
    {
      "cell_type": "code",
      "metadata": {
        "id": "eRX6OMY474F6",
        "colab_type": "code",
        "colab": {
          "base_uri": "https://localhost:8080/",
          "height": 501
        },
        "outputId": "0aaa55c1-0628-44fb-a676-a34379e68400"
      },
      "source": [
        "draw_basic_bar_plot(x, y, 6, 6, 'Consumers in Each Year', 'Year', 'Number of Consumers')"
      ],
      "execution_count": 51,
      "outputs": [
        {
          "output_type": "display_data",
          "data": {
            "image/png": "[encoded data removed]",
            "text/plain": [
              "<Figure size 480x480 with 1 Axes>"
            ]
          },
          "metadata": {
            "tags": []
          }
        }
      ]
    },
    {
      "cell_type": "code",
      "metadata": {
        "id": "eTGEomwi74Ow",
        "colab_type": "code",
        "colab": {}
      },
      "source": [
        "x, y, r = get_agg_df('app_y_m', 'Consumer_ID', 'count')"
      ],
      "execution_count": 0,
      "outputs": []
    },
    {
      "cell_type": "code",
      "metadata": {
        "id": "3s0_wBHU7xIk",
        "colab_type": "code",
        "colab": {
          "base_uri": "https://localhost:8080/",
          "height": 514
        },
        "outputId": "b8c934b5-e1f1-487f-e5b1-c533cad778e0"
      },
      "source": [
        "draw_basic_bar_plot(x, y, 16, 6, 'Consumers in Each Month in 2004 - 2007', 'Month', 'Number of Consumers')"
      ],
      "execution_count": 53,
      "outputs": [
        {
          "output_type": "display_data",
          "data": {
            "image/png": "[encoded data removed]",
            "text/plain": [
              "<Figure size 1280x480 with 1 Axes>"
            ]
          },
          "metadata": {
            "tags": []
          }
        }
      ]
    },
    {
      "cell_type": "code",
      "metadata": {
        "id": "cHrOVIDT-4qi",
        "colab_type": "code",
        "colab": {}
      },
      "source": [
        "# calculate the increased rate of each month\n",
        "r['consumer_increased_rate'] = r['Consumer_ID'].pct_change()"
      ],
      "execution_count": 0,
      "outputs": []
    },
    {
      "cell_type": "code",
      "metadata": {
        "id": "aejNbe4XEqgh",
        "colab_type": "code",
        "colab": {}
      },
      "source": [
        "r.drop(r.index[[0,1]], inplace=True)"
      ],
      "execution_count": 0,
      "outputs": []
    },
    {
      "cell_type": "markdown",
      "metadata": {
        "id": "bah0rwFEFnEc",
        "colab_type": "text"
      },
      "source": [
        "# 3.3 Products\n",
        "\n",
        "How many products in total? What are the percentages for each product?\n"
      ]
    },
    {
      "cell_type": "code",
      "metadata": {
        "id": "KuoWBr9RpeZo",
        "colab_type": "code",
        "colab": {}
      },
      "source": [
        "def count_types(col):\n",
        "  # calculate the number of product types\n",
        "  new_df = df[col].value_counts()\n",
        "\n",
        "  # put the value_counts() output into df\n",
        "  new_df = new_df.rename_axis('type').reset_index(name='counts')\n",
        "\n",
        "  # use column as index\n",
        "  new_df.set_index('type', inplace=True)\n",
        "\n",
        "  return new_df\n"
      ],
      "execution_count": 0,
      "outputs": []
    },
    {
      "cell_type": "code",
      "metadata": {
        "id": "lK5jGhSwqLWk",
        "colab_type": "code",
        "colab": {}
      },
      "source": [
        "product_df = count_types('Product')"
      ],
      "execution_count": 0,
      "outputs": []
    },
    {
      "cell_type": "code",
      "metadata": {
        "id": "n8J11qv3Fw5V",
        "colab_type": "code",
        "colab": {}
      },
      "source": [
        "# calculate the number of product types\n",
        "product_df = df['Product'].value_counts()\n",
        "\n",
        "# put the value_counts() output into df\n",
        "product_df = product_df.rename_axis('product_type').reset_index(name='counts')"
      ],
      "execution_count": 0,
      "outputs": []
    },
    {
      "cell_type": "code",
      "metadata": {
        "id": "jDzrrBC-GlTA",
        "colab_type": "code",
        "colab": {
          "base_uri": "https://localhost:8080/",
          "height": 34
        },
        "outputId": "18cd8f93-2d52-45b9-af1e-09446d3371f0"
      },
      "source": [
        "print(f\"There are {product_df.shape[0]:,} kinds of products, \\\n",
        "and {product_df[product_df['counts'] >1000].shape[0]} types \\\n",
        "of them were bought more than 1000 times.\")"
      ],
      "execution_count": 96,
      "outputs": [
        {
          "output_type": "stream",
          "text": [
            "There are 22,733 kinds of products, and 37 types of them were bought more than 1000 times.\n"
          ],
          "name": "stdout"
        }
      ]
    },
    {
      "cell_type": "code",
      "metadata": {
        "id": "UH3ZDSIWHZgs",
        "colab_type": "code",
        "colab": {}
      },
      "source": [
        "# use column as index\n",
        "product_df.set_index('product_type', inplace=True)"
      ],
      "execution_count": 0,
      "outputs": []
    },
    {
      "cell_type": "code",
      "metadata": {
        "id": "72R4aWXLjpOs",
        "colab_type": "code",
        "colab": {
          "base_uri": "https://localhost:8080/",
          "height": 102
        },
        "outputId": "9e7900ac-2597-4590-fed4-a6377abdb8e5"
      },
      "source": [
        "# build a new df, with types more than 1000\n",
        "product_df_new = product_df[product_df['counts'] > 1000]\n",
        "\n",
        "# count the total number of types less than 1000\n",
        "n = product_df[product_df['counts'] <= 1000].sum()['counts']\n",
        "\n",
        "# Add a new row in the new df\n",
        "product_df_new.loc['Other Types'] = [n]"
      ],
      "execution_count": 89,
      "outputs": [
        {
          "output_type": "stream",
          "text": [
            "/usr/local/lib/python3.6/dist-packages/pandas/core/indexing.py:671: SettingWithCopyWarning: \n",
            "A value is trying to be set on a copy of a slice from a DataFrame\n",
            "\n",
            "See the caveats in the documentation: https://pandas.pydata.org/pandas-docs/stable/user_guide/indexing.html#returning-a-view-versus-a-copy\n",
            "  self._setitem_with_indexer(indexer, value)\n"
          ],
          "name": "stderr"
        }
      ]
    },
    {
      "cell_type": "code",
      "metadata": {
        "id": "fMkwerd7F-U6",
        "colab_type": "code",
        "colab": {
          "base_uri": "https://localhost:8080/",
          "height": 628
        },
        "outputId": "b6f14cbb-b5c9-45ea-8b57-ec685e1be3ee"
      },
      "source": [
        "product_df_new.plot(kind='pie', subplots=True, figsize=(16,8))"
      ],
      "execution_count": 90,
      "outputs": [
        {
          "output_type": "execute_result",
          "data": {
            "text/plain": [
              "array([<matplotlib.axes._subplots.AxesSubplot object at 0x7f80c69c4048>],\n",
              "      dtype=object)"
            ]
          },
          "metadata": {
            "tags": []
          },
          "execution_count": 90
        },
        {
          "output_type": "display_data",
          "data": {
            "image/png": "[encoded data removed]",
            "text/plain": [
              "<Figure size 1152x576 with 1 Axes>"
            ]
          },
          "metadata": {
            "tags": []
          }
        }
      ]
    },
    {
      "cell_type": "markdown",
      "metadata": {
        "id": "UJogmg_uoz5O",
        "colab_type": "text"
      },
      "source": [
        "## 3.4 Contracts\n",
        "\n",
        "How many types of Contract_status? What are the percentages for every status? (pie chart)"
      ]
    },
    {
      "cell_type": "code",
      "metadata": {
        "id": "cO5karh-o8KH",
        "colab_type": "code",
        "colab": {
          "base_uri": "https://localhost:8080/",
          "height": 173
        },
        "outputId": "801c6444-bb15-4a84-d950-6b4c813b7a7d"
      },
      "source": [
        "count_types('Contract_Status')"
      ],
      "execution_count": 99,
      "outputs": [
        {
          "output_type": "execute_result",
          "data": {
            "text/html": [
              "<div>\n",
              "<style scoped>\n",
              "    .dataframe tbody tr th:only-of-type {\n",
              "        vertical-align: middle;\n",
              "    }\n",
              "\n",
              "    .dataframe tbody tr th {\n",
              "        vertical-align: top;\n",
              "    }\n",
              "\n",
              "    .dataframe thead th {\n",
              "        text-align: right;\n",
              "    }\n",
              "</style>\n",
              "<table border=\"1\" class=\"dataframe\">\n",
              "  <thead>\n",
              "    <tr style=\"text-align: right;\">\n",
              "      <th></th>\n",
              "      <th>counts</th>\n",
              "    </tr>\n",
              "    <tr>\n",
              "      <th>type</th>\n",
              "      <th></th>\n",
              "    </tr>\n",
              "  </thead>\n",
              "  <tbody>\n",
              "    <tr>\n",
              "      <th>PaidInFull</th>\n",
              "      <td>264847</td>\n",
              "    </tr>\n",
              "    <tr>\n",
              "      <th>Default</th>\n",
              "      <td>11178</td>\n",
              "    </tr>\n",
              "    <tr>\n",
              "      <th>Active</th>\n",
              "      <td>521</td>\n",
              "    </tr>\n",
              "  </tbody>\n",
              "</table>\n",
              "</div>"
            ],
            "text/plain": [
              "            counts\n",
              "type              \n",
              "PaidInFull  264847\n",
              "Default      11178\n",
              "Active         521"
            ]
          },
          "metadata": {
            "tags": []
          },
          "execution_count": 99
        }
      ]
    },
    {
      "cell_type": "code",
      "metadata": {
        "id": "HBHnwhESq3hS",
        "colab_type": "code",
        "colab": {
          "base_uri": "https://localhost:8080/",
          "height": 500
        },
        "outputId": "6a8c7616-6627-48f3-aac9-65ea7f7c1070"
      },
      "source": [
        "count_types('Contract_Status').plot(kind='pie', subplots=True, figsize=(16,8))"
      ],
      "execution_count": 100,
      "outputs": [
        {
          "output_type": "execute_result",
          "data": {
            "text/plain": [
              "array([<matplotlib.axes._subplots.AxesSubplot object at 0x7f8089aa8390>],\n",
              "      dtype=object)"
            ]
          },
          "metadata": {
            "tags": []
          },
          "execution_count": 100
        },
        {
          "output_type": "display_data",
          "data": {
            "image/png": "[encoded data removed]",
            "text/plain": [
              "<Figure size 1152x576 with 1 Axes>"
            ]
          },
          "metadata": {
            "tags": []
          }
        }
      ]
    },
    {
      "cell_type": "code",
      "metadata": {
        "id": "r01CXE6Gqpd7",
        "colab_type": "code",
        "colab": {}
      },
      "source": [
        ""
      ],
      "execution_count": 0,
      "outputs": []
    }
  ]
}