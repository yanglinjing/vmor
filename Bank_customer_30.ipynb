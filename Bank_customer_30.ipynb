{
  "nbformat": 4,
  "nbformat_minor": 0,
  "metadata": {
    "colab": {
      "name": "Bank_customer_30.ipynb",
      "provenance": [],
      "collapsed_sections": [
        "smZETebAcqL6",
        "zl7EzuiSkTjo",
        "N7mP-C1rr68q",
        "-4n25uN3qsCO",
        "V_pOBJHapgY9",
        "rQknwYAM6swW"
      ],
      "authorship_tag": "ABX9TyPb4GPmn0um/7R0XBWEc28Z",
      "include_colab_link": true
    },
    "kernelspec": {
      "name": "python3",
      "display_name": "Python 3"
    }
  },
  "cells": [
    {
      "cell_type": "markdown",
      "metadata": {
        "id": "view-in-github",
        "colab_type": "text"
      },
      "source": [
        "<a href=\"https://colab.research.google.com/github/yanglinjing/vmor/blob/master/Bank_customer_30.ipynb\" target=\"_parent\"><img src=\"https://colab.research.google.com/assets/colab-badge.svg\" alt=\"Open In Colab\"/></a>"
      ]
    },
    {
      "cell_type": "markdown",
      "metadata": {
        "id": "smZETebAcqL6",
        "colab_type": "text"
      },
      "source": [
        "# Bank Loan Data"
      ]
    },
    {
      "cell_type": "code",
      "metadata": {
        "id": "j7s5CunhcwR7",
        "colab_type": "code",
        "outputId": "0972e330-348a-4512-c5c1-4941e6ce1e95",
        "colab": {
          "base_uri": "https://localhost:8080/",
          "height": 0
        }
      },
      "source": [
        "pip install mysql-connector"
      ],
      "execution_count": 1,
      "outputs": [
        {
          "output_type": "stream",
          "text": [
            "Requirement already satisfied: mysql-connector in /usr/local/lib/python3.6/dist-packages (2.2.9)\n"
          ],
          "name": "stdout"
        }
      ]
    },
    {
      "cell_type": "code",
      "metadata": {
        "id": "FzWEfUKSjvdu",
        "colab_type": "code",
        "outputId": "4d987b48-c31a-428f-a664-a1ea0cda0ceb",
        "colab": {
          "base_uri": "https://localhost:8080/",
          "height": 0
        }
      },
      "source": [
        "# mySQL\n",
        "import mysql.connector\n",
        "\n",
        "import numpy as np\n",
        "import pandas as pd\n",
        "\n",
        "# PCA and Clustering\n",
        "from sklearn.preprocessing import StandardScaler\n",
        "from sklearn.impute import SimpleImputer\n",
        "from sklearn.decomposition import PCA\n",
        "from sklearn.cluster import KMeans\n",
        "from sklearn.metrics import silhouette_score\n",
        "\n",
        "# Plot\n",
        "import matplotlib.pyplot as plt\n",
        "import matplotlib.ticker as ticker\n",
        "import seaborn as sns\n",
        "\n",
        "# magic word for producing visualizations in notebook\n",
        "%matplotlib inline"
      ],
      "execution_count": 2,
      "outputs": [
        {
          "output_type": "stream",
          "text": [
            "/usr/local/lib/python3.6/dist-packages/statsmodels/tools/_testing.py:19: FutureWarning: pandas.util.testing is deprecated. Use the functions in the public API at pandas.testing instead.\n",
            "  import pandas.util.testing as tm\n"
          ],
          "name": "stderr"
        }
      ]
    },
    {
      "cell_type": "code",
      "metadata": {
        "id": "sMr_rl9FFmXH",
        "colab_type": "code",
        "colab": {}
      },
      "source": [
        "import datetime as dt\n",
        "#from dateutil.relativedelta import *"
      ],
      "execution_count": 0,
      "outputs": []
    },
    {
      "cell_type": "code",
      "metadata": {
        "id": "yzzn-ry9kOCN",
        "colab_type": "code",
        "colab": {}
      },
      "source": [
        "my_color = ['#42bff4', '#f9ace9']"
      ],
      "execution_count": 0,
      "outputs": []
    },
    {
      "cell_type": "markdown",
      "metadata": {
        "id": "zl7EzuiSkTjo",
        "colab_type": "text"
      },
      "source": [
        "# Step 1： Import Data"
      ]
    },
    {
      "cell_type": "code",
      "metadata": {
        "id": "R_6E5xQkkRqq",
        "colab_type": "code",
        "colab": {}
      },
      "source": [
        "# Import data from mySQL\n",
        "db = mysql.connector.connect(user='Linjing', \n",
        "                             password='Linjing',\n",
        "                             host='119.9.52.51',\n",
        "                             database='bankloan')"
      ],
      "execution_count": 0,
      "outputs": []
    },
    {
      "cell_type": "code",
      "metadata": {
        "id": "5LnnkQ_RknLa",
        "colab_type": "code",
        "colab": {}
      },
      "source": [
        "# Create a Cursor object. It will let\n",
        "#  you execute all the queries you need\n",
        "cur = db.cursor()"
      ],
      "execution_count": 0,
      "outputs": []
    },
    {
      "cell_type": "code",
      "metadata": {
        "id": "Ky8beMNhkqXo",
        "colab_type": "code",
        "colab": {}
      },
      "source": [
        "cur.execute('SELECT * \\\n",
        "             FROM defaultloan')"
      ],
      "execution_count": 0,
      "outputs": []
    },
    {
      "cell_type": "code",
      "metadata": {
        "id": "3uJGPhKgk83-",
        "colab_type": "code",
        "colab": {}
      },
      "source": [
        "# Put data into df\n",
        "table = cur.fetchall()\n",
        "df_raw = pd.DataFrame(table)"
      ],
      "execution_count": 0,
      "outputs": []
    },
    {
      "cell_type": "code",
      "metadata": {
        "id": "RIkUJCWNk_51",
        "colab_type": "code",
        "colab": {}
      },
      "source": [
        "# Get column names \n",
        "num_cols = len(cur.description)\n",
        "cols = [i[0] for i in cur.description]\n",
        "\n",
        "# Change column names of df\n",
        "df_raw.columns = cols"
      ],
      "execution_count": 0,
      "outputs": []
    },
    {
      "cell_type": "code",
      "metadata": {
        "id": "sLpQ4XlClHQ6",
        "colab_type": "code",
        "colab": {}
      },
      "source": [
        "db.close()"
      ],
      "execution_count": 0,
      "outputs": []
    },
    {
      "cell_type": "markdown",
      "metadata": {
        "id": "jANbQQVrlKvH",
        "colab_type": "text"
      },
      "source": [
        "# Step 2: Proprecessing Data\n"
      ]
    },
    {
      "cell_type": "markdown",
      "metadata": {
        "id": "f1hB-H_CJdhl",
        "colab_type": "text"
      },
      "source": [
        "## Step 2.1 Observing Data"
      ]
    },
    {
      "cell_type": "code",
      "metadata": {
        "id": "8xZCYOnLTQ6H",
        "colab_type": "code",
        "colab": {}
      },
      "source": [
        "df = df_raw.copy()"
      ],
      "execution_count": 0,
      "outputs": []
    },
    {
      "cell_type": "code",
      "metadata": {
        "id": "iNeW7jpjlH-g",
        "colab_type": "code",
        "outputId": "df6b56d3-ebb2-45de-8d36-41ba7e2071b2",
        "colab": {
          "base_uri": "https://localhost:8080/",
          "height": 34
        }
      },
      "source": [
        "df.shape"
      ],
      "execution_count": 12,
      "outputs": [
        {
          "output_type": "execute_result",
          "data": {
            "text/plain": [
              "(276546, 50)"
            ]
          },
          "metadata": {
            "tags": []
          },
          "execution_count": 12
        }
      ]
    },
    {
      "cell_type": "code",
      "metadata": {
        "id": "Ckqt8wVIlVnE",
        "colab_type": "code",
        "outputId": "2cc7cfe6-5b9d-42b7-9050-40b8ee3ac300",
        "colab": {
          "base_uri": "https://localhost:8080/",
          "height": 315
        }
      },
      "source": [
        "df.sample(3)"
      ],
      "execution_count": 13,
      "outputs": [
        {
          "output_type": "execute_result",
          "data": {
            "text/html": [
              "<div>\n",
              "<style scoped>\n",
              "    .dataframe tbody tr th:only-of-type {\n",
              "        vertical-align: middle;\n",
              "    }\n",
              "\n",
              "    .dataframe tbody tr th {\n",
              "        vertical-align: top;\n",
              "    }\n",
              "\n",
              "    .dataframe thead th {\n",
              "        text-align: right;\n",
              "    }\n",
              "</style>\n",
              "<table border=\"1\" class=\"dataframe\">\n",
              "  <thead>\n",
              "    <tr style=\"text-align: right;\">\n",
              "      <th></th>\n",
              "      <th>Id</th>\n",
              "      <th>Contract_Number</th>\n",
              "      <th>Consumer_ID</th>\n",
              "      <th>Product</th>\n",
              "      <th>Contract_Status</th>\n",
              "      <th>Application_Date</th>\n",
              "      <th>Entry_Date</th>\n",
              "      <th>StartHalf</th>\n",
              "      <th>Fist Installment Date</th>\n",
              "      <th>Purchase Amt</th>\n",
              "      <th>Deposit Amt</th>\n",
              "      <th>Financed Amt</th>\n",
              "      <th>Total Term</th>\n",
              "      <th>Deposit_Percent</th>\n",
              "      <th>Term_Run</th>\n",
              "      <th>Term_Remaining</th>\n",
              "      <th>Payment Type</th>\n",
              "      <th>Total No Of Payments</th>\n",
              "      <th>Freq</th>\n",
              "      <th>Instalment Amt</th>\n",
              "      <th>Total Payments Received</th>\n",
              "      <th>Total Balance Outstanding</th>\n",
              "      <th>Amt Paid To Merchant_nettofmerchfeesandGST</th>\n",
              "      <th>Gtee Rate</th>\n",
              "      <th>Gtee Charges</th>\n",
              "      <th>Est Fees</th>\n",
              "      <th>Proc Fees</th>\n",
              "      <th>Other Fees</th>\n",
              "      <th>Total Merchant Charges</th>\n",
              "      <th>Total Consumer Charges</th>\n",
              "      <th>Total Charges</th>\n",
              "      <th>Effective Billing Rate</th>\n",
              "      <th>Expected Contract End Date</th>\n",
              "      <th>No Of Days In Default</th>\n",
              "      <th>Arrears Amount</th>\n",
              "      <th>No of Days in Arrears</th>\n",
              "      <th>DefaultAmount</th>\n",
              "      <th>DefaultDate</th>\n",
              "      <th>MonthsToDefault</th>\n",
              "      <th>Recent Default_Default Date</th>\n",
              "      <th>Recent Default_Default Amt</th>\n",
              "      <th>Recent Default_Recov Amt</th>\n",
              "      <th>Recent Default_Cure Date</th>\n",
              "      <th>Consumer Post Code</th>\n",
              "      <th>Consumer Year of Birth</th>\n",
              "      <th>Merchant Number</th>\n",
              "      <th>Merchant Name</th>\n",
              "      <th>INdustry Name</th>\n",
              "      <th>Homowner Ind</th>\n",
              "      <th>Homowner Consumer</th>\n",
              "    </tr>\n",
              "  </thead>\n",
              "  <tbody>\n",
              "    <tr>\n",
              "      <th>84385</th>\n",
              "      <td>84386</td>\n",
              "      <td>60931084</td>\n",
              "      <td>L60931084</td>\n",
              "      <td>SOFA</td>\n",
              "      <td>PaidInFull</td>\n",
              "      <td>11/09/2006</td>\n",
              "      <td>18/10/2006</td>\n",
              "      <td>2006H2</td>\n",
              "      <td>26/10/2006</td>\n",
              "      <td>3543</td>\n",
              "      <td>1063</td>\n",
              "      <td>2480</td>\n",
              "      <td>30</td>\n",
              "      <td>0.300028225</td>\n",
              "      <td>30</td>\n",
              "      <td>0</td>\n",
              "      <td>Bank</td>\n",
              "      <td>60</td>\n",
              "      <td>FN</td>\n",
              "      <td>38.14797723</td>\n",
              "      <td>2,480.00</td>\n",
              "      <td>0.00</td>\n",
              "      <td>2077.2</td>\n",
              "      <td>0.131500006</td>\n",
              "      <td>326.12</td>\n",
              "      <td>40</td>\n",
              "      <td>0</td>\n",
              "      <td>0</td>\n",
              "      <td>366.12</td>\n",
              "      <td>0.00</td>\n",
              "      <td>366.12</td>\n",
              "      <td>0.147629032</td>\n",
              "      <td>26/04/2009</td>\n",
              "      <td>0</td>\n",
              "      <td>0</td>\n",
              "      <td>0</td>\n",
              "      <td>0</td>\n",
              "      <td></td>\n",
              "      <td></td>\n",
              "      <td></td>\n",
              "      <td>0.00</td>\n",
              "      <td>0.00</td>\n",
              "      <td></td>\n",
              "      <td>3913</td>\n",
              "      <td>3/09/1973</td>\n",
              "      <td>30107763</td>\n",
              "      <td>OZ DESIGN DANDENONG</td>\n",
              "      <td>Furniture / Bedding New</td>\n",
              "      <td>No</td>\n",
              "      <td>No</td>\n",
              "    </tr>\n",
              "    <tr>\n",
              "      <th>246539</th>\n",
              "      <td>308681</td>\n",
              "      <td>61239245</td>\n",
              "      <td>L61239245</td>\n",
              "      <td>TIM,LL</td>\n",
              "      <td>PaidInFull</td>\n",
              "      <td>23/08/2007</td>\n",
              "      <td>27/08/2007</td>\n",
              "      <td>2007H2</td>\n",
              "      <td>22/09/2007</td>\n",
              "      <td>1850</td>\n",
              "      <td>370</td>\n",
              "      <td>1480</td>\n",
              "      <td>12</td>\n",
              "      <td>0.2</td>\n",
              "      <td>12</td>\n",
              "      <td>0</td>\n",
              "      <td>Bank</td>\n",
              "      <td>26</td>\n",
              "      <td>FN</td>\n",
              "      <td>56.91432087</td>\n",
              "      <td>1,480.00</td>\n",
              "      <td>0.00</td>\n",
              "      <td>1312.3</td>\n",
              "      <td>0.0854</td>\n",
              "      <td>126.39</td>\n",
              "      <td>26</td>\n",
              "      <td>0</td>\n",
              "      <td>0</td>\n",
              "      <td>152.39</td>\n",
              "      <td>0.00</td>\n",
              "      <td>152.39</td>\n",
              "      <td>0.102966216</td>\n",
              "      <td>22/09/2008</td>\n",
              "      <td>0</td>\n",
              "      <td>0</td>\n",
              "      <td>0</td>\n",
              "      <td>0</td>\n",
              "      <td></td>\n",
              "      <td></td>\n",
              "      <td></td>\n",
              "      <td>0.00</td>\n",
              "      <td>0.00</td>\n",
              "      <td></td>\n",
              "      <td>6035</td>\n",
              "      <td>13/04/1960</td>\n",
              "      <td>30106315</td>\n",
              "      <td>ORBIT HEALTH &amp; FITNESS - JOONDALUP</td>\n",
              "      <td>Fitness Equipment</td>\n",
              "      <td>No</td>\n",
              "      <td>No</td>\n",
              "    </tr>\n",
              "    <tr>\n",
              "      <th>165712</th>\n",
              "      <td>196784</td>\n",
              "      <td>60980089</td>\n",
              "      <td>L60980089</td>\n",
              "      <td>X610042</td>\n",
              "      <td>PaidInFull</td>\n",
              "      <td>3/08/2007</td>\n",
              "      <td>10/08/2007</td>\n",
              "      <td>2007H2</td>\n",
              "      <td>24/08/2007</td>\n",
              "      <td>2199</td>\n",
              "      <td>561</td>\n",
              "      <td>1638</td>\n",
              "      <td>18</td>\n",
              "      <td>0.255115962</td>\n",
              "      <td>18</td>\n",
              "      <td>0</td>\n",
              "      <td>Bank</td>\n",
              "      <td>39</td>\n",
              "      <td>FN</td>\n",
              "      <td>41.99353946</td>\n",
              "      <td>1,638.00</td>\n",
              "      <td>0.00</td>\n",
              "      <td>1426</td>\n",
              "      <td>0.097499996</td>\n",
              "      <td>159.7</td>\n",
              "      <td>33</td>\n",
              "      <td>0</td>\n",
              "      <td>0</td>\n",
              "      <td>192.70</td>\n",
              "      <td>40.00</td>\n",
              "      <td>232.70</td>\n",
              "      <td>0.142063492</td>\n",
              "      <td>24/02/2009</td>\n",
              "      <td>0</td>\n",
              "      <td>0</td>\n",
              "      <td>0</td>\n",
              "      <td>0</td>\n",
              "      <td></td>\n",
              "      <td></td>\n",
              "      <td>26/02/2008</td>\n",
              "      <td>1,092.00</td>\n",
              "      <td>114.00</td>\n",
              "      <td>39522</td>\n",
              "      <td>4560</td>\n",
              "      <td>20/07/1954</td>\n",
              "      <td>30107621</td>\n",
              "      <td>FITNESS MARKET NEWMARKET</td>\n",
              "      <td>Fitness Equipment</td>\n",
              "      <td>No</td>\n",
              "      <td>No</td>\n",
              "    </tr>\n",
              "  </tbody>\n",
              "</table>\n",
              "</div>"
            ],
            "text/plain": [
              "            Id Contract_Number  ... Homowner Ind Homowner Consumer\n",
              "84385    84386        60931084  ...           No                No\n",
              "246539  308681        61239245  ...           No                No\n",
              "165712  196784        60980089  ...           No                No\n",
              "\n",
              "[3 rows x 50 columns]"
            ]
          },
          "metadata": {
            "tags": []
          },
          "execution_count": 13
        }
      ]
    },
    {
      "cell_type": "markdown",
      "metadata": {
        "id": "N7mP-C1rr68q",
        "colab_type": "text"
      },
      "source": [
        "## Step 2.2 Convert Data Type"
      ]
    },
    {
      "cell_type": "code",
      "metadata": {
        "id": "sMztL6_bsCgG",
        "colab_type": "code",
        "colab": {}
      },
      "source": [
        "# convert object to datetime\n",
        "\n",
        "column_date = ['Application_Date', \n",
        "               'Entry_Date', \n",
        "               'Fist Installment Date', \n",
        "               'Expected Contract End Date', \n",
        "               'DefaultDate', \n",
        "               'Recent Default_Default Date',\n",
        "               #'Recent Default_Cure Date',\n",
        "               'Consumer Year of Birth']\n",
        "\n",
        "for column in column_date:\n",
        "  df[column] = pd.to_datetime(df[column])"
      ],
      "execution_count": 0,
      "outputs": []
    },
    {
      "cell_type": "code",
      "metadata": {
        "id": "9g57iled5i3i",
        "colab_type": "code",
        "outputId": "54e8fed2-6a20-43df-e98c-093f73f24967",
        "colab": {
          "base_uri": "https://localhost:8080/",
          "height": 0
        }
      },
      "source": [
        "df.head(1)"
      ],
      "execution_count": 15,
      "outputs": [
        {
          "output_type": "execute_result",
          "data": {
            "text/html": [
              "<div>\n",
              "<style scoped>\n",
              "    .dataframe tbody tr th:only-of-type {\n",
              "        vertical-align: middle;\n",
              "    }\n",
              "\n",
              "    .dataframe tbody tr th {\n",
              "        vertical-align: top;\n",
              "    }\n",
              "\n",
              "    .dataframe thead th {\n",
              "        text-align: right;\n",
              "    }\n",
              "</style>\n",
              "<table border=\"1\" class=\"dataframe\">\n",
              "  <thead>\n",
              "    <tr style=\"text-align: right;\">\n",
              "      <th></th>\n",
              "      <th>Id</th>\n",
              "      <th>Contract_Number</th>\n",
              "      <th>Consumer_ID</th>\n",
              "      <th>Product</th>\n",
              "      <th>Contract_Status</th>\n",
              "      <th>Application_Date</th>\n",
              "      <th>Entry_Date</th>\n",
              "      <th>StartHalf</th>\n",
              "      <th>Fist Installment Date</th>\n",
              "      <th>Purchase Amt</th>\n",
              "      <th>Deposit Amt</th>\n",
              "      <th>Financed Amt</th>\n",
              "      <th>Total Term</th>\n",
              "      <th>Deposit_Percent</th>\n",
              "      <th>Term_Run</th>\n",
              "      <th>Term_Remaining</th>\n",
              "      <th>Payment Type</th>\n",
              "      <th>Total No Of Payments</th>\n",
              "      <th>Freq</th>\n",
              "      <th>Instalment Amt</th>\n",
              "      <th>Total Payments Received</th>\n",
              "      <th>Total Balance Outstanding</th>\n",
              "      <th>Amt Paid To Merchant_nettofmerchfeesandGST</th>\n",
              "      <th>Gtee Rate</th>\n",
              "      <th>Gtee Charges</th>\n",
              "      <th>Est Fees</th>\n",
              "      <th>Proc Fees</th>\n",
              "      <th>Other Fees</th>\n",
              "      <th>Total Merchant Charges</th>\n",
              "      <th>Total Consumer Charges</th>\n",
              "      <th>Total Charges</th>\n",
              "      <th>Effective Billing Rate</th>\n",
              "      <th>Expected Contract End Date</th>\n",
              "      <th>No Of Days In Default</th>\n",
              "      <th>Arrears Amount</th>\n",
              "      <th>No of Days in Arrears</th>\n",
              "      <th>DefaultAmount</th>\n",
              "      <th>DefaultDate</th>\n",
              "      <th>MonthsToDefault</th>\n",
              "      <th>Recent Default_Default Date</th>\n",
              "      <th>Recent Default_Default Amt</th>\n",
              "      <th>Recent Default_Recov Amt</th>\n",
              "      <th>Recent Default_Cure Date</th>\n",
              "      <th>Consumer Post Code</th>\n",
              "      <th>Consumer Year of Birth</th>\n",
              "      <th>Merchant Number</th>\n",
              "      <th>Merchant Name</th>\n",
              "      <th>INdustry Name</th>\n",
              "      <th>Homowner Ind</th>\n",
              "      <th>Homowner Consumer</th>\n",
              "    </tr>\n",
              "  </thead>\n",
              "  <tbody>\n",
              "    <tr>\n",
              "      <th>0</th>\n",
              "      <td>1</td>\n",
              "      <td>30000022</td>\n",
              "      <td>L30000022</td>\n",
              "      <td>ALARM</td>\n",
              "      <td>PaidInFull</td>\n",
              "      <td>2006-10-18</td>\n",
              "      <td>2006-01-11</td>\n",
              "      <td>2006H2</td>\n",
              "      <td>2006-11-26</td>\n",
              "      <td>3602.38</td>\n",
              "      <td>1002.38</td>\n",
              "      <td>2600</td>\n",
              "      <td>48</td>\n",
              "      <td>0.278254931</td>\n",
              "      <td>48</td>\n",
              "      <td>0</td>\n",
              "      <td>Bank</td>\n",
              "      <td>48</td>\n",
              "      <td>Mth</td>\n",
              "      <td>54.16666667</td>\n",
              "      <td>2,600.00</td>\n",
              "      <td>0.00</td>\n",
              "      <td>1965.3</td>\n",
              "      <td>0.221900001</td>\n",
              "      <td>576.93</td>\n",
              "      <td>0</td>\n",
              "      <td>0</td>\n",
              "      <td>0</td>\n",
              "      <td>576.93</td>\n",
              "      <td>0.00</td>\n",
              "      <td>576.93</td>\n",
              "      <td>0.221896154</td>\n",
              "      <td>2010-11-26</td>\n",
              "      <td>0</td>\n",
              "      <td>0</td>\n",
              "      <td>0</td>\n",
              "      <td>0</td>\n",
              "      <td>NaT</td>\n",
              "      <td></td>\n",
              "      <td>NaT</td>\n",
              "      <td>0.00</td>\n",
              "      <td>0.00</td>\n",
              "      <td></td>\n",
              "      <td>6530</td>\n",
              "      <td>1960-11-24</td>\n",
              "      <td>30112641</td>\n",
              "      <td>MODERN SECURITY WA</td>\n",
              "      <td>Home Security</td>\n",
              "      <td>Yes</td>\n",
              "      <td>Yes</td>\n",
              "    </tr>\n",
              "  </tbody>\n",
              "</table>\n",
              "</div>"
            ],
            "text/plain": [
              "   Id Contract_Number Consumer_ID  ...  INdustry Name Homowner Ind Homowner Consumer\n",
              "0   1        30000022   L30000022  ...  Home Security          Yes               Yes\n",
              "\n",
              "[1 rows x 50 columns]"
            ]
          },
          "metadata": {
            "tags": []
          },
          "execution_count": 15
        }
      ]
    },
    {
      "cell_type": "code",
      "metadata": {
        "id": "a337QP7XUjO3",
        "colab_type": "code",
        "colab": {}
      },
      "source": [
        "# convert object to float\n",
        "\n",
        "column_num = ['Purchase Amt', 'Deposit Amt', 'Financed Amt', \n",
        "              'Total Term', 'Deposit_Percent', 'Term_Run',\n",
        "              'Term_Remaining', 'Total No Of Payments',\n",
        "              'Instalment Amt', 'Total Payments Received',\n",
        "              'Total Balance Outstanding', 'Amt Paid To Merchant_nettofmerchfeesandGST',\n",
        "              'Gtee Rate', 'Gtee Charges', 'Est Fees',\n",
        "              'Proc Fees', 'Other Fees', 'Total Merchant Charges',\n",
        "              'Total Consumer Charges', 'Total Charges',\n",
        "              'Effective Billing Rate', 'No Of Days In Default',\n",
        "              'Arrears Amount', 'No of Days in Arrears',\n",
        "              'DefaultAmount', 'MonthsToDefault',\n",
        "              'Recent Default_Default Amt',\n",
        "              'Recent Default_Recov Amt']\n",
        "\n",
        "for column in column_num:\n",
        "\n",
        "  # Remove thousand separator \n",
        "  df[column] = df[column].str.replace(',', '')\n",
        "\n",
        "  # Nan / NaT\n",
        "  df[column] = df[column].str.replace('NaT', '')\n",
        "  df[column] = df[column].str.replace('NaN', '')\n",
        "\n",
        "  # convert string to numeric\n",
        "  df[column] = pd.to_numeric(df[column])\n"
      ],
      "execution_count": 0,
      "outputs": []
    },
    {
      "cell_type": "code",
      "metadata": {
        "id": "Wc-0ZXqfe5zF",
        "colab_type": "code",
        "outputId": "971c3612-a6c8-4c79-c2c3-fae67727093b",
        "colab": {
          "base_uri": "https://localhost:8080/",
          "height": 0
        }
      },
      "source": [
        "df.info()"
      ],
      "execution_count": 17,
      "outputs": [
        {
          "output_type": "stream",
          "text": [
            "<class 'pandas.core.frame.DataFrame'>\n",
            "RangeIndex: 276546 entries, 0 to 276545\n",
            "Data columns (total 50 columns):\n",
            " #   Column                                      Non-Null Count   Dtype         \n",
            "---  ------                                      --------------   -----         \n",
            " 0   Id                                          276546 non-null  int64         \n",
            " 1   Contract_Number                             276546 non-null  object        \n",
            " 2   Consumer_ID                                 276546 non-null  object        \n",
            " 3   Product                                     276546 non-null  object        \n",
            " 4   Contract_Status                             276546 non-null  object        \n",
            " 5   Application_Date                            276546 non-null  datetime64[ns]\n",
            " 6   Entry_Date                                  276546 non-null  datetime64[ns]\n",
            " 7   StartHalf                                   276546 non-null  object        \n",
            " 8   Fist Installment Date                       276546 non-null  datetime64[ns]\n",
            " 9   Purchase Amt                                276546 non-null  float64       \n",
            " 10  Deposit Amt                                 276546 non-null  float64       \n",
            " 11  Financed Amt                                276546 non-null  float64       \n",
            " 12  Total Term                                  276546 non-null  int64         \n",
            " 13  Deposit_Percent                             276546 non-null  float64       \n",
            " 14  Term_Run                                    276546 non-null  int64         \n",
            " 15  Term_Remaining                              276546 non-null  int64         \n",
            " 16  Payment Type                                276546 non-null  object        \n",
            " 17  Total No Of Payments                        276546 non-null  int64         \n",
            " 18  Freq                                        276546 non-null  object        \n",
            " 19  Instalment Amt                              276546 non-null  float64       \n",
            " 20  Total Payments Received                     276546 non-null  float64       \n",
            " 21  Total Balance Outstanding                   276546 non-null  float64       \n",
            " 22  Amt Paid To Merchant_nettofmerchfeesandGST  276546 non-null  float64       \n",
            " 23  Gtee Rate                                   276546 non-null  float64       \n",
            " 24  Gtee Charges                                276546 non-null  float64       \n",
            " 25  Est Fees                                    276546 non-null  float64       \n",
            " 26  Proc Fees                                   276546 non-null  int64         \n",
            " 27  Other Fees                                  276546 non-null  float64       \n",
            " 28  Total Merchant Charges                      276546 non-null  float64       \n",
            " 29  Total Consumer Charges                      276546 non-null  float64       \n",
            " 30  Total Charges                               276546 non-null  float64       \n",
            " 31  Effective Billing Rate                      276546 non-null  float64       \n",
            " 32  Expected Contract End Date                  276546 non-null  datetime64[ns]\n",
            " 33  No Of Days In Default                       276546 non-null  int64         \n",
            " 34  Arrears Amount                              276536 non-null  float64       \n",
            " 35  No of Days in Arrears                       276536 non-null  float64       \n",
            " 36  DefaultAmount                               276546 non-null  float64       \n",
            " 37  DefaultDate                                 11134 non-null   datetime64[ns]\n",
            " 38  MonthsToDefault                             11134 non-null   float64       \n",
            " 39  Recent Default_Default Date                 39524 non-null   datetime64[ns]\n",
            " 40  Recent Default_Default Amt                  276545 non-null  float64       \n",
            " 41  Recent Default_Recov Amt                    276546 non-null  float64       \n",
            " 42  Recent Default_Cure Date                    276546 non-null  object        \n",
            " 43  Consumer Post Code                          276546 non-null  object        \n",
            " 44  Consumer Year of Birth                      276499 non-null  datetime64[ns]\n",
            " 45  Merchant Number                             276546 non-null  object        \n",
            " 46  Merchant Name                               276546 non-null  object        \n",
            " 47  INdustry Name                               276546 non-null  object        \n",
            " 48  Homowner Ind                                276546 non-null  object        \n",
            " 49  Homowner Consumer                           276546 non-null  object        \n",
            "dtypes: datetime64[ns](7), float64(22), int64(7), object(14)\n",
            "memory usage: 105.5+ MB\n"
          ],
          "name": "stdout"
        }
      ]
    },
    {
      "cell_type": "markdown",
      "metadata": {
        "id": "-4n25uN3qsCO",
        "colab_type": "text"
      },
      "source": [
        "## Step 2.3 Missing Values\n",
        "\n",
        "### Step 2.3.1 Columns\n"
      ]
    },
    {
      "cell_type": "code",
      "metadata": {
        "id": "cYDQlAP6qrba",
        "colab_type": "code",
        "outputId": "dfbcb28a-5709-40bc-c359-11db486c8a77",
        "colab": {
          "base_uri": "https://localhost:8080/",
          "height": 0
        }
      },
      "source": [
        "# Calculate the percentage of missing values of each column\n",
        "missing = df.isnull().sum()\n",
        "missing = missing[missing > 0] / df.shape[0] *100\n",
        "missing.sort_values(inplace = True)\n",
        "\n",
        "print(f\"{len(missing)} out of {df.shape[1]} columns contain missing values, from {round(missing[0], 2)}% to {round(missing[-1], 2)}%.\")"
      ],
      "execution_count": 18,
      "outputs": [
        {
          "output_type": "stream",
          "text": [
            "7 out of 50 columns contain missing values, from 0.0% to 95.97%.\n"
          ],
          "name": "stdout"
        }
      ]
    },
    {
      "cell_type": "code",
      "metadata": {
        "id": "aRFGIn0NfhmE",
        "colab_type": "code",
        "outputId": "1dbd99c8-e62e-4f11-c319-3643264244b3",
        "colab": {
          "base_uri": "https://localhost:8080/",
          "height": 0
        }
      },
      "source": [
        "#Visualizing the naturally missing data\n",
        "missing.plot.barh(figsize = (10, 3), fontsize = 12, color= my_color[0])\n",
        "plt.title('Percentage of Missing Values in Columns', size = 14)\n",
        "plt.show()"
      ],
      "execution_count": 19,
      "outputs": [
        {
          "output_type": "display_data",
          "data": {
            "image/png": "[encoded data removed]",
            "text/plain": [
              "<Figure size 720x216 with 1 Axes>"
            ]
          },
          "metadata": {
            "tags": [],
            "needs_background": "light"
          }
        }
      ]
    },
    {
      "cell_type": "code",
      "metadata": {
        "id": "g5cm1xxMnv2x",
        "colab_type": "code",
        "colab": {}
      },
      "source": [
        "# Remove the outlier columns from the dataset / feature summary. \n",
        "\n",
        "# columns have more than 80% missing values\n",
        "missing_80 = missing[missing >80]\n",
        "\n",
        "# Drop columns that contain 20% missing values\n",
        "for col in missing_80.index:\n",
        "  \n",
        "  # Dataset\n",
        "  df.drop(col, axis = 1, inplace = True)\n"
      ],
      "execution_count": 0,
      "outputs": []
    },
    {
      "cell_type": "code",
      "metadata": {
        "id": "gdVNrdc2ohuT",
        "colab_type": "code",
        "outputId": "fa2c872d-6506-48bc-99bb-4085ece63904",
        "colab": {
          "base_uri": "https://localhost:8080/",
          "height": 0
        }
      },
      "source": [
        "df.shape"
      ],
      "execution_count": 21,
      "outputs": [
        {
          "output_type": "execute_result",
          "data": {
            "text/plain": [
              "(276546, 47)"
            ]
          },
          "metadata": {
            "tags": []
          },
          "execution_count": 21
        }
      ]
    },
    {
      "cell_type": "markdown",
      "metadata": {
        "id": "VUFWTEzlmmux",
        "colab_type": "text"
      },
      "source": [
        "### Step 2.3.2 Rows\n"
      ]
    },
    {
      "cell_type": "code",
      "metadata": {
        "id": "Xcnq7x_9mpTi",
        "colab_type": "code",
        "colab": {}
      },
      "source": [
        "# How much data is missing in each row of the dataset?\n",
        "missing_r = df.isnull().sum(axis=1)"
      ],
      "execution_count": 0,
      "outputs": []
    },
    {
      "cell_type": "code",
      "metadata": {
        "id": "wLvkw339m5fp",
        "colab_type": "code",
        "outputId": "1d917175-37b9-4228-e10c-d6eca4bf9966",
        "colab": {
          "base_uri": "https://localhost:8080/",
          "height": 0
        }
      },
      "source": [
        "# Visualise\n",
        "missing_r[missing_r > 0].plot(kind='hist', bins=40, figsize=(10,3), color=my_color[0])\n",
        "plt.title('Missing Value in Rows')\n",
        "plt.ylabel('Counts')\n",
        "plt.xlabel('Number of Missing Values')\n",
        "plt.show()"
      ],
      "execution_count": 23,
      "outputs": [
        {
          "output_type": "display_data",
          "data": {
            "image/png": "[encoded data removed]",
            "text/plain": [
              "<Figure size 720x216 with 1 Axes>"
            ]
          },
          "metadata": {
            "tags": [],
            "needs_background": "light"
          }
        }
      ]
    },
    {
      "cell_type": "markdown",
      "metadata": {
        "id": "V_pOBJHapgY9",
        "colab_type": "text"
      },
      "source": [
        "## Step 2.4 Calculate Percentage"
      ]
    },
    {
      "cell_type": "code",
      "metadata": {
        "id": "SVKAcbzGpkvZ",
        "colab_type": "code",
        "colab": {}
      },
      "source": [
        "# arrears and all kinds of fees\n",
        "fees = ['Arrears Amount',\n",
        "        'DefaultAmount',\n",
        "        'Recent Default_Default Amt',\n",
        "        'Recent Default_Recov Amt',\n",
        "        'Amt Paid To Merchant_nettofmerchfeesandGST',\n",
        "        'Est Fees',\n",
        "        'Proc Fees',\n",
        "        'Other Fees',\n",
        "        'Total Merchant Charges',\n",
        "        'Total Consumer Charges'\n",
        "        ]"
      ],
      "execution_count": 0,
      "outputs": []
    },
    {
      "cell_type": "code",
      "metadata": {
        "id": "LG3cYx_15sYa",
        "colab_type": "code",
        "colab": {}
      },
      "source": [
        "fees = ['Arrears Amount',\n",
        "        'DefaultAmount',\n",
        "        'Recent Default_Default Amt',\n",
        "        'Recent Default_Recov Amt',\n",
        "        'Amt Paid To Merchant_nettofmerchfeesandGST',\n",
        "        'Est Fees',\n",
        "        'Proc Fees',\n",
        "        'Other Fees',\n",
        "        'Total Merchant Charges',\n",
        "        'Total Consumer Charges'\n",
        "        ]"
      ],
      "execution_count": 0,
      "outputs": []
    },
    {
      "cell_type": "code",
      "metadata": {
        "id": "YlKm0sc7487l",
        "colab_type": "code",
        "outputId": "7270d083-46d3-4c42-c2bd-c2cb1992efcc",
        "colab": {
          "base_uri": "https://localhost:8080/",
          "height": 0
        }
      },
      "source": [
        "df.sample(1)"
      ],
      "execution_count": 26,
      "outputs": [
        {
          "output_type": "execute_result",
          "data": {
            "text/html": [
              "<div>\n",
              "<style scoped>\n",
              "    .dataframe tbody tr th:only-of-type {\n",
              "        vertical-align: middle;\n",
              "    }\n",
              "\n",
              "    .dataframe tbody tr th {\n",
              "        vertical-align: top;\n",
              "    }\n",
              "\n",
              "    .dataframe thead th {\n",
              "        text-align: right;\n",
              "    }\n",
              "</style>\n",
              "<table border=\"1\" class=\"dataframe\">\n",
              "  <thead>\n",
              "    <tr style=\"text-align: right;\">\n",
              "      <th></th>\n",
              "      <th>Id</th>\n",
              "      <th>Contract_Number</th>\n",
              "      <th>Consumer_ID</th>\n",
              "      <th>Product</th>\n",
              "      <th>Contract_Status</th>\n",
              "      <th>Application_Date</th>\n",
              "      <th>Entry_Date</th>\n",
              "      <th>StartHalf</th>\n",
              "      <th>Fist Installment Date</th>\n",
              "      <th>Purchase Amt</th>\n",
              "      <th>Deposit Amt</th>\n",
              "      <th>Financed Amt</th>\n",
              "      <th>Total Term</th>\n",
              "      <th>Deposit_Percent</th>\n",
              "      <th>Term_Run</th>\n",
              "      <th>Term_Remaining</th>\n",
              "      <th>Payment Type</th>\n",
              "      <th>Total No Of Payments</th>\n",
              "      <th>Freq</th>\n",
              "      <th>Instalment Amt</th>\n",
              "      <th>Total Payments Received</th>\n",
              "      <th>Total Balance Outstanding</th>\n",
              "      <th>Amt Paid To Merchant_nettofmerchfeesandGST</th>\n",
              "      <th>Gtee Rate</th>\n",
              "      <th>Gtee Charges</th>\n",
              "      <th>Est Fees</th>\n",
              "      <th>Proc Fees</th>\n",
              "      <th>Other Fees</th>\n",
              "      <th>Total Merchant Charges</th>\n",
              "      <th>Total Consumer Charges</th>\n",
              "      <th>Total Charges</th>\n",
              "      <th>Effective Billing Rate</th>\n",
              "      <th>Expected Contract End Date</th>\n",
              "      <th>No Of Days In Default</th>\n",
              "      <th>Arrears Amount</th>\n",
              "      <th>No of Days in Arrears</th>\n",
              "      <th>DefaultAmount</th>\n",
              "      <th>Recent Default_Default Amt</th>\n",
              "      <th>Recent Default_Recov Amt</th>\n",
              "      <th>Recent Default_Cure Date</th>\n",
              "      <th>Consumer Post Code</th>\n",
              "      <th>Consumer Year of Birth</th>\n",
              "      <th>Merchant Number</th>\n",
              "      <th>Merchant Name</th>\n",
              "      <th>INdustry Name</th>\n",
              "      <th>Homowner Ind</th>\n",
              "      <th>Homowner Consumer</th>\n",
              "    </tr>\n",
              "  </thead>\n",
              "  <tbody>\n",
              "    <tr>\n",
              "      <th>185178</th>\n",
              "      <td>216250</td>\n",
              "      <td>61086177</td>\n",
              "      <td>L61086177</td>\n",
              "      <td>LOUN9E</td>\n",
              "      <td>PaidInFull</td>\n",
              "      <td>2007-04-03</td>\n",
              "      <td>2007-04-03</td>\n",
              "      <td>2007H1</td>\n",
              "      <td>2007-03-15</td>\n",
              "      <td>2999.0</td>\n",
              "      <td>750.0</td>\n",
              "      <td>2249.0</td>\n",
              "      <td>24</td>\n",
              "      <td>0.250083</td>\n",
              "      <td>24</td>\n",
              "      <td>0</td>\n",
              "      <td>Bank</td>\n",
              "      <td>48</td>\n",
              "      <td>FN</td>\n",
              "      <td>43.243347</td>\n",
              "      <td>2249.0</td>\n",
              "      <td>0.0</td>\n",
              "      <td>1923.4</td>\n",
              "      <td>0.1138</td>\n",
              "      <td>255.93</td>\n",
              "      <td>40.0</td>\n",
              "      <td>0</td>\n",
              "      <td>0.0</td>\n",
              "      <td>295.93</td>\n",
              "      <td>0.0</td>\n",
              "      <td>295.93</td>\n",
              "      <td>0.131583</td>\n",
              "      <td>2009-03-15</td>\n",
              "      <td>0</td>\n",
              "      <td>0.0</td>\n",
              "      <td>0.0</td>\n",
              "      <td>0.0</td>\n",
              "      <td>0.0</td>\n",
              "      <td>0.0</td>\n",
              "      <td></td>\n",
              "      <td>5097</td>\n",
              "      <td>1935-11-25</td>\n",
              "      <td>30108107</td>\n",
              "      <td>SA LOUNGE SUITES</td>\n",
              "      <td>Furniture / Bedding New</td>\n",
              "      <td>No</td>\n",
              "      <td>No</td>\n",
              "    </tr>\n",
              "  </tbody>\n",
              "</table>\n",
              "</div>"
            ],
            "text/plain": [
              "            Id Contract_Number  ... Homowner Ind Homowner Consumer\n",
              "185178  216250        61086177  ...           No                No\n",
              "\n",
              "[1 rows x 47 columns]"
            ]
          },
          "metadata": {
            "tags": []
          },
          "execution_count": 26
        }
      ]
    },
    {
      "cell_type": "code",
      "metadata": {
        "id": "-AeEg8s45W4A",
        "colab_type": "code",
        "colab": {}
      },
      "source": [
        "# convert amount to percentage\n",
        "for fee in fees:\n",
        "  df[fee] = df[fee] / df['Financed Amt']"
      ],
      "execution_count": 0,
      "outputs": []
    },
    {
      "cell_type": "code",
      "metadata": {
        "id": "yWqYM2346kO7",
        "colab_type": "code",
        "colab": {}
      },
      "source": [
        "# rename columns (amount -> percentage)\n",
        "df.rename(columns={'Arrears Amount': 'arrear_p',\n",
        "                   'DefaultAmount': 'default_p',\n",
        "                    'Recent Default_Default Amt': 'recent_default_default_p',\n",
        "                    'Recent Default_Recov Amt': 'recent_default_recov_p',\n",
        "                    'Amt Paid To Merchant_nettofmerchfeesandGST': 'gst_p',\n",
        "                    'Est Fees': 'est_fee_p',\n",
        "                    'Other Fees': 'other_fee_p',\n",
        "                    'Total Merchant Charges': 'total_merchant_charge_p',\n",
        "                    'Total Consumer Charges': 'total_consumer_charges'                \n",
        "                   }, \n",
        "          inplace=True)"
      ],
      "execution_count": 0,
      "outputs": []
    },
    {
      "cell_type": "markdown",
      "metadata": {
        "id": "rQknwYAM6swW",
        "colab_type": "text"
      },
      "source": [
        "## Step 2.5 Rename Columns"
      ]
    },
    {
      "cell_type": "code",
      "metadata": {
        "id": "M0t5PM5V6w4O",
        "colab_type": "code",
        "colab": {}
      },
      "source": [
        "df.rename(columns={'Financed Amt': 'financed_amt', \n",
        "                   'Deposit_Percent': 'deposit_percent',\n",
        "                   'Payment Type': 'payment_type',\n",
        "                   'Instalment Amt': 'instalment_amt',\n",
        "                   'Gtee Rate': 'gtee_p',\n",
        "                   'Effective Billing Rate': 'effective_billing_rate',\n",
        "                   'No Of Days In Default': 'days_default',\n",
        "                   'No Of Days In Arrears': 'days_arrears',\n",
        "                   'MonthsToDefault': 'mth_to_default'              \n",
        "                   }, \n",
        "          inplace=True)"
      ],
      "execution_count": 0,
      "outputs": []
    },
    {
      "cell_type": "markdown",
      "metadata": {
        "id": "9o39lV_Q7AbG",
        "colab_type": "text"
      },
      "source": [
        "## Step 2.6 Re-Encode Non-Numeric Binary Variable\n",
        "\n",
        "Re-encode: 2-level obj\n",
        "\n",
        "`Freq`\n",
        "\n",
        "* FN: Fortnightly: 0\n",
        "* Mth: Monthly: 1\n",
        "\n",
        "`payment_type`\n",
        "\n",
        "* Bank: 0\n",
        "* CC: 1\n",
        "\n",
        "`Homowner Ind`, `Homowner Consumer`\n",
        "* Yes: 1\n",
        "* No: 0"
      ]
    },
    {
      "cell_type": "code",
      "metadata": {
        "id": "kQK_hmyK7LoE",
        "colab_type": "code",
        "colab": {}
      },
      "source": [
        "# Re-encode: 2-level obj\n",
        "df['Freq'] = df['Freq'].map({'FN': 0, 'Mth': 1})\n",
        "df['payment_type'] = df['payment_type'].map({'Bank': 0, 'CC': 1})\n",
        "df['Homowner Ind'] = df['Homowner Ind'].map({'Yes':1, 'No':0})\n",
        "df['Homowner Consumer'] = df['Homowner Consumer'].map({'Yes':1, 'No':0})"
      ],
      "execution_count": 0,
      "outputs": []
    },
    {
      "cell_type": "code",
      "metadata": {
        "id": "J5UYUxbG7Txc",
        "colab_type": "code",
        "outputId": "5b5280c3-cee4-4946-b67a-af6dd81c7c90",
        "colab": {
          "base_uri": "https://localhost:8080/",
          "height": 315
        }
      },
      "source": [
        "df.sample(3)"
      ],
      "execution_count": 31,
      "outputs": [
        {
          "output_type": "execute_result",
          "data": {
            "text/html": [
              "<div>\n",
              "<style scoped>\n",
              "    .dataframe tbody tr th:only-of-type {\n",
              "        vertical-align: middle;\n",
              "    }\n",
              "\n",
              "    .dataframe tbody tr th {\n",
              "        vertical-align: top;\n",
              "    }\n",
              "\n",
              "    .dataframe thead th {\n",
              "        text-align: right;\n",
              "    }\n",
              "</style>\n",
              "<table border=\"1\" class=\"dataframe\">\n",
              "  <thead>\n",
              "    <tr style=\"text-align: right;\">\n",
              "      <th></th>\n",
              "      <th>Id</th>\n",
              "      <th>Contract_Number</th>\n",
              "      <th>Consumer_ID</th>\n",
              "      <th>Product</th>\n",
              "      <th>Contract_Status</th>\n",
              "      <th>Application_Date</th>\n",
              "      <th>Entry_Date</th>\n",
              "      <th>StartHalf</th>\n",
              "      <th>Fist Installment Date</th>\n",
              "      <th>Purchase Amt</th>\n",
              "      <th>Deposit Amt</th>\n",
              "      <th>financed_amt</th>\n",
              "      <th>Total Term</th>\n",
              "      <th>deposit_percent</th>\n",
              "      <th>Term_Run</th>\n",
              "      <th>Term_Remaining</th>\n",
              "      <th>payment_type</th>\n",
              "      <th>Total No Of Payments</th>\n",
              "      <th>Freq</th>\n",
              "      <th>instalment_amt</th>\n",
              "      <th>Total Payments Received</th>\n",
              "      <th>Total Balance Outstanding</th>\n",
              "      <th>gst_p</th>\n",
              "      <th>gtee_p</th>\n",
              "      <th>Gtee Charges</th>\n",
              "      <th>est_fee_p</th>\n",
              "      <th>Proc Fees</th>\n",
              "      <th>other_fee_p</th>\n",
              "      <th>total_merchant_charge_p</th>\n",
              "      <th>total_consumer_charges</th>\n",
              "      <th>Total Charges</th>\n",
              "      <th>effective_billing_rate</th>\n",
              "      <th>Expected Contract End Date</th>\n",
              "      <th>days_default</th>\n",
              "      <th>arrear_p</th>\n",
              "      <th>No of Days in Arrears</th>\n",
              "      <th>default_p</th>\n",
              "      <th>recent_default_default_p</th>\n",
              "      <th>recent_default_recov_p</th>\n",
              "      <th>Recent Default_Cure Date</th>\n",
              "      <th>Consumer Post Code</th>\n",
              "      <th>Consumer Year of Birth</th>\n",
              "      <th>Merchant Number</th>\n",
              "      <th>Merchant Name</th>\n",
              "      <th>INdustry Name</th>\n",
              "      <th>Homowner Ind</th>\n",
              "      <th>Homowner Consumer</th>\n",
              "    </tr>\n",
              "  </thead>\n",
              "  <tbody>\n",
              "    <tr>\n",
              "      <th>40132</th>\n",
              "      <td>40133</td>\n",
              "      <td>60794855</td>\n",
              "      <td>L60922467</td>\n",
              "      <td>RING</td>\n",
              "      <td>PaidInFull</td>\n",
              "      <td>2005-12-17</td>\n",
              "      <td>2006-08-01</td>\n",
              "      <td>2006H1</td>\n",
              "      <td>2006-05-02</td>\n",
              "      <td>1580.00</td>\n",
              "      <td>395.00</td>\n",
              "      <td>1185.0</td>\n",
              "      <td>12</td>\n",
              "      <td>0.250000</td>\n",
              "      <td>12</td>\n",
              "      <td>0</td>\n",
              "      <td>0</td>\n",
              "      <td>12</td>\n",
              "      <td>1</td>\n",
              "      <td>98.750000</td>\n",
              "      <td>1185.00</td>\n",
              "      <td>0.00</td>\n",
              "      <td>0.905570</td>\n",
              "      <td>0.0895</td>\n",
              "      <td>70.70</td>\n",
              "      <td>0.021941</td>\n",
              "      <td>0.0</td>\n",
              "      <td>0.004219</td>\n",
              "      <td>0.085823</td>\n",
              "      <td>0.00000</td>\n",
              "      <td>101.70</td>\n",
              "      <td>0.085823</td>\n",
              "      <td>2007-05-02</td>\n",
              "      <td>0</td>\n",
              "      <td>0.000000</td>\n",
              "      <td>0.0</td>\n",
              "      <td>0.000000</td>\n",
              "      <td>0.000000</td>\n",
              "      <td>0.0</td>\n",
              "      <td></td>\n",
              "      <td>4215</td>\n",
              "      <td>1983-02-05</td>\n",
              "      <td>30107783</td>\n",
              "      <td>WALLACE BISHOP - HELENSVALE</td>\n",
              "      <td>Jewellery</td>\n",
              "      <td>0</td>\n",
              "      <td>0</td>\n",
              "    </tr>\n",
              "    <tr>\n",
              "      <th>4432</th>\n",
              "      <td>4433</td>\n",
              "      <td>60969579</td>\n",
              "      <td>L60969579</td>\n",
              "      <td>SERVICE</td>\n",
              "      <td>Default</td>\n",
              "      <td>2006-08-24</td>\n",
              "      <td>2006-01-09</td>\n",
              "      <td>2006H2</td>\n",
              "      <td>2006-08-09</td>\n",
              "      <td>2500.00</td>\n",
              "      <td>825.00</td>\n",
              "      <td>1675.0</td>\n",
              "      <td>15</td>\n",
              "      <td>0.330000</td>\n",
              "      <td>15</td>\n",
              "      <td>0</td>\n",
              "      <td>0</td>\n",
              "      <td>30</td>\n",
              "      <td>0</td>\n",
              "      <td>51.530534</td>\n",
              "      <td>725.79</td>\n",
              "      <td>949.21</td>\n",
              "      <td>0.867642</td>\n",
              "      <td>0.1024</td>\n",
              "      <td>171.52</td>\n",
              "      <td>0.017910</td>\n",
              "      <td>0.0</td>\n",
              "      <td>0.000000</td>\n",
              "      <td>0.120310</td>\n",
              "      <td>0.01194</td>\n",
              "      <td>221.52</td>\n",
              "      <td>0.132251</td>\n",
              "      <td>2007-08-12</td>\n",
              "      <td>1462</td>\n",
              "      <td>0.566693</td>\n",
              "      <td>1462.0</td>\n",
              "      <td>0.566693</td>\n",
              "      <td>0.566693</td>\n",
              "      <td>0.0</td>\n",
              "      <td></td>\n",
              "      <td>3353</td>\n",
              "      <td>1958-12-08</td>\n",
              "      <td>30111688</td>\n",
              "      <td>NEAL GOAD AUTOMOTIVE P/L</td>\n",
              "      <td>Auto Repair / Service</td>\n",
              "      <td>0</td>\n",
              "      <td>0</td>\n",
              "    </tr>\n",
              "    <tr>\n",
              "      <th>120121</th>\n",
              "      <td>151193</td>\n",
              "      <td>61038452</td>\n",
              "      <td>L61038452</td>\n",
              "      <td>JEWELL</td>\n",
              "      <td>PaidInFull</td>\n",
              "      <td>2006-10-28</td>\n",
              "      <td>2006-08-11</td>\n",
              "      <td>2006H2</td>\n",
              "      <td>2006-11-28</td>\n",
              "      <td>2346.66</td>\n",
              "      <td>586.66</td>\n",
              "      <td>1760.0</td>\n",
              "      <td>12</td>\n",
              "      <td>0.249998</td>\n",
              "      <td>12</td>\n",
              "      <td>0</td>\n",
              "      <td>0</td>\n",
              "      <td>12</td>\n",
              "      <td>1</td>\n",
              "      <td>146.666667</td>\n",
              "      <td>1760.00</td>\n",
              "      <td>0.00</td>\n",
              "      <td>0.885511</td>\n",
              "      <td>0.0910</td>\n",
              "      <td>160.15</td>\n",
              "      <td>0.013068</td>\n",
              "      <td>0.0</td>\n",
              "      <td>0.000000</td>\n",
              "      <td>0.104063</td>\n",
              "      <td>0.00000</td>\n",
              "      <td>183.15</td>\n",
              "      <td>0.104063</td>\n",
              "      <td>2007-11-28</td>\n",
              "      <td>0</td>\n",
              "      <td>0.000000</td>\n",
              "      <td>0.0</td>\n",
              "      <td>0.000000</td>\n",
              "      <td>0.000000</td>\n",
              "      <td>0.0</td>\n",
              "      <td></td>\n",
              "      <td>6213</td>\n",
              "      <td>1961-12-27</td>\n",
              "      <td>30110735</td>\n",
              "      <td>PROUDS JEWELLERS ROCKINGHAM (306)</td>\n",
              "      <td>Jewellery</td>\n",
              "      <td>0</td>\n",
              "      <td>0</td>\n",
              "    </tr>\n",
              "  </tbody>\n",
              "</table>\n",
              "</div>"
            ],
            "text/plain": [
              "            Id Contract_Number  ... Homowner Ind Homowner Consumer\n",
              "40132    40133        60794855  ...            0                 0\n",
              "4432      4433        60969579  ...            0                 0\n",
              "120121  151193        61038452  ...            0                 0\n",
              "\n",
              "[3 rows x 47 columns]"
            ]
          },
          "metadata": {
            "tags": []
          },
          "execution_count": 31
        }
      ]
    },
    {
      "cell_type": "markdown",
      "metadata": {
        "id": "9zmkpbrBJjmX",
        "colab_type": "text"
      },
      "source": [
        "## Step 2.7 Categorical Variable with more than 2 types"
      ]
    },
    {
      "cell_type": "code",
      "metadata": {
        "id": "OKrc03r37c0M",
        "colab_type": "code",
        "outputId": "cadc96a0-cd12-4691-b683-66fc8f392917",
        "colab": {
          "base_uri": "https://localhost:8080/",
          "height": 85
        }
      },
      "source": [
        "df['Contract_Status'].value_counts()"
      ],
      "execution_count": 32,
      "outputs": [
        {
          "output_type": "execute_result",
          "data": {
            "text/plain": [
              "PaidInFull    264847\n",
              "Default        11178\n",
              "Active           521\n",
              "Name: Contract_Status, dtype: int64"
            ]
          },
          "metadata": {
            "tags": []
          },
          "execution_count": 32
        }
      ]
    },
    {
      "cell_type": "markdown",
      "metadata": {
        "id": "nMRCJjF3Jr8u",
        "colab_type": "text"
      },
      "source": [
        "## Step 2.8 Mark people who have had arrears"
      ]
    },
    {
      "cell_type": "markdown",
      "metadata": {
        "id": "LY94lgIGC379",
        "colab_type": "text"
      },
      "source": [
        "Is there anyone who does not have arrears?"
      ]
    },
    {
      "cell_type": "code",
      "metadata": {
        "id": "tpqr78bq9cIi",
        "colab_type": "code",
        "outputId": "0c21c813-2d33-44a1-acea-be870089251c",
        "colab": {
          "base_uri": "https://localhost:8080/",
          "height": 34
        }
      },
      "source": [
        "# Is there anyone who does not have arrears?\n",
        "\n",
        "df_no_arrears = df[df['recent_default_default_p'] == 0]\n",
        "\n",
        "no_arrear_p = df_no_arrears.shape[0] / df.shape[0] * 100\n",
        "\n",
        "print(f\"{df_no_arrears.shape[0]} people do not have arrears, occupying {round(no_arrear_p, 2)}%.\")"
      ],
      "execution_count": 33,
      "outputs": [
        {
          "output_type": "stream",
          "text": [
            "237019 people do not have arrears, occupying 85.71%.\n"
          ],
          "name": "stdout"
        }
      ]
    },
    {
      "cell_type": "code",
      "metadata": {
        "id": "YvWI7ct_DAaC",
        "colab_type": "code",
        "colab": {}
      },
      "source": [
        "df['has_arrears'] = df['recent_default_default_p'].apply(lambda x: 1 if x > 0 else 0)"
      ],
      "execution_count": 0,
      "outputs": []
    },
    {
      "cell_type": "markdown",
      "metadata": {
        "id": "QXwnYP9pC81W",
        "colab_type": "text"
      },
      "source": [
        "How many people have recovered arrears?"
      ]
    },
    {
      "cell_type": "code",
      "metadata": {
        "id": "HRKpLbw2DAHf",
        "colab_type": "code",
        "outputId": "3b5b4502-a826-4003-a999-344965a67d4c",
        "colab": {
          "base_uri": "https://localhost:8080/",
          "height": 34
        }
      },
      "source": [
        "# How many people have recovered arrears?\n",
        "\n",
        "df_recov = df[df['recent_default_recov_p'] > 0]\n",
        "\n",
        "recov_p = df_recov.shape[0] / df.shape[0] * 100\n",
        "\n",
        "print(f'{df_recov.shape[0]} people have recovered arrears, occupying {round(recov_p, 2)}%.')"
      ],
      "execution_count": 35,
      "outputs": [
        {
          "output_type": "stream",
          "text": [
            "32146 people have recovered arrears, occupying 11.62%.\n"
          ],
          "name": "stdout"
        }
      ]
    },
    {
      "cell_type": "markdown",
      "metadata": {
        "id": "HNXsyyVoEF0m",
        "colab_type": "text"
      },
      "source": [
        "How many people have recovered arrears in full?"
      ]
    },
    {
      "cell_type": "code",
      "metadata": {
        "id": "x98XdIE1EFNF",
        "colab_type": "code",
        "outputId": "86723d00-7273-41c7-b83d-7563c454bfef",
        "colab": {
          "base_uri": "https://localhost:8080/",
          "height": 34
        }
      },
      "source": [
        "# How many people have recovered arrears in full?\n",
        "\n",
        "df_recov_infull = df[df['recent_default_recov_p']==1]\n",
        "\n",
        "recov_infull_p = df_recov_infull.shape[0] / df.shape[0] * 100\n",
        "\n",
        "print(f'{df_recov_infull.shape[0]} people have recovered arrears in full, occupying {round(recov_infull_p, 2)}%.')"
      ],
      "execution_count": 36,
      "outputs": [
        {
          "output_type": "stream",
          "text": [
            "700 people have recovered arrears in full, occupying 0.25%.\n"
          ],
          "name": "stdout"
        }
      ]
    },
    {
      "cell_type": "markdown",
      "metadata": {
        "id": "1KIHQDPwNWMJ",
        "colab_type": "text"
      },
      "source": [
        "## 3.1 How many contracts in total? For each year? For month? - (bar chart)"
      ]
    },
    {
      "cell_type": "code",
      "metadata": {
        "id": "uTGfbpWZNY2M",
        "colab_type": "code",
        "outputId": "eae20cf3-3419-49a6-e7d6-7743a575dcdb",
        "colab": {
          "base_uri": "https://localhost:8080/",
          "height": 34
        }
      },
      "source": [
        "print(f\"The earlist entry date is {df['Entry_Date'].min()}, whereas the latest is {df['Entry_Date'].max()}.\")"
      ],
      "execution_count": 37,
      "outputs": [
        {
          "output_type": "stream",
          "text": [
            "The earlist entry date is 2006-01-01 00:00:00, whereas the latest is 2007-12-31 00:00:00.\n"
          ],
          "name": "stdout"
        }
      ]
    },
    {
      "cell_type": "code",
      "metadata": {
        "id": "M9ptcMIRZWG1",
        "colab_type": "code",
        "colab": {}
      },
      "source": [
        "# put Year into new columns\n",
        "df['entry_y'] = df['Entry_Date'].dt.year\n",
        "#df['entry_m'] = df['Entry_Date'].dt.month\n",
        "\n",
        "# put Year and Month into new columns\n",
        "df['entry_y_m'] = df['Entry_Date'].dt.to_period('M')"
      ],
      "execution_count": 0,
      "outputs": []
    },
    {
      "cell_type": "code",
      "metadata": {
        "id": "aPYSWDtTZ8wI",
        "colab_type": "code",
        "colab": {}
      },
      "source": [
        "# put result into df\n",
        "result_contract_y = df.groupby('entry_y').agg({\"Contract_Number\": \"count\"})\n",
        "#result_contract_m = df.groupby('entry_y_m').agg({\"Contract_Number\": \"count\"})"
      ],
      "execution_count": 0,
      "outputs": []
    },
    {
      "cell_type": "code",
      "metadata": {
        "id": "89P-ePy7Zq8K",
        "colab_type": "code",
        "colab": {
          "base_uri": "https://localhost:8080/",
          "height": 142
        },
        "outputId": "34d008ee-45f6-4a7f-cd47-94e06f0dc813"
      },
      "source": [
        "result_contract_y"
      ],
      "execution_count": 40,
      "outputs": [
        {
          "output_type": "execute_result",
          "data": {
            "text/html": [
              "<div>\n",
              "<style scoped>\n",
              "    .dataframe tbody tr th:only-of-type {\n",
              "        vertical-align: middle;\n",
              "    }\n",
              "\n",
              "    .dataframe tbody tr th {\n",
              "        vertical-align: top;\n",
              "    }\n",
              "\n",
              "    .dataframe thead th {\n",
              "        text-align: right;\n",
              "    }\n",
              "</style>\n",
              "<table border=\"1\" class=\"dataframe\">\n",
              "  <thead>\n",
              "    <tr style=\"text-align: right;\">\n",
              "      <th></th>\n",
              "      <th>Contract_Number</th>\n",
              "    </tr>\n",
              "    <tr>\n",
              "      <th>entry_y</th>\n",
              "      <th></th>\n",
              "    </tr>\n",
              "  </thead>\n",
              "  <tbody>\n",
              "    <tr>\n",
              "      <th>2006</th>\n",
              "      <td>132791</td>\n",
              "    </tr>\n",
              "    <tr>\n",
              "      <th>2007</th>\n",
              "      <td>143755</td>\n",
              "    </tr>\n",
              "  </tbody>\n",
              "</table>\n",
              "</div>"
            ],
            "text/plain": [
              "         Contract_Number\n",
              "entry_y                 \n",
              "2006              132791\n",
              "2007              143755"
            ]
          },
          "metadata": {
            "tags": []
          },
          "execution_count": 40
        }
      ]
    },
    {
      "cell_type": "code",
      "metadata": {
        "id": "lxBNhaXEq4oH",
        "colab_type": "code",
        "colab": {}
      },
      "source": [
        "def get_agg_df(col):\n",
        "  \"\"\"\n",
        "  get aggregating result from df\n",
        "\n",
        "  INPUT:\n",
        "    col - the column name in df which data will be grouped by\n",
        "\n",
        "  OUTPUT:\n",
        "     x - the column that was grouped by\n",
        "     y - the aggregating result\n",
        "  \"\"\"\n",
        "\n",
        "  # get agg number, return a df\n",
        "  result = df.groupby(col).agg({\"Contract_Number\": \"count\"})\n",
        "\n",
        "  # put total number into y\n",
        "  y = result['Contract_Number']\n",
        "\n",
        "  # put index into a new column (index was col)\n",
        "  result[col] = result.index\n",
        "  result.reset_index(drop = True) \n",
        "  x = result[col]\n",
        "\n",
        "  return x, y"
      ],
      "execution_count": 0,
      "outputs": []
    },
    {
      "cell_type": "code",
      "metadata": {
        "id": "THnX6igFuADQ",
        "colab_type": "code",
        "colab": {}
      },
      "source": [
        "\n"
      ],
      "execution_count": 0,
      "outputs": []
    },
    {
      "cell_type": "code",
      "metadata": {
        "id": "KrmMFtZUdIUO",
        "colab_type": "code",
        "colab": {
          "base_uri": "https://localhost:8080/",
          "height": 514
        },
        "outputId": "018668df-8ac7-4ed0-e8ae-56c4aaa0510f"
      },
      "source": [
        "# Import data:\n",
        "height = y\n",
        "bars = x\n",
        "y_pos = np.arange(len(bars))\n",
        "\n",
        "# Change the shape of figure\n",
        "fig = plt.figure(num=None, figsize=(10, 6), dpi=80, facecolor='w', edgecolor='k')\n",
        "\n",
        "# Create bars\n",
        "plt.bar(y_pos, height, color = my_color[0])\n",
        " \n",
        "# Create names on the x-axis\n",
        "plt.xticks(y_pos, bars, rotation=45)\n",
        "\n",
        "# Add title and labels\n",
        "fig.suptitle('test title', fontsize = 20)\n",
        "plt.xlabel('xlabel', fontsize = 18)\n",
        "plt.ylabel('ylabel', fontsize = 16)\n",
        "\n",
        "# Show graphic\n",
        "plt.show()\n"
      ],
      "execution_count": 47,
      "outputs": [
        {
          "output_type": "display_data",
          "data": {
            "image/png": "[encoded data removed]",
            "text/plain": [
              "<Figure size 800x480 with 1 Axes>"
            ]
          },
          "metadata": {
            "tags": []
          }
        }
      ]
    },
    {
      "cell_type": "code",
      "metadata": {
        "id": "g7cqLt-fwWWZ",
        "colab_type": "code",
        "colab": {}
      },
      "source": [
        "def draw_basic_bar_plot(x, y, fig_h, fig_w, title, x_lab, y_lab):\n",
        "  \"\"\"\n",
        "  Draw a basic bar plot\n",
        "\n",
        "  INPUTS:\n",
        "     x - the column that was grouped by\n",
        "     y - the aggregating result\n",
        "     fig_h, fig_w - size of the figure\n",
        "     title - plot title\n",
        "     x_lab, y_lab - x and y lable\n",
        "  \"\"\"\n",
        "\n",
        "  # Import data:\n",
        "  height = y\n",
        "  bars = x\n",
        "  y_pos = np.arange(len(bars))\n",
        "\n",
        "  # Change the shape of figure\n",
        "  fig = plt.figure(num=None, figsize=(fig_h, fig_w), dpi=80, facecolor='w', edgecolor='k')\n",
        "\n",
        "  # Create bars\n",
        "  plt.bar(y_pos, height, color = my_color[0])\n",
        "  \n",
        "  # Create names on the x-axis\n",
        "  plt.xticks(y_pos, bars, rotation=45)\n",
        "\n",
        "  # Add title and labels\n",
        "  fig.suptitle(title, fontsize = 20)\n",
        "  plt.xlabel(x_lab, fontsize = 18)\n",
        "  plt.ylabel(y_lab, fontsize = 16)\n",
        "\n",
        "  # Show graphic\n",
        "  plt.show()"
      ],
      "execution_count": 0,
      "outputs": []
    },
    {
      "cell_type": "code",
      "metadata": {
        "id": "RZ5qsTrOwm7L",
        "colab_type": "code",
        "colab": {
          "base_uri": "https://localhost:8080/",
          "height": 514
        },
        "outputId": "174b3d34-191c-4c73-d8fe-377e5bc36bca"
      },
      "source": [
        "x, y = get_agg_df('entry_y_m')\n",
        "draw_basic_bar_plot(x, y, 12, 6, 'Contracts in Each Month in 2016 - 2017', 'Month', 'Number of Contracts')"
      ],
      "execution_count": 56,
      "outputs": [
        {
          "output_type": "display_data",
          "data": {
            "image/png": "[encoded data removed]",
            "text/plain": [
              "<Figure size 960x480 with 1 Axes>"
            ]
          },
          "metadata": {
            "tags": []
          }
        }
      ]
    },
    {
      "cell_type": "code",
      "metadata": {
        "id": "JsZOc7iBzs-3",
        "colab_type": "code",
        "colab": {
          "base_uri": "https://localhost:8080/",
          "height": 501
        },
        "outputId": "84774e63-d067-4f6d-8e60-4e4df207fe41"
      },
      "source": [
        "x, y = get_agg_df('entry_y')\n",
        "draw_basic_bar_plot(x, y, 6, 6, 'Contracts in Each Year', 'Year', 'Number of Contracts')"
      ],
      "execution_count": 53,
      "outputs": [
        {
          "output_type": "display_data",
          "data": {
            "image/png": "[encoded data removed]",
            "text/plain": [
              "<Figure size 480x480 with 1 Axes>"
            ]
          },
          "metadata": {
            "tags": []
          }
        }
      ]
    },
    {
      "cell_type": "code",
      "metadata": {
        "id": "aJ2tTM1pcpqh",
        "colab_type": "code",
        "colab": {
          "base_uri": "https://localhost:8080/",
          "height": 1000
        },
        "outputId": "487973ed-11f9-4019-914d-de01d55824d4"
      },
      "source": [
        "# separate into 2 groups: has arrears or not\n",
        "df.groupby(['entry_y_m', 'has_arrears']).agg({\"Contract_Number\": \"count\"})"
      ],
      "execution_count": 50,
      "outputs": [
        {
          "output_type": "execute_result",
          "data": {
            "text/html": [
              "<div>\n",
              "<style scoped>\n",
              "    .dataframe tbody tr th:only-of-type {\n",
              "        vertical-align: middle;\n",
              "    }\n",
              "\n",
              "    .dataframe tbody tr th {\n",
              "        vertical-align: top;\n",
              "    }\n",
              "\n",
              "    .dataframe thead th {\n",
              "        text-align: right;\n",
              "    }\n",
              "</style>\n",
              "<table border=\"1\" class=\"dataframe\">\n",
              "  <thead>\n",
              "    <tr style=\"text-align: right;\">\n",
              "      <th></th>\n",
              "      <th></th>\n",
              "      <th>Contract_Number</th>\n",
              "    </tr>\n",
              "    <tr>\n",
              "      <th>entry_y_m</th>\n",
              "      <th>has_arrears</th>\n",
              "      <th></th>\n",
              "    </tr>\n",
              "  </thead>\n",
              "  <tbody>\n",
              "    <tr>\n",
              "      <th rowspan=\"2\" valign=\"top\">2006-01</th>\n",
              "      <th>0</th>\n",
              "      <td>10557</td>\n",
              "    </tr>\n",
              "    <tr>\n",
              "      <th>1</th>\n",
              "      <td>1912</td>\n",
              "    </tr>\n",
              "    <tr>\n",
              "      <th rowspan=\"2\" valign=\"top\">2006-02</th>\n",
              "      <th>0</th>\n",
              "      <td>7171</td>\n",
              "    </tr>\n",
              "    <tr>\n",
              "      <th>1</th>\n",
              "      <td>1287</td>\n",
              "    </tr>\n",
              "    <tr>\n",
              "      <th rowspan=\"2\" valign=\"top\">2006-03</th>\n",
              "      <th>0</th>\n",
              "      <td>9377</td>\n",
              "    </tr>\n",
              "    <tr>\n",
              "      <th>1</th>\n",
              "      <td>1618</td>\n",
              "    </tr>\n",
              "    <tr>\n",
              "      <th rowspan=\"2\" valign=\"top\">2006-04</th>\n",
              "      <th>0</th>\n",
              "      <td>7836</td>\n",
              "    </tr>\n",
              "    <tr>\n",
              "      <th>1</th>\n",
              "      <td>1343</td>\n",
              "    </tr>\n",
              "    <tr>\n",
              "      <th rowspan=\"2\" valign=\"top\">2006-05</th>\n",
              "      <th>0</th>\n",
              "      <td>9997</td>\n",
              "    </tr>\n",
              "    <tr>\n",
              "      <th>1</th>\n",
              "      <td>1682</td>\n",
              "    </tr>\n",
              "    <tr>\n",
              "      <th rowspan=\"2\" valign=\"top\">2006-06</th>\n",
              "      <th>0</th>\n",
              "      <td>10587</td>\n",
              "    </tr>\n",
              "    <tr>\n",
              "      <th>1</th>\n",
              "      <td>1720</td>\n",
              "    </tr>\n",
              "    <tr>\n",
              "      <th rowspan=\"2\" valign=\"top\">2006-07</th>\n",
              "      <th>0</th>\n",
              "      <td>8749</td>\n",
              "    </tr>\n",
              "    <tr>\n",
              "      <th>1</th>\n",
              "      <td>1484</td>\n",
              "    </tr>\n",
              "    <tr>\n",
              "      <th rowspan=\"2\" valign=\"top\">2006-08</th>\n",
              "      <th>0</th>\n",
              "      <td>10594</td>\n",
              "    </tr>\n",
              "    <tr>\n",
              "      <th>1</th>\n",
              "      <td>1900</td>\n",
              "    </tr>\n",
              "    <tr>\n",
              "      <th rowspan=\"2\" valign=\"top\">2006-09</th>\n",
              "      <th>0</th>\n",
              "      <td>9062</td>\n",
              "    </tr>\n",
              "    <tr>\n",
              "      <th>1</th>\n",
              "      <td>1637</td>\n",
              "    </tr>\n",
              "    <tr>\n",
              "      <th rowspan=\"2\" valign=\"top\">2006-10</th>\n",
              "      <th>0</th>\n",
              "      <td>10791</td>\n",
              "    </tr>\n",
              "    <tr>\n",
              "      <th>1</th>\n",
              "      <td>1805</td>\n",
              "    </tr>\n",
              "    <tr>\n",
              "      <th rowspan=\"2\" valign=\"top\">2006-11</th>\n",
              "      <th>0</th>\n",
              "      <td>10065</td>\n",
              "    </tr>\n",
              "    <tr>\n",
              "      <th>1</th>\n",
              "      <td>1648</td>\n",
              "    </tr>\n",
              "    <tr>\n",
              "      <th rowspan=\"2\" valign=\"top\">2006-12</th>\n",
              "      <th>0</th>\n",
              "      <td>8443</td>\n",
              "    </tr>\n",
              "    <tr>\n",
              "      <th>1</th>\n",
              "      <td>1526</td>\n",
              "    </tr>\n",
              "    <tr>\n",
              "      <th rowspan=\"2\" valign=\"top\">2007-01</th>\n",
              "      <th>0</th>\n",
              "      <td>17061</td>\n",
              "    </tr>\n",
              "    <tr>\n",
              "      <th>1</th>\n",
              "      <td>2767</td>\n",
              "    </tr>\n",
              "    <tr>\n",
              "      <th rowspan=\"2\" valign=\"top\">2007-02</th>\n",
              "      <th>0</th>\n",
              "      <td>10612</td>\n",
              "    </tr>\n",
              "    <tr>\n",
              "      <th>1</th>\n",
              "      <td>1708</td>\n",
              "    </tr>\n",
              "    <tr>\n",
              "      <th rowspan=\"2\" valign=\"top\">2007-03</th>\n",
              "      <th>0</th>\n",
              "      <td>9768</td>\n",
              "    </tr>\n",
              "    <tr>\n",
              "      <th>1</th>\n",
              "      <td>1526</td>\n",
              "    </tr>\n",
              "    <tr>\n",
              "      <th rowspan=\"2\" valign=\"top\">2007-04</th>\n",
              "      <th>0</th>\n",
              "      <td>9174</td>\n",
              "    </tr>\n",
              "    <tr>\n",
              "      <th>1</th>\n",
              "      <td>1390</td>\n",
              "    </tr>\n",
              "    <tr>\n",
              "      <th rowspan=\"2\" valign=\"top\">2007-05</th>\n",
              "      <th>0</th>\n",
              "      <td>10099</td>\n",
              "    </tr>\n",
              "    <tr>\n",
              "      <th>1</th>\n",
              "      <td>1559</td>\n",
              "    </tr>\n",
              "    <tr>\n",
              "      <th rowspan=\"2\" valign=\"top\">2007-06</th>\n",
              "      <th>0</th>\n",
              "      <td>9490</td>\n",
              "    </tr>\n",
              "    <tr>\n",
              "      <th>1</th>\n",
              "      <td>1557</td>\n",
              "    </tr>\n",
              "    <tr>\n",
              "      <th rowspan=\"2\" valign=\"top\">2007-07</th>\n",
              "      <th>0</th>\n",
              "      <td>9598</td>\n",
              "    </tr>\n",
              "    <tr>\n",
              "      <th>1</th>\n",
              "      <td>1525</td>\n",
              "    </tr>\n",
              "    <tr>\n",
              "      <th rowspan=\"2\" valign=\"top\">2007-08</th>\n",
              "      <th>0</th>\n",
              "      <td>9262</td>\n",
              "    </tr>\n",
              "    <tr>\n",
              "      <th>1</th>\n",
              "      <td>1514</td>\n",
              "    </tr>\n",
              "    <tr>\n",
              "      <th rowspan=\"2\" valign=\"top\">2007-09</th>\n",
              "      <th>0</th>\n",
              "      <td>9159</td>\n",
              "    </tr>\n",
              "    <tr>\n",
              "      <th>1</th>\n",
              "      <td>1501</td>\n",
              "    </tr>\n",
              "    <tr>\n",
              "      <th rowspan=\"2\" valign=\"top\">2007-10</th>\n",
              "      <th>0</th>\n",
              "      <td>9676</td>\n",
              "    </tr>\n",
              "    <tr>\n",
              "      <th>1</th>\n",
              "      <td>1528</td>\n",
              "    </tr>\n",
              "    <tr>\n",
              "      <th rowspan=\"2\" valign=\"top\">2007-11</th>\n",
              "      <th>0</th>\n",
              "      <td>9737</td>\n",
              "    </tr>\n",
              "    <tr>\n",
              "      <th>1</th>\n",
              "      <td>1614</td>\n",
              "    </tr>\n",
              "    <tr>\n",
              "      <th rowspan=\"2\" valign=\"top\">2007-12</th>\n",
              "      <th>0</th>\n",
              "      <td>10155</td>\n",
              "    </tr>\n",
              "    <tr>\n",
              "      <th>1</th>\n",
              "      <td>1775</td>\n",
              "    </tr>\n",
              "  </tbody>\n",
              "</table>\n",
              "</div>"
            ],
            "text/plain": [
              "                       Contract_Number\n",
              "entry_y_m has_arrears                 \n",
              "2006-01   0                      10557\n",
              "          1                       1912\n",
              "2006-02   0                       7171\n",
              "          1                       1287\n",
              "2006-03   0                       9377\n",
              "          1                       1618\n",
              "2006-04   0                       7836\n",
              "          1                       1343\n",
              "2006-05   0                       9997\n",
              "          1                       1682\n",
              "2006-06   0                      10587\n",
              "          1                       1720\n",
              "2006-07   0                       8749\n",
              "          1                       1484\n",
              "2006-08   0                      10594\n",
              "          1                       1900\n",
              "2006-09   0                       9062\n",
              "          1                       1637\n",
              "2006-10   0                      10791\n",
              "          1                       1805\n",
              "2006-11   0                      10065\n",
              "          1                       1648\n",
              "2006-12   0                       8443\n",
              "          1                       1526\n",
              "2007-01   0                      17061\n",
              "          1                       2767\n",
              "2007-02   0                      10612\n",
              "          1                       1708\n",
              "2007-03   0                       9768\n",
              "          1                       1526\n",
              "2007-04   0                       9174\n",
              "          1                       1390\n",
              "2007-05   0                      10099\n",
              "          1                       1559\n",
              "2007-06   0                       9490\n",
              "          1                       1557\n",
              "2007-07   0                       9598\n",
              "          1                       1525\n",
              "2007-08   0                       9262\n",
              "          1                       1514\n",
              "2007-09   0                       9159\n",
              "          1                       1501\n",
              "2007-10   0                       9676\n",
              "          1                       1528\n",
              "2007-11   0                       9737\n",
              "          1                       1614\n",
              "2007-12   0                      10155\n",
              "          1                       1775"
            ]
          },
          "metadata": {
            "tags": []
          },
          "execution_count": 50
        }
      ]
    }
  ]
}