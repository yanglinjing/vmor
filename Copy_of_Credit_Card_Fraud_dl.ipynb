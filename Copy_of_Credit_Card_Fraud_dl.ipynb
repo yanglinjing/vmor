{
  "nbformat": 4,
  "nbformat_minor": 0,
  "metadata": {
    "colab": {
      "name": "Copy of Credit Card Fraud_dl.ipynb",
      "provenance": [],
      "collapsed_sections": [
        "nu6mq2OwBrmA",
        "2HP-eqtq_5Hq"
      ],
      "authorship_tag": "ABX9TyNKUx/xP/YtXWvhLmqYxL68",
      "include_colab_link": true
    },
    "kernelspec": {
      "name": "python3",
      "display_name": "Python 3"
    }
  },
  "cells": [
    {
      "cell_type": "markdown",
      "metadata": {
        "id": "view-in-github",
        "colab_type": "text"
      },
      "source": [
        "<a href=\"https://colab.research.google.com/github/yanglinjing/vmor/blob/master/Copy_of_Credit_Card_Fraud_dl.ipynb\" target=\"_parent\"><img src=\"https://colab.research.google.com/assets/colab-badge.svg\" alt=\"Open In Colab\"/></a>"
      ]
    },
    {
      "cell_type": "markdown",
      "metadata": {
        "id": "8mXzR8kxarhj",
        "colab_type": "text"
      },
      "source": [
        ""
      ]
    },
    {
      "cell_type": "code",
      "metadata": {
        "id": "7LwbQZcmyvH7",
        "colab_type": "code",
        "colab": {
          "base_uri": "https://localhost:8080/",
          "height": 126
        },
        "outputId": "33208071-14f1-46e8-d8ee-836501f2cd73"
      },
      "source": [
        "# All the documents are stored on Google Drive.\n",
        "# It requires authorisation before use them.\n",
        "# This chunk of code is about authorisation.\n",
        "\n",
        "# Mounting Google Drive locally\n",
        "# https://colab.research.google.com/notebooks/io.ipynb#scrollTo=u22w3BFiOveA\n",
        "\n",
        "from google.colab import drive\n",
        "drive.mount('/content/gdrive')"
      ],
      "execution_count": null,
      "outputs": [
        {
          "output_type": "stream",
          "text": [
            "Go to this URL in a browser: https://accounts.google.com/o/oauth2/auth?client_id=947318989803-6bn6qk8qdgf4n4g3pfee6491hc0brc4i.apps.googleusercontent.com&redirect_uri=urn%3aietf%3awg%3aoauth%3a2.0%3aoob&response_type=code&scope=email%20https%3a%2f%2fwww.googleapis.com%2fauth%2fdocs.test%20https%3a%2f%2fwww.googleapis.com%2fauth%2fdrive%20https%3a%2f%2fwww.googleapis.com%2fauth%2fdrive.photos.readonly%20https%3a%2f%2fwww.googleapis.com%2fauth%2fpeopleapi.readonly\n",
            "\n",
            "Enter your authorization code:\n",
            "··········\n",
            "Mounted at /content/gdrive\n"
          ],
          "name": "stdout"
        }
      ]
    },
    {
      "cell_type": "code",
      "metadata": {
        "id": "rZmkCO_zyzE0",
        "colab_type": "code",
        "colab": {
          "base_uri": "https://localhost:8080/",
          "height": 35
        },
        "outputId": "0eb20ef4-7388-4bf4-8e9f-75596d462515"
      },
      "source": [
        "#google colab - change path to google drive\n",
        "\n",
        "import os \n",
        "os.chdir('gdrive/My Drive/Colab Notebooks/vmor_practicum/credit_card_fraud')\n",
        "!pwd"
      ],
      "execution_count": null,
      "outputs": [
        {
          "output_type": "stream",
          "text": [
            "/content/gdrive/My Drive/Colab Notebooks/vmor_practicum/credit_card_fraud\n"
          ],
          "name": "stdout"
        }
      ]
    },
    {
      "cell_type": "code",
      "metadata": {
        "id": "1NFOQlM8arws",
        "colab_type": "code",
        "colab": {
          "base_uri": "https://localhost:8080/",
          "height": 36
        },
        "outputId": "038da377-a718-44b0-fdfa-7cb2c80422f3"
      },
      "source": [
        "import tensorflow as tf\n",
        "tf.test.gpu_device_name()\n",
        "\n",
        "# '/device:GPU:0' \n",
        "#  GPU is working"
      ],
      "execution_count": 2,
      "outputs": [
        {
          "output_type": "execute_result",
          "data": {
            "application/vnd.google.colaboratory.intrinsic+json": {
              "type": "string"
            },
            "text/plain": [
              "''"
            ]
          },
          "metadata": {
            "tags": []
          },
          "execution_count": 2
        }
      ]
    },
    {
      "cell_type": "code",
      "metadata": {
        "id": "oPYTtHj_y2O0",
        "colab_type": "code",
        "colab": {
          "base_uri": "https://localhost:8080/",
          "height": 35
        },
        "outputId": "dedc5d94-14e3-4492-9511-86a95f9e4099"
      },
      "source": [
        "# Import libraries\n",
        "\n",
        "import numpy as np\n",
        "import pandas as pd\n",
        "from time import time #Return the time in seconds\n",
        "\n",
        "from keras.models import Sequential,clone_model, Model\n",
        "from keras.layers import Bidirectional, LSTM, GRU, Embedding, SpatialDropout1D, Flatten, Concatenate, Dropout, MaxPool1D, Input, Reshape\n",
        "from keras.layers.core import Dense, Activation, Dropout\n",
        "from keras.backend import expand_dims\n",
        "\n",
        "from keras.utils.vis_utils import plot_model"
      ],
      "execution_count": 1,
      "outputs": [
        {
          "output_type": "stream",
          "text": [
            "Using TensorFlow backend.\n"
          ],
          "name": "stderr"
        }
      ]
    },
    {
      "cell_type": "markdown",
      "metadata": {
        "id": "zDqLrZ4_Bpq6",
        "colab_type": "text"
      },
      "source": [
        "其中，Sequential用于构建序贯模型，它可以由多个网络层进行线性堆叠。Bidirectional是双向神经网络结构，Dense就是我们所说的一层全连接神经网络，activation是激活函数，dropout是选择层后连接的神经元数，以避免过拟合 "
      ]
    },
    {
      "cell_type": "markdown",
      "metadata": {
        "id": "nu6mq2OwBrmA",
        "colab_type": "text"
      },
      "source": [
        "# 导入数据"
      ]
    },
    {
      "cell_type": "code",
      "metadata": {
        "id": "VX2Oym7HytoX",
        "colab_type": "code",
        "colab": {}
      },
      "source": [
        "X_train_final = pd.read_csv('data/dl/x_train.csv')\n",
        "X_test_final = pd.read_csv('data/dl/x_test.csv')\n",
        "\n",
        "y_train = pd.read_csv('data/dl/y_train.csv')\n",
        "y_test = pd.read_csv('data/dl/y_test.csv')"
      ],
      "execution_count": null,
      "outputs": []
    },
    {
      "cell_type": "code",
      "metadata": {
        "id": "eiizClS3P2Gb",
        "colab_type": "code",
        "colab": {
          "base_uri": "https://localhost:8080/",
          "height": 35
        },
        "outputId": "fd27e545-77f2-48f1-df5f-37cf5ad99608"
      },
      "source": [
        "X_train_final.shape"
      ],
      "execution_count": null,
      "outputs": [
        {
          "output_type": "execute_result",
          "data": {
            "text/plain": [
              "(911710, 49)"
            ]
          },
          "metadata": {
            "tags": []
          },
          "execution_count": 8
        }
      ]
    },
    {
      "cell_type": "code",
      "metadata": {
        "id": "02iZw46SsP_d",
        "colab_type": "code",
        "colab": {
          "base_uri": "https://localhost:8080/",
          "height": 214
        },
        "outputId": "28871dc9-6dff-40a2-812a-b2a402682a5b"
      },
      "source": [
        "X_train_final.head()"
      ],
      "execution_count": null,
      "outputs": [
        {
          "output_type": "execute_result",
          "data": {
            "text/html": [
              "<div>\n",
              "<style scoped>\n",
              "    .dataframe tbody tr th:only-of-type {\n",
              "        vertical-align: middle;\n",
              "    }\n",
              "\n",
              "    .dataframe tbody tr th {\n",
              "        vertical-align: top;\n",
              "    }\n",
              "\n",
              "    .dataframe thead th {\n",
              "        text-align: right;\n",
              "    }\n",
              "</style>\n",
              "<table border=\"1\" class=\"dataframe\">\n",
              "  <thead>\n",
              "    <tr style=\"text-align: right;\">\n",
              "      <th></th>\n",
              "      <th>TransactionAmt</th>\n",
              "      <th>ProductCD</th>\n",
              "      <th>card1</th>\n",
              "      <th>C1</th>\n",
              "      <th>C2</th>\n",
              "      <th>C3</th>\n",
              "      <th>C4</th>\n",
              "      <th>C5</th>\n",
              "      <th>C6</th>\n",
              "      <th>C7</th>\n",
              "      <th>C8</th>\n",
              "      <th>C9</th>\n",
              "      <th>C10</th>\n",
              "      <th>C11</th>\n",
              "      <th>C12</th>\n",
              "      <th>C13</th>\n",
              "      <th>C14</th>\n",
              "      <th>V279</th>\n",
              "      <th>V280</th>\n",
              "      <th>V284</th>\n",
              "      <th>V285</th>\n",
              "      <th>V286</th>\n",
              "      <th>V287</th>\n",
              "      <th>V290</th>\n",
              "      <th>V291</th>\n",
              "      <th>V292</th>\n",
              "      <th>V293</th>\n",
              "      <th>V294</th>\n",
              "      <th>V295</th>\n",
              "      <th>V297</th>\n",
              "      <th>V298</th>\n",
              "      <th>V299</th>\n",
              "      <th>V302</th>\n",
              "      <th>V303</th>\n",
              "      <th>V304</th>\n",
              "      <th>V305</th>\n",
              "      <th>V306</th>\n",
              "      <th>V307</th>\n",
              "      <th>V308</th>\n",
              "      <th>V309</th>\n",
              "      <th>V310</th>\n",
              "      <th>V311</th>\n",
              "      <th>V312</th>\n",
              "      <th>V316</th>\n",
              "      <th>V317</th>\n",
              "      <th>V318</th>\n",
              "      <th>V319</th>\n",
              "      <th>V320</th>\n",
              "      <th>V321</th>\n",
              "    </tr>\n",
              "  </thead>\n",
              "  <tbody>\n",
              "    <tr>\n",
              "      <th>0</th>\n",
              "      <td>0.421691</td>\n",
              "      <td>W</td>\n",
              "      <td>0.219049</td>\n",
              "      <td>0.164013</td>\n",
              "      <td>0.160324</td>\n",
              "      <td>0.0</td>\n",
              "      <td>0.0</td>\n",
              "      <td>0.000000</td>\n",
              "      <td>0.089781</td>\n",
              "      <td>0.0</td>\n",
              "      <td>0.0</td>\n",
              "      <td>0.129515</td>\n",
              "      <td>0.0</td>\n",
              "      <td>0.136178</td>\n",
              "      <td>0.085919</td>\n",
              "      <td>0.137688</td>\n",
              "      <td>0.151211</td>\n",
              "      <td>0.102218</td>\n",
              "      <td>0.100697</td>\n",
              "      <td>0.0</td>\n",
              "      <td>0.000000</td>\n",
              "      <td>0.0</td>\n",
              "      <td>0.0</td>\n",
              "      <td>0.114981</td>\n",
              "      <td>0.064677</td>\n",
              "      <td>0.079697</td>\n",
              "      <td>0.102408</td>\n",
              "      <td>0.096807</td>\n",
              "      <td>0.101425</td>\n",
              "      <td>0.0</td>\n",
              "      <td>0.0</td>\n",
              "      <td>0.0</td>\n",
              "      <td>0.0</td>\n",
              "      <td>0.0</td>\n",
              "      <td>0.0</td>\n",
              "      <td>0.0</td>\n",
              "      <td>0.337323</td>\n",
              "      <td>0.329025</td>\n",
              "      <td>0.337323</td>\n",
              "      <td>0.0</td>\n",
              "      <td>0.000000</td>\n",
              "      <td>0.0</td>\n",
              "      <td>0.000000</td>\n",
              "      <td>0.341714</td>\n",
              "      <td>0.331366</td>\n",
              "      <td>0.340248</td>\n",
              "      <td>0.0</td>\n",
              "      <td>0.0</td>\n",
              "      <td>0.0</td>\n",
              "    </tr>\n",
              "    <tr>\n",
              "      <th>1</th>\n",
              "      <td>0.450709</td>\n",
              "      <td>W</td>\n",
              "      <td>0.498370</td>\n",
              "      <td>0.538771</td>\n",
              "      <td>0.537121</td>\n",
              "      <td>0.0</td>\n",
              "      <td>0.0</td>\n",
              "      <td>0.807006</td>\n",
              "      <td>0.567586</td>\n",
              "      <td>0.0</td>\n",
              "      <td>0.0</td>\n",
              "      <td>0.804219</td>\n",
              "      <td>0.0</td>\n",
              "      <td>0.526621</td>\n",
              "      <td>0.000000</td>\n",
              "      <td>0.770045</td>\n",
              "      <td>0.604844</td>\n",
              "      <td>0.000000</td>\n",
              "      <td>0.100697</td>\n",
              "      <td>0.0</td>\n",
              "      <td>0.455583</td>\n",
              "      <td>0.0</td>\n",
              "      <td>0.2</td>\n",
              "      <td>0.000000</td>\n",
              "      <td>0.064677</td>\n",
              "      <td>0.000000</td>\n",
              "      <td>0.000000</td>\n",
              "      <td>0.000000</td>\n",
              "      <td>0.000000</td>\n",
              "      <td>0.0</td>\n",
              "      <td>0.0</td>\n",
              "      <td>0.0</td>\n",
              "      <td>0.0</td>\n",
              "      <td>0.0</td>\n",
              "      <td>0.0</td>\n",
              "      <td>0.0</td>\n",
              "      <td>0.000000</td>\n",
              "      <td>0.535118</td>\n",
              "      <td>0.404482</td>\n",
              "      <td>0.0</td>\n",
              "      <td>0.582780</td>\n",
              "      <td>0.0</td>\n",
              "      <td>0.429672</td>\n",
              "      <td>0.000000</td>\n",
              "      <td>0.000000</td>\n",
              "      <td>0.000000</td>\n",
              "      <td>0.0</td>\n",
              "      <td>0.0</td>\n",
              "      <td>0.0</td>\n",
              "    </tr>\n",
              "    <tr>\n",
              "      <th>2</th>\n",
              "      <td>0.405341</td>\n",
              "      <td>W</td>\n",
              "      <td>0.945086</td>\n",
              "      <td>0.082007</td>\n",
              "      <td>0.080162</td>\n",
              "      <td>0.0</td>\n",
              "      <td>0.0</td>\n",
              "      <td>0.000000</td>\n",
              "      <td>0.089781</td>\n",
              "      <td>0.0</td>\n",
              "      <td>0.0</td>\n",
              "      <td>0.129515</td>\n",
              "      <td>0.0</td>\n",
              "      <td>0.085919</td>\n",
              "      <td>0.000000</td>\n",
              "      <td>0.086871</td>\n",
              "      <td>0.095403</td>\n",
              "      <td>0.000000</td>\n",
              "      <td>0.000000</td>\n",
              "      <td>0.0</td>\n",
              "      <td>0.000000</td>\n",
              "      <td>0.0</td>\n",
              "      <td>0.0</td>\n",
              "      <td>0.000000</td>\n",
              "      <td>0.000000</td>\n",
              "      <td>0.000000</td>\n",
              "      <td>0.000000</td>\n",
              "      <td>0.000000</td>\n",
              "      <td>0.000000</td>\n",
              "      <td>0.0</td>\n",
              "      <td>0.0</td>\n",
              "      <td>0.0</td>\n",
              "      <td>0.0</td>\n",
              "      <td>0.0</td>\n",
              "      <td>0.0</td>\n",
              "      <td>0.0</td>\n",
              "      <td>0.000000</td>\n",
              "      <td>0.000000</td>\n",
              "      <td>0.000000</td>\n",
              "      <td>0.0</td>\n",
              "      <td>0.000000</td>\n",
              "      <td>0.0</td>\n",
              "      <td>0.000000</td>\n",
              "      <td>0.000000</td>\n",
              "      <td>0.000000</td>\n",
              "      <td>0.000000</td>\n",
              "      <td>0.0</td>\n",
              "      <td>0.0</td>\n",
              "      <td>0.0</td>\n",
              "    </tr>\n",
              "    <tr>\n",
              "      <th>3</th>\n",
              "      <td>0.450709</td>\n",
              "      <td>W</td>\n",
              "      <td>0.710497</td>\n",
              "      <td>0.164013</td>\n",
              "      <td>0.127054</td>\n",
              "      <td>0.0</td>\n",
              "      <td>0.0</td>\n",
              "      <td>0.118326</td>\n",
              "      <td>0.179561</td>\n",
              "      <td>0.0</td>\n",
              "      <td>0.0</td>\n",
              "      <td>0.205277</td>\n",
              "      <td>0.0</td>\n",
              "      <td>0.136178</td>\n",
              "      <td>0.000000</td>\n",
              "      <td>0.288581</td>\n",
              "      <td>0.190807</td>\n",
              "      <td>0.000000</td>\n",
              "      <td>0.000000</td>\n",
              "      <td>0.0</td>\n",
              "      <td>0.240694</td>\n",
              "      <td>0.0</td>\n",
              "      <td>0.0</td>\n",
              "      <td>0.000000</td>\n",
              "      <td>0.000000</td>\n",
              "      <td>0.000000</td>\n",
              "      <td>0.000000</td>\n",
              "      <td>0.000000</td>\n",
              "      <td>0.000000</td>\n",
              "      <td>0.0</td>\n",
              "      <td>0.0</td>\n",
              "      <td>0.0</td>\n",
              "      <td>0.0</td>\n",
              "      <td>0.0</td>\n",
              "      <td>0.0</td>\n",
              "      <td>0.0</td>\n",
              "      <td>0.000000</td>\n",
              "      <td>0.325539</td>\n",
              "      <td>0.000000</td>\n",
              "      <td>0.0</td>\n",
              "      <td>0.354534</td>\n",
              "      <td>0.0</td>\n",
              "      <td>0.000000</td>\n",
              "      <td>0.000000</td>\n",
              "      <td>0.000000</td>\n",
              "      <td>0.000000</td>\n",
              "      <td>0.0</td>\n",
              "      <td>0.0</td>\n",
              "      <td>0.0</td>\n",
              "    </tr>\n",
              "    <tr>\n",
              "      <th>4</th>\n",
              "      <td>0.381051</td>\n",
              "      <td>W</td>\n",
              "      <td>0.970378</td>\n",
              "      <td>0.082007</td>\n",
              "      <td>0.080162</td>\n",
              "      <td>0.0</td>\n",
              "      <td>0.0</td>\n",
              "      <td>0.000000</td>\n",
              "      <td>0.089781</td>\n",
              "      <td>0.0</td>\n",
              "      <td>0.0</td>\n",
              "      <td>0.000000</td>\n",
              "      <td>0.0</td>\n",
              "      <td>0.085919</td>\n",
              "      <td>0.000000</td>\n",
              "      <td>0.086871</td>\n",
              "      <td>0.095403</td>\n",
              "      <td>0.000000</td>\n",
              "      <td>0.000000</td>\n",
              "      <td>0.0</td>\n",
              "      <td>0.000000</td>\n",
              "      <td>0.0</td>\n",
              "      <td>0.0</td>\n",
              "      <td>0.000000</td>\n",
              "      <td>0.000000</td>\n",
              "      <td>0.000000</td>\n",
              "      <td>0.000000</td>\n",
              "      <td>0.000000</td>\n",
              "      <td>0.000000</td>\n",
              "      <td>0.0</td>\n",
              "      <td>0.0</td>\n",
              "      <td>0.0</td>\n",
              "      <td>0.0</td>\n",
              "      <td>0.0</td>\n",
              "      <td>0.0</td>\n",
              "      <td>0.0</td>\n",
              "      <td>0.000000</td>\n",
              "      <td>0.000000</td>\n",
              "      <td>0.000000</td>\n",
              "      <td>0.0</td>\n",
              "      <td>0.000000</td>\n",
              "      <td>0.0</td>\n",
              "      <td>0.000000</td>\n",
              "      <td>0.000000</td>\n",
              "      <td>0.000000</td>\n",
              "      <td>0.000000</td>\n",
              "      <td>0.0</td>\n",
              "      <td>0.0</td>\n",
              "      <td>0.0</td>\n",
              "    </tr>\n",
              "  </tbody>\n",
              "</table>\n",
              "</div>"
            ],
            "text/plain": [
              "   TransactionAmt ProductCD     card1        C1  ...      V318  V319  V320  V321\n",
              "0        0.421691         W  0.219049  0.164013  ...  0.340248   0.0   0.0   0.0\n",
              "1        0.450709         W  0.498370  0.538771  ...  0.000000   0.0   0.0   0.0\n",
              "2        0.405341         W  0.945086  0.082007  ...  0.000000   0.0   0.0   0.0\n",
              "3        0.450709         W  0.710497  0.164013  ...  0.000000   0.0   0.0   0.0\n",
              "4        0.381051         W  0.970378  0.082007  ...  0.000000   0.0   0.0   0.0\n",
              "\n",
              "[5 rows x 49 columns]"
            ]
          },
          "metadata": {
            "tags": []
          },
          "execution_count": 10
        }
      ]
    },
    {
      "cell_type": "code",
      "metadata": {
        "id": "IJKrfMlAsuef",
        "colab_type": "code",
        "colab": {
          "base_uri": "https://localhost:8080/",
          "height": 124
        },
        "outputId": "998bfcdc-8b7b-4033-88a0-650502b16e0e"
      },
      "source": [
        "X_train_final['ProductCD'].value_counts()"
      ],
      "execution_count": null,
      "outputs": [
        {
          "output_type": "execute_result",
          "data": {
            "text/plain": [
              "W    541108\n",
              "C    225053\n",
              "R     61230\n",
              "H     60337\n",
              "S     23982\n",
              "Name: ProductCD, dtype: int64"
            ]
          },
          "metadata": {
            "tags": []
          },
          "execution_count": 12
        }
      ]
    },
    {
      "cell_type": "code",
      "metadata": {
        "id": "uO0V0cS2tEux",
        "colab_type": "code",
        "colab": {}
      },
      "source": [
        "X_train_final['ProductCD'] = X_train_final['ProductCD'].map({'W':1, 'C':2, 'R':3, 'H':4, 'S':5})"
      ],
      "execution_count": null,
      "outputs": []
    },
    {
      "cell_type": "markdown",
      "metadata": {
        "id": "TH9E91v3DCl7",
        "colab_type": "text"
      },
      "source": [
        "# 构建模型"
      ]
    },
    {
      "cell_type": "markdown",
      "metadata": {
        "id": "2HP-eqtq_5Hq",
        "colab_type": "text"
      },
      "source": [
        "## 没啥用的测试部分"
      ]
    },
    {
      "cell_type": "code",
      "metadata": {
        "id": "ZY5Mh6miOchg",
        "colab_type": "code",
        "colab": {}
      },
      "source": [
        "t = [[1, 2, 3],[4, 5, 6]]"
      ],
      "execution_count": null,
      "outputs": []
    },
    {
      "cell_type": "code",
      "metadata": {
        "id": "f7rJP4lwOdd7",
        "colab_type": "code",
        "colab": {
          "base_uri": "https://localhost:8080/",
          "height": 70
        },
        "outputId": "df4a69e9-2a7d-4170-dc76-53df2d256d47"
      },
      "source": [
        "tf.expand_dims(t, 0)"
      ],
      "execution_count": null,
      "outputs": [
        {
          "output_type": "execute_result",
          "data": {
            "text/plain": [
              "<tf.Tensor: shape=(1, 2, 3), dtype=int32, numpy=\n",
              "array([[[1, 2, 3],\n",
              "        [4, 5, 6]]], dtype=int32)>"
            ]
          },
          "metadata": {
            "tags": []
          },
          "execution_count": 9
        }
      ]
    },
    {
      "cell_type": "code",
      "metadata": {
        "id": "F3D_z3RhQCIG",
        "colab_type": "code",
        "colab": {}
      },
      "source": [
        "a = expand_dims(t, axis=0)"
      ],
      "execution_count": null,
      "outputs": []
    },
    {
      "cell_type": "code",
      "metadata": {
        "id": "y_VmpnbfQS1N",
        "colab_type": "code",
        "colab": {
          "base_uri": "https://localhost:8080/",
          "height": 70
        },
        "outputId": "5b194adf-6f0b-49aa-c97b-96d5d7814f6a"
      },
      "source": [
        "a"
      ],
      "execution_count": null,
      "outputs": [
        {
          "output_type": "execute_result",
          "data": {
            "text/plain": [
              "<tf.Tensor: shape=(1, 2, 3), dtype=int32, numpy=\n",
              "array([[[1, 2, 3],\n",
              "        [4, 5, 6]]], dtype=int32)>"
            ]
          },
          "metadata": {
            "tags": []
          },
          "execution_count": 23
        }
      ]
    },
    {
      "cell_type": "code",
      "metadata": {
        "id": "fsgk3dRSRrg3",
        "colab_type": "code",
        "colab": {
          "base_uri": "https://localhost:8080/",
          "height": 35
        },
        "outputId": "94a405ec-2340-47c3-d8cf-48c4be05ad6a"
      },
      "source": [
        "c = Flatten()(a)\n",
        "c"
      ],
      "execution_count": null,
      "outputs": [
        {
          "output_type": "execute_result",
          "data": {
            "text/plain": [
              "<tf.Tensor 'flatten_10/Reshape:0' shape=(1, 6) dtype=int32>"
            ]
          },
          "metadata": {
            "tags": []
          },
          "execution_count": 62
        }
      ]
    },
    {
      "cell_type": "markdown",
      "metadata": {
        "id": "wj_VDm4aRseg",
        "colab_type": "text"
      },
      "source": [
        "在keras中，数据是以张量的形式表示的，张量的形状称之为shape，表示从最外层向量逐步到达最底层向量的降维解包过程。比如，一个一阶的张量[1,2,3]的shape是(3,);\n",
        "一个二阶的张量[[1,2,3],[4,5,6]]的shape是(2,3);一个三阶的张量[[[1],[2],[3]],[[4],[5],[6]]]的shape是(2,3,1)。"
      ]
    },
    {
      "cell_type": "code",
      "metadata": {
        "id": "mIlo6WXVpc7o",
        "colab_type": "code",
        "colab": {}
      },
      "source": [
        "model_1 = Sequential([\n",
        "                    Embedding(5, 3, input_length=1), #输入的一个类型变量，有5种值，因为只有一个分类变量，所以长度1\n",
        "                    SpatialDropout1D(0.1),\n",
        "                    Flatten(),\n",
        "\n",
        "])"
      ],
      "execution_count": null,
      "outputs": []
    },
    {
      "cell_type": "code",
      "metadata": {
        "id": "MpTCdW0MFky1",
        "colab_type": "code",
        "colab": {
          "base_uri": "https://localhost:8080/",
          "height": 266
        },
        "outputId": "918c3117-f751-4fe4-a023-190260446c52"
      },
      "source": [
        "model_1.summary()"
      ],
      "execution_count": null,
      "outputs": [
        {
          "output_type": "stream",
          "text": [
            "Model: \"sequential_1\"\n",
            "_________________________________________________________________\n",
            "Layer (type)                 Output Shape              Param #   \n",
            "=================================================================\n",
            "embedding_1 (Embedding)      (None, 1, 3)              15        \n",
            "_________________________________________________________________\n",
            "spatial_dropout1d_1 (Spatial (None, 1, 3)              0         \n",
            "_________________________________________________________________\n",
            "flatten_1 (Flatten)          (None, 3)                 0         \n",
            "=================================================================\n",
            "Total params: 15\n",
            "Trainable params: 15\n",
            "Non-trainable params: 0\n",
            "_________________________________________________________________\n"
          ],
          "name": "stdout"
        }
      ]
    },
    {
      "cell_type": "code",
      "metadata": {
        "id": "biE85FVBFTV8",
        "colab_type": "code",
        "colab": {}
      },
      "source": [
        "model_copy = clone_model(model_1)"
      ],
      "execution_count": null,
      "outputs": []
    },
    {
      "cell_type": "code",
      "metadata": {
        "id": "6VjXR7FCFgeV",
        "colab_type": "code",
        "colab": {
          "base_uri": "https://localhost:8080/",
          "height": 266
        },
        "outputId": "a59ffbf4-0480-4a95-f982-6f00189258e5"
      },
      "source": [
        "model_copy.summary()"
      ],
      "execution_count": null,
      "outputs": [
        {
          "output_type": "stream",
          "text": [
            "Model: \"sequential_5\"\n",
            "_________________________________________________________________\n",
            "Layer (type)                 Output Shape              Param #   \n",
            "=================================================================\n",
            "embedding_5 (Embedding)      (None, 1, 3)              15        \n",
            "_________________________________________________________________\n",
            "spatial_dropout1d_5 (Spatial (None, 1, 3)              0         \n",
            "_________________________________________________________________\n",
            "flatten_5 (Flatten)          (None, 3)                 0         \n",
            "=================================================================\n",
            "Total params: 15\n",
            "Trainable params: 15\n",
            "Non-trainable params: 0\n",
            "_________________________________________________________________\n"
          ],
          "name": "stdout"
        }
      ]
    },
    {
      "cell_type": "code",
      "metadata": {
        "id": "jkzfksAjFo6R",
        "colab_type": "code",
        "colab": {}
      },
      "source": [
        "merged = Concatenate([model, model_copy])"
      ],
      "execution_count": null,
      "outputs": []
    },
    {
      "cell_type": "code",
      "metadata": {
        "id": "L-rUXBflSvK4",
        "colab_type": "code",
        "colab": {}
      },
      "source": [
        "merged.add(Dropout(0.1))"
      ],
      "execution_count": null,
      "outputs": []
    },
    {
      "cell_type": "code",
      "metadata": {
        "id": "0AdoBGEKMXRw",
        "colab_type": "code",
        "colab": {
          "base_uri": "https://localhost:8080/",
          "height": 644
        },
        "outputId": "194986b2-96e7-41a2-fe1f-131c3eba5107"
      },
      "source": [
        "plot_model(model,show_shapes=True)"
      ],
      "execution_count": null,
      "outputs": [
        {
          "output_type": "execute_result",
          "data": {
            "image/png": "[encoded data removed]",
            "text/plain": [
              "<IPython.core.display.Image object>"
            ]
          },
          "metadata": {
            "tags": []
          },
          "execution_count": 53
        }
      ]
    },
    {
      "cell_type": "code",
      "metadata": {
        "id": "k4AdGUCg9lPe",
        "colab_type": "code",
        "colab": {
          "base_uri": "https://localhost:8080/",
          "height": 70
        },
        "outputId": "048ec1c6-d20f-433e-8117-4aa0ac445f25"
      },
      "source": [
        "# Check Layers\n",
        "\n",
        "for layer in model.layers:\n",
        "    print(layer.output_shape)\n"
      ],
      "execution_count": null,
      "outputs": [
        {
          "output_type": "stream",
          "text": [
            "(None, 911710, 1)\n",
            "(None, 911710, 1)\n",
            "(None, 911710)\n"
          ],
          "name": "stdout"
        }
      ]
    },
    {
      "cell_type": "code",
      "metadata": {
        "id": "FNsnuuesVlQh",
        "colab_type": "code",
        "colab": {
          "base_uri": "https://localhost:8080/",
          "height": 35
        },
        "outputId": "a575c3c5-b62d-499c-ddb2-dc5370c4dc5f"
      },
      "source": [
        "# Categorical Features\n",
        "\n",
        "input_c = Input(shape=(1,))\n",
        "\n",
        "c  = Embedding(5, 3, input_length=1)(input_c)\n",
        "\n",
        "#c = SpatialDropout1D(0.1)(c)\n",
        "\n",
        "c = Flatten(input_shape=(None, 1, 3))(c)\n",
        "c"
      ],
      "execution_count": null,
      "outputs": [
        {
          "output_type": "execute_result",
          "data": {
            "text/plain": [
              "<tf.Tensor 'flatten_10/Reshape:0' shape=(None, None) dtype=float32>"
            ]
          },
          "metadata": {
            "tags": []
          },
          "execution_count": 18
        }
      ]
    },
    {
      "cell_type": "code",
      "metadata": {
        "id": "3VX7onwczx3o",
        "colab_type": "code",
        "colab": {}
      },
      "source": [
        "sequential.add(Embedding(max_features, embedding_size, input_length=maxlen))\n",
        "sequential.add(Reshape((1, maxlen, embedding_size)))"
      ],
      "execution_count": null,
      "outputs": []
    },
    {
      "cell_type": "code",
      "metadata": {
        "id": "-upa8r3e1iZW",
        "colab_type": "code",
        "colab": {}
      },
      "source": [
        "input_c = Input(shape=(12,))"
      ],
      "execution_count": null,
      "outputs": []
    },
    {
      "cell_type": "code",
      "metadata": {
        "id": "YSgZaFShSNO2",
        "colab_type": "code",
        "colab": {
          "base_uri": "https://localhost:8080/",
          "height": 35
        },
        "outputId": "10ba794f-9d6d-4725-9807-2acd2a849db9"
      },
      "source": [
        "c  = Embedding(5, 3, input_length=12)(input_c) #只有1个分类变量，有5种不同值。每个值的output是用3个数字表示。\n",
        "c"
      ],
      "execution_count": null,
      "outputs": [
        {
          "output_type": "execute_result",
          "data": {
            "text/plain": [
              "<tf.Tensor 'embedding_11/embedding_lookup/Identity_1:0' shape=(None, 12, 3) dtype=float32>"
            ]
          },
          "metadata": {
            "tags": []
          },
          "execution_count": 49
        }
      ]
    },
    {
      "cell_type": "code",
      "metadata": {
        "id": "_WsqQ9vmQ-sm",
        "colab_type": "code",
        "colab": {
          "base_uri": "https://localhost:8080/",
          "height": 35
        },
        "outputId": "9581dd1e-4c40-450d-8f67-5a9e726f3546"
      },
      "source": [
        "c = SpatialDropout1D(0.1)(c)\n",
        "c"
      ],
      "execution_count": null,
      "outputs": [
        {
          "output_type": "execute_result",
          "data": {
            "text/plain": [
              "<tf.Tensor 'spatial_dropout1d_6/cond/Identity:0' shape=(None, 12, 3) dtype=float32>"
            ]
          },
          "metadata": {
            "tags": []
          },
          "execution_count": 50
        }
      ]
    },
    {
      "cell_type": "code",
      "metadata": {
        "id": "cDfHYIHuelHs",
        "colab_type": "code",
        "colab": {}
      },
      "source": [
        "#c = expand_dims(c, axis=1)\n",
        "c"
      ],
      "execution_count": null,
      "outputs": []
    },
    {
      "cell_type": "code",
      "metadata": {
        "id": "MrmpGBdeQkeT",
        "colab_type": "code",
        "colab": {
          "base_uri": "https://localhost:8080/",
          "height": 35
        },
        "outputId": "fe75fc0d-6bd2-48c4-face-4fa30f971bf1"
      },
      "source": [
        "#c = Flatten()(c)\n",
        "c = Reshape((-1,36))(c)\n",
        "c"
      ],
      "execution_count": null,
      "outputs": [
        {
          "output_type": "execute_result",
          "data": {
            "text/plain": [
              "<tf.Tensor 'reshape_9/Reshape:0' shape=(None, None, 36) dtype=float32>"
            ]
          },
          "metadata": {
            "tags": []
          },
          "execution_count": 51
        }
      ]
    },
    {
      "cell_type": "code",
      "metadata": {
        "id": "eYseoGAbO6dG",
        "colab_type": "code",
        "colab": {
          "base_uri": "https://localhost:8080/",
          "height": 35
        },
        "outputId": "50a0de6c-72e2-45e4-ab21-16b0d82089d8"
      },
      "source": [
        "#c = expand_dims(c, axis=0)\n",
        "c"
      ],
      "execution_count": null,
      "outputs": [
        {
          "output_type": "execute_result",
          "data": {
            "text/plain": [
              "<tf.Tensor 'ExpandDims_16:0' shape=(1, None, None) dtype=float32>"
            ]
          },
          "metadata": {
            "tags": []
          },
          "execution_count": 137
        }
      ]
    },
    {
      "cell_type": "code",
      "metadata": {
        "id": "cU50nkaCO1cM",
        "colab_type": "code",
        "colab": {
          "base_uri": "https://localhost:8080/",
          "height": 35
        },
        "outputId": "b3824b75-8b18-48bb-bb5b-682730814101"
      },
      "source": [
        "c = Concatenate()([c, c])\n",
        "c"
      ],
      "execution_count": null,
      "outputs": [
        {
          "output_type": "execute_result",
          "data": {
            "text/plain": [
              "<tf.Tensor 'concatenate_2/concat:0' shape=(None, None, 72) dtype=float32>"
            ]
          },
          "metadata": {
            "tags": []
          },
          "execution_count": 52
        }
      ]
    },
    {
      "cell_type": "code",
      "metadata": {
        "id": "szD-SVrkRLiz",
        "colab_type": "code",
        "colab": {
          "base_uri": "https://localhost:8080/",
          "height": 35
        },
        "outputId": "f869b008-4cc0-4572-c34b-4ec69ddff1c9"
      },
      "source": [
        "c = Dropout(0.1)(c) # rate=?\n",
        "c"
      ],
      "execution_count": null,
      "outputs": [
        {
          "output_type": "execute_result",
          "data": {
            "text/plain": [
              "<tf.Tensor 'dropout_2/cond/Identity:0' shape=(None, None, 72) dtype=float32>"
            ]
          },
          "metadata": {
            "tags": []
          },
          "execution_count": 53
        }
      ]
    },
    {
      "cell_type": "code",
      "metadata": {
        "id": "3kixDVIsROzV",
        "colab_type": "code",
        "colab": {
          "base_uri": "https://localhost:8080/",
          "height": 35
        },
        "outputId": "5111aae7-ccbc-456b-f340-a744031c8d14"
      },
      "source": [
        "c = SpatialDropout1D(0.1)(c) # Input: A 3D Tensor\n",
        "c"
      ],
      "execution_count": null,
      "outputs": [
        {
          "output_type": "execute_result",
          "data": {
            "text/plain": [
              "<tf.Tensor 'spatial_dropout1d_7/cond/Identity:0' shape=(None, None, 72) dtype=float32>"
            ]
          },
          "metadata": {
            "tags": []
          },
          "execution_count": 54
        }
      ]
    },
    {
      "cell_type": "code",
      "metadata": {
        "id": "hMLFnSqswcYR",
        "colab_type": "code",
        "colab": {}
      },
      "source": [
        "model = Model(inputs=input_c, outputs=c)"
      ],
      "execution_count": null,
      "outputs": []
    },
    {
      "cell_type": "code",
      "metadata": {
        "id": "ZL5mQ1dPwJP_",
        "colab_type": "code",
        "colab": {
          "base_uri": "https://localhost:8080/",
          "height": 426
        },
        "outputId": "8144ab13-9631-4b3e-c9d9-0e42f1928846"
      },
      "source": [
        "model.summary()"
      ],
      "execution_count": null,
      "outputs": [
        {
          "output_type": "stream",
          "text": [
            "Model: \"model_1\"\n",
            "__________________________________________________________________________________________________\n",
            "Layer (type)                    Output Shape         Param #     Connected to                     \n",
            "==================================================================================================\n",
            "input_11 (InputLayer)           (None, 12)           0                                            \n",
            "__________________________________________________________________________________________________\n",
            "embedding_11 (Embedding)        (None, 12, 3)        15          input_11[0][0]                   \n",
            "__________________________________________________________________________________________________\n",
            "spatial_dropout1d_6 (SpatialDro (None, 12, 3)        0           embedding_11[0][0]               \n",
            "__________________________________________________________________________________________________\n",
            "reshape_9 (Reshape)             (None, 1, 36)        0           spatial_dropout1d_6[0][0]        \n",
            "__________________________________________________________________________________________________\n",
            "concatenate_2 (Concatenate)     (None, 1, 72)        0           reshape_9[0][0]                  \n",
            "                                                                 reshape_9[0][0]                  \n",
            "__________________________________________________________________________________________________\n",
            "dropout_2 (Dropout)             (None, 1, 72)        0           concatenate_2[0][0]              \n",
            "__________________________________________________________________________________________________\n",
            "spatial_dropout1d_7 (SpatialDro (None, 1, 72)        0           dropout_2[0][0]                  \n",
            "==================================================================================================\n",
            "Total params: 15\n",
            "Trainable params: 15\n",
            "Non-trainable params: 0\n",
            "__________________________________________________________________________________________________\n"
          ],
          "name": "stdout"
        }
      ]
    },
    {
      "cell_type": "code",
      "metadata": {
        "id": "sta-SPgt9imw",
        "colab_type": "code",
        "colab": {
          "base_uri": "https://localhost:8080/",
          "height": 754
        },
        "outputId": "2ac71a98-e340-4b51-822c-d45bd6c6fa6b"
      },
      "source": [
        "plot_model(model,show_shapes=True)"
      ],
      "execution_count": null,
      "outputs": [
        {
          "output_type": "execute_result",
          "data": {
            "image/png": "[encoded data removed]",
            "text/plain": [
              "<IPython.core.display.Image object>"
            ]
          },
          "metadata": {
            "tags": []
          },
          "execution_count": 57
        }
      ]
    },
    {
      "cell_type": "markdown",
      "metadata": {
        "id": "J7fQxvs4-2Yy",
        "colab_type": "text"
      },
      "source": [
        "## 模型第一部分"
      ]
    },
    {
      "cell_type": "code",
      "metadata": {
        "id": "1RYDJdyI-6Fw",
        "colab_type": "code",
        "colab": {}
      },
      "source": [
        "input_c = Input(shape=(1,))\n",
        "c  = Embedding(5, 3, input_length=1)(input_c) #只有1个分类变量，有5种不同值。每个值的output是用3个数字表示。\n",
        "c = SpatialDropout1D(0.1)(c)\n",
        "c = Reshape((-1,3))(c) # Flatten\n",
        "c = Concatenate()([c, c])\n",
        "c = Dropout(0.1)(c) # rate=?\n",
        "c = SpatialDropout1D(0.1)(c) # Input: A 3D Tensor"
      ],
      "execution_count": 3,
      "outputs": []
    },
    {
      "cell_type": "code",
      "metadata": {
        "id": "LfUTXY0J_S6D",
        "colab_type": "code",
        "colab": {
          "base_uri": "https://localhost:8080/",
          "height": 426
        },
        "outputId": "281c6465-98c4-4c79-d513-7734b1cb821b"
      },
      "source": [
        "model = Model(inputs=input_c, outputs=c)\n",
        "model.summary()"
      ],
      "execution_count": 5,
      "outputs": [
        {
          "output_type": "stream",
          "text": [
            "Model: \"model_2\"\n",
            "__________________________________________________________________________________________________\n",
            "Layer (type)                    Output Shape         Param #     Connected to                     \n",
            "==================================================================================================\n",
            "input_1 (InputLayer)            (None, 1)            0                                            \n",
            "__________________________________________________________________________________________________\n",
            "embedding_1 (Embedding)         (None, 1, 3)         15          input_1[0][0]                    \n",
            "__________________________________________________________________________________________________\n",
            "spatial_dropout1d_1 (SpatialDro (None, 1, 3)         0           embedding_1[0][0]                \n",
            "__________________________________________________________________________________________________\n",
            "reshape_1 (Reshape)             (None, 1, 3)         0           spatial_dropout1d_1[0][0]        \n",
            "__________________________________________________________________________________________________\n",
            "concatenate_1 (Concatenate)     (None, 1, 6)         0           reshape_1[0][0]                  \n",
            "                                                                 reshape_1[0][0]                  \n",
            "__________________________________________________________________________________________________\n",
            "dropout_1 (Dropout)             (None, 1, 6)         0           concatenate_1[0][0]              \n",
            "__________________________________________________________________________________________________\n",
            "spatial_dropout1d_2 (SpatialDro (None, 1, 6)         0           dropout_1[0][0]                  \n",
            "==================================================================================================\n",
            "Total params: 15\n",
            "Trainable params: 15\n",
            "Non-trainable params: 0\n",
            "__________________________________________________________________________________________________\n"
          ],
          "name": "stdout"
        }
      ]
    },
    {
      "cell_type": "code",
      "metadata": {
        "id": "Z-JRo4Zb_ZQZ",
        "colab_type": "code",
        "colab": {
          "base_uri": "https://localhost:8080/",
          "height": 754
        },
        "outputId": "477ba0b3-a4c7-462e-cbc0-65eb768a1203"
      },
      "source": [
        "plot_model(model,show_shapes=True)"
      ],
      "execution_count": null,
      "outputs": [
        {
          "output_type": "execute_result",
          "data": {
            "image/png": "[encoded data removed]",
            "text/plain": [
              "<IPython.core.display.Image object>"
            ]
          },
          "metadata": {
            "tags": []
          },
          "execution_count": 64
        }
      ]
    },
    {
      "cell_type": "markdown",
      "metadata": {
        "id": "Z5zWXIcm_rEs",
        "colab_type": "text"
      },
      "source": [
        "## 双向部分\n"
      ]
    },
    {
      "cell_type": "code",
      "metadata": {
        "id": "Vn4zijOGFGmX",
        "colab_type": "code",
        "colab": {
          "base_uri": "https://localhost:8080/",
          "height": 35
        },
        "outputId": "abb4fae4-2418-4da4-a369-6bb9402de3aa"
      },
      "source": [
        "# BiLSTM 无用\n",
        "c_ls = LSTM(64, return_sequences=True)(c) # unit = ?\n",
        "#c_ls = Bidirectional(c_ls)"
      ],
      "execution_count": 6,
      "outputs": [
        {
          "output_type": "execute_result",
          "data": {
            "text/plain": [
              "<tf.Tensor 'lstm_1/transpose_1:0' shape=(None, None, 64) dtype=float32>"
            ]
          },
          "metadata": {
            "tags": []
          },
          "execution_count": 6
        }
      ]
    },
    {
      "cell_type": "code",
      "metadata": {
        "id": "sPZpeKKfFT-j",
        "colab_type": "code",
        "colab": {}
      },
      "source": [
        "# BiLSTM\n",
        "c_ls = Bidirectional(LSTM(128,return_sequences=True),merge_mode='concat')(c)\n",
        "c_ls = MaxPool1D(pool_size=2, strides=None, padding='valid')(c_ls)"
      ],
      "execution_count": 10,
      "outputs": []
    },
    {
      "cell_type": "code",
      "metadata": {
        "id": "HUgVtgdNs9fM",
        "colab_type": "code",
        "colab": {}
      },
      "source": [
        "# BiGru\n",
        "c_gru = Bidirectional(LSTM(128,return_sequences=True), merge_mode='concat')(c)\n",
        "c_gru = MaxPool1D(pool_size=2, strides=None, padding='valid')(c_gru)"
      ],
      "execution_count": 12,
      "outputs": []
    },
    {
      "cell_type": "code",
      "metadata": {
        "id": "AtRFzj2ptMWt",
        "colab_type": "code",
        "colab": {}
      },
      "source": [
        "# Concatenation\n",
        "c = Concatenate()([c_ls, c_gru])"
      ],
      "execution_count": 13,
      "outputs": []
    },
    {
      "cell_type": "code",
      "metadata": {
        "id": "yrvZ0XhktQPT",
        "colab_type": "code",
        "colab": {
          "base_uri": "https://localhost:8080/",
          "height": 621
        },
        "outputId": "1c51d265-a206-4bf6-c6ed-53a2cf02ccd3"
      },
      "source": [
        "model = Model(inputs=input_c, outputs=c)\n",
        "model.summary()"
      ],
      "execution_count": 14,
      "outputs": [
        {
          "output_type": "stream",
          "text": [
            "Model: \"model_4\"\n",
            "__________________________________________________________________________________________________\n",
            "Layer (type)                    Output Shape         Param #     Connected to                     \n",
            "==================================================================================================\n",
            "input_1 (InputLayer)            (None, 1)            0                                            \n",
            "__________________________________________________________________________________________________\n",
            "embedding_1 (Embedding)         (None, 1, 3)         15          input_1[0][0]                    \n",
            "__________________________________________________________________________________________________\n",
            "spatial_dropout1d_1 (SpatialDro (None, 1, 3)         0           embedding_1[0][0]                \n",
            "__________________________________________________________________________________________________\n",
            "reshape_1 (Reshape)             (None, 1, 3)         0           spatial_dropout1d_1[0][0]        \n",
            "__________________________________________________________________________________________________\n",
            "concatenate_1 (Concatenate)     (None, 1, 6)         0           reshape_1[0][0]                  \n",
            "                                                                 reshape_1[0][0]                  \n",
            "__________________________________________________________________________________________________\n",
            "dropout_1 (Dropout)             (None, 1, 6)         0           concatenate_1[0][0]              \n",
            "__________________________________________________________________________________________________\n",
            "spatial_dropout1d_2 (SpatialDro (None, 1, 6)         0           dropout_1[0][0]                  \n",
            "__________________________________________________________________________________________________\n",
            "bidirectional_2 (Bidirectional) (None, 1, 256)       138240      spatial_dropout1d_2[0][0]        \n",
            "__________________________________________________________________________________________________\n",
            "bidirectional_3 (Bidirectional) (None, 1, 256)       138240      spatial_dropout1d_2[0][0]        \n",
            "__________________________________________________________________________________________________\n",
            "max_pooling1d_1 (MaxPooling1D)  (None, 0, 256)       0           bidirectional_2[0][0]            \n",
            "__________________________________________________________________________________________________\n",
            "max_pooling1d_2 (MaxPooling1D)  (None, 0, 256)       0           bidirectional_3[0][0]            \n",
            "__________________________________________________________________________________________________\n",
            "concatenate_2 (Concatenate)     (None, 0, 512)       0           max_pooling1d_1[0][0]            \n",
            "                                                                 max_pooling1d_2[0][0]            \n",
            "==================================================================================================\n",
            "Total params: 276,495\n",
            "Trainable params: 276,495\n",
            "Non-trainable params: 0\n",
            "__________________________________________________________________________________________________\n"
          ],
          "name": "stdout"
        }
      ]
    },
    {
      "cell_type": "code",
      "metadata": {
        "id": "j5UxmfmetVqz",
        "colab_type": "code",
        "colab": {
          "base_uri": "https://localhost:8080/",
          "height": 1000
        },
        "outputId": "8349c206-0753-4413-8793-043bb3e45131"
      },
      "source": [
        "plot_model(model,show_shapes=True)"
      ],
      "execution_count": 15,
      "outputs": [
        {
          "output_type": "execute_result",
          "data": {
            "image/png": "[encoded data removed]",
            "text/plain": [
              "<IPython.core.display.Image object>"
            ]
          },
          "metadata": {
            "tags": []
          },
          "execution_count": 15
        }
      ]
    },
    {
      "cell_type": "code",
      "metadata": {
        "id": "olJtJO_PSneN",
        "colab_type": "code",
        "colab": {}
      },
      "source": [
        "# BiLSTM\n",
        "c_ls = LSTM(64, return_sequences=True)(c) # unit = ?\n",
        "c_ls = Bidirectional(c_ls, merge_mode='concat')\n",
        "c_ls = MaxPool1D(pool_size=2, strides=None, padding='valid')(c_ls)\n",
        "\n",
        "# BiGRU\n",
        "c_gru = LSTM(4)(c) # unit = ?\n",
        "c_gru = Bidirectional(c_gru, merge_mode='concat')\n",
        "c_gru = MaxPool1D(pool_size=2, strides=None, padding='valid')(c_gru)\n",
        "\n",
        "# Concatenation\n",
        "c = Concatenate()([c_ls, c_gru])"
      ],
      "execution_count": null,
      "outputs": []
    },
    {
      "cell_type": "markdown",
      "metadata": {
        "id": "J3JdkKsuCByb",
        "colab_type": "text"
      },
      "source": [
        ""
      ]
    },
    {
      "cell_type": "code",
      "metadata": {
        "id": "-INbz4ny-_2t",
        "colab_type": "code",
        "colab": {}
      },
      "source": [
        "from keras.models import Model\n",
        "from keras.layers import Input, Embedding\n",
        "from keras.layers import Dense, LSTM, Bidirectional\n",
        "from keras import backend as K\n",
        "K.clear_session()"
      ],
      "execution_count": null,
      "outputs": []
    },
    {
      "cell_type": "code",
      "metadata": {
        "id": "b_4dO5fR9Ye8",
        "colab_type": "code",
        "colab": {}
      },
      "source": [
        "# Categorical \n",
        "\n",
        "VOCAB_SIZE = 5\n",
        "EMBED_DIM = 5\n",
        "HIDDEN_SIZE = 64\n",
        "\n",
        "# input layer\n",
        "x1 = Input(shape=(100,), dtype='int32')\n",
        "\n",
        "embedding = Embedding(VOCAB_SIZE, EMBED_DIM)(x1)\n",
        "c = SpatialDropout1D(0.1)(embedding)\n",
        "#c = Flatten()(c)\n",
        "c = Concatenate()([c, c])\n",
        "c = Dropout(0.1)(c) # rate=?\n",
        "c = SpatialDropout1D(0.1)(c) # Input: A 3D Tensor\n",
        "\n",
        "# BiLSTM layer\n",
        "bi_lstm = Bidirectional(LSTM(HIDDEN_SIZE, return_sequences=True))(c)\n",
        "bi_lstm = MaxPool1D(pool_size=2, strides=None, padding='valid')(bi_lstm)\n",
        "\n",
        "# BiGRU\n",
        "bi_gru = Bidirectional(GRU(HIDDEN_SIZE, return_sequences=True))(c)\n",
        "bi_gru = MaxPool1D(pool_size=2, strides=None, padding='valid')(bi_gru)\n",
        "\n",
        "categorical = Concatenate()([bi_lstm, bi_gru])"
      ],
      "execution_count": null,
      "outputs": []
    },
    {
      "cell_type": "code",
      "metadata": {
        "id": "5_3KWJ5q_kSN",
        "colab_type": "code",
        "colab": {}
      },
      "source": [
        "# Numerical\n",
        "\n",
        "x2 = Input(shape=(32,))\n",
        "hidden1 = Dense(10, activation='relu')(x2)\n",
        "num = Dropout(0.1)(hidden1)"
      ],
      "execution_count": null,
      "outputs": []
    },
    {
      "cell_type": "code",
      "metadata": {
        "id": "akp1XouKAINr",
        "colab_type": "code",
        "colab": {
          "base_uri": "https://localhost:8080/",
          "height": 316
        },
        "outputId": "df2ff52e-7521-4316-8e07-72aa163cfdbb"
      },
      "source": [
        "merge = Concatenate()([categorical, num])"
      ],
      "execution_count": null,
      "outputs": [
        {
          "output_type": "error",
          "ename": "ValueError",
          "evalue": "ignored",
          "traceback": [
            "\u001b[0;31m---------------------------------------------------------------------------\u001b[0m",
            "\u001b[0;31mValueError\u001b[0m                                Traceback (most recent call last)",
            "\u001b[0;32m<ipython-input-109-906d34748227>\u001b[0m in \u001b[0;36m<module>\u001b[0;34m()\u001b[0m\n\u001b[0;32m----> 1\u001b[0;31m \u001b[0mmerge\u001b[0m \u001b[0;34m=\u001b[0m \u001b[0mConcatenate\u001b[0m\u001b[0;34m(\u001b[0m\u001b[0;34m)\u001b[0m\u001b[0;34m(\u001b[0m\u001b[0;34m[\u001b[0m\u001b[0mcategorical\u001b[0m\u001b[0;34m,\u001b[0m \u001b[0mnum\u001b[0m\u001b[0;34m]\u001b[0m\u001b[0;34m)\u001b[0m\u001b[0;34m\u001b[0m\u001b[0;34m\u001b[0m\u001b[0m\n\u001b[0m",
            "\u001b[0;32m/usr/local/lib/python3.6/dist-packages/keras/backend/tensorflow_backend.py\u001b[0m in \u001b[0;36msymbolic_fn_wrapper\u001b[0;34m(*args, **kwargs)\u001b[0m\n\u001b[1;32m     73\u001b[0m         \u001b[0;32mif\u001b[0m \u001b[0m_SYMBOLIC_SCOPE\u001b[0m\u001b[0;34m.\u001b[0m\u001b[0mvalue\u001b[0m\u001b[0;34m:\u001b[0m\u001b[0;34m\u001b[0m\u001b[0;34m\u001b[0m\u001b[0m\n\u001b[1;32m     74\u001b[0m             \u001b[0;32mwith\u001b[0m \u001b[0mget_graph\u001b[0m\u001b[0;34m(\u001b[0m\u001b[0;34m)\u001b[0m\u001b[0;34m.\u001b[0m\u001b[0mas_default\u001b[0m\u001b[0;34m(\u001b[0m\u001b[0;34m)\u001b[0m\u001b[0;34m:\u001b[0m\u001b[0;34m\u001b[0m\u001b[0;34m\u001b[0m\u001b[0m\n\u001b[0;32m---> 75\u001b[0;31m                 \u001b[0;32mreturn\u001b[0m \u001b[0mfunc\u001b[0m\u001b[0;34m(\u001b[0m\u001b[0;34m*\u001b[0m\u001b[0margs\u001b[0m\u001b[0;34m,\u001b[0m \u001b[0;34m**\u001b[0m\u001b[0mkwargs\u001b[0m\u001b[0;34m)\u001b[0m\u001b[0;34m\u001b[0m\u001b[0;34m\u001b[0m\u001b[0m\n\u001b[0m\u001b[1;32m     76\u001b[0m         \u001b[0;32melse\u001b[0m\u001b[0;34m:\u001b[0m\u001b[0;34m\u001b[0m\u001b[0;34m\u001b[0m\u001b[0m\n\u001b[1;32m     77\u001b[0m             \u001b[0;32mreturn\u001b[0m \u001b[0mfunc\u001b[0m\u001b[0;34m(\u001b[0m\u001b[0;34m*\u001b[0m\u001b[0margs\u001b[0m\u001b[0;34m,\u001b[0m \u001b[0;34m**\u001b[0m\u001b[0mkwargs\u001b[0m\u001b[0;34m)\u001b[0m\u001b[0;34m\u001b[0m\u001b[0;34m\u001b[0m\u001b[0m\n",
            "\u001b[0;32m/usr/local/lib/python3.6/dist-packages/keras/engine/base_layer.py\u001b[0m in \u001b[0;36m__call__\u001b[0;34m(self, inputs, **kwargs)\u001b[0m\n\u001b[1;32m    461\u001b[0m                                          \u001b[0;34m'You can build it manually via: '\u001b[0m\u001b[0;34m\u001b[0m\u001b[0;34m\u001b[0m\u001b[0m\n\u001b[1;32m    462\u001b[0m                                          '`layer.build(batch_input_shape)`')\n\u001b[0;32m--> 463\u001b[0;31m                 \u001b[0mself\u001b[0m\u001b[0;34m.\u001b[0m\u001b[0mbuild\u001b[0m\u001b[0;34m(\u001b[0m\u001b[0munpack_singleton\u001b[0m\u001b[0;34m(\u001b[0m\u001b[0minput_shapes\u001b[0m\u001b[0;34m)\u001b[0m\u001b[0;34m)\u001b[0m\u001b[0;34m\u001b[0m\u001b[0;34m\u001b[0m\u001b[0m\n\u001b[0m\u001b[1;32m    464\u001b[0m                 \u001b[0mself\u001b[0m\u001b[0;34m.\u001b[0m\u001b[0mbuilt\u001b[0m \u001b[0;34m=\u001b[0m \u001b[0;32mTrue\u001b[0m\u001b[0;34m\u001b[0m\u001b[0;34m\u001b[0m\u001b[0m\n\u001b[1;32m    465\u001b[0m \u001b[0;34m\u001b[0m\u001b[0m\n",
            "\u001b[0;32m/usr/local/lib/python3.6/dist-packages/keras/layers/merge.py\u001b[0m in \u001b[0;36mbuild\u001b[0;34m(self, input_shape)\u001b[0m\n\u001b[1;32m    360\u001b[0m                              \u001b[0;34m'inputs with matching shapes '\u001b[0m\u001b[0;34m\u001b[0m\u001b[0;34m\u001b[0m\u001b[0m\n\u001b[1;32m    361\u001b[0m                              \u001b[0;34m'except for the concat axis. '\u001b[0m\u001b[0;34m\u001b[0m\u001b[0;34m\u001b[0m\u001b[0m\n\u001b[0;32m--> 362\u001b[0;31m                              'Got inputs shapes: %s' % (input_shape))\n\u001b[0m\u001b[1;32m    363\u001b[0m \u001b[0;34m\u001b[0m\u001b[0m\n\u001b[1;32m    364\u001b[0m     \u001b[0;32mdef\u001b[0m \u001b[0m_merge_function\u001b[0m\u001b[0;34m(\u001b[0m\u001b[0mself\u001b[0m\u001b[0;34m,\u001b[0m \u001b[0minputs\u001b[0m\u001b[0;34m)\u001b[0m\u001b[0;34m:\u001b[0m\u001b[0;34m\u001b[0m\u001b[0;34m\u001b[0m\u001b[0m\n",
            "\u001b[0;31mValueError\u001b[0m: A `Concatenate` layer requires inputs with matching shapes except for the concat axis. Got inputs shapes: [(None, 50, 256), (None, 10)]"
          ]
        }
      ]
    },
    {
      "cell_type": "code",
      "metadata": {
        "id": "tvGdOqy2-yCr",
        "colab_type": "code",
        "colab": {
          "base_uri": "https://localhost:8080/",
          "height": 621
        },
        "outputId": "07c07a00-385f-420d-dc32-731c71fed857"
      },
      "source": [
        "# prediction layer\n",
        "output = Dense(10, activation='softmax')(merge)\n",
        "model = Model(inputs=x, outputs=output)\n",
        "\n",
        "model.summary()"
      ],
      "execution_count": null,
      "outputs": [
        {
          "output_type": "stream",
          "text": [
            "Model: \"model_2\"\n",
            "__________________________________________________________________________________________________\n",
            "Layer (type)                    Output Shape         Param #     Connected to                     \n",
            "==================================================================================================\n",
            "input_2 (InputLayer)            (None, 100)          0                                            \n",
            "__________________________________________________________________________________________________\n",
            "embedding_2 (Embedding)         (None, 100, 5)       25          input_2[0][0]                    \n",
            "__________________________________________________________________________________________________\n",
            "spatial_dropout1d_3 (SpatialDro (None, 100, 5)       0           embedding_2[0][0]                \n",
            "__________________________________________________________________________________________________\n",
            "concatenate_2 (Concatenate)     (None, 100, 10)      0           spatial_dropout1d_3[0][0]        \n",
            "                                                                 spatial_dropout1d_3[0][0]        \n",
            "__________________________________________________________________________________________________\n",
            "dropout_2 (Dropout)             (None, 100, 10)      0           concatenate_2[0][0]              \n",
            "__________________________________________________________________________________________________\n",
            "spatial_dropout1d_4 (SpatialDro (None, 100, 10)      0           dropout_2[0][0]                  \n",
            "__________________________________________________________________________________________________\n",
            "bidirectional_2 (Bidirectional) (None, 100, 128)     38400       spatial_dropout1d_4[0][0]        \n",
            "__________________________________________________________________________________________________\n",
            "bidirectional_3 (Bidirectional) (None, 100, 128)     28800       spatial_dropout1d_4[0][0]        \n",
            "__________________________________________________________________________________________________\n",
            "max_pooling1d_2 (MaxPooling1D)  (None, 50, 128)      0           bidirectional_2[0][0]            \n",
            "__________________________________________________________________________________________________\n",
            "max_pooling1d_3 (MaxPooling1D)  (None, 50, 128)      0           bidirectional_3[0][0]            \n",
            "__________________________________________________________________________________________________\n",
            "concatenate_3 (Concatenate)     (None, 50, 256)      0           max_pooling1d_2[0][0]            \n",
            "                                                                 max_pooling1d_3[0][0]            \n",
            "__________________________________________________________________________________________________\n",
            "dense_2 (Dense)                 (None, 50, 10)       2570        concatenate_3[0][0]              \n",
            "==================================================================================================\n",
            "Total params: 69,795\n",
            "Trainable params: 69,795\n",
            "Non-trainable params: 0\n",
            "__________________________________________________________________________________________________\n"
          ],
          "name": "stdout"
        }
      ]
    },
    {
      "cell_type": "markdown",
      "metadata": {
        "id": "OVMlkWV2DRh7",
        "colab_type": "text"
      },
      "source": [
        "# 结果进行拟合\n",
        "\n",
        "其中batch_size是每次梯度更新的样本数，未写明则为32。\n",
        "\n",
        "值得说明一下的是batch_size这个参数的坑有点深，我看了好久才理解，它主要的作用其实是用较少的样本获得合适的优化模型的梯度方向，避免全样本迭代时过高的内存占用；\n",
        "\n",
        "epochs是指训练模型迭代次数，可以理解为我们遍历了一次所有的模型，则为1次epoch；（在keras1.*版本中的时候用的是nb_epoch，意义一样）\n",
        "\n",
        "validation_split代表将数据集中多少数据用作验证集的训练数据的比例，这里选择5%的结果进行验证[2]。"
      ]
    },
    {
      "cell_type": "code",
      "metadata": {
        "id": "TeHRZZwMDTi2",
        "colab_type": "code",
        "colab": {}
      },
      "source": [
        "model.fit(X_train,y_train,batch_size=10,nb_epoch=100,validation_split=0.05)"
      ],
      "execution_count": null,
      "outputs": []
    },
    {
      "cell_type": "markdown",
      "metadata": {
        "id": "DSEnQc_LDaWX",
        "colab_type": "text"
      },
      "source": [
        "查看模型的预测误差值，这样看准确率大概在88%，运用到生产上效果还是可以接受的。"
      ]
    },
    {
      "cell_type": "code",
      "metadata": {
        "id": "duKTkM-1DbEp",
        "colab_type": "code",
        "colab": {}
      },
      "source": [
        "score2 = model.evaluate(X_test,y_test)\n",
        "print(score2)"
      ],
      "execution_count": null,
      "outputs": []
    }
  ]
}