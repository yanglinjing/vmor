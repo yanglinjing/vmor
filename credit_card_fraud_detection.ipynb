{
  "nbformat": 4,
  "nbformat_minor": 0,
  "metadata": {
    "colab": {
      "name": "credit_card_fraud_detection.ipynb",
      "provenance": [],
      "collapsed_sections": [
        "JJDB8kXG38za",
        "Xd4JDYJY5vfT"
      ],
      "authorship_tag": "ABX9TyP0//vZADoc7hoFa2EzIY50",
      "include_colab_link": true
    },
    "kernelspec": {
      "name": "python3",
      "display_name": "Python 3"
    }
  },
  "cells": [
    {
      "cell_type": "markdown",
      "metadata": {
        "id": "view-in-github",
        "colab_type": "text"
      },
      "source": [
        "<a href=\"https://colab.research.google.com/github/yanglinjing/vmor/blob/master/credit_card_fraud_detection.ipynb\" target=\"_parent\"><img src=\"https://colab.research.google.com/assets/colab-badge.svg\" alt=\"Open In Colab\"/></a>"
      ]
    },
    {
      "cell_type": "markdown",
      "metadata": {
        "id": "EFC2I0BOmMIf",
        "colab_type": "text"
      },
      "source": [
        "# Credit Card Fraud Detection"
      ]
    },
    {
      "cell_type": "markdown",
      "metadata": {
        "id": "xYWJIOxYmTs2",
        "colab_type": "text"
      },
      "source": [
        "# Data\n",
        "[Kaggle: IEEE-CIS Fraud Detection](https://www.kaggle.com/c/ieee-fraud-detection)"
      ]
    },
    {
      "cell_type": "code",
      "metadata": {
        "id": "WCelUFm9mTTW",
        "colab_type": "code",
        "colab": {
          "base_uri": "https://localhost:8080/",
          "height": 35
        },
        "outputId": "a90147ec-b3e0-4daf-86ba-bfb20898b71c"
      },
      "source": [
        "# All the documents are stored on Google Drive.\n",
        "# It requires authorisation before use them.\n",
        "# This chunk of code is about authorisation.\n",
        "\n",
        "# Mounting Google Drive locally\n",
        "# https://colab.research.google.com/notebooks/io.ipynb#scrollTo=u22w3BFiOveA\n",
        "\n",
        "from google.colab import drive\n",
        "drive.mount('/content/gdrive')"
      ],
      "execution_count": 2,
      "outputs": [
        {
          "output_type": "stream",
          "text": [
            "Drive already mounted at /content/gdrive; to attempt to forcibly remount, call drive.mount(\"/content/gdrive\", force_remount=True).\n"
          ],
          "name": "stdout"
        }
      ]
    },
    {
      "cell_type": "code",
      "metadata": {
        "id": "yncKTL46mknB",
        "colab_type": "code",
        "colab": {
          "base_uri": "https://localhost:8080/",
          "height": 35
        },
        "outputId": "467b6288-f4e4-4439-877a-7832406be4a2"
      },
      "source": [
        "!pwd"
      ],
      "execution_count": 3,
      "outputs": [
        {
          "output_type": "stream",
          "text": [
            "/content\n"
          ],
          "name": "stdout"
        }
      ]
    },
    {
      "cell_type": "code",
      "metadata": {
        "id": "khWo6JCommOg",
        "colab_type": "code",
        "colab": {
          "base_uri": "https://localhost:8080/",
          "height": 35
        },
        "outputId": "2b1ca1c5-34d6-40e3-e192-9d569033fd33"
      },
      "source": [
        "#google colab - change path to google drive\n",
        "\n",
        "import os \n",
        "os.chdir('gdrive/My Drive/Colab Notebooks/vmor_practicum/credit_card_fraud')\n",
        "!pwd"
      ],
      "execution_count": 4,
      "outputs": [
        {
          "output_type": "stream",
          "text": [
            "/content/gdrive/My Drive/Colab Notebooks/vmor_practicum/credit_card_fraud\n"
          ],
          "name": "stdout"
        }
      ]
    },
    {
      "cell_type": "code",
      "metadata": {
        "id": "PbmVFlf5mutw",
        "colab_type": "code",
        "colab": {
          "base_uri": "https://localhost:8080/",
          "height": 35
        },
        "outputId": "5cc59542-a3c3-4a4c-9156-99fb6386635f"
      },
      "source": [
        "!ls"
      ],
      "execution_count": 5,
      "outputs": [
        {
          "output_type": "stream",
          "text": [
            "credit_card_fraud_detection.ipynb  data\n"
          ],
          "name": "stdout"
        }
      ]
    },
    {
      "cell_type": "code",
      "metadata": {
        "id": "l5JY-p4nmxKC",
        "colab_type": "code",
        "colab": {
          "base_uri": "https://localhost:8080/",
          "height": 144
        },
        "outputId": "0382de3c-36d9-473e-b4b6-efab82a9403b"
      },
      "source": [
        "# Import libraries\n",
        "\n",
        "import numpy as np\n",
        "import pandas as pd\n",
        "\n",
        "# Imbalanced Data\n",
        "from collections import Counter\n",
        "from imblearn.over_sampling import RandomOverSampler\n",
        "from imblearn.under_sampling import RandomUnderSampler\n",
        "\n",
        "# Learning Models\n",
        "from sklearn.naive_bayes import GaussianNB\n",
        "from sklearn.tree import DecisionTreeClassifier\n",
        "from sklearn.ensemble import RandomForestClassifier\n",
        "from sklearn.ensemble import AdaBoostClassifier\n",
        "from sklearn.ensemble import GradientBoostingClassifier\n",
        "\n",
        "# Evaluate \n",
        "from sklearn.metrics import f1_score\n",
        "\n",
        "# Plot\n",
        "import matplotlib.pyplot as plt\n",
        "import matplotlib.ticker as ticker\n",
        "import seaborn as sns\n",
        "\n",
        "# Pretty display for notebooks\n",
        "% matplotlib inline"
      ],
      "execution_count": 6,
      "outputs": [
        {
          "output_type": "stream",
          "text": [
            "/usr/local/lib/python3.6/dist-packages/sklearn/externals/six.py:31: FutureWarning: The module is deprecated in version 0.21 and will be removed in version 0.23 since we've dropped support for Python 2.7. Please rely on the official version of six (https://pypi.org/project/six/).\n",
            "  \"(https://pypi.org/project/six/).\", FutureWarning)\n",
            "/usr/local/lib/python3.6/dist-packages/sklearn/utils/deprecation.py:144: FutureWarning: The sklearn.neighbors.base module is  deprecated in version 0.22 and will be removed in version 0.24. The corresponding classes / functions should instead be imported from sklearn.neighbors. Anything that cannot be imported from sklearn.neighbors is now part of the private API.\n",
            "  warnings.warn(message, FutureWarning)\n",
            "/usr/local/lib/python3.6/dist-packages/statsmodels/tools/_testing.py:19: FutureWarning: pandas.util.testing is deprecated. Use the functions in the public API at pandas.testing instead.\n",
            "  import pandas.util.testing as tm\n"
          ],
          "name": "stderr"
        }
      ]
    },
    {
      "cell_type": "code",
      "metadata": {
        "id": "S62eE1Pz62Py",
        "colab_type": "code",
        "colab": {}
      },
      "source": [
        "my_color = ['#42bff4', '#f9ace9']"
      ],
      "execution_count": 21,
      "outputs": []
    },
    {
      "cell_type": "markdown",
      "metadata": {
        "id": "JJDB8kXG38za",
        "colab_type": "text"
      },
      "source": [
        "# Load Data"
      ]
    },
    {
      "cell_type": "code",
      "metadata": {
        "id": "xC0agyXmnMJN",
        "colab_type": "code",
        "colab": {}
      },
      "source": [
        "# Load datasets\n",
        "train_transaction = pd.read_csv(\"data/train_transaction.csv\")\n",
        "train_identity = pd.read_csv('data/train_identity.csv')\n",
        "test_transaction = pd.read_csv('data/test_transaction.csv')\n",
        "test_identity = pd.read_csv('data/test_identity.csv')"
      ],
      "execution_count": 18,
      "outputs": []
    },
    {
      "cell_type": "code",
      "metadata": {
        "id": "XRWCWchu2svx",
        "colab_type": "code",
        "colab": {}
      },
      "source": [
        "# Outer Join transation and identity by 'TransactionID'\n",
        "\n",
        "# train\n",
        "train_transaction.set_index('TransactionID', inplace = True)\n",
        "train_identity.set_index('TransactionID', inplace = True)\n",
        "train = pd.concat([train_transaction,train_identity], axis=1, sort=False) #outer join\n",
        "# shape (590540, 433)\n",
        "\n",
        "# test\n",
        "test_transaction.set_index('TransactionID', inplace = True)\n",
        "test_identity.set_index('TransactionID', inplace = True)\n",
        "test = pd.concat([test_transaction,test_identity], axis=1, sort=False) #outer join\n",
        "# shape (506691, 432)"
      ],
      "execution_count": 19,
      "outputs": []
    },
    {
      "cell_type": "code",
      "metadata": {
        "id": "PNPCphPLGd5m",
        "colab_type": "code",
        "colab": {}
      },
      "source": [
        "df = train.copy()"
      ],
      "execution_count": 20,
      "outputs": []
    },
    {
      "cell_type": "markdown",
      "metadata": {
        "id": "5ZIJw7xa5k1u",
        "colab_type": "text"
      },
      "source": [
        "# Preprocessing Data"
      ]
    },
    {
      "cell_type": "markdown",
      "metadata": {
        "id": "blKEqDMJ5oPX",
        "colab_type": "text"
      },
      "source": [
        "## Missing Values\n",
        "\n",
        "### Missing Values in Columns"
      ]
    },
    {
      "cell_type": "code",
      "metadata": {
        "id": "nkgjl5Rw5qgq",
        "colab_type": "code",
        "colab": {}
      },
      "source": [
        "# Calculate the percentage of missing values of each column\n",
        "missing = df.isnull().sum()\n",
        "missing = missing[missing > 0] / df.shape[0] *100\n",
        "missing.sort_values(inplace = True)"
      ],
      "execution_count": 22,
      "outputs": []
    },
    {
      "cell_type": "code",
      "metadata": {
        "id": "_pjaHDFBOj0I",
        "colab_type": "code",
        "colab": {
          "base_uri": "https://localhost:8080/",
          "height": 230
        },
        "outputId": "c9362483-fc0f-4179-9916-3f29c6d764b2"
      },
      "source": [
        "missing"
      ],
      "execution_count": 23,
      "outputs": [
        {
          "output_type": "execute_result",
          "data": {
            "text/plain": [
              "V316      0.002032\n",
              "V294      0.002032\n",
              "V295      0.002032\n",
              "V297      0.002032\n",
              "V298      0.002032\n",
              "           ...    \n",
              "id_21    99.126393\n",
              "id_08    99.127070\n",
              "id_07    99.127070\n",
              "id_25    99.130965\n",
              "id_24    99.196159\n",
              "Length: 414, dtype: float64"
            ]
          },
          "metadata": {
            "tags": []
          },
          "execution_count": 23
        }
      ]
    },
    {
      "cell_type": "code",
      "metadata": {
        "id": "hBwltKZBF7NA",
        "colab_type": "code",
        "colab": {
          "base_uri": "https://localhost:8080/",
          "height": 1000
        },
        "outputId": "12260a9d-84ba-47c1-b330-9808ea185a28"
      },
      "source": [
        "#Visualizing the naturally missing data\n",
        "missing[missing < 0.1].plot.barh(figsize = (10, 25), fontsize = 12, color= my_color[0])\n",
        "plt.title('Percentage of Missing Values in Columns', size = 14)\n",
        "plt.show()"
      ],
      "execution_count": 24,
      "outputs": [
        {
          "output_type": "display_data",
          "data": {
            "image/png": "[encoded data removed]",
            "text/plain": [
              "<Figure size 720x1800 with 1 Axes>"
            ]
          },
          "metadata": {
            "tags": [],
            "needs_background": "light"
          }
        }
      ]
    },
    {
      "cell_type": "code",
      "metadata": {
        "id": "ZZOaqGpw579O",
        "colab_type": "code",
        "colab": {
          "base_uri": "https://localhost:8080/",
          "height": 52
        },
        "outputId": "fb966efa-5af6-47cd-80d0-743a952cb46a"
      },
      "source": [
        "# columns have too much missing values\n",
        "p = 0.01\n",
        "missing_more = missing[missing > p]\n",
        "\n",
        "print(f\"{len(missing)} out of {train.shape[1]} columns contain missing values, from {round(missing[0], 2)}% to {round(missing[-1], 2)}%.\")\n",
        "print(f'{len(missing_more)} columns have more than {p*100}% missing values.')"
      ],
      "execution_count": 25,
      "outputs": [
        {
          "output_type": "stream",
          "text": [
            "414 out of 433 columns contain missing values, from 0.0% to 99.2%.\n",
            "382 columns have more than 1.0% missing values.\n"
          ],
          "name": "stdout"
        }
      ]
    },
    {
      "cell_type": "code",
      "metadata": {
        "id": "0xzTV3p9DpOb",
        "colab_type": "code",
        "colab": {}
      },
      "source": [
        "# Remove the outlier columns from the dataset / feature summary. \n",
        "\n",
        "# Drop columns that contain 0.01% missing values\n",
        "for col in missing_more.index:\n",
        "  df.drop(col, axis = 1, inplace = True)"
      ],
      "execution_count": 26,
      "outputs": []
    },
    {
      "cell_type": "code",
      "metadata": {
        "id": "KvoAsWO9D5wZ",
        "colab_type": "code",
        "colab": {
          "base_uri": "https://localhost:8080/",
          "height": 35
        },
        "outputId": "e0be410e-7da8-43b7-aa73-34437b4fdff0"
      },
      "source": [
        "df.shape"
      ],
      "execution_count": 27,
      "outputs": [
        {
          "output_type": "execute_result",
          "data": {
            "text/plain": [
              "(590540, 51)"
            ]
          },
          "metadata": {
            "tags": []
          },
          "execution_count": 27
        }
      ]
    },
    {
      "cell_type": "markdown",
      "metadata": {
        "id": "tjdBlByxGEq-",
        "colab_type": "text"
      },
      "source": [
        "### Missing Values in Rows"
      ]
    },
    {
      "cell_type": "code",
      "metadata": {
        "id": "9jtcnRt4FGK2",
        "colab_type": "code",
        "colab": {}
      },
      "source": [
        "# How much data is missing in each row of the dataset?\n",
        "missing_r = df.isnull().sum(axis=1)\n"
      ],
      "execution_count": 28,
      "outputs": []
    },
    {
      "cell_type": "code",
      "metadata": {
        "id": "szgS5UmPFJEO",
        "colab_type": "code",
        "colab": {
          "base_uri": "https://localhost:8080/",
          "height": 404
        },
        "outputId": "c3720766-1245-4738-a658-130d6d3a3892"
      },
      "source": [
        "# Visualise\n",
        "missing_r[missing_r > 0].plot(kind='hist', bins=40, figsize=(10,6), color=my_color[0])\n",
        "plt.title('Missing Value in Rows')\n",
        "plt.ylabel('Counts')\n",
        "plt.xlabel('Number of Missing Values')\n",
        "plt.show()"
      ],
      "execution_count": 29,
      "outputs": [
        {
          "output_type": "display_data",
          "data": {
            "image/png": "[encoded data removed]",
            "text/plain": [
              "<Figure size 720x432 with 1 Axes>"
            ]
          },
          "metadata": {
            "tags": [],
            "needs_background": "light"
          }
        }
      ]
    },
    {
      "cell_type": "code",
      "metadata": {
        "id": "gevBZeHEFn_F",
        "colab_type": "code",
        "colab": {}
      },
      "source": [
        "# Dropped the 12 rows with 32 missing values\n",
        "\n",
        "for index in missing_r[missing_r > 0].index:\n",
        "  df.drop(index, inplace = True)"
      ],
      "execution_count": 30,
      "outputs": []
    },
    {
      "cell_type": "code",
      "metadata": {
        "id": "qKgzYDj3Fq5d",
        "colab_type": "code",
        "colab": {
          "base_uri": "https://localhost:8080/",
          "height": 35
        },
        "outputId": "27c29bd5-1702-4623-a900-45448b595fdb"
      },
      "source": [
        "df.shape"
      ],
      "execution_count": 37,
      "outputs": [
        {
          "output_type": "execute_result",
          "data": {
            "text/plain": [
              "(590528, 50)"
            ]
          },
          "metadata": {
            "tags": []
          },
          "execution_count": 37
        }
      ]
    },
    {
      "cell_type": "markdown",
      "metadata": {
        "id": "cAPzaVx8v3zN",
        "colab_type": "text"
      },
      "source": [
        "## Drop Transaction Date"
      ]
    },
    {
      "cell_type": "code",
      "metadata": {
        "id": "o9_6_GNhRd2y",
        "colab_type": "code",
        "colab": {}
      },
      "source": [
        "df.drop('TransactionDT', axis=1, inplace = True)"
      ],
      "execution_count": 35,
      "outputs": []
    },
    {
      "cell_type": "markdown",
      "metadata": {
        "id": "AC1_hzKnR22b",
        "colab_type": "text"
      },
      "source": [
        "## Clean 'Test' Data"
      ]
    },
    {
      "cell_type": "code",
      "metadata": {
        "id": "lzYFkMbAR3a7",
        "colab_type": "code",
        "colab": {}
      },
      "source": [
        "# columns after data cleanning\n",
        "cols = df.columns\n",
        "cols = cols.drop('isFraud')\n",
        "\n",
        "# drop unused columns\n",
        "test = test[cols]\n",
        "# shape (506691, 50)"
      ],
      "execution_count": 38,
      "outputs": []
    },
    {
      "cell_type": "markdown",
      "metadata": {
        "id": "XlqziY-svmik",
        "colab_type": "text"
      },
      "source": [
        "## Save to csv"
      ]
    },
    {
      "cell_type": "code",
      "metadata": {
        "id": "vGecK11jSWUL",
        "colab_type": "code",
        "colab": {}
      },
      "source": [
        "#df.to_csv('data/train.csv', index = False)\n",
        "#test.to_csv('data/test.csv', index = False)"
      ],
      "execution_count": 39,
      "outputs": []
    },
    {
      "cell_type": "markdown",
      "metadata": {
        "id": "INhOmVPQGCTY",
        "colab_type": "text"
      },
      "source": [
        "## Imbalanced Data"
      ]
    },
    {
      "cell_type": "code",
      "metadata": {
        "id": "OIAmAUp7S_RJ",
        "colab_type": "code",
        "colab": {}
      },
      "source": [
        "df = pd.read_csv('data/train.csv')"
      ],
      "execution_count": 7,
      "outputs": []
    },
    {
      "cell_type": "code",
      "metadata": {
        "id": "ePr7WA-qGqPw",
        "colab_type": "code",
        "colab": {
          "base_uri": "https://localhost:8080/",
          "height": 35
        },
        "outputId": "e992b086-2d72-45b4-e122-b5e61f854838"
      },
      "source": [
        "print(f\"There are {df[df['isFraud']==1]['isFraud'].count()} \\\n",
        "({round(df[df['isFraud']==1]['isFraud'].count() / df.shape[0] *100,2)}%) \\\n",
        "Fraud Transactions and {df[df['isFraud']==0]['isFraud'].count()} \\\n",
        "Legitimate Transactions.\")"
      ],
      "execution_count": 8,
      "outputs": [
        {
          "output_type": "stream",
          "text": [
            "There are 20661 (3.5%) Fraud Transactions and 569867 Legitimate Transactions.\n"
          ],
          "name": "stdout"
        }
      ]
    },
    {
      "cell_type": "code",
      "metadata": {
        "id": "zspkbrGs3qqS",
        "colab_type": "code",
        "colab": {}
      },
      "source": [
        "# Split data into X and y\n",
        "\n",
        "X = df.drop('isFraud', axis = 1)\n",
        "y = df['isFraud']"
      ],
      "execution_count": 9,
      "outputs": []
    },
    {
      "cell_type": "code",
      "metadata": {
        "id": "VCT4IHa54GPN",
        "colab_type": "code",
        "colab": {
          "base_uri": "https://localhost:8080/",
          "height": 35
        },
        "outputId": "1b8a1575-6117-4c79-e171-b33650442b39"
      },
      "source": [
        "Counter(y)"
      ],
      "execution_count": 10,
      "outputs": [
        {
          "output_type": "execute_result",
          "data": {
            "text/plain": [
              "Counter({0: 569867, 1: 20661})"
            ]
          },
          "metadata": {
            "tags": []
          },
          "execution_count": 10
        }
      ]
    },
    {
      "cell_type": "markdown",
      "metadata": {
        "id": "9hcEwdgd8kLj",
        "colab_type": "text"
      },
      "source": [
        "### Random Over Sampling"
      ]
    },
    {
      "cell_type": "code",
      "metadata": {
        "id": "ALstvNtm4OMp",
        "colab_type": "code",
        "colab": {
          "base_uri": "https://localhost:8080/",
          "height": 90
        },
        "outputId": "8b4a7483-0514-4b3b-9b21-cfe6c60d2404"
      },
      "source": [
        "#from collections import Counter\n",
        "#from imblearn.over_sampling import RandomOverSampler\n",
        "\n",
        "ros = RandomOverSampler(random_state=0)\n",
        "X_ros, y_ros = ros.fit_sample(X, y)\n",
        "sorted(Counter(y_ros).items())"
      ],
      "execution_count": 11,
      "outputs": [
        {
          "output_type": "stream",
          "text": [
            "/usr/local/lib/python3.6/dist-packages/sklearn/utils/deprecation.py:87: FutureWarning: Function safe_indexing is deprecated; safe_indexing is deprecated in version 0.22 and will be removed in version 0.24.\n",
            "  warnings.warn(msg, category=FutureWarning)\n"
          ],
          "name": "stderr"
        },
        {
          "output_type": "execute_result",
          "data": {
            "text/plain": [
              "[(0, 569867), (1, 569867)]"
            ]
          },
          "metadata": {
            "tags": []
          },
          "execution_count": 11
        }
      ]
    },
    {
      "cell_type": "markdown",
      "metadata": {
        "id": "Xd4JDYJY5vfT",
        "colab_type": "text"
      },
      "source": [
        "### Random Under Sampling"
      ]
    },
    {
      "cell_type": "code",
      "metadata": {
        "id": "6XGcgqIQ5x0i",
        "colab_type": "code",
        "colab": {
          "base_uri": "https://localhost:8080/",
          "height": 90
        },
        "outputId": "71141427-aa1b-47fe-da1f-5384538f9394"
      },
      "source": [
        "#from imblearn.under_sampling import RandomUnderSampler\n",
        "rus = RandomUnderSampler(random_state=0)\n",
        "X_rus, y_rus = rus.fit_sample(X, y)\n",
        "sorted(Counter(y_rus).items())"
      ],
      "execution_count": 68,
      "outputs": [
        {
          "output_type": "stream",
          "text": [
            "/usr/local/lib/python3.6/dist-packages/sklearn/utils/deprecation.py:87: FutureWarning: Function safe_indexing is deprecated; safe_indexing is deprecated in version 0.22 and will be removed in version 0.24.\n",
            "  warnings.warn(msg, category=FutureWarning)\n"
          ],
          "name": "stderr"
        },
        {
          "output_type": "execute_result",
          "data": {
            "text/plain": [
              "[(0, 20661), (1, 20661)]"
            ]
          },
          "metadata": {
            "tags": []
          },
          "execution_count": 68
        }
      ]
    },
    {
      "cell_type": "markdown",
      "metadata": {
        "id": "IhAotO0-BR3T",
        "colab_type": "text"
      },
      "source": [
        "### SMOTE\n",
        "\n",
        "[SMOTENC](https://imbalanced-learn.readthedocs.io/en/stable/generated/imblearn.over_sampling.SMOTENC.html)\n",
        "\n",
        "* Synthetic Minority Over-sampling Technique for Nominal and Continuous (SMOTE-NC).\n",
        "\n",
        "* Unlike `SMOTE`, `SMOTE-NC` for dataset containing **continuous** and **categorical** features."
      ]
    },
    {
      "cell_type": "code",
      "metadata": {
        "id": "NrNTAyDYCkXW",
        "colab_type": "code",
        "colab": {}
      },
      "source": [
        "from imblearn.over_sampling import SMOTENC"
      ],
      "execution_count": 77,
      "outputs": []
    },
    {
      "cell_type": "code",
      "metadata": {
        "id": "ni3ypoHrCvJR",
        "colab_type": "code",
        "colab": {}
      },
      "source": [
        "sm = SMOTENC(random_state=0, categorical_features=['ProductCD'])"
      ],
      "execution_count": 82,
      "outputs": []
    },
    {
      "cell_type": "code",
      "metadata": {
        "id": "WRbn96HpBJZ7",
        "colab_type": "code",
        "colab": {}
      },
      "source": [
        "#X_sm, y_sm = sm().fit_resample(X, y)\n"
      ],
      "execution_count": null,
      "outputs": []
    },
    {
      "cell_type": "markdown",
      "metadata": {
        "id": "8Th6d2U5EJfn",
        "colab_type": "text"
      },
      "source": [
        "## 对数转换"
      ]
    },
    {
      "cell_type": "code",
      "metadata": {
        "id": "911hsjvUHGLt",
        "colab_type": "code",
        "colab": {}
      },
      "source": [
        "cols = df.columns.tolist()"
      ],
      "execution_count": 17,
      "outputs": []
    },
    {
      "cell_type": "code",
      "metadata": {
        "id": "qU0_0CFrIag7",
        "colab_type": "code",
        "colab": {
          "base_uri": "https://localhost:8080/",
          "height": 186
        },
        "outputId": "55601414-2786-448c-bf37-157b420dbd66"
      },
      "source": [
        "# Log-transform the skewed features\n",
        "skewed = cols.remove('ProductCD', 'isFraud')"
      ],
      "execution_count": 19,
      "outputs": [
        {
          "output_type": "error",
          "ename": "TypeError",
          "evalue": "ignored",
          "traceback": [
            "\u001b[0;31m---------------------------------------------------------------------------\u001b[0m",
            "\u001b[0;31mTypeError\u001b[0m                                 Traceback (most recent call last)",
            "\u001b[0;32m<ipython-input-19-5fc009d09778>\u001b[0m in \u001b[0;36m<module>\u001b[0;34m()\u001b[0m\n\u001b[1;32m      1\u001b[0m \u001b[0;31m# Log-transform the skewed features\u001b[0m\u001b[0;34m\u001b[0m\u001b[0;34m\u001b[0m\u001b[0;34m\u001b[0m\u001b[0m\n\u001b[0;32m----> 2\u001b[0;31m \u001b[0mskewed\u001b[0m \u001b[0;34m=\u001b[0m \u001b[0mcols\u001b[0m\u001b[0;34m.\u001b[0m\u001b[0mremove\u001b[0m\u001b[0;34m(\u001b[0m\u001b[0;34m'ProductCD'\u001b[0m\u001b[0;34m,\u001b[0m \u001b[0;34m'isFraud'\u001b[0m\u001b[0;34m)\u001b[0m\u001b[0;34m\u001b[0m\u001b[0;34m\u001b[0m\u001b[0m\n\u001b[0m",
            "\u001b[0;31mTypeError\u001b[0m: remove() takes exactly one argument (2 given)"
          ]
        }
      ]
    },
    {
      "cell_type": "code",
      "metadata": {
        "id": "HDYJOtvkEMfy",
        "colab_type": "code",
        "colab": {}
      },
      "source": [
        "\n",
        "features_log_transformed = pd.DataFrame(data = df)\n",
        "features_log_transformed[skewed] = df[skewed].apply(lambda x: np.log(x + 1))"
      ],
      "execution_count": null,
      "outputs": []
    },
    {
      "cell_type": "markdown",
      "metadata": {
        "id": "Oe9Eh7_C84-q",
        "colab_type": "text"
      },
      "source": [
        "# Modeling - Supervised Learning"
      ]
    },
    {
      "cell_type": "markdown",
      "metadata": {
        "id": "ykg51xa09Eqi",
        "colab_type": "text"
      },
      "source": [
        ""
      ]
    }
  ]
}